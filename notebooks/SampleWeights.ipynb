{
 "cells": [
  {
   "cell_type": "markdown",
   "metadata": {},
   "source": [
    "# Sample Weights"
   ]
  },
  {
   "cell_type": "code",
   "execution_count": 1,
   "metadata": {
    "ExecuteTime": {
     "end_time": "2018-07-06T16:01:20.854916Z",
     "start_time": "2018-07-06T16:01:17.392606Z"
    }
   },
   "outputs": [
    {
     "name": "stdout",
     "output_type": "stream",
     "text": [
      "\n"
     ]
    }
   ],
   "source": [
    "#%load_ext watermark\n",
    "#%watermark\n",
    "\n",
    "%load_ext autoreload\n",
    "%autoreload 2\n",
    "\n",
    "# import standard libs\n",
    "from IPython.display import display\n",
    "#from IPython.core.debugger import set_trace as bp\n",
    "from pathlib import PurePath, Path\n",
    "import sys\n",
    "import time\n",
    "from collections import OrderedDict as od\n",
    "import re\n",
    "import os\n",
    "import json\n",
    "\n",
    "# get project dir\n",
    "pp = PurePath(Path.cwd()).parts[:-1]\n",
    "pdir = PurePath(*pp)\n",
    "data_script_dir = pdir / 'src' / 'data'\n",
    "bars_script_dir = pdir / 'src' / 'features'\n",
    "sys.path.append(data_script_dir.as_posix())\n",
    "sys.path.append(bars_script_dir.as_posix())\n",
    "viz_dir = pdir / 'reports' / 'figures'\n",
    "data_dir = pdir / 'data'\n",
    "\n",
    "\n",
    "# import python scientific stack\n",
    "import pandas as pd\n",
    "import pandas_datareader.data as web\n",
    "pd.set_option('display.max_rows', 100)\n",
    "from dask import dataframe as dd\n",
    "from dask.diagnostics import ProgressBar\n",
    "from multiprocessing import cpu_count\n",
    "pbar = ProgressBar()\n",
    "pbar.register()\n",
    "import numpy as np\n",
    "import scipy.stats as stats\n",
    "import statsmodels.api as sm\n",
    "from numba import jit\n",
    "import math\n",
    "import ffn\n",
    "\n",
    "# import visual tools\n",
    "import matplotlib as mpl\n",
    "import matplotlib.pyplot as plt\n",
    "import matplotlib.gridspec as gridspec\n",
    "%matplotlib inline\n",
    "import seaborn as sns\n",
    "\n",
    "plt.style.use('seaborn-talk')\n",
    "plt.style.use('bmh')\n",
    "#plt.rcParams['font.family'] = 'DejaVu Sans Mono'\n",
    "plt.rcParams['font.size'] = 9.5\n",
    "plt.rcParams['font.weight'] = 'medium'\n",
    "plt.rcParams['figure.figsize'] = 10,7\n",
    "blue, green, red, purple, gold, teal = sns.color_palette('colorblind', 6)\n",
    "\n",
    "# import util libs\n",
    "from tqdm import tqdm, tqdm_notebook\n",
    "import warnings\n",
    "warnings.filterwarnings(\"ignore\")\n",
    "import missingno as msno\n",
    "from utils import cprint\n",
    "from bars import *\n",
    "\n",
    "RANDOM_STATE = 777\n",
    "\n",
    "print()\n",
    "#%watermark -p pandas,pandas_datareader,dask,numpy,sklearn,statsmodels,scipy,ffn,matplotlib,seaborn"
   ]
  },
  {
   "cell_type": "markdown",
   "metadata": {},
   "source": [
    "## Code Snippets\n",
    "\n",
    "Below I reproduce all the relevant code snippets found in the book that are necessary to work through the excercises found at the end of chapter 3."
   ]
  },
  {
   "cell_type": "code",
   "execution_count": 2,
   "metadata": {},
   "outputs": [],
   "source": [
    "def select_sample_data(ref, sub, price_col, date):\n",
    "    '''\n",
    "    select a sample of data based on date, assumes datetimeindex\n",
    "    \n",
    "    # args\n",
    "        ref: pd.DataFrame containing all ticks\n",
    "        sub: subordinated pd.DataFrame of prices\n",
    "        price_col: str(), price column\n",
    "        date: str(), date to select\n",
    "    # returns\n",
    "        xdf: ref pd.Series\n",
    "        xtdf: subordinated pd.Series\n",
    "    '''\n",
    "    xdf = ref[price_col].loc[date]\n",
    "    xtdf = sub[price_col].loc[date]\n",
    "    return xdf, xtdf\n",
    "\n",
    "def plot_sample_data(ref, sub, bar_type, *args, **kwds):\n",
    "    f,axes=plt.subplots(3,sharex=True, sharey=True, figsize=(10,7))\n",
    "    ref.plot(*args, **kwds, ax=axes[0], label='price')\n",
    "    sub.plot(*args, **kwds, ax=axes[0], marker='X', ls='', label=bar_type)\n",
    "    axes[0].legend();\n",
    "    \n",
    "    ref.plot(*args, **kwds, ax=axes[1], label='price', marker='o')\n",
    "    sub.plot(*args, **kwds, ax=axes[2], ls='', marker='X',\n",
    "             color='r', label=bar_type)\n",
    "\n",
    "    for ax in axes[1:]: ax.legend()\n",
    "    plt.tight_layout()\n",
    "    \n",
    "    return"
   ]
  },
  {
   "cell_type": "markdown",
   "metadata": {},
   "source": [
    "### Symmetric CUSUM Filter [2.5.2.1]"
   ]
  },
  {
   "cell_type": "code",
   "execution_count": 3,
   "metadata": {
    "ExecuteTime": {
     "end_time": "2018-07-06T16:01:20.880835Z",
     "start_time": "2018-07-06T16:01:20.856890Z"
    }
   },
   "outputs": [],
   "source": [
    "def getTEvents(gRaw, h):\n",
    "    tEvents, sPos, sNeg = [], 0, 0\n",
    "    diff = np.log(gRaw).diff().dropna()#.abs()\n",
    "    for i in tqdm(diff.index[1:]):\n",
    "        try:\n",
    "            pos, neg = float(sPos+diff.loc[i]), float(sNeg+diff.loc[i])\n",
    "        except Exception as e:\n",
    "            print(e)\n",
    "            print(sPos+diff.loc[i], type(sPos+diff.loc[i]))\n",
    "            print(sNeg+diff.loc[i], type(sNeg+diff.loc[i]))\n",
    "            break\n",
    "        sPos, sNeg=max(0., pos), min(0., neg)\n",
    "        if sNeg<-h:\n",
    "            sNeg=0;tEvents.append(i)\n",
    "        elif sPos>h:\n",
    "            sPos=0;tEvents.append(i)\n",
    "    return pd.DatetimeIndex(tEvents)"
   ]
  },
  {
   "cell_type": "markdown",
   "metadata": {},
   "source": [
    "### Daily Volatility Estimator [3.1]"
   ]
  },
  {
   "cell_type": "code",
   "execution_count": 4,
   "metadata": {
    "ExecuteTime": {
     "end_time": "2018-07-06T16:01:20.910642Z",
     "start_time": "2018-07-06T16:01:20.882849Z"
    }
   },
   "outputs": [],
   "source": [
    "def getDailyVol(close,span0=100):\n",
    "    # daily vol reindexed to close\n",
    "    df0=close.index.searchsorted(close.index-pd.Timedelta(days=1))\n",
    "    df0=df0[df0>0]   \n",
    "    df0=(pd.Series(close.index[df0-1], \n",
    "                   index=close.index[close.shape[0]-df0.shape[0]:]))   \n",
    "    try:\n",
    "        df0=close.loc[df0.index]/close.loc[df0.values].values-1 # daily rets\n",
    "    except Exception as e:\n",
    "        print(f'error: {e}\\nplease confirm no duplicate indices')\n",
    "    df0=df0.ewm(span=span0).std().rename('dailyVol')\n",
    "    return df0"
   ]
  },
  {
   "cell_type": "markdown",
   "metadata": {},
   "source": [
    "### Triple-Barrier Labeling Method [3.2]"
   ]
  },
  {
   "cell_type": "code",
   "execution_count": 5,
   "metadata": {
    "ExecuteTime": {
     "end_time": "2018-07-06T16:01:20.936355Z",
     "start_time": "2018-07-06T16:01:20.912786Z"
    }
   },
   "outputs": [],
   "source": [
    "def applyPtSlOnT1(close,events,ptSl,molecule):\n",
    "    # apply stop loss/profit taking, if it takes place before t1 (end of event)\n",
    "    events_=events.loc[molecule]\n",
    "    out=events_[['t1']].copy(deep=True)\n",
    "    if ptSl[0]>0: pt=ptSl[0]*events_['trgt']\n",
    "    else: pt=pd.Series(index=events.index) # NaNs\n",
    "    if ptSl[1]>0: sl=-ptSl[1]*events_['trgt']\n",
    "    else: sl=pd.Series(index=events.index) # NaNs\n",
    "    for loc,t1 in events_['t1'].fillna(close.index[-1]).iteritems():\n",
    "        df0=close[loc:t1] # path prices\n",
    "        df0=(df0/close[loc]-1)*events_.at[loc,'side'] # path returns\n",
    "        out.loc[loc,'sl']=df0[df0<sl[loc]].index.min() # earliest stop loss\n",
    "        out.loc[loc,'pt']=df0[df0>pt[loc]].index.min() # earliest profit taking\n",
    "    return out"
   ]
  },
  {
   "cell_type": "markdown",
   "metadata": {},
   "source": [
    "### Gettting Time of First Touch (getEvents) [3.3], [3.6]"
   ]
  },
  {
   "cell_type": "code",
   "execution_count": 6,
   "metadata": {
    "ExecuteTime": {
     "end_time": "2018-07-06T16:01:20.978778Z",
     "start_time": "2018-07-06T16:01:20.938613Z"
    }
   },
   "outputs": [],
   "source": [
    "#Calcola, in base ai parametri passati, il target e la data in cui viene raggiunto\n",
    "def getEvents(close, tEvents, ptSl, trgt, minRet, numThreads, t1=False, side=None):\n",
    "    #1) get target\n",
    "    trgt=trgt.loc[tEvents]\n",
    "    trgt=trgt[trgt>minRet] # minRet\n",
    "    #2) get t1 (max holding period)\n",
    "    if t1 is False:\n",
    "        t1=pd.Series(pd.NaT, index=tEvents)\n",
    "    #3) form events object, apply stop loss on t1\n",
    "    if side is None:\n",
    "        side_,ptSl_= pd.Series(1.,index=trgt.index), [ptSl[0], ptSl[0]]\n",
    "    else: \n",
    "        side_,ptSl_= side.loc[trgt.index], ptSl[:2]\n",
    "\n",
    "    events=(pd.concat({'t1':t1,'trgt':trgt,'side':side_}, axis=1)\n",
    "            .dropna(subset=['trgt']))\n",
    "    \n",
    "    df0=mpPandasObj(func=applyPtSlOnT1,pdObj=('molecule',events.index),\n",
    "                    numThreads=numThreads,close=close,events=events,\n",
    "                    ptSl=ptSl_)\n",
    "    \n",
    "    events['t1']=df0.dropna(how='all').min(axis=1) # pd.min ignores nan\n",
    "    \n",
    "    if side is None:\n",
    "        events=events.drop('side',axis=1)\n",
    "    \n",
    "    return events"
   ]
  },
  {
   "cell_type": "markdown",
   "metadata": {},
   "source": [
    "### Adding Vertical Barrier [3.4]"
   ]
  },
  {
   "cell_type": "code",
   "execution_count": 7,
   "metadata": {
    "ExecuteTime": {
     "end_time": "2018-07-06T16:01:21.017574Z",
     "start_time": "2018-07-06T16:01:20.981749Z"
    }
   },
   "outputs": [],
   "source": [
    "def addVerticalBarrier(tEvents, close, numDays=1):\n",
    "    t1=close.index.searchsorted(tEvents+pd.Timedelta(days=numDays))\n",
    "    t1=t1[t1<close.shape[0]]\n",
    "    t1=(pd.Series(close.index[t1],index=tEvents[:t1.shape[0]]))\n",
    "    return t1"
   ]
  },
  {
   "cell_type": "markdown",
   "metadata": {},
   "source": [
    "### Labeling for side and size [3.5]"
   ]
  },
  {
   "cell_type": "code",
   "execution_count": 8,
   "metadata": {
    "ExecuteTime": {
     "end_time": "2018-07-06T16:01:21.053292Z",
     "start_time": "2018-07-06T16:01:21.020022Z"
    }
   },
   "outputs": [],
   "source": [
    "def getBinsOld(events,close):\n",
    "    #1) prices aligned with events\n",
    "    events_=events.dropna(subset=['t1'])\n",
    "    px=events_.index.union(events_['t1'].values).drop_duplicates()\n",
    "    px=close.reindex(px,method='bfill')\n",
    "    #2) create out object\n",
    "    out=pd.DataFrame(index=events_.index)\n",
    "    out['ret']=px.loc[events_['t1'].values].values/px.loc[events_.index]-1\n",
    "    out['bin']=np.sign(out['ret'])\n",
    "    # where out index and t1 (vertical barrier) intersect label 0\n",
    "    try:\n",
    "        locs = out.query('index in @t1').index\n",
    "        out.loc[locs, 'bin'] = 0\n",
    "    except:\n",
    "        pass\n",
    "    return out"
   ]
  },
  {
   "cell_type": "markdown",
   "metadata": {},
   "source": [
    "### Expanding getBins to Incorporate Meta-Labeling [3.7]"
   ]
  },
  {
   "cell_type": "code",
   "execution_count": 9,
   "metadata": {
    "ExecuteTime": {
     "end_time": "2018-07-06T16:01:21.080167Z",
     "start_time": "2018-07-06T16:01:21.055293Z"
    }
   },
   "outputs": [],
   "source": [
    "# In base alla data di inizio e di raggiungimento del target determina il ritorno in termini\n",
    "# percentuali e assegna l'etichetta\n",
    "def getBins(events, close):\n",
    "    '''\n",
    "    Compute event's outcome (including side information, if provided).\n",
    "    events is a DataFrame where:\n",
    "    -events.index is event's starttime\n",
    "    -events['t1'] is event's endtime\n",
    "    -events['trgt'] is event's target\n",
    "    -events['side'] (optional) implies the algo's position side\n",
    "    Case 1: ('side' not in events): bin in (-1,1) <-label by price action\n",
    "    Case 2: ('side' in events): bin in (0,1) <-label by pnl (meta-labeling)\n",
    "    '''\n",
    "    #1) prices aligned with events\n",
    "    events_=events.dropna(subset=['t1'])\n",
    "    px=events_.index.union(events_['t1'].values).drop_duplicates()\n",
    "    px=close.reindex(px,method='bfill')\n",
    "    #2) create out object\n",
    "    out=pd.DataFrame(index=events_.index)\n",
    "    out['ret']=px.loc[events_['t1'].values].values/px.loc[events_.index]-1\n",
    "    if 'side' in events_:out['ret']*=events_['side'] # meta-labeling\n",
    "    out['bin']=np.sign(out['ret'])\n",
    "    if 'side' in events_:out.loc[out['ret']<=0,'bin']=0 # meta-labeling\n",
    "    return out"
   ]
  },
  {
   "cell_type": "markdown",
   "metadata": {},
   "source": [
    "### Dropping Unnecessary Labels [3.8]"
   ]
  },
  {
   "cell_type": "code",
   "execution_count": 10,
   "metadata": {
    "ExecuteTime": {
     "end_time": "2018-07-06T16:01:21.104750Z",
     "start_time": "2018-07-06T16:01:21.081994Z"
    }
   },
   "outputs": [],
   "source": [
    "def dropLabels(events, minPct=.05):\n",
    "    # apply weights, drop labels with insufficient examples\n",
    "    while True:\n",
    "        df0=events['bin'].value_counts(normalize=True)\n",
    "        if df0.min()>minPct or df0.shape[0]<3:break\n",
    "        print('dropped label: ', df0.argmin(),df0.min())\n",
    "        events=events[events['bin']!=df0.argmin()]\n",
    "    return events"
   ]
  },
  {
   "cell_type": "markdown",
   "metadata": {},
   "source": [
    "### Linear Partitions [20.4.1]"
   ]
  },
  {
   "cell_type": "code",
   "execution_count": 11,
   "metadata": {
    "ExecuteTime": {
     "end_time": "2018-07-06T16:01:21.129784Z",
     "start_time": "2018-07-06T16:01:21.107137Z"
    }
   },
   "outputs": [],
   "source": [
    "def linParts(numAtoms,numThreads):\n",
    "    # partition of atoms with a single loop\n",
    "    parts=np.linspace(0,numAtoms,min(numThreads,numAtoms)+1)\n",
    "    parts=np.ceil(parts).astype(int)\n",
    "    return parts"
   ]
  },
  {
   "cell_type": "code",
   "execution_count": 12,
   "metadata": {
    "ExecuteTime": {
     "end_time": "2018-07-06T16:01:21.155465Z",
     "start_time": "2018-07-06T16:01:21.131618Z"
    }
   },
   "outputs": [],
   "source": [
    "def nestedParts(numAtoms,numThreads,upperTriang=False):\n",
    "    # partition of atoms with an inner loop\n",
    "    parts,numThreads_=[0],min(numThreads,numAtoms)\n",
    "    for num in range(numThreads_):\n",
    "        part=1+4*(parts[-1]**2+parts[-1]+numAtoms*(numAtoms+1.)/numThreads_)\n",
    "        part=(-1+part**.5)/2.\n",
    "        parts.append(part)\n",
    "    parts=np.round(parts).astype(int)\n",
    "    if upperTriang: # the first rows are heaviest\n",
    "        parts=np.cumsum(np.diff(parts)[::-1])\n",
    "        parts=np.append(np.array([0]),parts)\n",
    "    return parts"
   ]
  },
  {
   "cell_type": "markdown",
   "metadata": {},
   "source": [
    "### multiprocessing snippet [20.7]"
   ]
  },
  {
   "cell_type": "code",
   "execution_count": 13,
   "metadata": {
    "ExecuteTime": {
     "end_time": "2018-07-06T16:01:21.181322Z",
     "start_time": "2018-07-06T16:01:21.157661Z"
    }
   },
   "outputs": [],
   "source": [
    "def mpPandasObj(func,pdObj,numThreads=24,mpBatches=1,linMols=True,**kargs):\n",
    "    '''\n",
    "    Parallelize jobs, return a dataframe or series\n",
    "    + func: function to be parallelized. Returns a DataFrame\n",
    "    + pdObj[0]: Name of argument used to pass the molecule\n",
    "    + pdObj[1]: List of atoms that will be grouped into molecules\n",
    "    + kwds: any other argument needed by func\n",
    "    \n",
    "    Example: df1=mpPandasObj(func,('molecule',df0.index),24,**kwds)\n",
    "    '''\n",
    "    import pandas as pd\n",
    "    #if linMols:parts=linParts(len(argList[1]),numThreads*mpBatches)\n",
    "    #else:parts=nestedParts(len(argList[1]),numThreads*mpBatches)\n",
    "    if linMols:parts=linParts(len(pdObj[1]),numThreads*mpBatches)\n",
    "    else:parts=nestedParts(len(pdObj[1]),numThreads*mpBatches)\n",
    "    \n",
    "    jobs=[]\n",
    "    for i in range(1,len(parts)):\n",
    "        job={pdObj[0]:pdObj[1][parts[i-1]:parts[i]],'func':func}\n",
    "        job.update(kargs)\n",
    "        jobs.append(job)\n",
    "    if numThreads==1:out=processJobs_(jobs)\n",
    "    else: out=processJobs(jobs,numThreads=numThreads)\n",
    "    if isinstance(out[0],pd.DataFrame):df0=pd.DataFrame()\n",
    "    elif isinstance(out[0],pd.Series):df0=pd.Series()\n",
    "    else:return out\n",
    "    for i in out:df0=df0.append(i)\n",
    "    df0=df0.sort_index()\n",
    "    return df0"
   ]
  },
  {
   "cell_type": "markdown",
   "metadata": {},
   "source": [
    "### single-thread execution for debugging [20.8]"
   ]
  },
  {
   "cell_type": "code",
   "execution_count": 14,
   "metadata": {
    "ExecuteTime": {
     "end_time": "2018-07-06T16:01:21.206242Z",
     "start_time": "2018-07-06T16:01:21.183183Z"
    }
   },
   "outputs": [],
   "source": [
    "def processJobs_(jobs):\n",
    "    # Run jobs sequentially, for debugging\n",
    "    out=[]\n",
    "    for job in jobs:\n",
    "        out_=expandCall(job)\n",
    "        out.append(out_)\n",
    "    return out"
   ]
  },
  {
   "cell_type": "markdown",
   "metadata": {},
   "source": [
    "### Example of async call to multiprocessing lib [20.9]"
   ]
  },
  {
   "cell_type": "code",
   "execution_count": 15,
   "metadata": {
    "ExecuteTime": {
     "end_time": "2018-07-06T16:01:21.232594Z",
     "start_time": "2018-07-06T16:01:21.208084Z"
    }
   },
   "outputs": [],
   "source": [
    "import multiprocessing as mp\n",
    "import datetime as dt\n",
    "\n",
    "#________________________________\n",
    "def reportProgress(jobNum,numJobs,time0,task):\n",
    "    # Report progress as asynch jobs are completed\n",
    "    msg=[float(jobNum)/numJobs, (time.time()-time0)/60.]\n",
    "    msg.append(msg[1]*(1/msg[0]-1))\n",
    "    timeStamp=str(dt.datetime.fromtimestamp(time.time()))\n",
    "    msg=timeStamp+' '+str(round(msg[0]*100,2))+'% '+task+' done after '+ \\\n",
    "        str(round(msg[1],2))+' minutes. Remaining '+str(round(msg[2],2))+' minutes.'\n",
    "    if jobNum<numJobs:sys.stderr.write(msg+'\\r')\n",
    "    else:sys.stderr.write(msg+'\\n')\n",
    "    return\n",
    "#________________________________\n",
    "def processJobs(jobs,task=None,numThreads=24):\n",
    "    # Run in parallel.\n",
    "    # jobs must contain a 'func' callback, for expandCall\n",
    "    if task is None:task=jobs[0]['func'].__name__\n",
    "    pool=mp.Pool(processes=numThreads)\n",
    "    outputs,out,time0=pool.imap_unordered(expandCall,jobs),[],time.time()\n",
    "    # Process asyn output, report progress\n",
    "    for i,out_ in enumerate(outputs,1):\n",
    "        out.append(out_)\n",
    "        reportProgress(i,len(jobs),time0,task)\n",
    "    pool.close();pool.join() # this is needed to prevent memory leaks\n",
    "    return out"
   ]
  },
  {
   "cell_type": "markdown",
   "metadata": {},
   "source": [
    "### Unwrapping the Callback [20.10]"
   ]
  },
  {
   "cell_type": "code",
   "execution_count": 16,
   "metadata": {
    "ExecuteTime": {
     "end_time": "2018-07-06T16:01:21.255824Z",
     "start_time": "2018-07-06T16:01:21.234431Z"
    }
   },
   "outputs": [],
   "source": [
    "def expandCall(kargs):\n",
    "    # Expand the arguments of a callback function, kargs['func']\n",
    "    func=kargs['func']\n",
    "    del kargs['func']\n",
    "    out=func(**kargs)\n",
    "    return out"
   ]
  },
  {
   "cell_type": "markdown",
   "metadata": {},
   "source": [
    "### Pickle Unpickling Objects [20.11]"
   ]
  },
  {
   "cell_type": "code",
   "execution_count": 17,
   "metadata": {
    "ExecuteTime": {
     "end_time": "2018-07-06T16:01:21.279598Z",
     "start_time": "2018-07-06T16:01:21.257553Z"
    }
   },
   "outputs": [],
   "source": [
    "def _pickle_method(method):\n",
    "    func_name=method.im_func.__name__\n",
    "    obj=method.im_self\n",
    "    cls=method.im_class\n",
    "    return _unpickle_method, (func_name,obj,cls)\n",
    "#________________________________\n",
    "def _unpickle_method(func_name,obj,cls):\n",
    "    for cls in cls.mro():\n",
    "        try:func=cls.__dict__[func_name]\n",
    "        except KeyError:pass\n",
    "        else:break\n",
    "    return func.__get__(obj,cls)\n",
    "#________________________________\n",
    "import copyreg,types, multiprocessing as mp\n",
    "copyreg.pickle(types.MethodType,_pickle_method,_unpickle_method)"
   ]
  },
  {
   "cell_type": "markdown",
   "metadata": {},
   "source": [
    "### Estimating uniqueness of a label [4.1]"
   ]
  },
  {
   "cell_type": "code",
   "execution_count": 18,
   "metadata": {},
   "outputs": [],
   "source": [
    "def mpNumCoEvents(closeIdx, t1, molecule):\n",
    "    '''\n",
    "    Compute the number of concurrent events per bar\n",
    "    +molecule[0] is the date of the first event on which the weight will be computed\n",
    "    +molecule[-1] is the date of the last event on which the weight will be computed\n",
    "    Any event that starts before t1[molecule].max() impacts the count\n",
    "    '''\n",
    "    #1) Find any events that span the period molecule[0] molecule[-1]\n",
    "    t1 = t1.fillna(closeIdx[-1])\n",
    "    t1 = t1[t1 >= molecule[0]]\n",
    "    t1 = t1.loc[:t1[molecule].max()]\n",
    "    #2) Count events spanning the bar\n",
    "    iloc = closeIdx.searchsorted(np.array([t1.index[0], t1.max()]))\n",
    "    count = pd.Series(0, index=closeIdx[iloc[0]:iloc[-1]+1])\n",
    "    for tIn, tOut in t1.iteritems():\n",
    "        count.loc[tIn:tOut] += 1\n",
    "    return count.loc[molecule[0]:t1[molecule].max()]"
   ]
  },
  {
   "cell_type": "markdown",
   "metadata": {},
   "source": [
    "# Exercises"
   ]
  },
  {
   "cell_type": "markdown",
   "metadata": {},
   "source": [
    "## Import Dataset\n",
    "\n",
    "Note this dataset below has been resampled to `1s` and then `NaNs` removed. This was done to remove any duplicate indices not accounted for in a simple call to `pd.DataFrame.drop_duplicates()`. "
   ]
  },
  {
   "cell_type": "code",
   "execution_count": 19,
   "metadata": {
    "ExecuteTime": {
     "end_time": "2018-07-06T16:01:22.581254Z",
     "start_time": "2018-07-06T16:01:21.281247Z"
    },
    "scrolled": true
   },
   "outputs": [
    {
     "name": "stdout",
     "output_type": "stream",
     "text": [
      "-------------------------------------------------------------------------------\n",
      "dataframe information\n",
      "-------------------------------------------------------------------------------\n",
      "                      price     bid     ask  size     v         dv\n",
      "dates                                                             \n",
      "2018-09-04 15:59:55  115.93  115.92  115.93   803   803   93091.79\n",
      "2018-09-04 15:59:56  115.92  115.91  115.92   155   155   17967.60\n",
      "2018-09-04 16:00:00  115.92  115.91  115.92  8570  8570  993434.40\n",
      "2018-09-04 16:10:00  115.92  114.46  117.06     0     0       0.00\n",
      "2018-09-04 18:30:00  115.92  115.35  116.57     0     0       0.00\n",
      "--------------------------------------------------\n",
      "<class 'pandas.core.frame.DataFrame'>\n",
      "DatetimeIndex: 1010793 entries, 2009-09-28 09:30:00 to 2018-09-04 18:30:00\n",
      "Data columns (total 6 columns):\n",
      "price    1010793 non-null float64\n",
      "bid      1010793 non-null float64\n",
      "ask      1010793 non-null float64\n",
      "size     1010793 non-null int64\n",
      "v        1010793 non-null int64\n",
      "dv       1010793 non-null float64\n",
      "dtypes: float64(4), int64(2)\n",
      "memory usage: 54.0 MB\n",
      "None\n",
      "-------------------------------------------------------------------------------\n",
      "\n"
     ]
    }
   ],
   "source": [
    "infp = PurePath(data_dir/'processed'/'IVE_dollarValue_resampled_1s.parquet')\n",
    "#infp = PurePath(data_dir/'interim'/'IVE_tickbidask.parq')\n",
    "df = pd.read_parquet(infp)\n",
    "cprint(df)"
   ]
  },
  {
   "cell_type": "code",
   "execution_count": 20,
   "metadata": {},
   "outputs": [
    {
     "name": "stdout",
     "output_type": "stream",
     "text": [
      "-------------------------------------------------------------------------------\n",
      "dataframe information\n",
      "-------------------------------------------------------------------------------\n",
      "                      price     bid     ask  size     v         dv\n",
      "dates                                                             \n",
      "2018-09-04 15:59:55  115.93  115.92  115.93   803   803   93091.79\n",
      "2018-09-04 15:59:56  115.92  115.91  115.92   155   155   17967.60\n",
      "2018-09-04 16:00:00  115.92  115.91  115.92  8570  8570  993434.40\n",
      "2018-09-04 16:10:00  115.92  114.46  117.06     0     0       0.00\n",
      "2018-09-04 18:30:00  115.92  115.35  116.57     0     0       0.00\n",
      "--------------------------------------------------\n",
      "<class 'pandas.core.frame.DataFrame'>\n",
      "DatetimeIndex: 1010793 entries, 2009-09-28 09:30:00 to 2018-09-04 18:30:00\n",
      "Data columns (total 6 columns):\n",
      "price    1010793 non-null float64\n",
      "bid      1010793 non-null float64\n",
      "ask      1010793 non-null float64\n",
      "size     1010793 non-null int64\n",
      "v        1010793 non-null int64\n",
      "dv       1010793 non-null float64\n",
      "dtypes: float64(4), int64(2)\n",
      "memory usage: 54.0 MB\n",
      "None\n",
      "-------------------------------------------------------------------------------\n",
      "\n"
     ]
    }
   ],
   "source": [
    "df = df[~df.index.duplicated(keep='last')]\n",
    "cprint(df)"
   ]
  },
  {
   "cell_type": "markdown",
   "metadata": {},
   "source": [
    "## Excercise [4.1.a]\n",
    "- Compute a \"t1\" series on dollar bars\n",
    "  1. Compute dollar bars\n",
    "  2. Compute daily volatility\n",
    "  3. Compute vertical barriers\n",
    "  4. Compute 't1'"
   ]
  },
  {
   "cell_type": "markdown",
   "metadata": {},
   "source": [
    "### Excercise [4.1.a.1] Compute dollar bars"
   ]
  },
  {
   "cell_type": "code",
   "execution_count": 21,
   "metadata": {
    "ExecuteTime": {
     "end_time": "2018-07-06T16:01:23.177086Z",
     "start_time": "2018-07-06T16:01:22.583287Z"
    }
   },
   "outputs": [
    {
     "name": "stdout",
     "output_type": "stream",
     "text": [
      "-------------------------------------------------------------------------------\n",
      "dataframe information\n",
      "-------------------------------------------------------------------------------\n",
      "                      price     bid     ask  size     v         dv\n",
      "dates                                                             \n",
      "2018-09-04 15:59:55  115.93  115.92  115.93   803   803   93091.79\n",
      "2018-09-04 15:59:56  115.92  115.91  115.92   155   155   17967.60\n",
      "2018-09-04 16:00:00  115.92  115.91  115.92  8570  8570  993434.40\n",
      "2018-09-04 16:10:00  115.92  114.46  117.06     0     0       0.00\n",
      "2018-09-04 18:30:00  115.92  115.35  116.57     0     0       0.00\n",
      "--------------------------------------------------\n",
      "<class 'pandas.core.frame.DataFrame'>\n",
      "DatetimeIndex: 1010793 entries, 2009-09-28 09:30:00 to 2018-09-04 18:30:00\n",
      "Data columns (total 6 columns):\n",
      "price    1010793 non-null float64\n",
      "bid      1010793 non-null float64\n",
      "ask      1010793 non-null float64\n",
      "size     1010793 non-null int64\n",
      "v        1010793 non-null int64\n",
      "dv       1010793 non-null float64\n",
      "dtypes: float64(4), int64(2)\n",
      "memory usage: 54.0 MB\n",
      "None\n",
      "-------------------------------------------------------------------------------\n",
      "\n"
     ]
    }
   ],
   "source": [
    "dbars = df\n",
    "#dollar_bar_df(df, 'dv', 1_000_000).drop_duplicates().dropna()\n",
    "cprint(dbars)\n",
    "#dbars = df"
   ]
  },
  {
   "cell_type": "markdown",
   "metadata": {},
   "source": [
    "### Excercise [4.1.a.2] Compute daily volatility"
   ]
  },
  {
   "cell_type": "code",
   "execution_count": 22,
   "metadata": {
    "ExecuteTime": {
     "end_time": "2018-07-06T16:01:23.492624Z",
     "start_time": "2018-07-06T16:01:23.179922Z"
    }
   },
   "outputs": [
    {
     "name": "stdout",
     "output_type": "stream",
     "text": [
      "-------------------------------------------------------------------------------\n",
      "dataframe information\n",
      "-------------------------------------------------------------------------------\n",
      "                     dailyVol\n",
      "dates                        \n",
      "2018-09-04 15:59:55  0.000552\n",
      "2018-09-04 15:59:56  0.000559\n",
      "2018-09-04 16:00:00  0.000565\n",
      "2018-09-04 16:10:00  0.000570\n",
      "2018-09-04 18:30:00  0.000575\n",
      "--------------------------------------------------\n",
      "<class 'pandas.core.frame.DataFrame'>\n",
      "DatetimeIndex: 1010043 entries, 2009-09-29 09:30:02 to 2018-09-04 18:30:00\n",
      "Data columns (total 1 columns):\n",
      "dailyVol    1010042 non-null float64\n",
      "dtypes: float64(1)\n",
      "memory usage: 15.4 MB\n",
      "None\n",
      "-------------------------------------------------------------------------------\n",
      "\n"
     ]
    }
   ],
   "source": [
    "close = dbars.price.copy()\n",
    "dailyVol = getDailyVol(close)\n",
    "cprint(dailyVol.to_frame())"
   ]
  },
  {
   "cell_type": "code",
   "execution_count": 23,
   "metadata": {
    "ExecuteTime": {
     "end_time": "2018-07-06T16:01:23.870058Z",
     "start_time": "2018-07-06T16:01:23.494927Z"
    }
   },
   "outputs": [
    {
     "data": {
      "image/png": "[encoded data removed]",
      "text/plain": [
       "<Figure size 1008x648 with 1 Axes>"
      ]
     },
     "metadata": {
      "needs_background": "light"
     },
     "output_type": "display_data"
    }
   ],
   "source": [
    "plt.figure(figsize=(14, 9))\n",
    "#f,ax=plt.subplots()\n",
    "dailyVol.plot()\n",
    "plt.axhline(dailyVol.mean(),ls='--',color='red')\n",
    "plt.show()"
   ]
  },
  {
   "cell_type": "markdown",
   "metadata": {},
   "source": [
    "### Excercise [4.1.a.3] Compute TEvents, Vertical Barriers and _*t1*_"
   ]
  },
  {
   "cell_type": "code",
   "execution_count": null,
   "metadata": {
    "ExecuteTime": {
     "end_time": "2018-07-06T16:01:26.799333Z",
     "start_time": "2018-07-06T16:01:23.872345Z"
    }
   },
   "outputs": [
    {
     "name": "stderr",
     "output_type": "stream",
     "text": [
      " 94%|█████████▍| 954704/1010791 [02:39<00:09, 6022.49it/s]"
     ]
    }
   ],
   "source": [
    "tEvents = getTEvents(close, h=dailyVol.mean())\n",
    "tEvents"
   ]
  },
  {
   "cell_type": "code",
   "execution_count": 26,
   "metadata": {
    "ExecuteTime": {
     "end_time": "2018-07-06T16:01:26.856804Z",
     "start_time": "2018-07-06T16:01:26.801650Z"
    },
    "scrolled": true
   },
   "outputs": [],
   "source": [
    "# compute start and end of each triple barrier\n",
    "t1 = addVerticalBarrier(tEvents, close)\n",
    "#t1"
   ]
  },
  {
   "cell_type": "code",
   "execution_count": 27,
   "metadata": {
    "ExecuteTime": {
     "end_time": "2018-07-06T16:01:27.943386Z",
     "start_time": "2018-07-06T16:01:26.860844Z"
    }
   },
   "outputs": [
    {
     "name": "stderr",
     "output_type": "stream",
     "text": [
      "2018-10-14 11:56:07.711274 33.33% applyPtSlOnT1 done after 0.01 minutes. Remaining 0.02 minutes.\r",
      "2018-10-14 11:56:07.898801 66.67% applyPtSlOnT1 done after 0.01 minutes. Remaining 0.01 minutes.\r",
      "2018-10-14 11:56:07.905087 100.0% applyPtSlOnT1 done after 0.01 minutes. Remaining 0.0 minutes.\n"
     ]
    }
   ],
   "source": [
    "# create target series\n",
    "ptsl = [1,1]\n",
    "target=dailyVol\n",
    "# select minRet\n",
    "minRet = 0.01\n",
    "# get cpu count - 1\n",
    "cpus = cpu_count() - 1\n",
    "events = getEvents(close,tEvents,ptsl,target,minRet,cpus,t1=t1)"
   ]
  },
  {
   "cell_type": "code",
   "execution_count": 28,
   "metadata": {
    "ExecuteTime": {
     "end_time": "2018-07-06T16:01:27.979268Z",
     "start_time": "2018-07-06T16:01:27.945385Z"
    }
   },
   "outputs": [
    {
     "name": "stdout",
     "output_type": "stream",
     "text": [
      "-------------------------------------------------------------------------------\n",
      "dataframe information\n",
      "-------------------------------------------------------------------------------\n",
      "                                     t1      trgt\n",
      "2018-04-10 15:10:14 2018-04-11 15:16:22  0.010773\n",
      "2018-04-11 09:30:02 2018-04-12 09:39:50  0.010328\n",
      "2018-05-04 13:35:12 2018-05-07 09:30:00  0.010548\n",
      "2018-05-31 10:52:48 2018-06-01 11:26:50  0.011713\n",
      "2018-06-01 10:01:14 2018-06-04 09:32:00  0.010680\n",
      "--------------------------------------------------\n",
      "<class 'pandas.core.frame.DataFrame'>\n",
      "DatetimeIndex: 944 entries, 2009-10-05 14:59:34 to 2018-06-01 10:01:14\n",
      "Data columns (total 2 columns):\n",
      "t1      944 non-null datetime64[ns]\n",
      "trgt    944 non-null float64\n",
      "dtypes: datetime64[ns](1), float64(1)\n",
      "memory usage: 22.1 KB\n",
      "None\n",
      "-------------------------------------------------------------------------------\n",
      "\n"
     ]
    }
   ],
   "source": [
    "cprint(events)"
   ]
  },
  {
   "cell_type": "markdown",
   "metadata": {},
   "source": [
    "## Excercise [4.1.b]\n",
    "- Apply the function mpNumCoEvents() to compute the number of overlapping outcomes at each point in time"
   ]
  },
  {
   "cell_type": "code",
   "execution_count": 29,
   "metadata": {},
   "outputs": [],
   "source": [
    "#close[events.index]\n",
    "coEvents = mpNumCoEvents(closeIdx=events.index, t1=events.t1, molecule=events.index)"
   ]
  },
  {
   "cell_type": "code",
   "execution_count": 31,
   "metadata": {},
   "outputs": [
    {
     "name": "stdout",
     "output_type": "stream",
     "text": [
      "count    944.000000\n",
      "mean       2.757415\n",
      "std        1.432633\n",
      "min        1.000000\n",
      "25%        2.000000\n",
      "50%        2.000000\n",
      "75%        3.000000\n",
      "max       12.000000\n",
      "dtype: float64\n"
     ]
    },
    {
     "data": {
      "image/png": "[encoded data removed]",
      "text/plain": [
       "<Figure size 864x576 with 1 Axes>"
      ]
     },
     "metadata": {
      "needs_background": "light"
     },
     "output_type": "display_data"
    }
   ],
   "source": [
    "print(coEvents.describe())\n",
    "plt.figure(figsize=(12, 8))\n",
    "plt.hist(coEvents, bins=12)\n",
    "plt.show()"
   ]
  },
  {
   "cell_type": "markdown",
   "metadata": {},
   "source": [
    "## Excercise [4.1.c]\n",
    "- Plot the time series of the number of concurrent labels on the primary axis, and the time series of the exponentially moving standard deviation of returns on the secondary axis"
   ]
  },
  {
   "cell_type": "code",
   "execution_count": 32,
   "metadata": {},
   "outputs": [
    {
     "name": "stdout",
     "output_type": "stream",
     "text": [
      "-------------------------------------------------------------------------------\n",
      "dataframe information\n",
      "-------------------------------------------------------------------------------\n",
      "                     0\n",
      "2018-04-10 15:10:14  4\n",
      "2018-04-11 09:30:02  4\n",
      "2018-05-04 13:35:12  1\n",
      "2018-05-31 10:52:48  1\n",
      "2018-06-01 10:01:14  2\n",
      "--------------------------------------------------\n",
      "<class 'pandas.core.frame.DataFrame'>\n",
      "DatetimeIndex: 944 entries, 2009-10-05 14:59:34 to 2018-06-01 10:01:14\n",
      "Data columns (total 1 columns):\n",
      "0    944 non-null int64\n",
      "dtypes: int64(1)\n",
      "memory usage: 14.8 KB\n",
      "None\n",
      "-------------------------------------------------------------------------------\n",
      "\n"
     ]
    }
   ],
   "source": [
    "cprint(coEvents)"
   ]
  },
  {
   "cell_type": "code",
   "execution_count": 34,
   "metadata": {},
   "outputs": [
    {
     "data": {
      "text/plain": [
       "[<matplotlib.lines.Line2D at 0x7ff9ccfadb00>]"
      ]
     },
     "execution_count": 34,
     "metadata": {},
     "output_type": "execute_result"
    },
    {
     "data": {
      "image/png": "[encoded data removed]",
      "text/plain": [
       "<Figure size 864x576 with 2 Axes>"
      ]
     },
     "metadata": {
      "needs_background": "light"
     },
     "output_type": "display_data"
    }
   ],
   "source": [
    "fig, ax1 = plt.subplots(figsize=(12,8))\n",
    "ax1.plot(coEvents.index, coEvents.values, 'b-', ls='', marker='X', markersize=5)\n",
    "ax1.set_ylabel('Hits')\n",
    "ax2 = ax1.twinx()\n",
    "ax2.set_ylabel('Voaltility')\n",
    "ax2.plot(dailyVol[coEvents.index].index, dailyVol[coEvents.index].values, color='red', ls='', marker='^', markersize=5)"
   ]
  },
  {
   "cell_type": "code",
   "execution_count": 36,
   "metadata": {},
   "outputs": [
    {
     "data": {
      "text/plain": [
       "[]"
      ]
     },
     "execution_count": 36,
     "metadata": {},
     "output_type": "execute_result"
    },
    {
     "data": {
      "image/png": "[encoded data removed]",
      "text/plain": [
       "<Figure size 864x576 with 1 Axes>"
      ]
     },
     "metadata": {
      "needs_background": "light"
     },
     "output_type": "display_data"
    }
   ],
   "source": [
    "#coEvents.shape, dailyVol[coEvents.index].shape\n",
    "plt.figure(figsize=(12, 8))\n",
    "plt.scatter(coEvents.values, dailyVol[coEvents.index].values)\n",
    "plt.plot()"
   ]
  },
  {
   "cell_type": "markdown",
   "metadata": {},
   "source": [
    "## Excercise [4.2]\n",
    "Using function \"mpSampleTW\", compute the average uniqueness of each label. \n",
    "What is the first order serial correlation, AR(1), of this time series?\n",
    "Is it statistically significant? Why?"
   ]
  },
  {
   "cell_type": "code",
   "execution_count": 37,
   "metadata": {},
   "outputs": [],
   "source": [
    "def mpSampleTW(t1, numCoEvents, molecule):\n",
    "    # Derive average uniqueness over the event's lifespan\n",
    "    wght = pd.Series(index=molecule)\n",
    "    for tIn, tOut in t1.loc[wght.index].iteritems():\n",
    "        wght.loc[tIn] = (1./numCoEvents.loc[tIn:tOut]).mean()\n",
    "    return wght"
   ]
  },
  {
   "cell_type": "code",
   "execution_count": 38,
   "metadata": {},
   "outputs": [
    {
     "data": {
      "text/plain": [
       "(944,)"
      ]
     },
     "execution_count": 38,
     "metadata": {},
     "output_type": "execute_result"
    }
   ],
   "source": [
    "numCoEvents_ = mpSampleTW(t1=events.t1, numCoEvents=coEvents, molecule=events.index)\n",
    "numCoEvents_.shape"
   ]
  },
  {
   "cell_type": "code",
   "execution_count": 39,
   "metadata": {},
   "outputs": [
    {
     "name": "stderr",
     "output_type": "stream",
     "text": [
      "2018-10-14 11:58:26.907108 33.33% mpSampleTW done after 0.0 minutes. Remaining 0.01 minutes.\r",
      "2018-10-14 11:58:26.935168 66.67% mpSampleTW done after 0.0 minutes. Remaining 0.0 minutes.\r",
      "2018-10-14 11:58:26.947607 100.0% mpSampleTW done after 0.0 minutes. Remaining 0.0 minutes.\n"
     ]
    },
    {
     "data": {
      "text/plain": [
       "(944,)"
      ]
     },
     "execution_count": 39,
     "metadata": {},
     "output_type": "execute_result"
    }
   ],
   "source": [
    "numThreads = cpu_count() - 1\n",
    "#numCoEvents = mpPandasObj(mpNumCoEvents, ('molecule', events.index), numThreads=numThreads,\\\n",
    "#                          closeIdx=events.index, t1=events.t1)\n",
    "\n",
    "numCoEvents = coEvents.loc[~coEvents.index.duplicated(keep='last')]\n",
    "#numCoEvents = numCoEvents.reindex(close.index).fillna(0)\n",
    "numCoEvents = mpPandasObj(mpSampleTW, ('molecule', events.index), numThreads, t1=events.t1, numCoEvents=numCoEvents)\n",
    "numCoEvents.shape"
   ]
  },
  {
   "cell_type": "code",
   "execution_count": 43,
   "metadata": {},
   "outputs": [
    {
     "data": {
      "image/png": "[encoded data removed]",
      "text/plain": [
       "<Figure size 864x576 with 1 Axes>"
      ]
     },
     "metadata": {
      "needs_background": "light"
     },
     "output_type": "display_data"
    }
   ],
   "source": [
    "plt.figure(figsize=(12, 8))\n",
    "plt.plot(numCoEvents, ls='', marker='o', markersize=5)\n",
    "plt.show()"
   ]
  },
  {
   "cell_type": "code",
   "execution_count": 44,
   "metadata": {
    "scrolled": true
   },
   "outputs": [
    {
     "data": {
      "text/plain": [
       "0.6604516741150607"
      ]
     },
     "execution_count": 44,
     "metadata": {},
     "output_type": "execute_result"
    }
   ],
   "source": [
    "def acf(x, length=20):\n",
    "    return np.array([1]+[np.corrcoef(x[:-i], x[i:])[0,1] for i in range(1, length)])\n",
    "\n",
    "#np.corrcoef(numCoEvents.values[:-1], numCoEvents.values[1:])\n",
    "acf(numCoEvents.values, length=2)[1]"
   ]
  },
  {
   "cell_type": "markdown",
   "metadata": {},
   "source": [
    "### It seems that there is a strong positive autocorrelation of order 1"
   ]
  },
  {
   "cell_type": "markdown",
   "metadata": {},
   "source": [
    "## Excercise [4.3]\n",
    "Fit a RandomForest for financial dataset where the average uniqueness is lower than his armonic avarage"
   ]
  },
  {
   "cell_type": "code",
   "execution_count": 47,
   "metadata": {},
   "outputs": [
    {
     "name": "stdout",
     "output_type": "stream",
     "text": [
      "-------------------------------------------------------------------------------\n",
      "dataframe information\n",
      "-------------------------------------------------------------------------------\n",
      "                            0\n",
      "2018-04-09 15:42:46  0.270833\n",
      "2018-04-10 09:42:37  0.250000\n",
      "2018-04-10 12:26:12  0.250000\n",
      "2018-04-10 15:10:14  0.250000\n",
      "2018-04-11 09:30:02  0.250000\n",
      "--------------------------------------------------\n",
      "<class 'pandas.core.frame.DataFrame'>\n",
      "DatetimeIndex: 588 entries, 2009-10-30 09:56:54 to 2018-04-11 09:30:02\n",
      "Data columns (total 1 columns):\n",
      "0    588 non-null float64\n",
      "dtypes: float64(1)\n",
      "memory usage: 9.2 KB\n",
      "None\n",
      "-------------------------------------------------------------------------------\n",
      "\n"
     ]
    }
   ],
   "source": [
    "# check whether results of two computations are the same\n",
    "lowerNumCoEvents = numCoEvents[numCoEvents < numCoEvents.mean()]\n",
    "cprint(lowerNumCoEvents)"
   ]
  },
  {
   "cell_type": "code",
   "execution_count": 50,
   "metadata": {},
   "outputs": [
    {
     "data": {
      "image/png": "[encoded data removed]",
      "text/plain": [
       "<Figure size 864x576 with 1 Axes>"
      ]
     },
     "metadata": {
      "needs_background": "light"
     },
     "output_type": "display_data"
    }
   ],
   "source": [
    "plt.figure(figsize=(12, 8))\n",
    "plt.plot(close[numCoEvents.index])\n",
    "plt.show()"
   ]
  },
  {
   "cell_type": "code",
   "execution_count": 68,
   "metadata": {},
   "outputs": [
    {
     "name": "stdout",
     "output_type": "stream",
     "text": [
      "Variable             Type             Data/Info\n",
      "-----------------------------------------------\n",
      "Path                 type             <class 'pathlib.Path'>\n",
      "ProgressBar          type             <class 'dask.diagnostics.progress.ProgressBar'>\n",
      "PurePath             type             <class 'pathlib.PurePath'>\n",
      "RANDOM_STATE         int              777\n",
      "acf                  function         <function acf at 0x7ff9cc8fee18>\n",
      "addVerticalBarrier   function         <function addVerticalBarrier at 0x7ffa1d69f0d0>\n",
      "applyPtSlOnT1        function         <function applyPtSlOnT1 at 0x7ffa1d689ea0>\n",
      "ax1                  AxesSubplot      AxesSubplot(0.125,0.125;0.775x0.755)\n",
      "ax2                  AxesSubplot      AxesSubplot(0.125,0.125;0.775x0.755)\n",
      "bars_script_dir      PurePosixPath    /home/ale/py-projects/Adv<...>ML_Exercises/src/features\n",
      "blue                 tuple            n=3\n",
      "bt                   CPUDispatcher    CPUDispatcher(<function bt at 0x7ff9d03e78c8>)\n",
      "close                Series           dates\\n2009-09-28 09:53:4<...>th: 34419, dtype: float64\n",
      "coEvents             Series           2009-10-05 14:59:34    1\\<...>Length: 944, dtype: int64\n",
      "copyreg              module           <module 'copyreg' from '/<...>ib/python3.6/copyreg.py'>\n",
      "cprint               function         <function cprint at 0x7ff9d03dfbf8>\n",
      "cpu_count            method           <bound method BaseContext<...>bject at 0x7ffa261712e8>>\n",
      "cpus                 int              3\n",
      "dailyVol             Series           dates\\n2009-09-29 10:10:5<...>th: 34402, dtype: float64\n",
      "data_dir             PurePosixPath    /home/ale/py-projects/Adv_Fin_ML_Exercises/data\n",
      "data_script_dir      PurePosixPath    /home/ale/py-projects/Adv<...>Fin_ML_Exercises/src/data\n",
      "dbars                DataFrame                                p<...>n[34419 rows x 6 columns]\n",
      "dd                   module           <module 'dask.dataframe' <...>k/dataframe/__init__.py'>\n",
      "df                   DataFrame                                p<...>1010793 rows x 6 columns]\n",
      "display              function         <function display at 0x7ffa27be1620>\n",
      "dollar_bar_df        function         <function dollar_bar_df at 0x7ff9d03e71e0>\n",
      "dollar_bars          function         <function dollar_bars at 0x7ff9d03e7158>\n",
      "dropLabels           function         <function dropLabels at 0x7ff9d0344400>\n",
      "dt                   module           <module 'datetime' from '<...>b/python3.6/datetime.py'>\n",
      "events               DataFrame                                 <...>n\\n[944 rows x 2 columns]\n",
      "expandCall           function         <function expandCall at 0x7ff9d0344ae8>\n",
      "ffn                  module           <module 'ffn' from '/home<...>ackages/ffn/__init__.py'>\n",
      "fig                  Figure           Figure(864x576)\n",
      "getBins              function         <function getBins at 0x7ff9d03446a8>\n",
      "getBinsOld           function         <function getBinsOld at 0x7ff9d0344950>\n",
      "getDailyVol          function         <function getDailyVol at 0x7ffa1d69f1e0>\n",
      "getEvents            function         <function getEvents at 0x7ffa1d69f378>\n",
      "getTEvents           function         <function getTEvents at 0x7ffa1d689f28>\n",
      "get_imbalance        CPUDispatcher    CPUDispatcher(<function g<...>lance at 0x7ff9d03a4ae8>)\n",
      "gold                 tuple            n=3\n",
      "green                tuple            n=3\n",
      "gridspec             module           <module 'matplotlib.grids<...>/matplotlib/gridspec.py'>\n",
      "infp                 PurePosixPath    /home/ale/py-projects/Adv<...>alue_resampled_1s.parquet\n",
      "jit                  function         <function jit at 0x7ff9d5a97510>\n",
      "json                 module           <module 'json' from '/usr<...>hon3.6/json/__init__.py'>\n",
      "linParts             function         <function linParts at 0x7ff9d03441e0>\n",
      "lowerNumCoEvents     Series           2009-10-30 09:56:54    0.<...>ngth: 588, dtype: float64\n",
      "math                 module           <module 'math' (built-in)>\n",
      "minRet               float            0.01\n",
      "mp                   module           <module 'multiprocessing'<...>iprocessing/__init__.py'>\n",
      "mpNumCoEvents        function         <function mpNumCoEvents at 0x7ff9d03e7730>\n",
      "mpPandasObj          function         <function mpPandasObj at 0x7ff9d0344e18>\n",
      "mpSampleTW           function         <function mpSampleTW at 0x7ff9cce03f28>\n",
      "mpl                  module           <module 'matplotlib' from<...>/matplotlib/__init__.py'>\n",
      "msno                 module           <module 'missingno' from <...>s/missingno/__init__.py'>\n",
      "nestedParts          function         <function nestedParts at 0x7ff9d0344510>\n",
      "np                   module           <module 'numpy' from '/ho<...>kages/numpy/__init__.py'>\n",
      "numCoEvents          Series           2009-10-05 14:59:34    0.<...>ngth: 944, dtype: float64\n",
      "numCoEvents_         Series           2009-10-05 14:59:34    0.<...>ngth: 944, dtype: float64\n",
      "numThreads           int              3\n",
      "numba_isclose        CPUDispatcher    CPUDispatcher(<function n<...>close at 0x7ff9d03e72f0>)\n",
      "od                   type             <class 'collections.OrderedDict'>\n",
      "os                   module           <module 'os' from '/home/<...>low/lib/python3.6/os.py'>\n",
      "pbar                 ProgressBar      <dask.diagnostics.progres<...>object at 0x7ffa1ce32048>\n",
      "pd                   module           <module 'pandas' from '/h<...>ages/pandas/__init__.py'>\n",
      "pdir                 PurePosixPath    /home/ale/py-projects/Adv_Fin_ML_Exercises\n",
      "plot_sample_data     function         <function plot_sample_data at 0x7ffa1c2f2ea0>\n",
      "plt                  module           <module 'matplotlib.pyplo<...>es/matplotlib/pyplot.py'>\n",
      "pp                   tuple            n=5\n",
      "processJobs          function         <function processJobs at 0x7ff9d0344a60>\n",
      "processJobs_         function         <function processJobs_ at 0x7ff9d03448c8>\n",
      "ptsl                 list             n=2\n",
      "purple               tuple            n=3\n",
      "re                   module           <module 're' from '/home/<...>low/lib/python3.6/re.py'>\n",
      "red                  tuple            n=3\n",
      "reportProgress       function         <function reportProgress at 0x7ff9d03449d8>\n",
      "returns              function         <function returns at 0x7ff9d03dfd90>\n",
      "select_sample_data   function         <function select_sample_data at 0x7ff9d0e18c80>\n",
      "sm                   module           <module 'statsmodels.api'<...>ages/statsmodels/api.py'>\n",
      "sns                  module           <module 'seaborn' from '/<...>ges/seaborn/__init__.py'>\n",
      "stats                module           <module 'scipy.stats' fro<...>scipy/stats/__init__.py'>\n",
      "sys                  module           <module 'sys' (built-in)>\n",
      "t1                   Series           2009-09-29 09:41:11   200<...>13, dtype: datetime64[ns]\n",
      "tEvents              DatetimeIndex    DatetimeIndex(['2009-09-2<...>, length=2413, freq=None)\n",
      "target               Series           dates\\n2009-09-29 10:10:5<...>th: 34402, dtype: float64\n",
      "teal                 tuple            n=3\n",
      "tick_bar_df          function         <function tick_bar_df at 0x7ff9d03dff28>\n",
      "tick_bars            function         <function tick_bars at 0x7ff9d03dfea0>\n",
      "time                 module           <module 'time' (built-in)>\n",
      "tqdm                 type             <class 'tqdm._tqdm.tqdm'>\n",
      "tqdm_notebook        function         <function tqdm_notebook at 0x7ff9d03df598>\n",
      "types                module           <module 'types' from '/ho<...>/lib/python3.6/types.py'>\n",
      "viz_dir              PurePosixPath    /home/ale/py-projects/Adv<...>Exercises/reports/figures\n",
      "volume_bar_df        function         <function volume_bar_df at 0x7ff9d03e70d0>\n",
      "volume_bars          function         <function volume_bars at 0x7ff9d03e7048>\n",
      "warnings             module           <module 'warnings' from '<...>b/python3.6/warnings.py'>\n",
      "web                  module           <module 'pandas_datareade<...>ndas_datareader/data.py'>\n"
     ]
    }
   ],
   "source": [
    "whos"
   ]
  },
  {
   "cell_type": "code",
   "execution_count": 57,
   "metadata": {},
   "outputs": [],
   "source": [
    "def getIndMatrix(barIdx, t1):\n",
    "    # get indicator matrix\n",
    "    indM = pd.DataFrame(0, index=barIdx, columns=range(t1.shape[0]))\n",
    "    #print(t1.shape[0])\n",
    "    for i, (t0, t1) in enumerate(tqdm(t1.iteritems())):\n",
    "        #print(i, t0, t1)\n",
    "        indM.loc[t0:t1, i] = 1\n",
    "    return indM"
   ]
  },
  {
   "cell_type": "code",
   "execution_count": 39,
   "metadata": {},
   "outputs": [
    {
     "name": "stderr",
     "output_type": "stream",
     "text": [
      "1it [00:00,  1.24it/s]"
     ]
    },
    {
     "name": "stdout",
     "output_type": "stream",
     "text": [
      "944\n"
     ]
    },
    {
     "name": "stderr",
     "output_type": "stream",
     "text": [
      "944it [12:03,  1.31it/s]\n"
     ]
    }
   ],
   "source": [
    "indM = getIndMatrix(close.index, events.t1)"
   ]
  },
  {
   "cell_type": "code",
   "execution_count": 54,
   "metadata": {},
   "outputs": [],
   "source": [
    "if(indM is not None):\n",
    "    # Due to long computation, about 10 minutes on my machine, \n",
    "    # save DataFrame in file changing columns type\n",
    "    indM_2 = indM.copy()\n",
    "    indM_2 = indM_2.rename(str, axis='columns')\n",
    "    infp = PurePath(data_dir/'processed'/'indM.parquet')\n",
    "    #infp = PurePath(data_dir/'interim'/'IVE_tickbidask.parq')\n",
    "    indM_2.to_parquet(infp)\n",
    "#cprint(df)"
   ]
  },
  {
   "cell_type": "code",
   "execution_count": 114,
   "metadata": {},
   "outputs": [],
   "source": [
    "# Restore indM from file\n",
    "infp = PurePath(data_dir/'processed'/'indM.parquet')\n",
    "indM = pd.read_parquet(infp)\n",
    "indM = indM.rename(int, axis='columns')"
   ]
  },
  {
   "cell_type": "code",
   "execution_count": 117,
   "metadata": {},
   "outputs": [
    {
     "data": {
      "text/html": [
       "<div>\n",
       "<style scoped>\n",
       "    .dataframe tbody tr th:only-of-type {\n",
       "        vertical-align: middle;\n",
       "    }\n",
       "\n",
       "    .dataframe tbody tr th {\n",
       "        vertical-align: top;\n",
       "    }\n",
       "\n",
       "    .dataframe thead th {\n",
       "        text-align: right;\n",
       "    }\n",
       "</style>\n",
       "<table border=\"1\" class=\"dataframe\">\n",
       "  <thead>\n",
       "    <tr style=\"text-align: right;\">\n",
       "      <th></th>\n",
       "      <th>0</th>\n",
       "      <th>1</th>\n",
       "      <th>2</th>\n",
       "      <th>3</th>\n",
       "      <th>4</th>\n",
       "      <th>5</th>\n",
       "      <th>6</th>\n",
       "      <th>7</th>\n",
       "      <th>8</th>\n",
       "      <th>9</th>\n",
       "      <th>...</th>\n",
       "      <th>934</th>\n",
       "      <th>935</th>\n",
       "      <th>936</th>\n",
       "      <th>937</th>\n",
       "      <th>938</th>\n",
       "      <th>939</th>\n",
       "      <th>940</th>\n",
       "      <th>941</th>\n",
       "      <th>942</th>\n",
       "      <th>943</th>\n",
       "    </tr>\n",
       "    <tr>\n",
       "      <th>dates</th>\n",
       "      <th></th>\n",
       "      <th></th>\n",
       "      <th></th>\n",
       "      <th></th>\n",
       "      <th></th>\n",
       "      <th></th>\n",
       "      <th></th>\n",
       "      <th></th>\n",
       "      <th></th>\n",
       "      <th></th>\n",
       "      <th></th>\n",
       "      <th></th>\n",
       "      <th></th>\n",
       "      <th></th>\n",
       "      <th></th>\n",
       "      <th></th>\n",
       "      <th></th>\n",
       "      <th></th>\n",
       "      <th></th>\n",
       "      <th></th>\n",
       "      <th></th>\n",
       "    </tr>\n",
       "  </thead>\n",
       "  <tbody>\n",
       "    <tr>\n",
       "      <th>2009-09-28 09:53:49</th>\n",
       "      <td>0</td>\n",
       "      <td>0</td>\n",
       "      <td>0</td>\n",
       "      <td>0</td>\n",
       "      <td>0</td>\n",
       "      <td>0</td>\n",
       "      <td>0</td>\n",
       "      <td>0</td>\n",
       "      <td>0</td>\n",
       "      <td>0</td>\n",
       "      <td>...</td>\n",
       "      <td>0</td>\n",
       "      <td>0</td>\n",
       "      <td>0</td>\n",
       "      <td>0</td>\n",
       "      <td>0</td>\n",
       "      <td>0</td>\n",
       "      <td>0</td>\n",
       "      <td>0</td>\n",
       "      <td>0</td>\n",
       "      <td>0</td>\n",
       "    </tr>\n",
       "    <tr>\n",
       "      <th>2009-09-28 10:06:18</th>\n",
       "      <td>0</td>\n",
       "      <td>0</td>\n",
       "      <td>0</td>\n",
       "      <td>0</td>\n",
       "      <td>0</td>\n",
       "      <td>0</td>\n",
       "      <td>0</td>\n",
       "      <td>0</td>\n",
       "      <td>0</td>\n",
       "      <td>0</td>\n",
       "      <td>...</td>\n",
       "      <td>0</td>\n",
       "      <td>0</td>\n",
       "      <td>0</td>\n",
       "      <td>0</td>\n",
       "      <td>0</td>\n",
       "      <td>0</td>\n",
       "      <td>0</td>\n",
       "      <td>0</td>\n",
       "      <td>0</td>\n",
       "      <td>0</td>\n",
       "    </tr>\n",
       "    <tr>\n",
       "      <th>2009-09-28 10:23:06</th>\n",
       "      <td>0</td>\n",
       "      <td>0</td>\n",
       "      <td>0</td>\n",
       "      <td>0</td>\n",
       "      <td>0</td>\n",
       "      <td>0</td>\n",
       "      <td>0</td>\n",
       "      <td>0</td>\n",
       "      <td>0</td>\n",
       "      <td>0</td>\n",
       "      <td>...</td>\n",
       "      <td>0</td>\n",
       "      <td>0</td>\n",
       "      <td>0</td>\n",
       "      <td>0</td>\n",
       "      <td>0</td>\n",
       "      <td>0</td>\n",
       "      <td>0</td>\n",
       "      <td>0</td>\n",
       "      <td>0</td>\n",
       "      <td>0</td>\n",
       "    </tr>\n",
       "    <tr>\n",
       "      <th>2009-09-28 10:39:55</th>\n",
       "      <td>0</td>\n",
       "      <td>0</td>\n",
       "      <td>0</td>\n",
       "      <td>0</td>\n",
       "      <td>0</td>\n",
       "      <td>0</td>\n",
       "      <td>0</td>\n",
       "      <td>0</td>\n",
       "      <td>0</td>\n",
       "      <td>0</td>\n",
       "      <td>...</td>\n",
       "      <td>0</td>\n",
       "      <td>0</td>\n",
       "      <td>0</td>\n",
       "      <td>0</td>\n",
       "      <td>0</td>\n",
       "      <td>0</td>\n",
       "      <td>0</td>\n",
       "      <td>0</td>\n",
       "      <td>0</td>\n",
       "      <td>0</td>\n",
       "    </tr>\n",
       "    <tr>\n",
       "      <th>2009-09-28 11:00:40</th>\n",
       "      <td>0</td>\n",
       "      <td>0</td>\n",
       "      <td>0</td>\n",
       "      <td>0</td>\n",
       "      <td>0</td>\n",
       "      <td>0</td>\n",
       "      <td>0</td>\n",
       "      <td>0</td>\n",
       "      <td>0</td>\n",
       "      <td>0</td>\n",
       "      <td>...</td>\n",
       "      <td>0</td>\n",
       "      <td>0</td>\n",
       "      <td>0</td>\n",
       "      <td>0</td>\n",
       "      <td>0</td>\n",
       "      <td>0</td>\n",
       "      <td>0</td>\n",
       "      <td>0</td>\n",
       "      <td>0</td>\n",
       "      <td>0</td>\n",
       "    </tr>\n",
       "  </tbody>\n",
       "</table>\n",
       "<p>5 rows × 944 columns</p>\n",
       "</div>"
      ],
      "text/plain": [
       "                     0    1    2    3    4    5    6    7    8    9   ...   \\\n",
       "dates                                                                 ...    \n",
       "2009-09-28 09:53:49    0    0    0    0    0    0    0    0    0    0 ...    \n",
       "2009-09-28 10:06:18    0    0    0    0    0    0    0    0    0    0 ...    \n",
       "2009-09-28 10:23:06    0    0    0    0    0    0    0    0    0    0 ...    \n",
       "2009-09-28 10:39:55    0    0    0    0    0    0    0    0    0    0 ...    \n",
       "2009-09-28 11:00:40    0    0    0    0    0    0    0    0    0    0 ...    \n",
       "\n",
       "                     934  935  936  937  938  939  940  941  942  943  \n",
       "dates                                                                  \n",
       "2009-09-28 09:53:49    0    0    0    0    0    0    0    0    0    0  \n",
       "2009-09-28 10:06:18    0    0    0    0    0    0    0    0    0    0  \n",
       "2009-09-28 10:23:06    0    0    0    0    0    0    0    0    0    0  \n",
       "2009-09-28 10:39:55    0    0    0    0    0    0    0    0    0    0  \n",
       "2009-09-28 11:00:40    0    0    0    0    0    0    0    0    0    0  \n",
       "\n",
       "[5 rows x 944 columns]"
      ]
     },
     "execution_count": 117,
     "metadata": {},
     "output_type": "execute_result"
    }
   ],
   "source": [
    "indM.head()"
   ]
  },
  {
   "cell_type": "code",
   "execution_count": 37,
   "metadata": {},
   "outputs": [],
   "source": [
    "def getAverageUniqueness(indM):\n",
    "    #Average uniqueness from indicator matrix\n",
    "    c = indM.sum(axis=1) #concurrency\n",
    "    u = indM.div(c, axis=0) #uniqueness\n",
    "    avgU = u[u>0].mean() #average uniqueness\n",
    "    return avgU"
   ]
  },
  {
   "cell_type": "code",
   "execution_count": 119,
   "metadata": {},
   "outputs": [
    {
     "data": {
      "text/plain": [
       "0      0.875000\n",
       "1      0.636364\n",
       "2      0.500000\n",
       "3      0.650000\n",
       "4      0.863636\n",
       "5      1.000000\n",
       "6      0.928571\n",
       "7      0.821429\n",
       "8      0.818182\n",
       "9      0.863636\n",
       "10     0.500000\n",
       "11     1.000000\n",
       "12     0.772727\n",
       "13     0.687500\n",
       "14     1.000000\n",
       "15     0.750000\n",
       "16     0.714286\n",
       "17     0.683333\n",
       "18     0.472222\n",
       "19     0.479167\n",
       "20     0.537037\n",
       "21     0.444444\n",
       "22     0.661111\n",
       "23     0.272222\n",
       "24     0.248333\n",
       "25     0.266667\n",
       "26     0.233333\n",
       "27     0.212500\n",
       "28     0.275926\n",
       "29     0.379630\n",
       "30     0.684524\n",
       "31     0.371212\n",
       "32     0.312500\n",
       "33     0.375000\n",
       "34     0.583333\n",
       "35     0.700000\n",
       "36     0.642857\n",
       "37     0.541667\n",
       "38     0.590909\n",
       "39     0.900000\n",
       "40     0.954545\n",
       "41     0.833333\n",
       "42     0.916667\n",
       "43     0.944444\n",
       "44     0.944444\n",
       "45     0.966667\n",
       "46     1.000000\n",
       "47     0.833333\n",
       "48     0.833333\n",
       "49     0.928571\n",
       "         ...   \n",
       "894    0.373810\n",
       "895    0.522727\n",
       "896    0.564516\n",
       "897    0.474359\n",
       "898    0.432292\n",
       "899    0.387097\n",
       "900    0.341270\n",
       "901    0.637681\n",
       "902    0.652174\n",
       "903    0.578947\n",
       "904    0.916667\n",
       "905    0.950000\n",
       "906    1.000000\n",
       "907    0.687500\n",
       "908    0.544444\n",
       "909    0.566667\n",
       "910    0.575758\n",
       "911    0.452381\n",
       "912    0.441441\n",
       "913    0.468254\n",
       "914    0.387597\n",
       "915    0.345833\n",
       "916    0.333333\n",
       "917    0.428571\n",
       "918    0.888889\n",
       "919    0.750000\n",
       "920    0.687500\n",
       "921    0.549383\n",
       "922    0.423423\n",
       "923    0.540650\n",
       "924    0.466667\n",
       "925    0.366667\n",
       "926    0.369792\n",
       "927    0.442029\n",
       "928    0.833333\n",
       "929    0.618056\n",
       "930    0.493333\n",
       "931    0.466667\n",
       "932    0.458333\n",
       "933    0.333333\n",
       "934    0.589015\n",
       "935    0.356884\n",
       "936    0.289683\n",
       "937    0.279915\n",
       "938    0.289216\n",
       "939    0.373563\n",
       "940    0.515432\n",
       "941    1.000000\n",
       "942    0.888889\n",
       "943    0.866667\n",
       "Length: 944, dtype: float64"
      ]
     },
     "execution_count": 119,
     "metadata": {},
     "output_type": "execute_result"
    }
   ],
   "source": [
    "avgU = getAverageUniqueness(indM)\n",
    "avgU"
   ]
  },
  {
   "cell_type": "code",
   "execution_count": 113,
   "metadata": {},
   "outputs": [
    {
     "name": "stderr",
     "output_type": "stream",
     "text": [
      "\n",
      "\n",
      "\n",
      "  0%|          | 0/10 [00:00<?, ?it/s]\u001b[A\u001b[A\u001b[A\n",
      "\n",
      "\n",
      "100%|██████████| 10/10 [00:00<00:00, 7106.58it/s]\u001b[A\u001b[A\u001b[A"
     ]
    },
    {
     "name": "stdout",
     "output_type": "stream",
     "text": [
      "0\n",
      "1\n",
      "2\n",
      "3\n",
      "4\n",
      "5\n",
      "6\n",
      "7\n",
      "8\n",
      "9\n"
     ]
    }
   ],
   "source": [
    "for i in tqdm(range(0, 10)): print(i)"
   ]
  },
  {
   "cell_type": "code",
   "execution_count": 111,
   "metadata": {},
   "outputs": [],
   "source": [
    "def seqBootstrap(indM, sLength=None):\n",
    "    # Generate a sample via sequential bootstrap\n",
    "    if sLength is None : \n",
    "        sLength = indM.shape[1]\n",
    "    phi = []\n",
    "    _range = range(0, sLength)\n",
    "    for i in tqdm(_range):\n",
    "    #while len(phi) < sLength:\n",
    "        #print(len(phi), sLength, '>>>', phi)\n",
    "        avgU = pd.Series()\n",
    "        for i in indM:\n",
    "            indM_ = indM[phi+[i]] # reduce indM\n",
    "            avgU.loc[i] = getAverageUniqueness(indM_).iloc[-1]\n",
    "        prob = avgU/avgU.sum() # draw probability\n",
    "        phi += [np.random.choice(indM.columns, p=prob)]\n",
    "    return phi"
   ]
  },
  {
   "cell_type": "code",
   "execution_count": 44,
   "metadata": {},
   "outputs": [
    {
     "name": "stdout",
     "output_type": "stream",
     "text": [
      "0 5 >>> []\n",
      "1 5 >>> [149]\n",
      "2 5 >>> [149, 280]\n",
      "3 5 >>> [149, 280, 141]\n",
      "4 5 >>> [149, 280, 141, 755]\n"
     ]
    }
   ],
   "source": [
    "#phi = seqBootstrap(indM, 5)"
   ]
  },
  {
   "cell_type": "code",
   "execution_count": 112,
   "metadata": {},
   "outputs": [
    {
     "name": "stderr",
     "output_type": "stream",
     "text": [
      "\n",
      "\n",
      "  0%|          | 0/944 [00:00<?, ?it/s]\u001b[A\u001b[A\n",
      "\n",
      "  0%|          | 1/944 [00:03<1:02:34,  3.98s/it]\u001b[A\u001b[A\n",
      "\n",
      "  0%|          | 2/944 [00:10<1:20:41,  5.14s/it]\u001b[A\u001b[A\n",
      "\n",
      "  0%|          | 3/944 [00:17<1:30:21,  5.76s/it]\u001b[A\u001b[A\n",
      "\n",
      "  0%|          | 4/944 [00:25<1:38:41,  6.30s/it]\u001b[A\u001b[A"
     ]
    },
    {
     "ename": "KeyboardInterrupt",
     "evalue": "",
     "output_type": "error",
     "traceback": [
      "\u001b[0;31m---------------------------------------------------------------------------\u001b[0m",
      "\u001b[0;31mKeyboardInterrupt\u001b[0m                         Traceback (most recent call last)",
      "\u001b[0;32m<ipython-input-112-e58e6d6fe168>\u001b[0m in \u001b[0;36m<module>\u001b[0;34m()\u001b[0m\n\u001b[1;32m      8\u001b[0m \u001b[0;31m#print('Standard Uniqueness',getAverageUniqueness(indM[phi]).mean())\u001b[0m\u001b[0;34m\u001b[0m\u001b[0;34m\u001b[0m\u001b[0m\n\u001b[1;32m      9\u001b[0m \u001b[0;34m\u001b[0m\u001b[0m\n\u001b[0;32m---> 10\u001b[0;31m \u001b[0mphi\u001b[0m \u001b[0;34m=\u001b[0m \u001b[0mseqBootstrap\u001b[0m\u001b[0;34m(\u001b[0m\u001b[0mindM\u001b[0m\u001b[0;34m)\u001b[0m\u001b[0;34m\u001b[0m\u001b[0m\n\u001b[0m\u001b[1;32m     11\u001b[0m \u001b[0;31m#print(phi)\u001b[0m\u001b[0;34m\u001b[0m\u001b[0;34m\u001b[0m\u001b[0m\n\u001b[1;32m     12\u001b[0m \u001b[0mprint\u001b[0m\u001b[0;34m(\u001b[0m\u001b[0;34m'Standard Uniqueness'\u001b[0m\u001b[0;34m,\u001b[0m\u001b[0mgetAverageUniqueness\u001b[0m\u001b[0;34m(\u001b[0m\u001b[0mindM\u001b[0m\u001b[0;34m[\u001b[0m\u001b[0mphi\u001b[0m\u001b[0;34m]\u001b[0m\u001b[0;34m)\u001b[0m\u001b[0;34m.\u001b[0m\u001b[0mmean\u001b[0m\u001b[0;34m(\u001b[0m\u001b[0;34m)\u001b[0m\u001b[0;34m)\u001b[0m\u001b[0;34m\u001b[0m\u001b[0m\n",
      "\u001b[0;32m<ipython-input-111-3bad0f368a31>\u001b[0m in \u001b[0;36mseqBootstrap\u001b[0;34m(indM, sLength)\u001b[0m\n\u001b[1;32m     12\u001b[0m         \u001b[0;32mfor\u001b[0m \u001b[0mi\u001b[0m \u001b[0;32min\u001b[0m \u001b[0mindM\u001b[0m\u001b[0;34m:\u001b[0m\u001b[0;34m\u001b[0m\u001b[0m\n\u001b[1;32m     13\u001b[0m             \u001b[0mindM_\u001b[0m \u001b[0;34m=\u001b[0m \u001b[0mindM\u001b[0m\u001b[0;34m[\u001b[0m\u001b[0mphi\u001b[0m\u001b[0;34m+\u001b[0m\u001b[0;34m[\u001b[0m\u001b[0mi\u001b[0m\u001b[0;34m]\u001b[0m\u001b[0;34m]\u001b[0m \u001b[0;31m# reduce indM\u001b[0m\u001b[0;34m\u001b[0m\u001b[0m\n\u001b[0;32m---> 14\u001b[0;31m             \u001b[0mavgU\u001b[0m\u001b[0;34m.\u001b[0m\u001b[0mloc\u001b[0m\u001b[0;34m[\u001b[0m\u001b[0mi\u001b[0m\u001b[0;34m]\u001b[0m \u001b[0;34m=\u001b[0m \u001b[0mgetAverageUniqueness\u001b[0m\u001b[0;34m(\u001b[0m\u001b[0mindM_\u001b[0m\u001b[0;34m)\u001b[0m\u001b[0;34m.\u001b[0m\u001b[0miloc\u001b[0m\u001b[0;34m[\u001b[0m\u001b[0;34m-\u001b[0m\u001b[0;36m1\u001b[0m\u001b[0;34m]\u001b[0m\u001b[0;34m\u001b[0m\u001b[0m\n\u001b[0m\u001b[1;32m     15\u001b[0m         \u001b[0mprob\u001b[0m \u001b[0;34m=\u001b[0m \u001b[0mavgU\u001b[0m\u001b[0;34m/\u001b[0m\u001b[0mavgU\u001b[0m\u001b[0;34m.\u001b[0m\u001b[0msum\u001b[0m\u001b[0;34m(\u001b[0m\u001b[0;34m)\u001b[0m \u001b[0;31m# draw probability\u001b[0m\u001b[0;34m\u001b[0m\u001b[0m\n\u001b[1;32m     16\u001b[0m         \u001b[0mphi\u001b[0m \u001b[0;34m+=\u001b[0m \u001b[0;34m[\u001b[0m\u001b[0mnp\u001b[0m\u001b[0;34m.\u001b[0m\u001b[0mrandom\u001b[0m\u001b[0;34m.\u001b[0m\u001b[0mchoice\u001b[0m\u001b[0;34m(\u001b[0m\u001b[0mindM\u001b[0m\u001b[0;34m.\u001b[0m\u001b[0mcolumns\u001b[0m\u001b[0;34m,\u001b[0m \u001b[0mp\u001b[0m\u001b[0;34m=\u001b[0m\u001b[0mprob\u001b[0m\u001b[0;34m)\u001b[0m\u001b[0;34m]\u001b[0m\u001b[0;34m\u001b[0m\u001b[0m\n",
      "\u001b[0;32m<ipython-input-37-83dd2ee3b8ff>\u001b[0m in \u001b[0;36mgetAverageUniqueness\u001b[0;34m(indM)\u001b[0m\n\u001b[1;32m      3\u001b[0m     \u001b[0mc\u001b[0m \u001b[0;34m=\u001b[0m \u001b[0mindM\u001b[0m\u001b[0;34m.\u001b[0m\u001b[0msum\u001b[0m\u001b[0;34m(\u001b[0m\u001b[0maxis\u001b[0m\u001b[0;34m=\u001b[0m\u001b[0;36m1\u001b[0m\u001b[0;34m)\u001b[0m \u001b[0;31m#concurrency\u001b[0m\u001b[0;34m\u001b[0m\u001b[0m\n\u001b[1;32m      4\u001b[0m     \u001b[0mu\u001b[0m \u001b[0;34m=\u001b[0m \u001b[0mindM\u001b[0m\u001b[0;34m.\u001b[0m\u001b[0mdiv\u001b[0m\u001b[0;34m(\u001b[0m\u001b[0mc\u001b[0m\u001b[0;34m,\u001b[0m \u001b[0maxis\u001b[0m\u001b[0;34m=\u001b[0m\u001b[0;36m0\u001b[0m\u001b[0;34m)\u001b[0m \u001b[0;31m#uniqueness\u001b[0m\u001b[0;34m\u001b[0m\u001b[0m\n\u001b[0;32m----> 5\u001b[0;31m     \u001b[0mavgU\u001b[0m \u001b[0;34m=\u001b[0m \u001b[0mu\u001b[0m\u001b[0;34m[\u001b[0m\u001b[0mu\u001b[0m\u001b[0;34m>\u001b[0m\u001b[0;36m0\u001b[0m\u001b[0;34m]\u001b[0m\u001b[0;34m.\u001b[0m\u001b[0mmean\u001b[0m\u001b[0;34m(\u001b[0m\u001b[0;34m)\u001b[0m \u001b[0;31m#average uniqueness\u001b[0m\u001b[0;34m\u001b[0m\u001b[0m\n\u001b[0m\u001b[1;32m      6\u001b[0m     \u001b[0;32mreturn\u001b[0m \u001b[0mavgU\u001b[0m\u001b[0;34m\u001b[0m\u001b[0m\n",
      "\u001b[0;32m/Users/Dacia/tensorflow/lib/python3.6/site-packages/pandas/core/frame.py\u001b[0m in \u001b[0;36m__getitem__\u001b[0;34m(self, key)\u001b[0m\n\u001b[1;32m   2682\u001b[0m             \u001b[0;32mreturn\u001b[0m \u001b[0mself\u001b[0m\u001b[0;34m.\u001b[0m\u001b[0m_getitem_array\u001b[0m\u001b[0;34m(\u001b[0m\u001b[0mkey\u001b[0m\u001b[0;34m)\u001b[0m\u001b[0;34m\u001b[0m\u001b[0m\n\u001b[1;32m   2683\u001b[0m         \u001b[0;32melif\u001b[0m \u001b[0misinstance\u001b[0m\u001b[0;34m(\u001b[0m\u001b[0mkey\u001b[0m\u001b[0;34m,\u001b[0m \u001b[0mDataFrame\u001b[0m\u001b[0;34m)\u001b[0m\u001b[0;34m:\u001b[0m\u001b[0;34m\u001b[0m\u001b[0m\n\u001b[0;32m-> 2684\u001b[0;31m             \u001b[0;32mreturn\u001b[0m \u001b[0mself\u001b[0m\u001b[0;34m.\u001b[0m\u001b[0m_getitem_frame\u001b[0m\u001b[0;34m(\u001b[0m\u001b[0mkey\u001b[0m\u001b[0;34m)\u001b[0m\u001b[0;34m\u001b[0m\u001b[0m\n\u001b[0m\u001b[1;32m   2685\u001b[0m         \u001b[0;32melif\u001b[0m \u001b[0mis_mi_columns\u001b[0m\u001b[0;34m:\u001b[0m\u001b[0;34m\u001b[0m\u001b[0m\n\u001b[1;32m   2686\u001b[0m             \u001b[0;32mreturn\u001b[0m \u001b[0mself\u001b[0m\u001b[0;34m.\u001b[0m\u001b[0m_getitem_multilevel\u001b[0m\u001b[0;34m(\u001b[0m\u001b[0mkey\u001b[0m\u001b[0;34m)\u001b[0m\u001b[0;34m\u001b[0m\u001b[0m\n",
      "\u001b[0;32m/Users/Dacia/tensorflow/lib/python3.6/site-packages/pandas/core/frame.py\u001b[0m in \u001b[0;36m_getitem_frame\u001b[0;34m(self, key)\u001b[0m\n\u001b[1;32m   2766\u001b[0m         \u001b[0;32mif\u001b[0m \u001b[0mkey\u001b[0m\u001b[0;34m.\u001b[0m\u001b[0mvalues\u001b[0m\u001b[0;34m.\u001b[0m\u001b[0msize\u001b[0m \u001b[0;32mand\u001b[0m \u001b[0;32mnot\u001b[0m \u001b[0mis_bool_dtype\u001b[0m\u001b[0;34m(\u001b[0m\u001b[0mkey\u001b[0m\u001b[0;34m.\u001b[0m\u001b[0mvalues\u001b[0m\u001b[0;34m)\u001b[0m\u001b[0;34m:\u001b[0m\u001b[0;34m\u001b[0m\u001b[0m\n\u001b[1;32m   2767\u001b[0m             \u001b[0;32mraise\u001b[0m \u001b[0mValueError\u001b[0m\u001b[0;34m(\u001b[0m\u001b[0;34m'Must pass DataFrame with boolean values only'\u001b[0m\u001b[0;34m)\u001b[0m\u001b[0;34m\u001b[0m\u001b[0m\n\u001b[0;32m-> 2768\u001b[0;31m         \u001b[0;32mreturn\u001b[0m \u001b[0mself\u001b[0m\u001b[0;34m.\u001b[0m\u001b[0mwhere\u001b[0m\u001b[0;34m(\u001b[0m\u001b[0mkey\u001b[0m\u001b[0;34m)\u001b[0m\u001b[0;34m\u001b[0m\u001b[0m\n\u001b[0m\u001b[1;32m   2769\u001b[0m \u001b[0;34m\u001b[0m\u001b[0m\n\u001b[1;32m   2770\u001b[0m     \u001b[0;32mdef\u001b[0m \u001b[0mquery\u001b[0m\u001b[0;34m(\u001b[0m\u001b[0mself\u001b[0m\u001b[0;34m,\u001b[0m \u001b[0mexpr\u001b[0m\u001b[0;34m,\u001b[0m \u001b[0minplace\u001b[0m\u001b[0;34m=\u001b[0m\u001b[0;32mFalse\u001b[0m\u001b[0;34m,\u001b[0m \u001b[0;34m**\u001b[0m\u001b[0mkwargs\u001b[0m\u001b[0;34m)\u001b[0m\u001b[0;34m:\u001b[0m\u001b[0;34m\u001b[0m\u001b[0m\n",
      "\u001b[0;32m/Users/Dacia/tensorflow/lib/python3.6/site-packages/pandas/core/generic.py\u001b[0m in \u001b[0;36mwhere\u001b[0;34m(self, cond, other, inplace, axis, level, errors, try_cast, raise_on_error)\u001b[0m\n\u001b[1;32m   7768\u001b[0m         \u001b[0mother\u001b[0m \u001b[0;34m=\u001b[0m \u001b[0mcom\u001b[0m\u001b[0;34m.\u001b[0m\u001b[0m_apply_if_callable\u001b[0m\u001b[0;34m(\u001b[0m\u001b[0mother\u001b[0m\u001b[0;34m,\u001b[0m \u001b[0mself\u001b[0m\u001b[0;34m)\u001b[0m\u001b[0;34m\u001b[0m\u001b[0m\n\u001b[1;32m   7769\u001b[0m         return self._where(cond, other, inplace, axis, level,\n\u001b[0;32m-> 7770\u001b[0;31m                            errors=errors, try_cast=try_cast)\n\u001b[0m\u001b[1;32m   7771\u001b[0m \u001b[0;34m\u001b[0m\u001b[0m\n\u001b[1;32m   7772\u001b[0m     @Appender(_shared_docs['where'] % dict(_shared_doc_kwargs, cond=\"False\",\n",
      "\u001b[0;32m/Users/Dacia/tensorflow/lib/python3.6/site-packages/pandas/core/generic.py\u001b[0m in \u001b[0;36m_where\u001b[0;34m(self, cond, other, inplace, axis, level, errors, try_cast)\u001b[0m\n\u001b[1;32m   7628\u001b[0m                                         \u001b[0merrors\u001b[0m\u001b[0;34m=\u001b[0m\u001b[0merrors\u001b[0m\u001b[0;34m,\u001b[0m\u001b[0;34m\u001b[0m\u001b[0m\n\u001b[1;32m   7629\u001b[0m                                         \u001b[0mtry_cast\u001b[0m\u001b[0;34m=\u001b[0m\u001b[0mtry_cast\u001b[0m\u001b[0;34m,\u001b[0m \u001b[0maxis\u001b[0m\u001b[0;34m=\u001b[0m\u001b[0mblock_axis\u001b[0m\u001b[0;34m,\u001b[0m\u001b[0;34m\u001b[0m\u001b[0m\n\u001b[0;32m-> 7630\u001b[0;31m                                         transpose=self._AXIS_REVERSED)\n\u001b[0m\u001b[1;32m   7631\u001b[0m \u001b[0;34m\u001b[0m\u001b[0m\n\u001b[1;32m   7632\u001b[0m             \u001b[0;32mreturn\u001b[0m \u001b[0mself\u001b[0m\u001b[0;34m.\u001b[0m\u001b[0m_constructor\u001b[0m\u001b[0;34m(\u001b[0m\u001b[0mnew_data\u001b[0m\u001b[0;34m)\u001b[0m\u001b[0;34m.\u001b[0m\u001b[0m__finalize__\u001b[0m\u001b[0;34m(\u001b[0m\u001b[0mself\u001b[0m\u001b[0;34m)\u001b[0m\u001b[0;34m\u001b[0m\u001b[0m\n",
      "\u001b[0;32m/Users/Dacia/tensorflow/lib/python3.6/site-packages/pandas/core/internals.py\u001b[0m in \u001b[0;36mwhere\u001b[0;34m(self, **kwargs)\u001b[0m\n\u001b[1;32m   3682\u001b[0m \u001b[0;34m\u001b[0m\u001b[0m\n\u001b[1;32m   3683\u001b[0m     \u001b[0;32mdef\u001b[0m \u001b[0mwhere\u001b[0m\u001b[0;34m(\u001b[0m\u001b[0mself\u001b[0m\u001b[0;34m,\u001b[0m \u001b[0;34m**\u001b[0m\u001b[0mkwargs\u001b[0m\u001b[0;34m)\u001b[0m\u001b[0;34m:\u001b[0m\u001b[0;34m\u001b[0m\u001b[0m\n\u001b[0;32m-> 3684\u001b[0;31m         \u001b[0;32mreturn\u001b[0m \u001b[0mself\u001b[0m\u001b[0;34m.\u001b[0m\u001b[0mapply\u001b[0m\u001b[0;34m(\u001b[0m\u001b[0;34m'where'\u001b[0m\u001b[0;34m,\u001b[0m \u001b[0;34m**\u001b[0m\u001b[0mkwargs\u001b[0m\u001b[0;34m)\u001b[0m\u001b[0;34m\u001b[0m\u001b[0m\n\u001b[0m\u001b[1;32m   3685\u001b[0m \u001b[0;34m\u001b[0m\u001b[0m\n\u001b[1;32m   3686\u001b[0m     \u001b[0;32mdef\u001b[0m \u001b[0meval\u001b[0m\u001b[0;34m(\u001b[0m\u001b[0mself\u001b[0m\u001b[0;34m,\u001b[0m \u001b[0;34m**\u001b[0m\u001b[0mkwargs\u001b[0m\u001b[0;34m)\u001b[0m\u001b[0;34m:\u001b[0m\u001b[0;34m\u001b[0m\u001b[0m\n",
      "\u001b[0;32m/Users/Dacia/tensorflow/lib/python3.6/site-packages/pandas/core/internals.py\u001b[0m in \u001b[0;36mapply\u001b[0;34m(self, f, axes, filter, do_integrity_check, consolidate, **kwargs)\u001b[0m\n\u001b[1;32m   3579\u001b[0m \u001b[0;34m\u001b[0m\u001b[0m\n\u001b[1;32m   3580\u001b[0m             \u001b[0mkwargs\u001b[0m\u001b[0;34m[\u001b[0m\u001b[0;34m'mgr'\u001b[0m\u001b[0;34m]\u001b[0m \u001b[0;34m=\u001b[0m \u001b[0mself\u001b[0m\u001b[0;34m\u001b[0m\u001b[0m\n\u001b[0;32m-> 3581\u001b[0;31m             \u001b[0mapplied\u001b[0m \u001b[0;34m=\u001b[0m \u001b[0mgetattr\u001b[0m\u001b[0;34m(\u001b[0m\u001b[0mb\u001b[0m\u001b[0;34m,\u001b[0m \u001b[0mf\u001b[0m\u001b[0;34m)\u001b[0m\u001b[0;34m(\u001b[0m\u001b[0;34m**\u001b[0m\u001b[0mkwargs\u001b[0m\u001b[0;34m)\u001b[0m\u001b[0;34m\u001b[0m\u001b[0m\n\u001b[0m\u001b[1;32m   3582\u001b[0m             \u001b[0mresult_blocks\u001b[0m \u001b[0;34m=\u001b[0m \u001b[0m_extend_blocks\u001b[0m\u001b[0;34m(\u001b[0m\u001b[0mapplied\u001b[0m\u001b[0;34m,\u001b[0m \u001b[0mresult_blocks\u001b[0m\u001b[0;34m)\u001b[0m\u001b[0;34m\u001b[0m\u001b[0m\n\u001b[1;32m   3583\u001b[0m \u001b[0;34m\u001b[0m\u001b[0m\n",
      "\u001b[0;32m/Users/Dacia/tensorflow/lib/python3.6/site-packages/pandas/core/internals.py\u001b[0m in \u001b[0;36mwhere\u001b[0;34m(self, other, cond, align, errors, try_cast, axis, transpose, mgr)\u001b[0m\n\u001b[1;32m   1515\u001b[0m         \u001b[0;31m# or if we are a single block (ndim == 1)\u001b[0m\u001b[0;34m\u001b[0m\u001b[0;34m\u001b[0m\u001b[0m\n\u001b[1;32m   1516\u001b[0m         \u001b[0;32mtry\u001b[0m\u001b[0;34m:\u001b[0m\u001b[0;34m\u001b[0m\u001b[0m\n\u001b[0;32m-> 1517\u001b[0;31m             \u001b[0mresult\u001b[0m \u001b[0;34m=\u001b[0m \u001b[0mfunc\u001b[0m\u001b[0;34m(\u001b[0m\u001b[0mcond\u001b[0m\u001b[0;34m,\u001b[0m \u001b[0mvalues\u001b[0m\u001b[0;34m,\u001b[0m \u001b[0mother\u001b[0m\u001b[0;34m)\u001b[0m\u001b[0;34m\u001b[0m\u001b[0m\n\u001b[0m\u001b[1;32m   1518\u001b[0m         \u001b[0;32mexcept\u001b[0m \u001b[0mTypeError\u001b[0m\u001b[0;34m:\u001b[0m\u001b[0;34m\u001b[0m\u001b[0m\n\u001b[1;32m   1519\u001b[0m \u001b[0;34m\u001b[0m\u001b[0m\n",
      "\u001b[0;32m/Users/Dacia/tensorflow/lib/python3.6/site-packages/pandas/core/internals.py\u001b[0m in \u001b[0;36mfunc\u001b[0;34m(cond, values, other)\u001b[0m\n\u001b[1;32m   1492\u001b[0m         \u001b[0;31m# our where function\u001b[0m\u001b[0;34m\u001b[0m\u001b[0;34m\u001b[0m\u001b[0m\n\u001b[1;32m   1493\u001b[0m         \u001b[0;32mdef\u001b[0m \u001b[0mfunc\u001b[0m\u001b[0;34m(\u001b[0m\u001b[0mcond\u001b[0m\u001b[0;34m,\u001b[0m \u001b[0mvalues\u001b[0m\u001b[0;34m,\u001b[0m \u001b[0mother\u001b[0m\u001b[0;34m)\u001b[0m\u001b[0;34m:\u001b[0m\u001b[0;34m\u001b[0m\u001b[0m\n\u001b[0;32m-> 1494\u001b[0;31m             \u001b[0;32mif\u001b[0m \u001b[0mcond\u001b[0m\u001b[0;34m.\u001b[0m\u001b[0mravel\u001b[0m\u001b[0;34m(\u001b[0m\u001b[0;34m)\u001b[0m\u001b[0;34m.\u001b[0m\u001b[0mall\u001b[0m\u001b[0;34m(\u001b[0m\u001b[0;34m)\u001b[0m\u001b[0;34m:\u001b[0m\u001b[0;34m\u001b[0m\u001b[0m\n\u001b[0m\u001b[1;32m   1495\u001b[0m                 \u001b[0;32mreturn\u001b[0m \u001b[0mvalues\u001b[0m\u001b[0;34m\u001b[0m\u001b[0m\n\u001b[1;32m   1496\u001b[0m \u001b[0;34m\u001b[0m\u001b[0m\n",
      "\u001b[0;32m/Users/Dacia/tensorflow/lib/python3.6/site-packages/numpy/core/_methods.py\u001b[0m in \u001b[0;36m_all\u001b[0;34m(a, axis, dtype, out, keepdims)\u001b[0m\n\u001b[1;32m     39\u001b[0m \u001b[0;34m\u001b[0m\u001b[0m\n\u001b[1;32m     40\u001b[0m \u001b[0;32mdef\u001b[0m \u001b[0m_all\u001b[0m\u001b[0;34m(\u001b[0m\u001b[0ma\u001b[0m\u001b[0;34m,\u001b[0m \u001b[0maxis\u001b[0m\u001b[0;34m=\u001b[0m\u001b[0;32mNone\u001b[0m\u001b[0;34m,\u001b[0m \u001b[0mdtype\u001b[0m\u001b[0;34m=\u001b[0m\u001b[0;32mNone\u001b[0m\u001b[0;34m,\u001b[0m \u001b[0mout\u001b[0m\u001b[0;34m=\u001b[0m\u001b[0;32mNone\u001b[0m\u001b[0;34m,\u001b[0m \u001b[0mkeepdims\u001b[0m\u001b[0;34m=\u001b[0m\u001b[0;32mFalse\u001b[0m\u001b[0;34m)\u001b[0m\u001b[0;34m:\u001b[0m\u001b[0;34m\u001b[0m\u001b[0m\n\u001b[0;32m---> 41\u001b[0;31m     \u001b[0;32mreturn\u001b[0m \u001b[0mumr_all\u001b[0m\u001b[0;34m(\u001b[0m\u001b[0ma\u001b[0m\u001b[0;34m,\u001b[0m \u001b[0maxis\u001b[0m\u001b[0;34m,\u001b[0m \u001b[0mdtype\u001b[0m\u001b[0;34m,\u001b[0m \u001b[0mout\u001b[0m\u001b[0;34m,\u001b[0m \u001b[0mkeepdims\u001b[0m\u001b[0;34m)\u001b[0m\u001b[0;34m\u001b[0m\u001b[0m\n\u001b[0m\u001b[1;32m     42\u001b[0m \u001b[0;34m\u001b[0m\u001b[0m\n\u001b[1;32m     43\u001b[0m \u001b[0;32mdef\u001b[0m \u001b[0m_count_reduce_items\u001b[0m\u001b[0;34m(\u001b[0m\u001b[0marr\u001b[0m\u001b[0;34m,\u001b[0m \u001b[0maxis\u001b[0m\u001b[0;34m)\u001b[0m\u001b[0;34m:\u001b[0m\u001b[0;34m\u001b[0m\u001b[0m\n",
      "\u001b[0;31mKeyboardInterrupt\u001b[0m: "
     ]
    }
   ],
   "source": [
    "#t1 = events.t1\n",
    "\n",
    "#barIx = range(t1.max()+1)\n",
    "#indM = getIndMatrix(barIx, t1)\n",
    "\n",
    "#phi = np.random.choice(indM.columns, size=indM.shape[1])\n",
    "#print(phi)\n",
    "#print('Standard Uniqueness',getAverageUniqueness(indM[phi]).mean())\n",
    "\n",
    "#phi = seqBootstrap(indM)\n",
    "phi=[234, 452, 12, 345]\n",
    "indM[phi]\n",
    "#print(phi)\n",
    "print('Standard Uniqueness',getAverageUniqueness(indM[phi]).mean())"
   ]
  },
  {
   "cell_type": "code",
   "execution_count": null,
   "metadata": {},
   "outputs": [],
   "source": []
  },
  {
   "cell_type": "code",
   "execution_count": null,
   "metadata": {},
   "outputs": [],
   "source": []
  },
  {
   "cell_type": "code",
   "execution_count": null,
   "metadata": {},
   "outputs": [],
   "source": []
  },
  {
   "cell_type": "code",
   "execution_count": null,
   "metadata": {},
   "outputs": [],
   "source": []
  },
  {
   "cell_type": "code",
   "execution_count": null,
   "metadata": {},
   "outputs": [],
   "source": []
  },
  {
   "cell_type": "code",
   "execution_count": null,
   "metadata": {},
   "outputs": [],
   "source": []
  },
  {
   "cell_type": "code",
   "execution_count": null,
   "metadata": {},
   "outputs": [],
   "source": []
  },
  {
   "cell_type": "code",
   "execution_count": null,
   "metadata": {},
   "outputs": [],
   "source": []
  },
  {
   "cell_type": "code",
   "execution_count": 41,
   "metadata": {},
   "outputs": [
    {
     "name": "stdout",
     "output_type": "stream",
     "text": [
      "(944, 2) (944, 2)\n",
      "-------------------------------------------------------------------------------\n",
      "dataframe information\n",
      "-------------------------------------------------------------------------------\n",
      "                          ret  bin\n",
      "2018-04-10 15:10:14 -0.009586 -1.0\n",
      "2018-04-11 09:30:02  0.007678  1.0\n",
      "2018-05-04 13:35:12  0.003480  1.0\n",
      "2018-05-31 10:52:48  0.005233  1.0\n",
      "2018-06-01 10:01:14  0.002968  1.0\n",
      "--------------------------------------------------\n",
      "<class 'pandas.core.frame.DataFrame'>\n",
      "DatetimeIndex: 944 entries, 2009-10-05 14:59:34 to 2018-06-01 10:01:14\n",
      "Data columns (total 2 columns):\n",
      "ret    944 non-null float64\n",
      "bin    944 non-null float64\n",
      "dtypes: float64(2)\n",
      "memory usage: 62.1 KB\n",
      "None\n",
      "-------------------------------------------------------------------------------\n",
      "\n"
     ]
    }
   ],
   "source": [
    "events_ = events.dropna(subset=['t1'])\n",
    "print(events.shape, events_.shape)\n",
    "px = events_.index.union(events_['t1'].values).drop_duplicates()\n",
    "px = close.reindex(px, method='bfill')\n",
    "out  = pd.DataFrame(index=events_.index)\n",
    "out['ret'] = px.loc[events_['t1'].values].values/px.loc[events_.index.values].values - 1\n",
    "if 'side' in events_: out['ret'] *= events_['side']\n",
    "\n",
    "out['bin'] = np.sign(out['ret'])\n",
    "\n",
    "if 'side' in events_: out.loc[out['ret'] <= 0, 'bin'] = 0 #meta-labeling\n",
    "    \n",
    "cprint(out)"
   ]
  },
  {
   "cell_type": "markdown",
   "metadata": {},
   "source": [
    "### (d) Apply `getBins` to generate labels"
   ]
  },
  {
   "cell_type": "code",
   "execution_count": 28,
   "metadata": {
    "ExecuteTime": {
     "end_time": "2018-07-06T16:01:28.040716Z",
     "start_time": "2018-07-06T16:01:27.982192Z"
    }
   },
   "outputs": [
    {
     "name": "stdout",
     "output_type": "stream",
     "text": [
      "-------------------------------------------------------------------------------\n",
      "dataframe information\n",
      "-------------------------------------------------------------------------------\n",
      "                          ret  bin\n",
      "2018-04-10 15:10:14 -0.009586 -1.0\n",
      "2018-04-11 09:30:02  0.007678  1.0\n",
      "2018-05-04 13:35:12  0.003480  1.0\n",
      "2018-05-31 10:52:48  0.005233  1.0\n",
      "2018-06-01 10:01:14  0.002968  1.0\n",
      "--------------------------------------------------\n",
      "<class 'pandas.core.frame.DataFrame'>\n",
      "DatetimeIndex: 944 entries, 2009-10-05 14:59:34 to 2018-06-01 10:01:14\n",
      "Data columns (total 2 columns):\n",
      "ret    944 non-null float64\n",
      "bin    944 non-null float64\n",
      "dtypes: float64(2)\n",
      "memory usage: 62.1 KB\n",
      "None\n",
      "-------------------------------------------------------------------------------\n",
      "\n"
     ]
    }
   ],
   "source": [
    "labels = getBins(events, close)\n",
    "cprint(labels)"
   ]
  },
  {
   "cell_type": "code",
   "execution_count": 29,
   "metadata": {
    "ExecuteTime": {
     "end_time": "2018-07-06T16:01:28.068437Z",
     "start_time": "2018-07-06T16:01:28.042971Z"
    }
   },
   "outputs": [
    {
     "data": {
      "text/plain": [
       " 1.0    543\n",
       "-1.0    399\n",
       " 0.0      2\n",
       "Name: bin, dtype: int64"
      ]
     },
     "execution_count": 29,
     "metadata": {},
     "output_type": "execute_result"
    }
   ],
   "source": [
    "labels.bin.value_counts()"
   ]
  },
  {
   "cell_type": "markdown",
   "metadata": {},
   "source": [
    "## [3.2] Use snippet 3.8 to drop under-populated labels"
   ]
  },
  {
   "cell_type": "code",
   "execution_count": 30,
   "metadata": {
    "ExecuteTime": {
     "end_time": "2018-07-06T16:01:28.104757Z",
     "start_time": "2018-07-06T16:01:28.070082Z"
    }
   },
   "outputs": [
    {
     "name": "stdout",
     "output_type": "stream",
     "text": [
      "dropped label:  0.0 0.00211864406779661\n",
      "-------------------------------------------------------------------------------\n",
      "dataframe information\n",
      "-------------------------------------------------------------------------------\n",
      "                          ret  bin\n",
      "2018-04-10 15:10:14 -0.009586 -1.0\n",
      "2018-04-11 09:30:02  0.007678  1.0\n",
      "2018-05-04 13:35:12  0.003480  1.0\n",
      "2018-05-31 10:52:48  0.005233  1.0\n",
      "2018-06-01 10:01:14  0.002968  1.0\n",
      "--------------------------------------------------\n",
      "<class 'pandas.core.frame.DataFrame'>\n",
      "DatetimeIndex: 942 entries, 2009-10-05 14:59:34 to 2018-06-01 10:01:14\n",
      "Data columns (total 2 columns):\n",
      "ret    942 non-null float64\n",
      "bin    942 non-null float64\n",
      "dtypes: float64(2)\n",
      "memory usage: 22.1 KB\n",
      "None\n",
      "-------------------------------------------------------------------------------\n",
      "\n"
     ]
    }
   ],
   "source": [
    "clean_labels = dropLabels(labels)\n",
    "cprint(clean_labels)"
   ]
  },
  {
   "cell_type": "code",
   "execution_count": 31,
   "metadata": {
    "ExecuteTime": {
     "end_time": "2018-07-06T16:01:28.132151Z",
     "start_time": "2018-07-06T16:01:28.106531Z"
    }
   },
   "outputs": [
    {
     "data": {
      "text/plain": [
       " 1.0    543\n",
       "-1.0    399\n",
       "Name: bin, dtype: int64"
      ]
     },
     "execution_count": 31,
     "metadata": {},
     "output_type": "execute_result"
    }
   ],
   "source": [
    "clean_labels.bin.value_counts()"
   ]
  },
  {
   "cell_type": "markdown",
   "metadata": {},
   "source": [
    "## [3.4] Develop moving average crossover strategy. For each obs. the model suggests a side but not size of the bet"
   ]
  },
  {
   "cell_type": "code",
   "execution_count": 32,
   "metadata": {
    "ExecuteTime": {
     "end_time": "2018-07-06T16:01:28.361922Z",
     "start_time": "2018-07-06T16:01:28.134952Z"
    }
   },
   "outputs": [
    {
     "name": "stdout",
     "output_type": "stream",
     "text": [
      "-------------------------------------------------------------------------------\n",
      "dataframe information\n",
      "-------------------------------------------------------------------------------\n",
      "                        price        fast        slow\n",
      "dates                                                \n",
      "2018-09-04 15:21:31  115.8437  115.838962  115.825157\n",
      "2018-09-04 15:30:57  115.8200  115.834221  115.824513\n",
      "2018-09-04 15:43:51  115.7721  115.818691  115.817961\n",
      "2018-09-04 15:55:27  115.7500  115.801518  115.809466\n",
      "2018-09-04 15:59:56  115.9200  115.831139  115.823283\n",
      "--------------------------------------------------\n",
      "<class 'pandas.core.frame.DataFrame'>\n",
      "DatetimeIndex: 34419 entries, 2009-09-28 09:53:49 to 2018-09-04 15:59:56\n",
      "Data columns (total 3 columns):\n",
      "price    34419 non-null float64\n",
      "fast     34419 non-null float64\n",
      "slow     34419 non-null float64\n",
      "dtypes: float64(3)\n",
      "memory usage: 1.1 MB\n",
      "None\n",
      "-------------------------------------------------------------------------------\n",
      "\n"
     ]
    }
   ],
   "source": [
    "fast_window = 3\n",
    "slow_window = 7\n",
    "\n",
    "close_df = (pd.DataFrame()\n",
    "            .assign(price=close)\n",
    "            .assign(fast=close.ewm(fast_window).mean())\n",
    "            .assign(slow=close.ewm(slow_window).mean()))\n",
    "cprint(close_df)"
   ]
  },
  {
   "cell_type": "code",
   "execution_count": 34,
   "metadata": {
    "ExecuteTime": {
     "end_time": "2018-07-06T16:01:28.891180Z",
     "start_time": "2018-07-06T16:01:28.364335Z"
    }
   },
   "outputs": [
    {
     "data": {
      "text/plain": [
       "<matplotlib.legend.Legend at 0x11e9c9080>"
      ]
     },
     "execution_count": 34,
     "metadata": {},
     "output_type": "execute_result"
    },
    {
     "data": {
      "image/png": "[encoded data removed]",
      "text/plain": [
       "<Figure size 1008x720 with 1 Axes>"
      ]
     },
     "metadata": {},
     "output_type": "display_data"
    }
   ],
   "source": [
    "def get_up_cross(df):\n",
    "    crit1 = df.fast.shift(1) < df.slow.shift(1)\n",
    "    crit2 = df.fast > df.slow\n",
    "    return df.fast[(crit1) & (crit2)]\n",
    "\n",
    "def get_down_cross(df):\n",
    "    crit1 = df.fast.shift(1) > df.slow.shift(1)\n",
    "    crit2 = df.fast < df.slow\n",
    "    return df.fast[(crit1) & (crit2)]\n",
    "\n",
    "up = get_up_cross(close_df)\n",
    "down = get_down_cross(close_df)\n",
    "\n",
    "f, ax = plt.subplots(figsize=(14,10))\n",
    "from_date, to_date = '2014-01', '2014-03'\n",
    "close_df.price.loc[from_date:to_date].plot(ax=ax, alpha=.5)\n",
    "\n",
    "up.loc[from_date:to_date].plot(ax=ax, ls='',marker='^', markersize=7,\n",
    "                     alpha=0.75, label='upcross', color='g')\n",
    "down.loc[from_date:to_date].plot(ax=ax,ls='',marker='v', markersize=7, \n",
    "                       alpha=0.75, label='downcross', color='r')\n",
    "\n",
    "ax.legend()"
   ]
  },
  {
   "cell_type": "markdown",
   "metadata": {},
   "source": [
    "### (a) Derive meta-labels for `ptSl = [1,2]` and `t1` where `numdays=1`. Use as `trgt` dailyVol computed by snippet 3.1 (get events with sides)"
   ]
  },
  {
   "cell_type": "code",
   "execution_count": 35,
   "metadata": {
    "ExecuteTime": {
     "end_time": "2018-07-06T16:01:28.942803Z",
     "start_time": "2018-07-06T16:01:28.893046Z"
    },
    "scrolled": true
   },
   "outputs": [
    {
     "name": "stdout",
     "output_type": "stream",
     "text": [
      "-------------------------------------------------------------------------------\n",
      "dataframe information\n",
      "-------------------------------------------------------------------------------\n",
      "                     0\n",
      "dates                 \n",
      "2018-09-04 10:59:06  1\n",
      "2018-09-04 11:24:49 -1\n",
      "2018-09-04 14:52:41  1\n",
      "2018-09-04 15:55:27 -1\n",
      "2018-09-04 15:59:56  1\n",
      "--------------------------------------------------\n",
      "<class 'pandas.core.frame.DataFrame'>\n",
      "DatetimeIndex: 1916 entries, 2009-09-30 09:45:10 to 2018-09-04 15:59:56\n",
      "Data columns (total 1 columns):\n",
      "0    1916 non-null int64\n",
      "dtypes: int64(1)\n",
      "memory usage: 29.9 KB\n",
      "None\n",
      "-------------------------------------------------------------------------------\n",
      "\n"
     ]
    }
   ],
   "source": [
    "side_up = pd.Series(1, index=up.index)\n",
    "side_down = pd.Series(-1, index=down.index)\n",
    "side = pd.concat([side_up,side_down]).sort_index()\n",
    "cprint(side)"
   ]
  },
  {
   "cell_type": "code",
   "execution_count": 36,
   "metadata": {
    "ExecuteTime": {
     "end_time": "2018-07-06T16:01:29.867529Z",
     "start_time": "2018-07-06T16:01:28.945319Z"
    }
   },
   "outputs": [
    {
     "name": "stdout",
     "output_type": "stream",
     "text": [
      "-------------------------------------------------------------------------------\n",
      "dataframe information\n",
      "-------------------------------------------------------------------------------\n",
      "                     side                  t1      trgt\n",
      "2018-04-10 15:10:14   NaN 2018-04-11 15:16:22  0.010773\n",
      "2018-04-11 09:30:02  -1.0 2018-04-12 09:39:50  0.010328\n",
      "2018-05-04 13:35:12   NaN 2018-05-07 09:30:00  0.010548\n",
      "2018-05-31 10:52:48   NaN 2018-06-01 11:26:50  0.011713\n",
      "2018-06-01 10:01:14   1.0 2018-06-04 09:32:00  0.010680\n",
      "--------------------------------------------------\n",
      "<class 'pandas.core.frame.DataFrame'>\n",
      "DatetimeIndex: 944 entries, 2009-10-05 14:59:34 to 2018-06-01 10:01:14\n",
      "Data columns (total 3 columns):\n",
      "side    109 non-null float64\n",
      "t1      944 non-null datetime64[ns]\n",
      "trgt    944 non-null float64\n",
      "dtypes: datetime64[ns](1), float64(2)\n",
      "memory usage: 29.5 KB\n",
      "None\n",
      "-------------------------------------------------------------------------------\n",
      "\n"
     ]
    },
    {
     "name": "stderr",
     "output_type": "stream",
     "text": [
      "2018-10-02 19:59:49.341967 33.33% applyPtSlOnT1 done after 0.01 minutes. Remaining 0.03 minutes.\r",
      "2018-10-02 19:59:49.349285 66.67% applyPtSlOnT1 done after 0.01 minutes. Remaining 0.01 minutes.\r",
      "2018-10-02 19:59:49.365571 100.0% applyPtSlOnT1 done after 0.01 minutes. Remaining 0.0 minutes.\n"
     ]
    }
   ],
   "source": [
    "minRet = .01 \n",
    "ptsl=[1,2]\n",
    "ma_events = getEvents(close, tEvents, ptsl, target, minRet, cpus, t1=t1, side=side)\n",
    "cprint(ma_events)"
   ]
  },
  {
   "cell_type": "code",
   "execution_count": 37,
   "metadata": {
    "ExecuteTime": {
     "end_time": "2018-07-06T16:01:29.895532Z",
     "start_time": "2018-07-06T16:01:29.869427Z"
    }
   },
   "outputs": [
    {
     "data": {
      "text/plain": [
       "-1.0    56\n",
       " 1.0    53\n",
       "Name: side, dtype: int64"
      ]
     },
     "execution_count": 37,
     "metadata": {},
     "output_type": "execute_result"
    }
   ],
   "source": [
    "ma_events.side.value_counts()"
   ]
  },
  {
   "cell_type": "code",
   "execution_count": 38,
   "metadata": {
    "ExecuteTime": {
     "end_time": "2018-07-06T16:01:29.926357Z",
     "start_time": "2018-07-06T16:01:29.897358Z"
    }
   },
   "outputs": [
    {
     "data": {
      "text/plain": [
       "2009-10-23 11:16:42   -1.0\n",
       "2009-10-30 11:52:10   -1.0\n",
       "2009-11-02 12:23:30   -1.0\n",
       "2009-11-16 10:03:48    1.0\n",
       "2009-11-23 09:37:23    1.0\n",
       "Name: side, dtype: float64"
      ]
     },
     "execution_count": 38,
     "metadata": {},
     "output_type": "execute_result"
    }
   ],
   "source": [
    "ma_side = ma_events.dropna().side\n",
    "ma_side.head()"
   ]
  },
  {
   "cell_type": "code",
   "execution_count": 39,
   "metadata": {
    "ExecuteTime": {
     "end_time": "2018-07-06T16:01:29.973770Z",
     "start_time": "2018-07-06T16:01:29.928172Z"
    }
   },
   "outputs": [
    {
     "name": "stdout",
     "output_type": "stream",
     "text": [
      "-------------------------------------------------------------------------------\n",
      "dataframe information\n",
      "-------------------------------------------------------------------------------\n",
      "                          ret  bin\n",
      "2018-04-02 10:00:27  0.011588  1.0\n",
      "2018-04-04 09:39:19 -0.026034  0.0\n",
      "2018-04-06 09:39:07  0.013363  1.0\n",
      "2018-04-11 09:30:02 -0.007678  0.0\n",
      "2018-06-01 10:01:14  0.002968  1.0\n",
      "--------------------------------------------------\n",
      "<class 'pandas.core.frame.DataFrame'>\n",
      "DatetimeIndex: 109 entries, 2009-10-23 11:16:42 to 2018-06-01 10:01:14\n",
      "Data columns (total 2 columns):\n",
      "ret    109 non-null float64\n",
      "bin    109 non-null float64\n",
      "dtypes: float64(2)\n",
      "memory usage: 2.6 KB\n",
      "None\n",
      "-------------------------------------------------------------------------------\n",
      "\n"
     ]
    }
   ],
   "source": [
    "ma_bins = getBins(ma_events,close).dropna()\n",
    "cprint(ma_bins)"
   ]
  },
  {
   "cell_type": "code",
   "execution_count": 40,
   "metadata": {
    "ExecuteTime": {
     "end_time": "2018-07-06T16:01:30.009010Z",
     "start_time": "2018-07-06T16:01:29.976456Z"
    }
   },
   "outputs": [
    {
     "name": "stdout",
     "output_type": "stream",
     "text": [
      "-------------------------------------------------------------------------------\n",
      "dataframe information\n",
      "-------------------------------------------------------------------------------\n",
      "                          ret  bin  side\n",
      "2018-04-02 10:00:27  0.011588  1.0    -1\n",
      "2018-04-04 09:39:19 -0.026034  0.0    -1\n",
      "2018-04-06 09:39:07  0.013363  1.0    -1\n",
      "2018-04-11 09:30:02 -0.007678  0.0    -1\n",
      "2018-06-01 10:01:14  0.002968  1.0     1\n",
      "--------------------------------------------------\n",
      "<class 'pandas.core.frame.DataFrame'>\n",
      "DatetimeIndex: 109 entries, 2009-10-23 11:16:42 to 2018-06-01 10:01:14\n",
      "Data columns (total 3 columns):\n",
      "ret     109 non-null float64\n",
      "bin     109 non-null float64\n",
      "side    109 non-null int64\n",
      "dtypes: float64(2), int64(1)\n",
      "memory usage: 3.4 KB\n",
      "None\n",
      "-------------------------------------------------------------------------------\n",
      "\n"
     ]
    }
   ],
   "source": [
    "Xx = pd.merge_asof(ma_bins, side.to_frame().rename(columns={0:'side'}),\n",
    "                   left_index=True, right_index=True, direction='forward')\n",
    "cprint(Xx)"
   ]
  },
  {
   "cell_type": "markdown",
   "metadata": {},
   "source": [
    "### (b) Train Random Forest to decide whether to trade or not `{0,1}` since underlying model (crossing m.a.) has decided the side, `{-1,1}`"
   ]
  },
  {
   "cell_type": "code",
   "execution_count": 41,
   "metadata": {
    "ExecuteTime": {
     "end_time": "2018-07-06T16:01:30.173568Z",
     "start_time": "2018-07-06T16:01:30.010758Z"
    }
   },
   "outputs": [],
   "source": [
    "from sklearn.ensemble import RandomForestClassifier\n",
    "from sklearn.model_selection import train_test_split\n",
    "from sklearn.metrics import roc_curve, classification_report"
   ]
  },
  {
   "cell_type": "code",
   "execution_count": 52,
   "metadata": {
    "ExecuteTime": {
     "end_time": "2018-07-06T16:01:42.143957Z",
     "start_time": "2018-07-06T16:01:30.175374Z"
    }
   },
   "outputs": [
    {
     "data": {
      "text/html": [
       "<div>\n",
       "<style scoped>\n",
       "    .dataframe tbody tr th:only-of-type {\n",
       "        vertical-align: middle;\n",
       "    }\n",
       "\n",
       "    .dataframe tbody tr th {\n",
       "        vertical-align: top;\n",
       "    }\n",
       "\n",
       "    .dataframe thead th {\n",
       "        text-align: right;\n",
       "    }\n",
       "</style>\n",
       "<table border=\"1\" class=\"dataframe\">\n",
       "  <thead>\n",
       "    <tr style=\"text-align: right;\">\n",
       "      <th></th>\n",
       "      <th>ret</th>\n",
       "      <th>bin</th>\n",
       "    </tr>\n",
       "  </thead>\n",
       "  <tbody>\n",
       "    <tr>\n",
       "      <th>2009-10-23 11:16:42</th>\n",
       "      <td>0.003676</td>\n",
       "      <td>1.0</td>\n",
       "    </tr>\n",
       "    <tr>\n",
       "      <th>2009-10-30 11:52:10</th>\n",
       "      <td>0.016200</td>\n",
       "      <td>1.0</td>\n",
       "    </tr>\n",
       "    <tr>\n",
       "      <th>2009-11-02 12:23:30</th>\n",
       "      <td>0.001107</td>\n",
       "      <td>1.0</td>\n",
       "    </tr>\n",
       "    <tr>\n",
       "      <th>2009-11-16 10:03:48</th>\n",
       "      <td>-0.003403</td>\n",
       "      <td>0.0</td>\n",
       "    </tr>\n",
       "    <tr>\n",
       "      <th>2009-11-23 09:37:23</th>\n",
       "      <td>-0.005986</td>\n",
       "      <td>0.0</td>\n",
       "    </tr>\n",
       "  </tbody>\n",
       "</table>\n",
       "</div>"
      ],
      "text/plain": [
       "                          ret  bin\n",
       "2009-10-23 11:16:42  0.003676  1.0\n",
       "2009-10-30 11:52:10  0.016200  1.0\n",
       "2009-11-02 12:23:30  0.001107  1.0\n",
       "2009-11-16 10:03:48 -0.003403  0.0\n",
       "2009-11-23 09:37:23 -0.005986  0.0"
      ]
     },
     "execution_count": 52,
     "metadata": {},
     "output_type": "execute_result"
    }
   ],
   "source": [
    "X = ma_side.values.reshape(-1,1)\n",
    "#X = Xx.side.values.reshape(-1,1)\n",
    "y = ma_bins.bin.values\n",
    "X_train, X_test, y_train, y_test = train_test_split(X, y, test_size=0.5)\n",
    "ma_bins.head()\n",
    "#X_train[0:10], y_train[0:10]"
   ]
  },
  {
   "cell_type": "code",
   "execution_count": 46,
   "metadata": {},
   "outputs": [
    {
     "name": "stdout",
     "output_type": "stream",
     "text": [
      "             precision    recall  f1-score   support\n",
      "\n",
      "        0.0       0.00      0.00      0.00        26\n",
      "        1.0       0.53      1.00      0.69        29\n",
      "\n",
      "avg / total       0.28      0.53      0.36        55\n",
      "\n"
     ]
    },
    {
     "data": {
      "image/png": "[encoded data removed]",
      "text/plain": [
       "<Figure size 432x288 with 1 Axes>"
      ]
     },
     "metadata": {},
     "output_type": "display_data"
    }
   ],
   "source": [
    "n_estimator = 10000\n",
    "rf = RandomForestClassifier(max_depth=2, n_estimators=n_estimator,\n",
    "                            criterion='entropy', random_state=RANDOM_STATE)\n",
    "rf.fit(X_train, y_train)\n",
    "\n",
    "# The random forest model by itself\n",
    "y_pred_rf = rf.predict_proba(X_test)[:, 1]\n",
    "y_pred = rf.predict(X_test)\n",
    "fpr_rf, tpr_rf, _ = roc_curve(y_test, y_pred_rf)\n",
    "print(classification_report(y_test, y_pred))\n",
    "\n",
    "plt.figure(1)\n",
    "plt.plot([0, 1], [0, 1], 'k--')\n",
    "plt.plot(fpr_rf, tpr_rf, label='RF')\n",
    "plt.xlabel('False positive rate')\n",
    "plt.ylabel('True positive rate')\n",
    "plt.title('ROC curve')\n",
    "plt.legend(loc='best')\n",
    "plt.show()"
   ]
  },
  {
   "cell_type": "markdown",
   "metadata": {},
   "source": [
    "## [3.5] Develop mean-reverting Bollinger Band Strategy. For each obs. model suggests a side but not size of the bet."
   ]
  },
  {
   "cell_type": "code",
   "execution_count": 47,
   "metadata": {
    "ExecuteTime": {
     "end_time": "2018-07-06T16:01:42.171763Z",
     "start_time": "2018-07-06T16:01:42.146138Z"
    }
   },
   "outputs": [],
   "source": [
    "def bbands(price, window=None, width=None, numsd=None):\n",
    "    \"\"\" returns average, upper band, and lower band\"\"\"\n",
    "    ave = price.rolling(window).mean()\n",
    "    sd = price.rolling(window).std(ddof=0)\n",
    "    if width:\n",
    "        upband = ave * (1+width)\n",
    "        dnband = ave * (1-width)\n",
    "        return price, np.round(ave,3), np.round(upband,3), np.round(dnband,3)        \n",
    "    if numsd:\n",
    "        upband = ave + (sd*numsd)\n",
    "        dnband = ave - (sd*numsd)\n",
    "        return price, np.round(ave,3), np.round(upband,3), np.round(dnband,3)"
   ]
  },
  {
   "cell_type": "code",
   "execution_count": 48,
   "metadata": {
    "ExecuteTime": {
     "end_time": "2018-07-06T16:01:42.326768Z",
     "start_time": "2018-07-06T16:01:42.173537Z"
    }
   },
   "outputs": [
    {
     "name": "stdout",
     "output_type": "stream",
     "text": [
      "-------------------------------------------------------------------------------\n",
      "dataframe information\n",
      "-------------------------------------------------------------------------------\n",
      "                        price      ave    upper    lower\n",
      "dates                                                   \n",
      "2018-09-04 15:21:31  115.8437  115.960  116.182  115.737\n",
      "2018-09-04 15:30:57  115.8200  115.950  116.169  115.732\n",
      "2018-09-04 15:43:51  115.7721  115.940  116.155  115.725\n",
      "2018-09-04 15:55:27  115.7500  115.930  116.140  115.719\n",
      "2018-09-04 15:59:56  115.9200  115.922  116.126  115.718\n",
      "--------------------------------------------------\n",
      "<class 'pandas.core.frame.DataFrame'>\n",
      "DatetimeIndex: 34370 entries, 2009-10-01 15:27:48 to 2018-09-04 15:59:56\n",
      "Data columns (total 4 columns):\n",
      "price    34370 non-null float64\n",
      "ave      34370 non-null float64\n",
      "upper    34370 non-null float64\n",
      "lower    34370 non-null float64\n",
      "dtypes: float64(4)\n",
      "memory usage: 1.3 MB\n",
      "None\n",
      "-------------------------------------------------------------------------------\n",
      "\n"
     ]
    }
   ],
   "source": [
    "window=50\n",
    "bb_df = pd.DataFrame()\n",
    "bb_df['price'],bb_df['ave'],bb_df['upper'],bb_df['lower']=bbands(close, window=window, numsd=1)\n",
    "bb_df.dropna(inplace=True)\n",
    "cprint(bb_df)"
   ]
  },
  {
   "cell_type": "code",
   "execution_count": 50,
   "metadata": {
    "ExecuteTime": {
     "end_time": "2018-07-06T16:01:42.750902Z",
     "start_time": "2018-07-06T16:01:42.328677Z"
    }
   },
   "outputs": [
    {
     "data": {
      "text/plain": [
       "<matplotlib.axes._subplots.AxesSubplot at 0x11d3c1c88>"
      ]
     },
     "execution_count": 50,
     "metadata": {},
     "output_type": "execute_result"
    },
    {
     "data": {
      "image/png": "[encoded data removed]",
      "text/plain": [
       "<Figure size 792x576 with 1 Axes>"
      ]
     },
     "metadata": {},
     "output_type": "display_data"
    }
   ],
   "source": [
    "f,ax=plt.subplots(figsize=(11,8))\n",
    "bb_df.loc[from_date:to_date].plot(ax=ax)"
   ]
  },
  {
   "cell_type": "code",
   "execution_count": 51,
   "metadata": {
    "ExecuteTime": {
     "end_time": "2018-07-06T16:01:43.305933Z",
     "start_time": "2018-07-06T16:01:42.752618Z"
    }
   },
   "outputs": [
    {
     "data": {
      "text/plain": [
       "<matplotlib.legend.Legend at 0x11d345a90>"
      ]
     },
     "execution_count": 51,
     "metadata": {},
     "output_type": "execute_result"
    },
    {
     "data": {
      "image/png": "[encoded data removed]",
      "text/plain": [
       "<Figure size 792x576 with 1 Axes>"
      ]
     },
     "metadata": {},
     "output_type": "display_data"
    }
   ],
   "source": [
    "def get_up_cross(df, col):\n",
    "    # col is price column\n",
    "    crit1 = df[col].shift(1) < df.upper.shift(1)  \n",
    "    crit2 = df[col] > df.upper\n",
    "    return df[col][(crit1) & (crit2)]\n",
    "\n",
    "def get_down_cross(df, col):\n",
    "    # col is price column    \n",
    "    crit1 = df[col].shift(1) > df.lower.shift(1) \n",
    "    crit2 = df[col] < df.lower\n",
    "    return df[col][(crit1) & (crit2)]\n",
    "\n",
    "bb_down = get_down_cross(bb_df, 'price')\n",
    "bb_up = get_up_cross(bb_df, 'price') \n",
    "\n",
    "f, ax = plt.subplots(figsize=(11,8))\n",
    "\n",
    "bb_df.loc[from_date:to_date].plot(ax=ax, alpha=.5)\n",
    "bb_up.loc[from_date:to_date].plot(ax=ax, ls='', marker='^', markersize=7,\n",
    "                        alpha=0.75, label='upcross', color='g')\n",
    "bb_down.loc[from_date:to_date].plot(ax=ax, ls='', marker='v', markersize=7, \n",
    "                          alpha=0.75, label='downcross', color='r')\n",
    "ax.legend()"
   ]
  },
  {
   "cell_type": "markdown",
   "metadata": {},
   "source": [
    "### (a) Derive meta-labels for `ptSl=[0,2]` and `t1` where `numdays=1`. Use as `trgt` dailyVol."
   ]
  },
  {
   "cell_type": "code",
   "execution_count": 53,
   "metadata": {
    "ExecuteTime": {
     "end_time": "2018-07-06T16:01:44.229178Z",
     "start_time": "2018-07-06T16:01:43.307853Z"
    }
   },
   "outputs": [
    {
     "name": "stdout",
     "output_type": "stream",
     "text": [
      "-------------------------------------------------------------------------------\n",
      "dataframe information\n",
      "-------------------------------------------------------------------------------\n",
      "                     0\n",
      "dates                 \n",
      "2018-08-30 14:13:35  1\n",
      "2018-08-31 15:30:49  1\n",
      "2018-09-04 09:40:32  1\n",
      "2018-09-04 11:24:49  1\n",
      "2018-09-04 13:44:54  1\n",
      "--------------------------------------------------\n",
      "<class 'pandas.core.frame.DataFrame'>\n",
      "DatetimeIndex: 2199 entries, 2009-10-06 10:13:09 to 2018-09-04 13:44:54\n",
      "Data columns (total 1 columns):\n",
      "0    2199 non-null int64\n",
      "dtypes: int64(1)\n",
      "memory usage: 34.4 KB\n",
      "None\n",
      "-------------------------------------------------------------------------------\n",
      "\n"
     ]
    },
    {
     "name": "stderr",
     "output_type": "stream",
     "text": [
      "2018-10-02 20:04:35.392931 33.33% applyPtSlOnT1 done after 0.02 minutes. Remaining 0.04 minutes.\r",
      "2018-10-02 20:04:35.401536 66.67% applyPtSlOnT1 done after 0.02 minutes. Remaining 0.01 minutes.\r",
      "2018-10-02 20:04:35.474122 100.0% applyPtSlOnT1 done after 0.02 minutes. Remaining 0.0 minutes.\n"
     ]
    },
    {
     "name": "stdout",
     "output_type": "stream",
     "text": [
      "-------------------------------------------------------------------------------\n",
      "dataframe information\n",
      "-------------------------------------------------------------------------------\n",
      "                     side                  t1      trgt\n",
      "2018-04-10 15:10:14   NaN 2018-04-11 15:16:22  0.010773\n",
      "2018-04-11 09:30:02   NaN 2018-04-12 09:39:50  0.010328\n",
      "2018-05-04 13:35:12   NaN 2018-05-07 09:30:00  0.010548\n",
      "2018-05-31 10:52:48   NaN 2018-06-01 11:26:50  0.011713\n",
      "2018-06-01 10:01:14  -1.0 2018-06-04 09:32:00  0.010680\n",
      "--------------------------------------------------\n",
      "<class 'pandas.core.frame.DataFrame'>\n",
      "DatetimeIndex: 944 entries, 2009-10-05 14:59:34 to 2018-06-01 10:01:14\n",
      "Data columns (total 3 columns):\n",
      "side    135 non-null float64\n",
      "t1      944 non-null datetime64[ns]\n",
      "trgt    944 non-null float64\n",
      "dtypes: datetime64[ns](1), float64(2)\n",
      "memory usage: 29.5 KB\n",
      "None\n",
      "-------------------------------------------------------------------------------\n",
      "\n",
      "-------------------------------------------------------------------------------\n",
      "dataframe information\n",
      "-------------------------------------------------------------------------------\n",
      "                     side\n",
      "2018-02-13 13:43:21  -1.0\n",
      "2018-02-14 10:30:48  -1.0\n",
      "2018-04-02 10:56:50   1.0\n",
      "2018-04-10 09:42:37  -1.0\n",
      "2018-06-01 10:01:14  -1.0\n",
      "--------------------------------------------------\n",
      "<class 'pandas.core.frame.DataFrame'>\n",
      "DatetimeIndex: 135 entries, 2009-10-06 10:13:09 to 2018-06-01 10:01:14\n",
      "Data columns (total 1 columns):\n",
      "side    135 non-null float64\n",
      "dtypes: float64(1)\n",
      "memory usage: 2.1 KB\n",
      "None\n",
      "-------------------------------------------------------------------------------\n",
      "\n"
     ]
    }
   ],
   "source": [
    "bb_side_up = pd.Series(-1, index=bb_up.index) # sell on up cross for mean reversion\n",
    "bb_side_down = pd.Series(1, index=bb_down.index) # buy on down cross for mean reversion\n",
    "bb_side_raw = pd.concat([bb_side_up,bb_side_down]).sort_index()\n",
    "cprint(bb_side_raw)\n",
    "\n",
    "minRet = .01 \n",
    "ptsl=[0,2]\n",
    "bb_events = getEvents(close,tEvents,ptsl,target,minRet,cpus,t1=t1,side=bb_side_raw)\n",
    "cprint(bb_events)\n",
    "\n",
    "bb_side = bb_events.dropna().side\n",
    "cprint(bb_side)"
   ]
  },
  {
   "cell_type": "code",
   "execution_count": 54,
   "metadata": {
    "ExecuteTime": {
     "end_time": "2018-07-06T16:01:44.259834Z",
     "start_time": "2018-07-06T16:01:44.231309Z"
    }
   },
   "outputs": [
    {
     "data": {
      "text/plain": [
       " 1.0    69\n",
       "-1.0    66\n",
       "Name: side, dtype: int64"
      ]
     },
     "execution_count": 54,
     "metadata": {},
     "output_type": "execute_result"
    }
   ],
   "source": [
    "bb_side.value_counts()"
   ]
  },
  {
   "cell_type": "code",
   "execution_count": 55,
   "metadata": {
    "ExecuteTime": {
     "end_time": "2018-07-06T16:01:44.308113Z",
     "start_time": "2018-07-06T16:01:44.261717Z"
    }
   },
   "outputs": [
    {
     "name": "stdout",
     "output_type": "stream",
     "text": [
      "-------------------------------------------------------------------------------\n",
      "dataframe information\n",
      "-------------------------------------------------------------------------------\n",
      "                          ret  bin\n",
      "2018-02-13 13:43:21 -0.010096  0.0\n",
      "2018-02-14 10:30:48 -0.010876  0.0\n",
      "2018-04-02 10:56:50 -0.002041  0.0\n",
      "2018-04-10 09:42:37  0.001364  1.0\n",
      "2018-06-01 10:01:14 -0.002968  0.0\n",
      "--------------------------------------------------\n",
      "<class 'pandas.core.frame.DataFrame'>\n",
      "DatetimeIndex: 135 entries, 2009-10-06 10:13:09 to 2018-06-01 10:01:14\n",
      "Data columns (total 2 columns):\n",
      "ret    135 non-null float64\n",
      "bin    135 non-null float64\n",
      "dtypes: float64(2)\n",
      "memory usage: 3.2 KB\n",
      "None\n",
      "-------------------------------------------------------------------------------\n",
      "\n"
     ]
    }
   ],
   "source": [
    "bb_bins = getBins(bb_events,close).dropna()\n",
    "cprint(bb_bins)"
   ]
  },
  {
   "cell_type": "code",
   "execution_count": 56,
   "metadata": {
    "ExecuteTime": {
     "end_time": "2018-07-06T16:01:44.338258Z",
     "start_time": "2018-07-06T16:01:44.309798Z"
    }
   },
   "outputs": [
    {
     "data": {
      "text/plain": [
       "0.0    73\n",
       "1.0    62\n",
       "Name: bin, dtype: int64"
      ]
     },
     "execution_count": 56,
     "metadata": {},
     "output_type": "execute_result"
    }
   ],
   "source": [
    "bb_bins.bin.value_counts()"
   ]
  },
  {
   "cell_type": "markdown",
   "metadata": {},
   "source": [
    "### (b) train random forest to decide to trade or not. Use features: volatility, serial correlation, and the crossing moving averages from exercise 2."
   ]
  },
  {
   "cell_type": "code",
   "execution_count": 57,
   "metadata": {
    "ExecuteTime": {
     "end_time": "2018-07-06T16:01:44.364093Z",
     "start_time": "2018-07-06T16:01:44.340794Z"
    }
   },
   "outputs": [],
   "source": [
    "def returns(s):\n",
    "    arr = np.diff(np.log(s))\n",
    "    return (pd.Series(arr, index=s.index[1:]))\n",
    "\n",
    "def df_rolling_autocorr(df, window, lag=1):\n",
    "    \"\"\"Compute rolling column-wise autocorrelation for a DataFrame.\"\"\"\n",
    "\n",
    "    return (df.rolling(window=window)\n",
    "            .corr(df.shift(lag))) # could .dropna() here\n",
    "\n",
    "#df_rolling_autocorr(d1, window=21).dropna().head()"
   ]
  },
  {
   "cell_type": "code",
   "execution_count": 58,
   "metadata": {
    "ExecuteTime": {
     "end_time": "2018-07-06T16:01:44.420425Z",
     "start_time": "2018-07-06T16:01:44.365979Z"
    }
   },
   "outputs": [
    {
     "name": "stdout",
     "output_type": "stream",
     "text": [
      "-------------------------------------------------------------------------------\n",
      "dataframe information\n",
      "-------------------------------------------------------------------------------\n",
      "                     srl_corr\n",
      "dates                        \n",
      "2018-09-04 15:21:31 -0.084969\n",
      "2018-09-04 15:30:57 -0.083904\n",
      "2018-09-04 15:43:51 -0.083574\n",
      "2018-09-04 15:55:27 -0.082566\n",
      "2018-09-04 15:59:56 -0.083957\n",
      "--------------------------------------------------\n",
      "<class 'pandas.core.frame.DataFrame'>\n",
      "DatetimeIndex: 34418 entries, 2009-09-28 10:06:18 to 2018-09-04 15:59:56\n",
      "Data columns (total 1 columns):\n",
      "srl_corr    34368 non-null float64\n",
      "dtypes: float64(1)\n",
      "memory usage: 537.8 KB\n",
      "None\n",
      "-------------------------------------------------------------------------------\n",
      "\n"
     ]
    }
   ],
   "source": [
    "srl_corr = df_rolling_autocorr(returns(close), window=window).rename('srl_corr')\n",
    "cprint(srl_corr)"
   ]
  },
  {
   "cell_type": "code",
   "execution_count": 59,
   "metadata": {
    "ExecuteTime": {
     "end_time": "2018-07-06T16:01:44.492438Z",
     "start_time": "2018-07-06T16:01:44.422627Z"
    }
   },
   "outputs": [
    {
     "name": "stdout",
     "output_type": "stream",
     "text": [
      "-------------------------------------------------------------------------------\n",
      "dataframe information\n",
      "-------------------------------------------------------------------------------\n",
      "                          vol  ma_side  srl_corr\n",
      "2018-04-02 10:00:27  0.010454     -1.0 -0.031262\n",
      "2018-04-04 09:39:19  0.016912     -1.0  0.295663\n",
      "2018-04-06 09:39:07  0.012194     -1.0 -0.060165\n",
      "2018-04-11 09:30:02  0.010328     -1.0 -0.064287\n",
      "2018-06-01 10:01:14  0.010680      1.0 -0.110693\n",
      "--------------------------------------------------\n",
      "<class 'pandas.core.frame.DataFrame'>\n",
      "DatetimeIndex: 109 entries, 2009-10-23 11:16:42 to 2018-06-01 10:01:14\n",
      "Data columns (total 3 columns):\n",
      "vol         109 non-null float64\n",
      "ma_side     109 non-null float64\n",
      "srl_corr    109 non-null float64\n",
      "dtypes: float64(3)\n",
      "memory usage: 3.4 KB\n",
      "None\n",
      "-------------------------------------------------------------------------------\n",
      "\n"
     ]
    }
   ],
   "source": [
    "features = (pd.DataFrame()\n",
    "            .assign(vol=bb_events.trgt)\n",
    "            .assign(ma_side=ma_side)\n",
    "            .assign(srl_corr=srl_corr)\n",
    "            .drop_duplicates()\n",
    "            .dropna())\n",
    "cprint(features)"
   ]
  },
  {
   "cell_type": "code",
   "execution_count": 60,
   "metadata": {
    "ExecuteTime": {
     "end_time": "2018-07-06T16:01:44.545577Z",
     "start_time": "2018-07-06T16:01:44.495363Z"
    }
   },
   "outputs": [
    {
     "name": "stdout",
     "output_type": "stream",
     "text": [
      "-------------------------------------------------------------------------------\n",
      "dataframe information\n",
      "-------------------------------------------------------------------------------\n",
      "                          vol  ma_side  srl_corr  bin\n",
      "2018-04-02 10:00:27  0.010454     -1.0 -0.031262  0.0\n",
      "2018-04-04 09:39:19  0.016912     -1.0  0.295663  1.0\n",
      "2018-04-06 09:39:07  0.012194     -1.0 -0.060165  1.0\n",
      "2018-04-11 09:30:02  0.010328     -1.0 -0.064287  0.0\n",
      "2018-06-01 10:01:14  0.010680      1.0 -0.110693  0.0\n",
      "--------------------------------------------------\n",
      "<class 'pandas.core.frame.DataFrame'>\n",
      "DatetimeIndex: 109 entries, 2009-10-23 11:16:42 to 2018-06-01 10:01:14\n",
      "Data columns (total 4 columns):\n",
      "vol         109 non-null float64\n",
      "ma_side     109 non-null float64\n",
      "srl_corr    109 non-null float64\n",
      "bin         109 non-null float64\n",
      "dtypes: float64(4)\n",
      "memory usage: 4.3 KB\n",
      "None\n",
      "-------------------------------------------------------------------------------\n",
      "\n"
     ]
    }
   ],
   "source": [
    "Xy = (pd.merge_asof(features, bb_bins[['bin']], \n",
    "                    left_index=True, right_index=True, \n",
    "                    direction='forward').dropna())\n",
    "cprint(Xy)"
   ]
  },
  {
   "cell_type": "code",
   "execution_count": 61,
   "metadata": {
    "ExecuteTime": {
     "end_time": "2018-07-06T16:01:44.577338Z",
     "start_time": "2018-07-06T16:01:44.548043Z"
    }
   },
   "outputs": [
    {
     "data": {
      "text/plain": [
       "0.0    62\n",
       "1.0    47\n",
       "Name: bin, dtype: int64"
      ]
     },
     "execution_count": 61,
     "metadata": {},
     "output_type": "execute_result"
    }
   ],
   "source": [
    "Xy.bin.value_counts()"
   ]
  },
  {
   "cell_type": "code",
   "execution_count": 62,
   "metadata": {
    "ExecuteTime": {
     "end_time": "2018-07-06T16:01:56.488959Z",
     "start_time": "2018-07-06T16:01:44.579188Z"
    }
   },
   "outputs": [
    {
     "name": "stdout",
     "output_type": "stream",
     "text": [
      "[[ 0.01012805 -1.          0.22606702]\n",
      " [ 0.01165233 -1.         -0.01162458]\n",
      " [ 0.01395858 -1.          0.00553777]]\n"
     ]
    }
   ],
   "source": [
    "X = Xy.drop('bin',axis=1).values\n",
    "print(X[0:3])\n",
    "y = Xy['bin'].values\n",
    "\n",
    "X_train, X_test, y_train, y_test = train_test_split(X, y, test_size=0.5, shuffle=False)"
   ]
  },
  {
   "cell_type": "code",
   "execution_count": 64,
   "metadata": {},
   "outputs": [
    {
     "name": "stdout",
     "output_type": "stream",
     "text": [
      "             precision    recall  f1-score   support\n",
      "\n",
      "   no_trade       0.71      0.53      0.61        32\n",
      "      trade       0.52      0.70      0.59        23\n",
      "\n",
      "avg / total       0.63      0.60      0.60        55\n",
      "\n"
     ]
    },
    {
     "data": {
      "image/png": "[encoded data removed]",
      "text/plain": [
       "<Figure size 432x288 with 1 Axes>"
      ]
     },
     "metadata": {},
     "output_type": "display_data"
    }
   ],
   "source": [
    "n_estimator = 10000\n",
    "rf = RandomForestClassifier(max_depth=3, n_estimators=n_estimator,\n",
    "                            criterion='entropy', random_state=RANDOM_STATE)\n",
    "rf.fit(X_train, y_train)\n",
    "\n",
    "# The random forest model by itself\n",
    "y_pred_rf = rf.predict_proba(X_test)[:, 1]\n",
    "y_pred = rf.predict(X_test)\n",
    "fpr_rf, tpr_rf, _ = roc_curve(y_test, y_pred_rf)\n",
    "print(classification_report(y_test, y_pred, target_names=['no_trade','trade']))\n",
    "\n",
    "plt.figure(1)\n",
    "plt.plot([0, 1], [0, 1], 'k--')\n",
    "plt.plot(fpr_rf, tpr_rf, label='RF')\n",
    "plt.xlabel('False positive rate')\n",
    "plt.ylabel('True positive rate')\n",
    "plt.title('ROC curve')\n",
    "plt.legend(loc='best')\n",
    "plt.show()"
   ]
  },
  {
   "cell_type": "markdown",
   "metadata": {
    "ExecuteTime": {
     "end_time": "2018-06-12T14:52:40.235268Z",
     "start_time": "2018-06-12T14:52:39.912077Z"
    }
   },
   "source": [
    "### (c) What is accuracy of predictions from primary model if the secondary model does not filter bets? What is classification report?"
   ]
  },
  {
   "cell_type": "code",
   "execution_count": 65,
   "metadata": {
    "ExecuteTime": {
     "end_time": "2018-07-06T16:02:10.074150Z",
     "start_time": "2018-07-06T16:01:56.490778Z"
    },
    "scrolled": false
   },
   "outputs": [
    {
     "name": "stderr",
     "output_type": "stream",
     "text": [
      "2018-10-02 20:08:22.880570 33.33% applyPtSlOnT1 done after 0.01 minutes. Remaining 0.03 minutes.\r",
      "2018-10-02 20:08:22.982329 66.67% applyPtSlOnT1 done after 0.02 minutes. Remaining 0.01 minutes.\r",
      "2018-10-02 20:08:22.998487 100.0% applyPtSlOnT1 done after 0.02 minutes. Remaining 0.0 minutes.\n"
     ]
    },
    {
     "name": "stdout",
     "output_type": "stream",
     "text": [
      "-------------------------------------------------------------------------------\n",
      "dataframe information\n",
      "-------------------------------------------------------------------------------\n",
      "                                     t1      trgt\n",
      "2018-04-10 15:10:14 2018-04-11 15:16:22  0.010773\n",
      "2018-04-11 09:30:02 2018-04-12 09:39:50  0.010328\n",
      "2018-05-04 13:35:12 2018-05-07 09:30:00  0.010548\n",
      "2018-05-31 10:52:48 2018-06-01 11:26:50  0.011713\n",
      "2018-06-01 10:01:14 2018-06-04 09:32:00  0.010680\n",
      "--------------------------------------------------\n",
      "<class 'pandas.core.frame.DataFrame'>\n",
      "DatetimeIndex: 944 entries, 2009-10-05 14:59:34 to 2018-06-01 10:01:14\n",
      "Data columns (total 2 columns):\n",
      "t1      944 non-null datetime64[ns]\n",
      "trgt    944 non-null float64\n",
      "dtypes: datetime64[ns](1), float64(1)\n",
      "memory usage: 22.1 KB\n",
      "None\n",
      "-------------------------------------------------------------------------------\n",
      "\n",
      "-------------------------------------------------------------------------------\n",
      "dataframe information\n",
      "-------------------------------------------------------------------------------\n",
      "                          ret  bin\n",
      "2018-04-10 15:10:14 -0.009586 -1.0\n",
      "2018-04-11 09:30:02  0.007678  1.0\n",
      "2018-05-04 13:35:12  0.003480  1.0\n",
      "2018-05-31 10:52:48  0.005233  1.0\n",
      "2018-06-01 10:01:14  0.002968  1.0\n",
      "--------------------------------------------------\n",
      "<class 'pandas.core.frame.DataFrame'>\n",
      "DatetimeIndex: 944 entries, 2009-10-05 14:59:34 to 2018-06-01 10:01:14\n",
      "Data columns (total 2 columns):\n",
      "ret    944 non-null float64\n",
      "bin    944 non-null float64\n",
      "dtypes: float64(2)\n",
      "memory usage: 22.1 KB\n",
      "None\n",
      "-------------------------------------------------------------------------------\n",
      "\n",
      "-------------------------------------------------------------------------------\n",
      "dataframe information\n",
      "-------------------------------------------------------------------------------\n",
      "                          vol  ma_side  srl_corr\n",
      "2018-04-02 10:00:27  0.010454     -1.0 -0.031262\n",
      "2018-04-04 09:39:19  0.016912     -1.0  0.295663\n",
      "2018-04-06 09:39:07  0.012194     -1.0 -0.060165\n",
      "2018-04-11 09:30:02  0.010328     -1.0 -0.064287\n",
      "2018-06-01 10:01:14  0.010680      1.0 -0.110693\n",
      "--------------------------------------------------\n",
      "<class 'pandas.core.frame.DataFrame'>\n",
      "DatetimeIndex: 109 entries, 2009-10-23 11:16:42 to 2018-06-01 10:01:14\n",
      "Data columns (total 3 columns):\n",
      "vol         109 non-null float64\n",
      "ma_side     109 non-null float64\n",
      "srl_corr    109 non-null float64\n",
      "dtypes: float64(3)\n",
      "memory usage: 3.4 KB\n",
      "None\n",
      "-------------------------------------------------------------------------------\n",
      "\n",
      "-------------------------------------------------------------------------------\n",
      "dataframe information\n",
      "-------------------------------------------------------------------------------\n",
      "                          vol  ma_side  srl_corr  bin\n",
      "2018-04-02 10:00:27  0.010454     -1.0 -0.031262 -1.0\n",
      "2018-04-04 09:39:19  0.016912     -1.0  0.295663  1.0\n",
      "2018-04-06 09:39:07  0.012194     -1.0 -0.060165 -1.0\n",
      "2018-04-11 09:30:02  0.010328     -1.0 -0.064287  1.0\n",
      "2018-06-01 10:01:14  0.010680      1.0 -0.110693  1.0\n",
      "--------------------------------------------------\n",
      "<class 'pandas.core.frame.DataFrame'>\n",
      "DatetimeIndex: 109 entries, 2009-10-23 11:16:42 to 2018-06-01 10:01:14\n",
      "Data columns (total 4 columns):\n",
      "vol         109 non-null float64\n",
      "ma_side     109 non-null float64\n",
      "srl_corr    109 non-null float64\n",
      "bin         109 non-null float64\n",
      "dtypes: float64(4)\n",
      "memory usage: 4.3 KB\n",
      "None\n",
      "-------------------------------------------------------------------------------\n",
      "\n",
      "             precision    recall  f1-score   support\n",
      "\n",
      "       -1.0       0.39      0.57      0.46        23\n",
      "        1.0       0.55      0.38      0.44        32\n",
      "\n",
      "avg / total       0.48      0.45      0.45        55\n",
      "\n"
     ]
    },
    {
     "data": {
      "image/png": "[encoded data removed]",
      "text/plain": [
       "<Figure size 432x288 with 1 Axes>"
      ]
     },
     "metadata": {},
     "output_type": "display_data"
    }
   ],
   "source": [
    "minRet = .01 \n",
    "ptsl=[0,2]\n",
    "bb_events = getEvents(close,tEvents,ptsl,target,minRet,cpus,t1=t1)\n",
    "cprint(bb_events)\n",
    "\n",
    "bb_bins = getBins(bb_events,close).dropna()\n",
    "cprint(bb_bins)\n",
    "\n",
    "features = (pd.DataFrame()\n",
    "            .assign(vol=bb_events.trgt)\n",
    "            .assign(ma_side=ma_side)\n",
    "            .assign(srl_corr=srl_corr)\n",
    "            .drop_duplicates()\n",
    "            .dropna())\n",
    "cprint(features)\n",
    "\n",
    "Xy = (pd.merge_asof(features, bb_bins[['bin']], \n",
    "                    left_index=True, right_index=True, \n",
    "                    direction='forward').dropna())\n",
    "cprint(Xy)\n",
    "\n",
    "### run model ###\n",
    "X = Xy.drop('bin',axis=1).values\n",
    "y = Xy['bin'].values\n",
    "\n",
    "X_train, X_test, y_train, y_test = train_test_split(X, y, test_size=0.5, shuffle=False)\n",
    "\n",
    "n_estimator = 10000\n",
    "rf = RandomForestClassifier(max_depth=2, n_estimators=n_estimator,\n",
    "                            criterion='entropy', random_state=RANDOM_STATE)\n",
    "rf.fit(X_train, y_train)\n",
    "\n",
    "# The random forest model by itself\n",
    "y_pred_rf = rf.predict_proba(X_test)[:, 1]\n",
    "y_pred = rf.predict(X_test)\n",
    "fpr_rf, tpr_rf, _ = roc_curve(y_test, y_pred_rf)\n",
    "print(classification_report(y_test, y_pred))\n",
    "\n",
    "plt.figure(1)\n",
    "plt.plot([0, 1], [0, 1], 'k--')\n",
    "plt.plot(fpr_rf, tpr_rf, label='RF')\n",
    "plt.xlabel('False positive rate')\n",
    "plt.ylabel('True positive rate')\n",
    "plt.title('ROC curve')\n",
    "plt.legend(loc='best')\n",
    "plt.show()"
   ]
  },
  {
   "cell_type": "code",
   "execution_count": null,
   "metadata": {},
   "outputs": [],
   "source": []
  }
 ],
 "metadata": {
  "kernelspec": {
   "display_name": "Python 3",
   "language": "python",
   "name": "python3"
  },
  "language_info": {
   "codemirror_mode": {
    "name": "ipython",
    "version": 3
   },
   "file_extension": ".py",
   "mimetype": "text/x-python",
   "name": "python",
   "nbconvert_exporter": "python",
   "pygments_lexer": "ipython3",
   "version": "3.6.6"
  },
  "toc": {
   "base_numbering": 1,
   "nav_menu": {
    "height": "490px",
    "width": "355px"
   },
   "number_sections": true,
   "sideBar": true,
   "skip_h1_title": false,
   "title_cell": "Table of Contents",
   "title_sidebar": "Contents",
   "toc_cell": true,
   "toc_position": {
    "height": "calc(100% - 180px)",
    "left": "10px",
    "top": "150px",
    "width": "346px"
   },
   "toc_section_display": true,
   "toc_window_display": true
  },
  "varInspector": {
   "cols": {
    "lenName": 16,
    "lenType": 16,
    "lenVar": 40
   },
   "kernels_config": {
    "python": {
     "delete_cmd_postfix": "",
     "delete_cmd_prefix": "del ",
     "library": "var_list.py",
     "varRefreshCmd": "print(var_dic_list())"
    },
    "r": {
     "delete_cmd_postfix": ") ",
     "delete_cmd_prefix": "rm(",
     "library": "var_list.r",
     "varRefreshCmd": "cat(var_dic_list()) "
    }
   },
   "types_to_exclude": [
    "module",
    "function",
    "builtin_function_or_method",
    "instance",
    "_Feature"
   ],
   "window_display": false
  }
 },
 "nbformat": 4,
 "nbformat_minor": 2
}
