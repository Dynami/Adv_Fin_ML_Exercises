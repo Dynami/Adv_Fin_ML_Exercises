{
 "cells": [
  {
   "cell_type": "markdown",
   "metadata": {
    "toc": true
   },
   "source": [
    "<h1>Table of Contents<span class=\"tocSkip\"></span></h1>\n",
    "<div class=\"toc\"><ul class=\"toc-item\"><li><span><a href=\"#Chapter-1---Exploring-Tick,-Volume,-DV-Bars\" data-toc-modified-id=\"Chapter-1---Exploring-Tick,-Volume,-DV-Bars-1\"><span class=\"toc-item-num\">1&nbsp;&nbsp;</span>Chapter 1 - Exploring Tick, Volume, DV Bars</a></span><ul class=\"toc-item\"><li><span><a href=\"#Introduction\" data-toc-modified-id=\"Introduction-1.1\"><span class=\"toc-item-num\">1.1&nbsp;&nbsp;</span>Introduction</a></span></li><li><span><a href=\"#Read-and-Clean-Data\" data-toc-modified-id=\"Read-and-Clean-Data-1.2\"><span class=\"toc-item-num\">1.2&nbsp;&nbsp;</span>Read and Clean Data</a></span></li><li><span><a href=\"#Remove-Obvious-Price-Errors-in-Tick-Data\" data-toc-modified-id=\"Remove-Obvious-Price-Errors-in-Tick-Data-1.3\"><span class=\"toc-item-num\">1.3&nbsp;&nbsp;</span>Remove Obvious Price Errors in Tick Data</a></span></li></ul></li><li><span><a href=\"#Tick-Bars\" data-toc-modified-id=\"Tick-Bars-2\"><span class=\"toc-item-num\">2&nbsp;&nbsp;</span>Tick Bars</a></span><ul class=\"toc-item\"><li><ul class=\"toc-item\"><li><span><a href=\"#Bonus-Exercise:-Make-OHLC-Bars-from-Custom-Bars\" data-toc-modified-id=\"Bonus-Exercise:-Make-OHLC-Bars-from-Custom-Bars-2.0.1\"><span class=\"toc-item-num\">2.0.1&nbsp;&nbsp;</span>Bonus Exercise: Make OHLC Bars from Custom Bars</a></span></li></ul></li></ul></li><li><span><a href=\"#Volume-Bars\" data-toc-modified-id=\"Volume-Bars-3\"><span class=\"toc-item-num\">3&nbsp;&nbsp;</span>Volume Bars</a></span></li><li><span><a href=\"#Dollar-Value-Bars\" data-toc-modified-id=\"Dollar-Value-Bars-4\"><span class=\"toc-item-num\">4&nbsp;&nbsp;</span>Dollar Value Bars</a></span></li><li><span><a href=\"#Analyzing-the-Bars\" data-toc-modified-id=\"Analyzing-the-Bars-5\"><span class=\"toc-item-num\">5&nbsp;&nbsp;</span>Analyzing the Bars</a></span><ul class=\"toc-item\"><li><span><a href=\"#Count-Quantity-of-Bars-By-Each-Bar-Type-(Weekly)\" data-toc-modified-id=\"Count-Quantity-of-Bars-By-Each-Bar-Type-(Weekly)-5.1\"><span class=\"toc-item-num\">5.1&nbsp;&nbsp;</span>Count Quantity of Bars By Each Bar Type (Weekly)</a></span></li><li><span><a href=\"#Which-Bar-Type-Has-Most-Stable-Counts?\" data-toc-modified-id=\"Which-Bar-Type-Has-Most-Stable-Counts?-5.2\"><span class=\"toc-item-num\">5.2&nbsp;&nbsp;</span>Which Bar Type Has Most Stable Counts?</a></span></li><li><span><a href=\"#Which-Bar-Type-Has-the-Lowest-Serial-Correlation?\" data-toc-modified-id=\"Which-Bar-Type-Has-the-Lowest-Serial-Correlation?-5.3\"><span class=\"toc-item-num\">5.3&nbsp;&nbsp;</span>Which Bar Type Has the Lowest Serial Correlation?</a></span></li><li><span><a href=\"#Partition-Bar-Series-into-Monthly,-Compute-Variance-of-Returns,-and-Variance-of-Variance\" data-toc-modified-id=\"Partition-Bar-Series-into-Monthly,-Compute-Variance-of-Returns,-and-Variance-of-Variance-5.4\"><span class=\"toc-item-num\">5.4&nbsp;&nbsp;</span>Partition Bar Series into Monthly, Compute Variance of Returns, and Variance of Variance</a></span></li><li><span><a href=\"#Compute-Jarque-Bera-Test,-Which-Has-Lowest-Test-Statistic?\" data-toc-modified-id=\"Compute-Jarque-Bera-Test,-Which-Has-Lowest-Test-Statistic?-5.5\"><span class=\"toc-item-num\">5.5&nbsp;&nbsp;</span>Compute Jarque-Bera Test, Which Has Lowest Test Statistic?</a></span></li><li><span><a href=\"#Compute-Shapiro-Wilk-Test\" data-toc-modified-id=\"Compute-Shapiro-Wilk-Test-5.6\"><span class=\"toc-item-num\">5.6&nbsp;&nbsp;</span>Compute Shapiro-Wilk Test</a></span></li></ul></li><li><span><a href=\"#Compare-Serial-Correlation-between-Dollar-and-Dollar-Imbalance-Bars\" data-toc-modified-id=\"Compare-Serial-Correlation-between-Dollar-and-Dollar-Imbalance-Bars-6\"><span class=\"toc-item-num\">6&nbsp;&nbsp;</span>Compare Serial Correlation between Dollar and Dollar Imbalance Bars</a></span><ul class=\"toc-item\"><li><ul class=\"toc-item\"><li><span><a href=\"#Update-[05.04.18]\" data-toc-modified-id=\"Update-[05.04.18]-6.0.1\"><span class=\"toc-item-num\">6.0.1&nbsp;&nbsp;</span>Update [05.04.18]</a></span></li></ul></li></ul></li></ul></div>"
   ]
  },
  {
   "cell_type": "markdown",
   "metadata": {},
   "source": [
    "Advances in Machine Learning"
   ]
  },
  {
   "cell_type": "markdown",
   "metadata": {},
   "source": [
    "# Chapter 1 - Exploring Tick, Volume, DV Bars"
   ]
  },
  {
   "cell_type": "code",
   "execution_count": 1,
   "metadata": {
    "ExecuteTime": {
     "end_time": "2018-05-05T00:36:06.523447Z",
     "start_time": "2018-05-05T00:36:02.825808Z"
    }
   },
   "outputs": [],
   "source": [
    "#%load_ext watermark\n",
    "#%watermark\n",
    "\n",
    "#%load_ext autoreload\n",
    "#%autoreload 2\n",
    "\n",
    "#import standard libs\n",
    "from IPython.display import display\n",
    "#from IPython.core.debugger import set_trace as bp\n",
    "from pathlib import PurePath, Path\n",
    "import sys\n",
    "import time\n",
    "from collections import OrderedDict as od\n",
    "import re\n",
    "import os\n",
    "import json\n"
   ]
  },
  {
   "cell_type": "code",
   "execution_count": 2,
   "metadata": {},
   "outputs": [
    {
     "name": "stdout",
     "output_type": "stream",
     "text": [
      "\n"
     ]
    }
   ],
   "source": [
    "#os.environ['THEANO_FLAGS'] = 'device=cpu,floatX=float32'\n",
    "\n",
    "# get project dir\n",
    "pp = PurePath(Path.cwd()).parts[:-1]\n",
    "pdir = PurePath(*pp)\n",
    "script_dir = pdir / 'src' \n",
    "viz_dir = pdir / 'report' / 'figures'\n",
    "data_dir = pdir / 'data'\n",
    "script_dirs = list(Path(script_dir).glob('./*/'))\n",
    "for sdir in script_dirs: sys.path.append(sdir.as_posix())\n",
    "\n",
    "# import python scientific stack\n",
    "import pandas as pd\n",
    "import pandas_datareader.data as web\n",
    "pd.set_option('display.max_rows', 100)\n",
    "from dask import dataframe as dd\n",
    "from dask.diagnostics import ProgressBar\n",
    "pbar = ProgressBar()\n",
    "pbar.register()\n",
    "import numpy as np\n",
    "import scipy.stats as stats\n",
    "import statsmodels.api as sm\n",
    "from numba import jit\n",
    "import math\n",
    "#import pymc3 as pm\n",
    "#from theano import shared, theano as tt\n",
    "\n",
    "# import visual tools\n",
    "import matplotlib as mpl\n",
    "import matplotlib.pyplot as plt\n",
    "import matplotlib.gridspec as gridspec\n",
    "%matplotlib inline\n",
    "import seaborn as sns\n",
    "\n",
    "plt.style.use('seaborn-talk')\n",
    "plt.style.use('bmh')\n",
    "\n",
    "#plt.rcParams['font.family'] = 'DejaVu Sans Mono'\n",
    "#plt.rcParams['font.size'] = 9.5\n",
    "plt.rcParams['font.weight'] = 'medium'\n",
    "#plt.rcParams['figure.figsize'] = 10,7\n",
    "blue, green, red, purple, gold, teal = sns.color_palette('colorblind', 6)\n",
    "\n",
    "# import util libs\n",
    "import pyarrow as pa\n",
    "import pyarrow.parquet as pq\n",
    "from tqdm import tqdm, tqdm_notebook\n",
    "import warnings\n",
    "warnings.filterwarnings(\"ignore\")\n",
    "import missingno as msno\n",
    "from utils import cprint\n",
    "from bars import get_imbalance\n",
    "\n",
    "RANDOM_STATE = 777\n",
    "\n",
    "print()\n",
    "#%watermark -p pandas,pandas_datareader,dask,numpy,pymc3,theano,sklearn,statsmodels,scipy,matplotlib,seaborn,pyarrow,fastparquet"
   ]
  },
  {
   "cell_type": "markdown",
   "metadata": {},
   "source": [
    "## Introduction\n",
    "\n",
    "This notebook explores the idea of sampling prices as a function of something other than fixed time intervals. For example using the number of ticks, volume or dollar volume traded as the sampling interval. The rest of this notebook works through some of the exercises found in chapters 1 and 2 of the book. \n",
    "\n",
    "This notebook makes use of the following script found here: `./src/features/bars.py`"
   ]
  },
  {
   "cell_type": "markdown",
   "metadata": {},
   "source": [
    "## Read and Clean Data"
   ]
  },
  {
   "cell_type": "markdown",
   "metadata": {},
   "source": [
    "The data set used in this example is too large to be hosted on github. It is a sample of equity tick data, symbol `IVE`, provided by [kibot.com (caution: download link)](http://api.kibot.com/?action=history&symbol=IVE&interval=tickbidask&bp=1&user=guest). Download this data to the `./data/raw/` directory in your local repo."
   ]
  },
  {
   "cell_type": "code",
   "execution_count": 3,
   "metadata": {
    "ExecuteTime": {
     "end_time": "2018-05-05T00:36:29.025681Z",
     "start_time": "2018-05-05T00:36:06.525588Z"
    }
   },
   "outputs": [
    {
     "name": "stdout",
     "output_type": "stream",
     "text": [
      "/home/ale/py-projects/Adv_Fin_ML_Exercises/data/raw/IVE_tickbidask.txt\n",
      "-------------------------------------------------------------------------------\n",
      "dataframe information\n",
      "-------------------------------------------------------------------------------\n",
      "                      price     bid     ask   size      v          dv\n",
      "dates                                                                \n",
      "2018-10-19 15:59:59  111.96  111.95  111.96    900    900   100764.00\n",
      "2018-10-19 16:00:00  111.97  111.95  111.96  12439  12439  1392794.83\n",
      "2018-10-19 16:10:00  111.97  111.31  112.10      0      0        0.00\n",
      "2018-10-19 18:30:00  111.97  110.70  112.40      0      0        0.00\n",
      "2018-10-19 20:00:00  111.97  110.81  112.40      0      0        0.00\n",
      "--------------------------------------------------\n",
      "<class 'pandas.core.frame.DataFrame'>\n",
      "DatetimeIndex: 1431009 entries, 2009-09-28 09:30:00 to 2018-10-19 20:00:00\n",
      "Data columns (total 6 columns):\n",
      "price    1431009 non-null float64\n",
      "bid      1431009 non-null float64\n",
      "ask      1431009 non-null float64\n",
      "size     1431009 non-null int64\n",
      "v        1431009 non-null int64\n",
      "dv       1431009 non-null float64\n",
      "dtypes: float64(4), int64(2)\n",
      "memory usage: 76.4 MB\n",
      "None\n",
      "-------------------------------------------------------------------------------\n",
      "\n"
     ]
    }
   ],
   "source": [
    "def read_kibot_ticks(fp):\n",
    "    # read tick data from http://www.kibot.com/support.aspx#data_format\n",
    "    cols = list(map(str.lower,['Date','Time','Price','Bid','Ask','Size']))\n",
    "    df = (pd.read_csv(fp, header=None)\n",
    "          .rename(columns=dict(zip(range(len(cols)),cols)))\n",
    "          .assign(dates=lambda df: (pd.to_datetime(df['date']+df['time'],\n",
    "                                                  format='%m/%d/%Y%H:%M:%S')))\n",
    "          .assign(v=lambda df: df['size']) # volume\n",
    "          .assign(dv=lambda df: df['price']*df['size']) # dollar volume\n",
    "          .drop(['date','time'],axis=1)\n",
    "          .set_index('dates')\n",
    "          .drop_duplicates())\n",
    "    return df\n",
    "\n",
    "infp = PurePath(data_dir/'raw'/'IVE_tickbidask.txt')\n",
    "print(infp)\n",
    "df = read_kibot_ticks(infp)\n",
    "cprint(df)"
   ]
  },
  {
   "cell_type": "markdown",
   "metadata": {},
   "source": [
    "Save initial processed data as parquet in the `./data/interim/` folder and reload."
   ]
  },
  {
   "cell_type": "code",
   "execution_count": 4,
   "metadata": {
    "ExecuteTime": {
     "end_time": "2018-05-05T00:36:29.843915Z",
     "start_time": "2018-05-05T00:36:29.029886Z"
    }
   },
   "outputs": [],
   "source": [
    "outfp = PurePath(data_dir/'interim'/'IVE_tickbidask.parq')\n",
    "df.to_parquet(outfp)"
   ]
  },
  {
   "cell_type": "code",
   "execution_count": 5,
   "metadata": {
    "ExecuteTime": {
     "end_time": "2018-05-05T00:36:30.438528Z",
     "start_time": "2018-05-05T00:36:29.845701Z"
    }
   },
   "outputs": [
    {
     "name": "stdout",
     "output_type": "stream",
     "text": [
      "-------------------------------------------------------------------------------\n",
      "dataframe information\n",
      "-------------------------------------------------------------------------------\n",
      "                      price     bid     ask   size      v          dv\n",
      "dates                                                                \n",
      "2018-10-19 15:59:59  111.96  111.95  111.96    900    900   100764.00\n",
      "2018-10-19 16:00:00  111.97  111.95  111.96  12439  12439  1392794.83\n",
      "2018-10-19 16:10:00  111.97  111.31  112.10      0      0        0.00\n",
      "2018-10-19 18:30:00  111.97  110.70  112.40      0      0        0.00\n",
      "2018-10-19 20:00:00  111.97  110.81  112.40      0      0        0.00\n",
      "--------------------------------------------------\n",
      "<class 'pandas.core.frame.DataFrame'>\n",
      "DatetimeIndex: 1431009 entries, 2009-09-28 09:30:00 to 2018-10-19 20:00:00\n",
      "Data columns (total 6 columns):\n",
      "price    1431009 non-null float64\n",
      "bid      1431009 non-null float64\n",
      "ask      1431009 non-null float64\n",
      "size     1431009 non-null int64\n",
      "v        1431009 non-null int64\n",
      "dv       1431009 non-null float64\n",
      "dtypes: float64(4), int64(2)\n",
      "memory usage: 76.4 MB\n",
      "None\n",
      "-------------------------------------------------------------------------------\n",
      "\n"
     ]
    }
   ],
   "source": [
    "infp=PurePath(data_dir/'interim'/'IVE_tickbidask.parq')\n",
    "df = pd.read_parquet(infp)\n",
    "cprint(df)"
   ]
  },
  {
   "cell_type": "code",
   "execution_count": 6,
   "metadata": {
    "ExecuteTime": {
     "end_time": "2018-05-05T00:36:32.711789Z",
     "start_time": "2018-05-05T00:36:30.440842Z"
    }
   },
   "outputs": [
    {
     "data": {
      "text/plain": [
       "<matplotlib.axes._subplots.AxesSubplot at 0x7fa474e53390>"
      ]
     },
     "execution_count": 6,
     "metadata": {},
     "output_type": "execute_result"
    },
    {
     "data": {
      "image/png": "[encoded data removed]",
      "text/plain": [
       "<Figure size 1800x720 with 2 Axes>"
      ]
     },
     "metadata": {
      "needs_background": "light"
     },
     "output_type": "display_data"
    }
   ],
   "source": [
    "msno.matrix(df)"
   ]
  },
  {
   "cell_type": "markdown",
   "metadata": {},
   "source": [
    "## Remove Obvious Price Errors in Tick Data"
   ]
  },
  {
   "cell_type": "code",
   "execution_count": 8,
   "metadata": {
    "ExecuteTime": {
     "end_time": "2018-05-05T00:36:33.141416Z",
     "start_time": "2018-05-05T00:36:32.713517Z"
    }
   },
   "outputs": [
    {
     "data": {
      "text/plain": [
       "<matplotlib.axes._subplots.AxesSubplot at 0x7f460a776e10>"
      ]
     },
     "execution_count": 8,
     "metadata": {},
     "output_type": "execute_result"
    },
    {
     "data": {
      "image/png": "[encoded data removed]",
      "text/plain": [
       "<Figure size 432x288 with 1 Axes>"
      ]
     },
     "metadata": {
      "needs_background": "light"
     },
     "output_type": "display_data"
    }
   ],
   "source": [
    "sns.boxplot(df.price)"
   ]
  },
  {
   "cell_type": "code",
   "execution_count": 7,
   "metadata": {
    "ExecuteTime": {
     "end_time": "2018-05-05T00:36:33.454840Z",
     "start_time": "2018-05-05T00:36:33.142719Z"
    },
    "code_folding": []
   },
   "outputs": [],
   "source": [
    "@jit(nopython=True)\n",
    "def mad_outlier(y, thresh=3.):\n",
    "    '''\n",
    "    compute outliers based on mad\n",
    "    # args\n",
    "        y: assumed to be array with shape (N,1)\n",
    "        thresh: float()\n",
    "    # returns\n",
    "        array index of outliers\n",
    "    '''\n",
    "    median = np.median(y)\n",
    "    diff = np.sum((y - median)**2, axis=-1)\n",
    "    diff = np.sqrt(diff)\n",
    "    med_abs_deviation = np.median(diff)\n",
    "\n",
    "    modified_z_score = 0.6745 * diff / med_abs_deviation\n",
    "\n",
    "    return modified_z_score > thresh"
   ]
  },
  {
   "cell_type": "code",
   "execution_count": 8,
   "metadata": {
    "ExecuteTime": {
     "end_time": "2018-05-05T00:36:35.073189Z",
     "start_time": "2018-05-05T00:36:33.458178Z"
    },
    "code_folding": []
   },
   "outputs": [],
   "source": [
    "mad = mad_outlier(df.price.values.reshape(-1,1))"
   ]
  },
  {
   "cell_type": "code",
   "execution_count": 9,
   "metadata": {
    "ExecuteTime": {
     "end_time": "2018-05-05T00:36:35.379824Z",
     "start_time": "2018-05-05T00:36:35.076483Z"
    }
   },
   "outputs": [
    {
     "data": {
      "text/html": [
       "<div>\n",
       "<style scoped>\n",
       "    .dataframe tbody tr th:only-of-type {\n",
       "        vertical-align: middle;\n",
       "    }\n",
       "\n",
       "    .dataframe tbody tr th {\n",
       "        vertical-align: top;\n",
       "    }\n",
       "\n",
       "    .dataframe thead th {\n",
       "        text-align: right;\n",
       "    }\n",
       "</style>\n",
       "<table border=\"1\" class=\"dataframe\">\n",
       "  <thead>\n",
       "    <tr style=\"text-align: right;\">\n",
       "      <th></th>\n",
       "      <th>price</th>\n",
       "      <th>bid</th>\n",
       "      <th>ask</th>\n",
       "      <th>size</th>\n",
       "      <th>v</th>\n",
       "      <th>dv</th>\n",
       "    </tr>\n",
       "    <tr>\n",
       "      <th>dates</th>\n",
       "      <th></th>\n",
       "      <th></th>\n",
       "      <th></th>\n",
       "      <th></th>\n",
       "      <th></th>\n",
       "      <th></th>\n",
       "    </tr>\n",
       "  </thead>\n",
       "  <tbody>\n",
       "    <tr>\n",
       "      <th>2010-05-06 14:49:07</th>\n",
       "      <td>0.11</td>\n",
       "      <td>0.10</td>\n",
       "      <td>44.03</td>\n",
       "      <td>500</td>\n",
       "      <td>500</td>\n",
       "      <td>55.0</td>\n",
       "    </tr>\n",
       "    <tr>\n",
       "      <th>2010-05-06 14:53:30</th>\n",
       "      <td>1.10</td>\n",
       "      <td>1.10</td>\n",
       "      <td>30.28</td>\n",
       "      <td>2600</td>\n",
       "      <td>2600</td>\n",
       "      <td>2860.0</td>\n",
       "    </tr>\n",
       "    <tr>\n",
       "      <th>2010-05-06 14:55:32</th>\n",
       "      <td>1.10</td>\n",
       "      <td>1.10</td>\n",
       "      <td>50.57</td>\n",
       "      <td>300</td>\n",
       "      <td>300</td>\n",
       "      <td>330.0</td>\n",
       "    </tr>\n",
       "    <tr>\n",
       "      <th>2010-05-06 14:55:32</th>\n",
       "      <td>1.10</td>\n",
       "      <td>1.10</td>\n",
       "      <td>50.57</td>\n",
       "      <td>100</td>\n",
       "      <td>100</td>\n",
       "      <td>110.0</td>\n",
       "    </tr>\n",
       "    <tr>\n",
       "      <th>2010-05-06 14:55:32</th>\n",
       "      <td>1.10</td>\n",
       "      <td>1.00</td>\n",
       "      <td>50.57</td>\n",
       "      <td>200</td>\n",
       "      <td>200</td>\n",
       "      <td>220.0</td>\n",
       "    </tr>\n",
       "    <tr>\n",
       "      <th>2010-05-06 14:55:32</th>\n",
       "      <td>1.10</td>\n",
       "      <td>1.00</td>\n",
       "      <td>50.57</td>\n",
       "      <td>700</td>\n",
       "      <td>700</td>\n",
       "      <td>770.0</td>\n",
       "    </tr>\n",
       "    <tr>\n",
       "      <th>2010-05-06 14:55:32</th>\n",
       "      <td>1.10</td>\n",
       "      <td>1.00</td>\n",
       "      <td>50.57</td>\n",
       "      <td>1200</td>\n",
       "      <td>1200</td>\n",
       "      <td>1320.0</td>\n",
       "    </tr>\n",
       "    <tr>\n",
       "      <th>2010-05-06 14:55:32</th>\n",
       "      <td>1.10</td>\n",
       "      <td>0.55</td>\n",
       "      <td>50.57</td>\n",
       "      <td>500</td>\n",
       "      <td>500</td>\n",
       "      <td>550.0</td>\n",
       "    </tr>\n",
       "    <tr>\n",
       "      <th>2010-05-06 14:55:32</th>\n",
       "      <td>1.10</td>\n",
       "      <td>0.55</td>\n",
       "      <td>50.57</td>\n",
       "      <td>100</td>\n",
       "      <td>100</td>\n",
       "      <td>110.0</td>\n",
       "    </tr>\n",
       "    <tr>\n",
       "      <th>2010-05-06 14:55:32</th>\n",
       "      <td>1.10</td>\n",
       "      <td>0.55</td>\n",
       "      <td>50.57</td>\n",
       "      <td>200</td>\n",
       "      <td>200</td>\n",
       "      <td>220.0</td>\n",
       "    </tr>\n",
       "    <tr>\n",
       "      <th>2010-05-06 14:55:32</th>\n",
       "      <td>1.10</td>\n",
       "      <td>0.55</td>\n",
       "      <td>50.57</td>\n",
       "      <td>800</td>\n",
       "      <td>800</td>\n",
       "      <td>880.0</td>\n",
       "    </tr>\n",
       "  </tbody>\n",
       "</table>\n",
       "</div>"
      ],
      "text/plain": [
       "                     price   bid    ask  size     v      dv\n",
       "dates                                                      \n",
       "2010-05-06 14:49:07   0.11  0.10  44.03   500   500    55.0\n",
       "2010-05-06 14:53:30   1.10  1.10  30.28  2600  2600  2860.0\n",
       "2010-05-06 14:55:32   1.10  1.10  50.57   300   300   330.0\n",
       "2010-05-06 14:55:32   1.10  1.10  50.57   100   100   110.0\n",
       "2010-05-06 14:55:32   1.10  1.00  50.57   200   200   220.0\n",
       "2010-05-06 14:55:32   1.10  1.00  50.57   700   700   770.0\n",
       "2010-05-06 14:55:32   1.10  1.00  50.57  1200  1200  1320.0\n",
       "2010-05-06 14:55:32   1.10  0.55  50.57   500   500   550.0\n",
       "2010-05-06 14:55:32   1.10  0.55  50.57   100   100   110.0\n",
       "2010-05-06 14:55:32   1.10  0.55  50.57   200   200   220.0\n",
       "2010-05-06 14:55:32   1.10  0.55  50.57   800   800   880.0"
      ]
     },
     "execution_count": 9,
     "metadata": {},
     "output_type": "execute_result"
    }
   ],
   "source": [
    "df.loc[mad]"
   ]
  },
  {
   "cell_type": "code",
   "execution_count": 10,
   "metadata": {
    "ExecuteTime": {
     "end_time": "2018-05-05T00:36:35.827227Z",
     "start_time": "2018-05-05T00:36:35.381347Z"
    }
   },
   "outputs": [
    {
     "data": {
      "text/plain": [
       "<matplotlib.axes._subplots.AxesSubplot at 0x7fa4758a7940>"
      ]
     },
     "execution_count": 10,
     "metadata": {},
     "output_type": "execute_result"
    },
    {
     "data": {
      "image/png": "[encoded data removed]",
      "text/plain": [
       "<Figure size 432x288 with 1 Axes>"
      ]
     },
     "metadata": {
      "needs_background": "light"
     },
     "output_type": "display_data"
    }
   ],
   "source": [
    "sns.boxplot(df.loc[~mad].price)"
   ]
  },
  {
   "cell_type": "markdown",
   "metadata": {},
   "source": [
    "Drop outliers from dataset and save cleaned data in the `./data/processed/` folder."
   ]
  },
  {
   "cell_type": "code",
   "execution_count": 11,
   "metadata": {
    "ExecuteTime": {
     "end_time": "2018-05-05T00:36:36.824195Z",
     "start_time": "2018-05-05T00:36:35.829852Z"
    }
   },
   "outputs": [
    {
     "name": "stdout",
     "output_type": "stream",
     "text": [
      "-------------------------------------------------------------------------------\n",
      "dataframe information\n",
      "-------------------------------------------------------------------------------\n",
      "                      price     bid     ask   size      v          dv\n",
      "dates                                                                \n",
      "2018-10-19 15:59:59  111.96  111.95  111.96    900    900   100764.00\n",
      "2018-10-19 16:00:00  111.97  111.95  111.96  12439  12439  1392794.83\n",
      "2018-10-19 16:10:00  111.97  111.31  112.10      0      0        0.00\n",
      "2018-10-19 18:30:00  111.97  110.70  112.40      0      0        0.00\n",
      "2018-10-19 20:00:00  111.97  110.81  112.40      0      0        0.00\n",
      "--------------------------------------------------\n",
      "<class 'pandas.core.frame.DataFrame'>\n",
      "DatetimeIndex: 1430998 entries, 2009-09-28 09:30:00 to 2018-10-19 20:00:00\n",
      "Data columns (total 6 columns):\n",
      "price    1430998 non-null float64\n",
      "bid      1430998 non-null float64\n",
      "ask      1430998 non-null float64\n",
      "size     1430998 non-null int64\n",
      "v        1430998 non-null int64\n",
      "dv       1430998 non-null float64\n",
      "dtypes: float64(4), int64(2)\n",
      "memory usage: 76.4 MB\n",
      "None\n",
      "-------------------------------------------------------------------------------\n",
      "\n"
     ]
    }
   ],
   "source": [
    "df = df.loc[~mad]\n",
    "cprint(df)"
   ]
  },
  {
   "cell_type": "code",
   "execution_count": 12,
   "metadata": {},
   "outputs": [],
   "source": [
    "outfp = PurePath(data_dir/'processed'/'clean_IVE_fut_prices.parq')\n",
    "df.to_parquet(outfp)"
   ]
  },
  {
   "cell_type": "code",
   "execution_count": 13,
   "metadata": {
    "ExecuteTime": {
     "end_time": "2018-05-05T00:36:37.434928Z",
     "start_time": "2018-05-05T00:36:36.826278Z"
    }
   },
   "outputs": [
    {
     "name": "stdout",
     "output_type": "stream",
     "text": [
      "-------------------------------------------------------------------------------\n",
      "dataframe information\n",
      "-------------------------------------------------------------------------------\n",
      "                      price     bid     ask   size      v          dv\n",
      "dates                                                                \n",
      "2018-10-19 15:59:59  111.96  111.95  111.96    900    900   100764.00\n",
      "2018-10-19 16:00:00  111.97  111.95  111.96  12439  12439  1392794.83\n",
      "2018-10-19 16:10:00  111.97  111.31  112.10      0      0        0.00\n",
      "2018-10-19 18:30:00  111.97  110.70  112.40      0      0        0.00\n",
      "2018-10-19 20:00:00  111.97  110.81  112.40      0      0        0.00\n",
      "--------------------------------------------------\n",
      "<class 'pandas.core.frame.DataFrame'>\n",
      "DatetimeIndex: 1430998 entries, 2009-09-28 09:30:00 to 2018-10-19 20:00:00\n",
      "Data columns (total 6 columns):\n",
      "price    1430998 non-null float64\n",
      "bid      1430998 non-null float64\n",
      "ask      1430998 non-null float64\n",
      "size     1430998 non-null int64\n",
      "v        1430998 non-null int64\n",
      "dv       1430998 non-null float64\n",
      "dtypes: float64(4), int64(2)\n",
      "memory usage: 76.4 MB\n",
      "None\n",
      "-------------------------------------------------------------------------------\n",
      "\n"
     ]
    }
   ],
   "source": [
    "infp=PurePath(data_dir/'processed'/'clean_IVE_fut_prices.parq')\n",
    "df = pd.read_parquet(infp)\n",
    "cprint(df)"
   ]
  },
  {
   "cell_type": "markdown",
   "metadata": {},
   "source": [
    "# Tick Bars"
   ]
  },
  {
   "cell_type": "code",
   "execution_count": 14,
   "metadata": {
    "ExecuteTime": {
     "end_time": "2018-05-05T00:36:37.778351Z",
     "start_time": "2018-05-05T00:36:37.437179Z"
    }
   },
   "outputs": [],
   "source": [
    "def tick_bars(df, price_column, m):\n",
    "    '''\n",
    "    compute tick bars\n",
    "\n",
    "    # args\n",
    "        df: pd.DataFrame()\n",
    "        column: name for price data\n",
    "        m: int(), threshold value for ticks\n",
    "    # returns\n",
    "        idx: list of indices\n",
    "    '''\n",
    "    t = df[price_column]\n",
    "    ts = 0\n",
    "    idx = []\n",
    "    for i, x in enumerate(tqdm(t)):\n",
    "        ts += 1\n",
    "        if ts >= m:\n",
    "            idx.append(i)\n",
    "            ts = 0\n",
    "            continue\n",
    "    return idx\n",
    "\n",
    "def tick_bar_df(df, price_column, m):\n",
    "    idx = tick_bars(df, price_column, m)\n",
    "    return df.iloc[idx].drop_duplicates()"
   ]
  },
  {
   "cell_type": "markdown",
   "metadata": {},
   "source": [
    "There are many ways to choose `M`, or the threshold value for sampling prices. One way is based on ratios of total dollar value/volume traded vs number of ticks. The rest of the notebook uses an arbitrary but sensible `M` value. I leave it as an exercise for the reader to see how the results change based on different values of `M`."
   ]
  },
  {
   "cell_type": "code",
   "execution_count": 15,
   "metadata": {
    "ExecuteTime": {
     "end_time": "2018-05-05T00:36:38.140768Z",
     "start_time": "2018-05-05T00:36:37.782229Z"
    }
   },
   "outputs": [
    {
     "name": "stdout",
     "output_type": "stream",
     "text": [
      "num ticks: 1,430,998\n",
      "volume ratio: 547.0\n",
      "dollar ratio: 46603.0\n"
     ]
    }
   ],
   "source": [
    "n_ticks = df.shape[0]\n",
    "volume_ratio = (df.v.sum()/n_ticks).round()\n",
    "dollar_ratio = (df.dv.sum()/n_ticks).round()\n",
    "print(f'num ticks: {n_ticks:,}')\n",
    "print(f'volume ratio: {volume_ratio}')\n",
    "print(f'dollar ratio: {dollar_ratio}')"
   ]
  },
  {
   "cell_type": "code",
   "execution_count": 18,
   "metadata": {
    "ExecuteTime": {
     "end_time": "2018-05-05T00:36:38.932231Z",
     "start_time": "2018-05-05T00:36:38.142830Z"
    }
   },
   "outputs": [
    {
     "name": "stderr",
     "output_type": "stream",
     "text": [
      "100%|██████████| 1430998/1430998 [00:00<00:00, 2819576.35it/s]\n"
     ]
    },
    {
     "data": {
      "text/plain": [
       "[199, 399, 599, 799, 999, 1199, 1399, 1599, 1799, 1999]"
      ]
     },
     "execution_count": 18,
     "metadata": {},
     "output_type": "execute_result"
    }
   ],
   "source": [
    "tick_M = 200 # arbitrary\n",
    "#print(f'tick threshold: {tick_M:,}')\n",
    "tidx = tick_bars(df, 'price', tick_M)\n",
    "tidx[:10]"
   ]
  },
  {
   "cell_type": "code",
   "execution_count": 19,
   "metadata": {
    "ExecuteTime": {
     "end_time": "2018-05-05T00:36:39.266920Z",
     "start_time": "2018-05-05T00:36:38.933579Z"
    }
   },
   "outputs": [
    {
     "data": {
      "text/plain": [
       "((7154, 6), (1430998, 6))"
      ]
     },
     "execution_count": 19,
     "metadata": {},
     "output_type": "execute_result"
    }
   ],
   "source": [
    "df.iloc[tidx].shape, df.shape"
   ]
  },
  {
   "cell_type": "markdown",
   "metadata": {},
   "source": [
    "Dataset is large so select smaller example for quick exploration"
   ]
  },
  {
   "cell_type": "code",
   "execution_count": 20,
   "metadata": {
    "ExecuteTime": {
     "end_time": "2018-05-05T00:36:40.120356Z",
     "start_time": "2018-05-05T00:36:39.269233Z"
    },
    "scrolled": true
   },
   "outputs": [
    {
     "name": "stderr",
     "output_type": "stream",
     "text": [
      "100%|██████████| 1430998/1430998 [00:00<00:00, 2680673.17it/s]\n"
     ]
    },
    {
     "data": {
      "text/plain": [
       "(7154, 6)"
      ]
     },
     "execution_count": 20,
     "metadata": {},
     "output_type": "execute_result"
    }
   ],
   "source": [
    "tick_df = tick_bar_df(df, 'price', tick_M)\n",
    "tick_df.shape"
   ]
  },
  {
   "cell_type": "code",
   "execution_count": 21,
   "metadata": {},
   "outputs": [
    {
     "name": "stdout",
     "output_type": "stream",
     "text": [
      "-------------------------------------------------------------------------------\n",
      "dataframe information\n",
      "-------------------------------------------------------------------------------\n",
      "                        price     bid     ask  size     v           dv\n",
      "dates                                                                 \n",
      "2018-10-19 09:30:00  111.8300  111.79  111.90  6055  6055  677130.6500\n",
      "2018-10-19 11:34:22  112.3300  112.33  112.34   800   800   89864.0000\n",
      "2018-10-19 12:56:39  112.1999  112.18  112.20   246   246   27601.1754\n",
      "2018-10-19 14:12:12  111.9100  111.90  111.91   195   195   21822.4500\n",
      "2018-10-19 15:27:25  112.1600  112.14  112.16   600   600   67296.0000\n",
      "--------------------------------------------------\n",
      "<class 'pandas.core.frame.DataFrame'>\n",
      "DatetimeIndex: 7154 entries, 2009-09-28 10:02:52 to 2018-10-19 15:27:25\n",
      "Data columns (total 6 columns):\n",
      "price    7154 non-null float64\n",
      "bid      7154 non-null float64\n",
      "ask      7154 non-null float64\n",
      "size     7154 non-null int64\n",
      "v        7154 non-null int64\n",
      "dv       7154 non-null float64\n",
      "dtypes: float64(4), int64(2)\n",
      "memory usage: 391.2 KB\n",
      "None\n",
      "-------------------------------------------------------------------------------\n",
      "\n"
     ]
    }
   ],
   "source": [
    "cprint(tick_df)"
   ]
  },
  {
   "cell_type": "code",
   "execution_count": 22,
   "metadata": {
    "ExecuteTime": {
     "end_time": "2018-05-05T00:36:46.224121Z",
     "start_time": "2018-05-05T00:36:40.122783Z"
    }
   },
   "outputs": [
    {
     "data": {
      "text/plain": [
       "((1466,), (8,))"
      ]
     },
     "execution_count": 22,
     "metadata": {},
     "output_type": "execute_result"
    }
   ],
   "source": [
    "def select_sample_data(ref, sub, price_col, date):\n",
    "    '''\n",
    "    select a sample of data based on date, assumes datetimeindex\n",
    "    \n",
    "    # args\n",
    "        ref: pd.DataFrame containing all ticks\n",
    "        sub: subordinated pd.DataFrame of prices\n",
    "        price_col: str(), price column\n",
    "        date: str(), date to select\n",
    "    # returns\n",
    "        xdf: ref pd.Series\n",
    "        xtdf: subordinated pd.Series\n",
    "    '''\n",
    "    xdf = ref[price_col].loc[date]\n",
    "    xtdf = sub[price_col].loc[date]\n",
    "    return xdf, xtdf\n",
    "\n",
    "## try different dates to see how the quantity of tick bars changes\n",
    "xDate ='2009-10-01' #'2017-10-4'\n",
    "xdf, xtdf = select_sample_data(df, tick_df, 'price', xDate)\n",
    "\n",
    "xdf.shape, xtdf.shape"
   ]
  },
  {
   "cell_type": "code",
   "execution_count": 23,
   "metadata": {
    "ExecuteTime": {
     "end_time": "2018-05-05T00:36:47.034945Z",
     "start_time": "2018-05-05T00:36:46.226037Z"
    }
   },
   "outputs": [
    {
     "data": {
      "image/png": "[encoded data removed]",
      "text/plain": [
       "<Figure size 720x504 with 3 Axes>"
      ]
     },
     "metadata": {
      "needs_background": "light"
     },
     "output_type": "display_data"
    }
   ],
   "source": [
    "def plot_sample_data(ref, sub, bar_type, *args, **kwds):\n",
    "    f,axes=plt.subplots(3,sharex=True, sharey=True, figsize=(10,7))\n",
    "    ref.plot(*args, **kwds, ax=axes[0], label='price')\n",
    "    sub.plot(*args, **kwds, ax=axes[0], marker='X', ls='', label=bar_type)\n",
    "    axes[0].legend();\n",
    "    \n",
    "    ref.plot(*args, **kwds, ax=axes[1], label='price', marker='o')\n",
    "    sub.plot(*args, **kwds, ax=axes[2], ls='', marker='X',\n",
    "             color='r', label=bar_type)\n",
    "\n",
    "    for ax in axes[1:]: ax.legend()\n",
    "    plt.tight_layout()\n",
    "    \n",
    "    return\n",
    "\n",
    "plot_sample_data(xdf, xtdf, 'tick bar', alpha=0.5, markersize=7)"
   ]
  },
  {
   "cell_type": "markdown",
   "metadata": {},
   "source": [
    "### Bonus Exercise: Make OHLC Bars from Custom Bars"
   ]
  },
  {
   "cell_type": "markdown",
   "metadata": {},
   "source": [
    "Extract `tick_df.price` and `df.price` into two pandas series."
   ]
  },
  {
   "cell_type": "code",
   "execution_count": 24,
   "metadata": {
    "ExecuteTime": {
     "end_time": "2018-05-05T00:36:47.302701Z",
     "start_time": "2018-05-05T00:36:47.036224Z"
    }
   },
   "outputs": [],
   "source": [
    "sub = tick_df.price\n",
    "ref = df.price"
   ]
  },
  {
   "cell_type": "markdown",
   "metadata": {},
   "source": [
    "The function below creates the OHLC dataframe by:\n",
    "    1. Iterating over the subordinated series' index extracting idx and idx+1 period\n",
    "    2. Selecting the same date period from the reference series\n",
    "    3. Extracting the max, min prices from the reference series.\n",
    "    4. Combining the o,h,l,c and start and end timestamps into a row\n",
    "    5. Returning the aggregated rows as a pandas dataframe."
   ]
  },
  {
   "cell_type": "code",
   "execution_count": 25,
   "metadata": {
    "ExecuteTime": {
     "end_time": "2018-05-05T00:36:47.600145Z",
     "start_time": "2018-05-05T00:36:47.304265Z"
    }
   },
   "outputs": [
    {
     "name": "stderr",
     "output_type": "stream",
     "text": [
      "100%|██████████| 7153/7153 [00:02<00:00, 2699.74it/s]\n"
     ]
    },
    {
     "name": "stdout",
     "output_type": "stream",
     "text": [
      "-------------------------------------------------------------------------------\n",
      "dataframe information\n",
      "-------------------------------------------------------------------------------\n",
      "                     end               start      open    high       low  \\\n",
      "7148 2018-10-19 09:30:00 2018-10-18 15:13:22  111.5065  112.01  111.4664   \n",
      "7149 2018-10-19 11:34:22 2018-10-19 09:30:00  111.8300  112.78  111.8300   \n",
      "7150 2018-10-19 12:56:39 2018-10-19 11:34:22  112.3300  112.64  112.0100   \n",
      "7151 2018-10-19 14:12:12 2018-10-19 12:56:39  112.1999  112.45  111.7600   \n",
      "7152 2018-10-19 15:27:25 2018-10-19 14:12:12  111.9100  112.26  111.8467   \n",
      "\n",
      "         close  \n",
      "7148  111.8300  \n",
      "7149  112.3300  \n",
      "7150  112.1999  \n",
      "7151  111.9100  \n",
      "7152  112.1600  \n",
      "--------------------------------------------------\n",
      "<class 'pandas.core.frame.DataFrame'>\n",
      "RangeIndex: 7153 entries, 0 to 7152\n",
      "Data columns (total 6 columns):\n",
      "end      7153 non-null datetime64[ns]\n",
      "start    7153 non-null datetime64[ns]\n",
      "open     7153 non-null float64\n",
      "high     7153 non-null float64\n",
      "low      7153 non-null float64\n",
      "close    7153 non-null float64\n",
      "dtypes: datetime64[ns](2), float64(4)\n",
      "memory usage: 335.4 KB\n",
      "None\n",
      "-------------------------------------------------------------------------------\n",
      "\n"
     ]
    }
   ],
   "source": [
    "def get_ohlc(ref, sub):\n",
    "    '''\n",
    "    fn: get ohlc from custom bars\n",
    "    \n",
    "    # args\n",
    "        ref : reference pandas series with all prices\n",
    "        sub : custom tick pandas series\n",
    "    # returns\n",
    "        tick_df : dataframe with ohlc values\n",
    "    '''\n",
    "    ohlc = []\n",
    "    for i in tqdm(range(sub.index.shape[0]-1)):\n",
    "        start,end = sub.index[i], sub.index[i+1]\n",
    "        tmp_ref = ref.loc[start:end]\n",
    "        max_px, min_px = tmp_ref.max(), tmp_ref.min()\n",
    "        o,h,l,c = sub.iloc[i], max_px, min_px, sub.iloc[i+1]\n",
    "        ohlc.append((end,start,o,h,l,c))\n",
    "    cols = ['end','start','open','high','low','close']\n",
    "    return (pd.DataFrame(ohlc,columns=cols))\n",
    "\n",
    "## uncomment below to run (takes about 5-6 mins on my machine)\n",
    "tick_bars_ohlc = get_ohlc(ref, sub)\n",
    "cprint(tick_bars_ohlc)\n",
    "\n",
    "outfp = PurePath(data_dir/'processed'/'tick_bars_ohlc.parq')\n",
    "tick_bars_ohlc.to_parquet(outfp)"
   ]
  },
  {
   "cell_type": "code",
   "execution_count": 26,
   "metadata": {},
   "outputs": [
    {
     "data": {
      "image/png": "[encoded data removed]",
      "text/plain": [
       "<Figure size 864x576 with 1 Axes>"
      ]
     },
     "metadata": {
      "needs_background": "light"
     },
     "output_type": "display_data"
    }
   ],
   "source": [
    "plt.figure(figsize=(12, 8))\n",
    "#plt.plot(df.price, ls='-')\n",
    "plt.plot(tick_df.price, ls='', marker='X', markersize=2, alpha=0.5)\n",
    "plt.show()"
   ]
  },
  {
   "cell_type": "markdown",
   "metadata": {},
   "source": [
    "# Volume Bars"
   ]
  },
  {
   "cell_type": "code",
   "execution_count": 27,
   "metadata": {
    "ExecuteTime": {
     "end_time": "2018-05-05T00:36:47.898221Z",
     "start_time": "2018-05-05T00:36:47.601572Z"
    }
   },
   "outputs": [],
   "source": [
    "def volume_bars(df, volume_column, m):\n",
    "    '''\n",
    "    compute volume bars\n",
    "\n",
    "    # args\n",
    "        df: pd.DataFrame()\n",
    "        volume_column: name for volume data\n",
    "        m: int(), threshold value for volume\n",
    "    # returns\n",
    "        idx: list of indices\n",
    "    '''\n",
    "    t = df[volume_column]\n",
    "    ts = 0\n",
    "    idx = []\n",
    "    for i, x in enumerate(tqdm(t)):\n",
    "        ts += x\n",
    "        if ts >= m:\n",
    "            idx.append(i)\n",
    "            ts = 0\n",
    "            continue\n",
    "    return idx\n",
    "\n",
    "def volume_bar_df(df, volume_column, m):\n",
    "    idx = volume_bars(df, volume_column, m)\n",
    "    return df.iloc[idx].drop_duplicates()"
   ]
  },
  {
   "cell_type": "code",
   "execution_count": 28,
   "metadata": {
    "ExecuteTime": {
     "end_time": "2018-05-05T00:36:48.774435Z",
     "start_time": "2018-05-05T00:36:47.900399Z"
    },
    "code_folding": []
   },
   "outputs": [
    {
     "name": "stderr",
     "output_type": "stream",
     "text": [
      "100%|██████████| 1430998/1430998 [00:00<00:00, 2700544.26it/s]"
     ]
    },
    {
     "name": "stdout",
     "output_type": "stream",
     "text": [
      "-------------------------------------------------------------------------------\n",
      "dataframe information\n",
      "-------------------------------------------------------------------------------\n",
      "                      price     bid     ask   size      v          dv\n",
      "dates                                                                \n",
      "2018-10-19 15:57:50  112.09  112.08  112.09   1500   1500   168135.00\n",
      "2018-10-19 15:59:09  111.99  111.99  112.00   2474   2474   277063.26\n",
      "2018-10-19 15:59:37  111.96  111.96  111.97   4000   4000   447840.00\n",
      "2018-10-19 15:59:59  111.96  111.95  111.96    866    866    96957.36\n",
      "2018-10-19 16:00:00  111.97  111.95  111.96  12439  12439  1392794.83\n",
      "--------------------------------------------------\n",
      "<class 'pandas.core.frame.DataFrame'>\n",
      "DatetimeIndex: 60865 entries, 2009-09-28 09:44:09 to 2018-10-19 16:00:00\n",
      "Data columns (total 6 columns):\n",
      "price    60865 non-null float64\n",
      "bid      60865 non-null float64\n",
      "ask      60865 non-null float64\n",
      "size     60865 non-null int64\n",
      "v        60865 non-null int64\n",
      "dv       60865 non-null float64\n",
      "dtypes: float64(4), int64(2)\n",
      "memory usage: 3.3 MB\n",
      "None\n",
      "-------------------------------------------------------------------------------\n",
      "\n"
     ]
    },
    {
     "name": "stderr",
     "output_type": "stream",
     "text": [
      "\n"
     ]
    }
   ],
   "source": [
    "volume_M =  10_000 # arbitrary \n",
    "#print(f'volume threshold: {volume_M:,}')\n",
    "v_bar_df = volume_bar_df(df, 'v', volume_M)\n",
    "cprint(v_bar_df)"
   ]
  },
  {
   "cell_type": "code",
   "execution_count": 29,
   "metadata": {
    "ExecuteTime": {
     "end_time": "2018-05-05T00:36:55.626890Z",
     "start_time": "2018-05-05T00:36:48.776371Z"
    }
   },
   "outputs": [
    {
     "name": "stdout",
     "output_type": "stream",
     "text": [
      "xdf shape: (1466,), xtdf shape: (48,)\n"
     ]
    },
    {
     "data": {
      "image/png": "[encoded data removed]",
      "text/plain": [
       "<Figure size 720x504 with 3 Axes>"
      ]
     },
     "metadata": {
      "needs_background": "light"
     },
     "output_type": "display_data"
    }
   ],
   "source": [
    "xDate = '2009-10-1'\n",
    "xdf, xtdf = select_sample_data(df, v_bar_df, 'price', xDate)\n",
    "print(f'xdf shape: {xdf.shape}, xtdf shape: {xtdf.shape}')\n",
    "\n",
    "plot_sample_data(xdf, xtdf, 'volume bar', alpha=0.5, markersize=7)  "
   ]
  },
  {
   "cell_type": "markdown",
   "metadata": {},
   "source": [
    "# Dollar Value Bars"
   ]
  },
  {
   "cell_type": "code",
   "execution_count": 30,
   "metadata": {
    "ExecuteTime": {
     "end_time": "2018-05-05T00:36:55.921723Z",
     "start_time": "2018-05-05T00:36:55.628100Z"
    }
   },
   "outputs": [],
   "source": [
    "def dollar_bars(df, dv_column, m):\n",
    "    '''\n",
    "    compute dollar bars\n",
    "\n",
    "    # args\n",
    "        df: pd.DataFrame()\n",
    "        dv_column: name for dollar volume data\n",
    "        m: int(), threshold value for dollars\n",
    "    # returns\n",
    "        idx: list of indices\n",
    "    '''\n",
    "    t = df[dv_column]\n",
    "    ts = 0\n",
    "    idx = []\n",
    "    for i, x in enumerate(tqdm(t)):\n",
    "        ts += x\n",
    "        if ts >= m:\n",
    "            idx.append(i)\n",
    "            ts = 0\n",
    "            continue\n",
    "    return idx\n",
    "\n",
    "def dollar_bar_df(df, dv_column, m):\n",
    "    idx = dollar_bars(df, dv_column, m)\n",
    "    return df.iloc[idx].drop_duplicates()"
   ]
  },
  {
   "cell_type": "code",
   "execution_count": 31,
   "metadata": {
    "ExecuteTime": {
     "end_time": "2018-05-05T00:36:56.779280Z",
     "start_time": "2018-05-05T00:36:55.923791Z"
    }
   },
   "outputs": [
    {
     "name": "stderr",
     "output_type": "stream",
     "text": [
      "100%|██████████| 1430998/1430998 [00:00<00:00, 2621664.20it/s]"
     ]
    },
    {
     "name": "stdout",
     "output_type": "stream",
     "text": [
      "-------------------------------------------------------------------------------\n",
      "dataframe information\n",
      "-------------------------------------------------------------------------------\n",
      "                      price     bid     ask   size      v          dv\n",
      "dates                                                                \n",
      "2018-10-19 15:57:50  112.09  112.08  112.09   1500   1500   168135.00\n",
      "2018-10-19 15:59:07  112.01  112.00  112.01    306    306    34275.06\n",
      "2018-10-19 15:59:37  111.96  111.96  111.97    313    313    35043.48\n",
      "2018-10-19 15:59:58  111.97  111.96  111.98   1586   1586   177584.42\n",
      "2018-10-19 16:00:00  111.97  111.95  111.96  12439  12439  1392794.83\n",
      "--------------------------------------------------\n",
      "<class 'pandas.core.frame.DataFrame'>\n",
      "DatetimeIndex: 51439 entries, 2009-09-28 09:46:35 to 2018-10-19 16:00:00\n",
      "Data columns (total 6 columns):\n",
      "price    51439 non-null float64\n",
      "bid      51439 non-null float64\n",
      "ask      51439 non-null float64\n",
      "size     51439 non-null int64\n",
      "v        51439 non-null int64\n",
      "dv       51439 non-null float64\n",
      "dtypes: float64(4), int64(2)\n",
      "memory usage: 2.7 MB\n",
      "None\n",
      "-------------------------------------------------------------------------------\n",
      "\n"
     ]
    },
    {
     "name": "stderr",
     "output_type": "stream",
     "text": [
      "\n"
     ]
    }
   ],
   "source": [
    "dollar_M = 1_000_000 # arbitrary \n",
    "#print(f'dollar threshold: {dollar_M:,}')\n",
    "dv_bar_df = dollar_bar_df(df, 'dv', dollar_M)\n",
    "cprint(dv_bar_df)"
   ]
  },
  {
   "cell_type": "code",
   "execution_count": 32,
   "metadata": {},
   "outputs": [],
   "source": [
    "# Computationally really expensive\n",
    "if(False):\n",
    "    df0 = df.copy()\n",
    "    print(df0.head())\n",
    "    idx = df0.resample('1S', convention='end')\n",
    "    df0 = df0.iloc[idx]\n",
    "    df0 = df0[~df0.index.duplicated(keep='last')]\n",
    "    outfp = PurePath(data_dir/'processed'/'IVE_dollarValue_resampled_1s.parquet')\n",
    "    df0.to_parquet(outfp)"
   ]
  },
  {
   "cell_type": "code",
   "execution_count": 33,
   "metadata": {
    "ExecuteTime": {
     "end_time": "2018-05-05T00:37:03.626421Z",
     "start_time": "2018-05-05T00:36:56.782573Z"
    }
   },
   "outputs": [
    {
     "name": "stdout",
     "output_type": "stream",
     "text": [
      "xdf shape: (1466,), xtdf shape: (26,)\n"
     ]
    },
    {
     "data": {
      "image/png": "[encoded data removed]",
      "text/plain": [
       "<Figure size 720x504 with 3 Axes>"
      ]
     },
     "metadata": {
      "needs_background": "light"
     },
     "output_type": "display_data"
    }
   ],
   "source": [
    "xDate = '2009-10-1'\n",
    "xdf, xtdf = select_sample_data(df, dv_bar_df, 'price', xDate)\n",
    "print(f'xdf shape: {xdf.shape}, xtdf shape: {xtdf.shape}')\n",
    "\n",
    "plot_sample_data(xdf, xtdf, 'dollar bar', alpha=0.5, markersize=7)  "
   ]
  },
  {
   "cell_type": "markdown",
   "metadata": {},
   "source": [
    "# Analyzing the Bars"
   ]
  },
  {
   "cell_type": "markdown",
   "metadata": {},
   "source": [
    "## Count Quantity of Bars By Each Bar Type (Weekly)"
   ]
  },
  {
   "cell_type": "code",
   "execution_count": 34,
   "metadata": {
    "ExecuteTime": {
     "end_time": "2018-05-05T00:37:03.903498Z",
     "start_time": "2018-05-05T00:37:03.627930Z"
    }
   },
   "outputs": [],
   "source": [
    "def count_bars(df, price_col='price'):\n",
    "    return df.groupby(pd.TimeGrouper('1W'))[price_col].count()\n",
    "\n",
    "def scale(s):\n",
    "    return (s-s.min())/(s.max()-s.min())"
   ]
  },
  {
   "cell_type": "code",
   "execution_count": 35,
   "metadata": {
    "ExecuteTime": {
     "end_time": "2018-05-05T00:37:04.239680Z",
     "start_time": "2018-05-05T00:37:03.906214Z"
    }
   },
   "outputs": [],
   "source": [
    "# count series\n",
    "# scale to compare 'apples to apples'\n",
    "tc = scale(count_bars(tick_df))\n",
    "vc = scale(count_bars(v_bar_df))\n",
    "dc = scale(count_bars(dv_bar_df))\n",
    "dfc = scale(count_bars(df))"
   ]
  },
  {
   "cell_type": "code",
   "execution_count": 36,
   "metadata": {
    "ExecuteTime": {
     "end_time": "2018-05-05T01:08:31.294452Z",
     "start_time": "2018-05-05T01:08:30.655597Z"
    }
   },
   "outputs": [
    {
     "data": {
      "text/plain": [
       "<matplotlib.legend.Legend at 0x7fa4754a3160>"
      ]
     },
     "execution_count": 36,
     "metadata": {},
     "output_type": "execute_result"
    },
    {
     "data": {
      "image/png": "[encoded data removed]",
      "text/plain": [
       "<Figure size 720x504 with 1 Axes>"
      ]
     },
     "metadata": {
      "needs_background": "light"
     },
     "output_type": "display_data"
    }
   ],
   "source": [
    "# plot time series of count\n",
    "\n",
    "f,ax=plt.subplots(figsize=(10,7))\n",
    "\n",
    "tc.plot(ax=ax, ls='-', label='tick count')\n",
    "vc.plot(ax=ax, ls='--', label='volume count')\n",
    "dc.plot(ax=ax, ls='-.', label='dollar count')\n",
    "\n",
    "ax.set_title('scaled bar counts')\n",
    "ax.legend()"
   ]
  },
  {
   "cell_type": "markdown",
   "metadata": {},
   "source": [
    "## Which Bar Type Has Most Stable Counts?"
   ]
  },
  {
   "cell_type": "code",
   "execution_count": 37,
   "metadata": {
    "ExecuteTime": {
     "end_time": "2018-05-05T01:15:38.670995Z",
     "start_time": "2018-05-05T01:15:38.332653Z"
    }
   },
   "outputs": [
    {
     "name": "stdout",
     "output_type": "stream",
     "text": [
      "tc std: 8.18%, vc std: 11.78%, dc std: 11.32%\n"
     ]
    },
    {
     "data": {
      "text/plain": [
       "tick      0.081775\n",
       "df        0.082095\n",
       "dollar    0.113185\n",
       "volume    0.117814\n",
       "dtype: float64"
      ]
     },
     "execution_count": 37,
     "metadata": {},
     "output_type": "execute_result"
    }
   ],
   "source": [
    "print(f'tc std: {tc.std():.2%}, vc std: {vc.std():.2%}, dc std: {dc.std():.2%}')\n",
    "\n",
    "bar_types = ['tick','volume','dollar','df']\n",
    "bar_std = [tc.std(),vc.std(),dc.std(),dfc.std()]\n",
    "counts = (pd.Series(bar_std,index=bar_types))\n",
    "counts.sort_values()"
   ]
  },
  {
   "cell_type": "markdown",
   "metadata": {},
   "source": [
    "## Which Bar Type Has the Lowest Serial Correlation?"
   ]
  },
  {
   "cell_type": "code",
   "execution_count": 38,
   "metadata": {
    "ExecuteTime": {
     "end_time": "2018-05-05T01:08:31.845911Z",
     "start_time": "2018-05-05T01:08:31.582441Z"
    }
   },
   "outputs": [],
   "source": [
    "def returns(s):\n",
    "    arr = np.diff(np.log(s))\n",
    "    return (pd.Series(arr, index=s.index[1:]))"
   ]
  },
  {
   "cell_type": "code",
   "execution_count": 39,
   "metadata": {
    "ExecuteTime": {
     "end_time": "2018-05-05T01:15:49.217691Z",
     "start_time": "2018-05-05T01:15:48.886957Z"
    }
   },
   "outputs": [],
   "source": [
    "tr = returns(tick_df.price)\n",
    "vr = returns(v_bar_df.price)\n",
    "dr = returns(dv_bar_df.price)\n",
    "df_ret = returns(df.price)   \n",
    "\n",
    "bar_returns = [tr, vr, dr, df_ret]"
   ]
  },
  {
   "cell_type": "code",
   "execution_count": 40,
   "metadata": {},
   "outputs": [
    {
     "data": {
      "text/plain": [
       "tick      0.511512\n",
       "volume    0.522661\n",
       "dollar    0.685738\n",
       "dtype: float64"
      ]
     },
     "execution_count": 40,
     "metadata": {},
     "output_type": "execute_result"
    }
   ],
   "source": [
    "bar_types = ['tick','volume','dollar']\n",
    "bar_autocorr = [tc.autocorr(),vc.autocorr(),dc.autocorr()]\n",
    "autocorrs = (pd.Series(bar_autocorr,index=bar_types))\n",
    "autocorrs.sort_values()"
   ]
  },
  {
   "cell_type": "code",
   "execution_count": 41,
   "metadata": {
    "ExecuteTime": {
     "end_time": "2018-05-05T01:17:45.890539Z",
     "start_time": "2018-05-05T01:17:45.516855Z"
    }
   },
   "outputs": [
    {
     "data": {
      "text/html": [
       "<div>\n",
       "<style scoped>\n",
       "    .dataframe tbody tr th:only-of-type {\n",
       "        vertical-align: middle;\n",
       "    }\n",
       "\n",
       "    .dataframe tbody tr th {\n",
       "        vertical-align: top;\n",
       "    }\n",
       "\n",
       "    .dataframe thead th {\n",
       "        text-align: right;\n",
       "    }\n",
       "</style>\n",
       "<table border=\"1\" class=\"dataframe\">\n",
       "  <thead>\n",
       "    <tr style=\"text-align: right;\">\n",
       "      <th></th>\n",
       "      <th>sample_size</th>\n",
       "      <th>autocorr_stat</th>\n",
       "    </tr>\n",
       "  </thead>\n",
       "  <tbody>\n",
       "    <tr>\n",
       "      <th>tick</th>\n",
       "      <td>7153.0</td>\n",
       "      <td>-0.132122</td>\n",
       "    </tr>\n",
       "    <tr>\n",
       "      <th>dollar</th>\n",
       "      <td>51438.0</td>\n",
       "      <td>-0.122732</td>\n",
       "    </tr>\n",
       "    <tr>\n",
       "      <th>volume</th>\n",
       "      <td>60864.0</td>\n",
       "      <td>-0.017535</td>\n",
       "    </tr>\n",
       "  </tbody>\n",
       "</table>\n",
       "</div>"
      ],
      "text/plain": [
       "        sample_size  autocorr_stat\n",
       "tick         7153.0      -0.132122\n",
       "dollar      51438.0      -0.122732\n",
       "volume      60864.0      -0.017535"
      ]
     },
     "metadata": {},
     "output_type": "display_data"
    },
    {
     "data": {
      "text/html": [
       "<div>\n",
       "<style scoped>\n",
       "    .dataframe tbody tr th:only-of-type {\n",
       "        vertical-align: middle;\n",
       "    }\n",
       "\n",
       "    .dataframe tbody tr th {\n",
       "        vertical-align: top;\n",
       "    }\n",
       "\n",
       "    .dataframe thead th {\n",
       "        text-align: right;\n",
       "    }\n",
       "</style>\n",
       "<table border=\"1\" class=\"dataframe\">\n",
       "  <thead>\n",
       "    <tr style=\"text-align: right;\">\n",
       "      <th></th>\n",
       "      <th>sample_size</th>\n",
       "      <th>autocorr_stat</th>\n",
       "    </tr>\n",
       "  </thead>\n",
       "  <tbody>\n",
       "    <tr>\n",
       "      <th>volume</th>\n",
       "      <td>60864.0</td>\n",
       "      <td>0.017535</td>\n",
       "    </tr>\n",
       "    <tr>\n",
       "      <th>dollar</th>\n",
       "      <td>51438.0</td>\n",
       "      <td>0.122732</td>\n",
       "    </tr>\n",
       "    <tr>\n",
       "      <th>tick</th>\n",
       "      <td>7153.0</td>\n",
       "      <td>0.132122</td>\n",
       "    </tr>\n",
       "  </tbody>\n",
       "</table>\n",
       "</div>"
      ],
      "text/plain": [
       "        sample_size  autocorr_stat\n",
       "volume      60864.0       0.017535\n",
       "dollar      51438.0       0.122732\n",
       "tick         7153.0       0.132122"
      ]
     },
     "metadata": {},
     "output_type": "display_data"
    }
   ],
   "source": [
    "def get_test_stats(bar_types,bar_returns,test_func,*args,**kwds):\n",
    "    \n",
    "    dct = {bar:(int(bar_ret.shape[0]), test_func(bar_ret,*args,**kwds)) \n",
    "           for bar,bar_ret in zip(bar_types,bar_returns)}\n",
    "    df = (pd.DataFrame.from_dict(dct)\n",
    "          .rename(index={0:'sample_size',1:f'{test_func.__name__}_stat'})\n",
    "          .T)\n",
    "    return df\n",
    "\n",
    "autocorrs = get_test_stats(bar_types,bar_returns,pd.Series.autocorr)\n",
    "display(autocorrs.sort_values('autocorr_stat'),\n",
    "        autocorrs.abs().sort_values('autocorr_stat'))"
   ]
  },
  {
   "cell_type": "code",
   "execution_count": 42,
   "metadata": {
    "ExecuteTime": {
     "end_time": "2018-05-05T01:08:32.817899Z",
     "start_time": "2018-05-05T01:08:32.477309Z"
    }
   },
   "outputs": [],
   "source": [
    "def plot_autocorr(bar_types,bar_returns):\n",
    "    f,axes=plt.subplots(len(bar_types),figsize=(10,7), sharey=True)\n",
    "\n",
    "    for i, (bar, typ) in enumerate(zip(bar_returns, bar_types)):\n",
    "        sm.graphics.tsa.plot_acf(bar, lags=120, ax=axes[i],\n",
    "                                 alpha=0.05, unbiased=True, fft=True,\n",
    "                                 zero=False,\n",
    "                                 title=f'{typ} AutoCorr')\n",
    "    plt.tight_layout()   \n",
    "    \n",
    "def plot_hist(bar_types,bar_rets):\n",
    "    f,axes=plt.subplots(len(bar_types),figsize=(10,6))\n",
    "    for i, (bar, typ) in enumerate(zip(bar_returns, bar_types)):\n",
    "        g = sns.distplot(bar, ax=axes[i], kde=False, label=typ)\n",
    "        g.set(yscale='log')\n",
    "        axes[i].legend()\n",
    "    plt.tight_layout()     "
   ]
  },
  {
   "cell_type": "code",
   "execution_count": 43,
   "metadata": {
    "ExecuteTime": {
     "end_time": "2018-05-05T01:08:34.001599Z",
     "start_time": "2018-05-05T01:08:32.819419Z"
    },
    "scrolled": false
   },
   "outputs": [
    {
     "data": {
      "image/png": "[encoded data removed]",
      "text/plain": [
       "<Figure size 720x504 with 3 Axes>"
      ]
     },
     "metadata": {
      "needs_background": "light"
     },
     "output_type": "display_data"
    }
   ],
   "source": [
    " plot_autocorr(bar_types,bar_returns)"
   ]
  },
  {
   "cell_type": "code",
   "execution_count": 45,
   "metadata": {
    "ExecuteTime": {
     "end_time": "2018-05-05T01:08:35.507998Z",
     "start_time": "2018-05-05T01:08:34.002850Z"
    }
   },
   "outputs": [
    {
     "data": {
      "image/png": "[encoded data removed]",
      "text/plain": [
       "<Figure size 720x432 with 3 Axes>"
      ]
     },
     "metadata": {
      "needs_background": "light"
     },
     "output_type": "display_data"
    }
   ],
   "source": [
    "plot_hist(bar_types,bar_returns)"
   ]
  },
  {
   "cell_type": "markdown",
   "metadata": {},
   "source": [
    "## Partition Bar Series into Monthly, Compute Variance of Returns, and Variance of Variance"
   ]
  },
  {
   "cell_type": "code",
   "execution_count": 46,
   "metadata": {
    "ExecuteTime": {
     "end_time": "2018-05-05T01:08:35.783601Z",
     "start_time": "2018-05-05T01:08:35.509227Z"
    }
   },
   "outputs": [],
   "source": [
    "def partition_monthly(s):\n",
    "    return s.resample('1M').var()"
   ]
  },
  {
   "cell_type": "code",
   "execution_count": 47,
   "metadata": {
    "ExecuteTime": {
     "end_time": "2018-05-05T01:16:13.455019Z",
     "start_time": "2018-05-05T01:16:13.021434Z"
    },
    "scrolled": true
   },
   "outputs": [],
   "source": [
    "tr_rs = partition_monthly(tr)\n",
    "vr_rs = partition_monthly(vr)\n",
    "dr_rs = partition_monthly(dr)\n",
    "df_ret_rs = partition_monthly(df_ret)\n",
    "monthly_vars = [tr_rs, vr_rs, dr_rs, df_ret_rs]"
   ]
  },
  {
   "cell_type": "code",
   "execution_count": 48,
   "metadata": {
    "ExecuteTime": {
     "end_time": "2018-05-05T01:16:19.562679Z",
     "start_time": "2018-05-05T01:16:19.220785Z"
    }
   },
   "outputs": [
    {
     "data": {
      "text/html": [
       "<div>\n",
       "<style scoped>\n",
       "    .dataframe tbody tr th:only-of-type {\n",
       "        vertical-align: middle;\n",
       "    }\n",
       "\n",
       "    .dataframe tbody tr th {\n",
       "        vertical-align: top;\n",
       "    }\n",
       "\n",
       "    .dataframe thead th {\n",
       "        text-align: right;\n",
       "    }\n",
       "</style>\n",
       "<table border=\"1\" class=\"dataframe\">\n",
       "  <thead>\n",
       "    <tr style=\"text-align: right;\">\n",
       "      <th></th>\n",
       "      <th>sample_size</th>\n",
       "      <th>var_stat</th>\n",
       "    </tr>\n",
       "  </thead>\n",
       "  <tbody>\n",
       "    <tr>\n",
       "      <th>dollar</th>\n",
       "      <td>110.0</td>\n",
       "      <td>2.099164e-09</td>\n",
       "    </tr>\n",
       "    <tr>\n",
       "      <th>volume</th>\n",
       "      <td>110.0</td>\n",
       "      <td>2.710072e-09</td>\n",
       "    </tr>\n",
       "    <tr>\n",
       "      <th>tick</th>\n",
       "      <td>110.0</td>\n",
       "      <td>1.825414e-08</td>\n",
       "    </tr>\n",
       "  </tbody>\n",
       "</table>\n",
       "</div>"
      ],
      "text/plain": [
       "        sample_size      var_stat\n",
       "dollar        110.0  2.099164e-09\n",
       "volume        110.0  2.710072e-09\n",
       "tick          110.0  1.825414e-08"
      ]
     },
     "execution_count": 48,
     "metadata": {},
     "output_type": "execute_result"
    }
   ],
   "source": [
    "get_test_stats(bar_types,monthly_vars,np.var).sort_values('var_stat')"
   ]
  },
  {
   "cell_type": "markdown",
   "metadata": {},
   "source": [
    "## Compute Jarque-Bera Test, Which Has Lowest Test Statistic?"
   ]
  },
  {
   "cell_type": "code",
   "execution_count": 49,
   "metadata": {
    "ExecuteTime": {
     "end_time": "2018-05-05T01:08:36.802000Z",
     "start_time": "2018-05-05T01:08:36.406004Z"
    }
   },
   "outputs": [
    {
     "data": {
      "text/html": [
       "<div>\n",
       "<style scoped>\n",
       "    .dataframe tbody tr th:only-of-type {\n",
       "        vertical-align: middle;\n",
       "    }\n",
       "\n",
       "    .dataframe tbody tr th {\n",
       "        vertical-align: top;\n",
       "    }\n",
       "\n",
       "    .dataframe thead th {\n",
       "        text-align: right;\n",
       "    }\n",
       "</style>\n",
       "<table border=\"1\" class=\"dataframe\">\n",
       "  <thead>\n",
       "    <tr style=\"text-align: right;\">\n",
       "      <th></th>\n",
       "      <th>sample_size</th>\n",
       "      <th>jb_stat</th>\n",
       "    </tr>\n",
       "  </thead>\n",
       "  <tbody>\n",
       "    <tr>\n",
       "      <th>tick</th>\n",
       "      <td>7153.0</td>\n",
       "      <td>1.127301e+08</td>\n",
       "    </tr>\n",
       "    <tr>\n",
       "      <th>dollar</th>\n",
       "      <td>51438.0</td>\n",
       "      <td>5.559126e+10</td>\n",
       "    </tr>\n",
       "    <tr>\n",
       "      <th>volume</th>\n",
       "      <td>60864.0</td>\n",
       "      <td>3.349965e+11</td>\n",
       "    </tr>\n",
       "  </tbody>\n",
       "</table>\n",
       "</div>"
      ],
      "text/plain": [
       "        sample_size       jb_stat\n",
       "tick         7153.0  1.127301e+08\n",
       "dollar      51438.0  5.559126e+10\n",
       "volume      60864.0  3.349965e+11"
      ]
     },
     "execution_count": 49,
     "metadata": {},
     "output_type": "execute_result"
    }
   ],
   "source": [
    "def jb(x,test=True): \n",
    "    np.random.seed(12345678)\n",
    "    if test: return stats.jarque_bera(x)[0]\n",
    "    return stats.jarque_bera(x)[1]\n",
    "\n",
    "get_test_stats(bar_types,bar_returns,jb).sort_values('jb_stat')"
   ]
  },
  {
   "cell_type": "markdown",
   "metadata": {},
   "source": [
    "## Compute Shapiro-Wilk Test"
   ]
  },
  {
   "cell_type": "markdown",
   "metadata": {},
   "source": [
    "Shapiro-Wilk test statistic > larger is better."
   ]
  },
  {
   "cell_type": "code",
   "execution_count": 50,
   "metadata": {
    "ExecuteTime": {
     "end_time": "2018-05-05T01:08:37.132288Z",
     "start_time": "2018-05-05T01:08:36.803870Z"
    }
   },
   "outputs": [
    {
     "data": {
      "text/html": [
       "<div>\n",
       "<style scoped>\n",
       "    .dataframe tbody tr th:only-of-type {\n",
       "        vertical-align: middle;\n",
       "    }\n",
       "\n",
       "    .dataframe tbody tr th {\n",
       "        vertical-align: top;\n",
       "    }\n",
       "\n",
       "    .dataframe thead th {\n",
       "        text-align: right;\n",
       "    }\n",
       "</style>\n",
       "<table border=\"1\" class=\"dataframe\">\n",
       "  <thead>\n",
       "    <tr style=\"text-align: right;\">\n",
       "      <th></th>\n",
       "      <th>sample_size</th>\n",
       "      <th>shapiro_stat</th>\n",
       "    </tr>\n",
       "  </thead>\n",
       "  <tbody>\n",
       "    <tr>\n",
       "      <th>tick</th>\n",
       "      <td>7153.0</td>\n",
       "      <td>0.592870</td>\n",
       "    </tr>\n",
       "    <tr>\n",
       "      <th>dollar</th>\n",
       "      <td>51438.0</td>\n",
       "      <td>0.407535</td>\n",
       "    </tr>\n",
       "    <tr>\n",
       "      <th>volume</th>\n",
       "      <td>60864.0</td>\n",
       "      <td>0.284183</td>\n",
       "    </tr>\n",
       "  </tbody>\n",
       "</table>\n",
       "</div>"
      ],
      "text/plain": [
       "        sample_size  shapiro_stat\n",
       "tick         7153.0      0.592870\n",
       "dollar      51438.0      0.407535\n",
       "volume      60864.0      0.284183"
      ]
     },
     "execution_count": 50,
     "metadata": {},
     "output_type": "execute_result"
    }
   ],
   "source": [
    "def shapiro(x,test=True): \n",
    "    np.random.seed(12345678)\n",
    "    if test: return stats.shapiro(x)[0]\n",
    "    return stats.shapiro(x)[1]\n",
    "\n",
    "(get_test_stats(bar_types,bar_returns,shapiro)\n",
    " .sort_values('shapiro_stat')[::-1])"
   ]
  },
  {
   "cell_type": "markdown",
   "metadata": {},
   "source": [
    "# Compare Serial Correlation between Dollar and Dollar Imbalance Bars"
   ]
  },
  {
   "cell_type": "markdown",
   "metadata": {},
   "source": [
    "### Update [05.04.18]\n",
    "\n",
    "Earlier version was missing some additional code. Before we can compare we must compute the Dollar Imbalance Bar. This is my initial implementation of this concept but is experimental and may need some adjustments. \n",
    "\n",
    "   1. Compute the sequence ${bt}_{t=1,...,T}$.\n",
    "   2. Compute the imbalance at time $T$ defined as $\\theta_T = \\sum_{t=1}^{T}b_tv_t$.\n",
    "   3. Compute the expected value of $T$ as ewma of previous $T$ values.\n",
    "   4. Compute the expected value of $\\theta_T$ as ewma of $b_tv_t$ values.\n",
    "   5. for each index:\n",
    "        - compute $\\lvert\\theta_t\\rvert >= E_0[T] * \\lvert2v^+-E_0[v_t]\\rvert$\n",
    "        - if the condition is met capture the quantity of ticks\n",
    "        - reset tick count\n",
    "        - continue\n"
   ]
  },
  {
   "cell_type": "code",
   "execution_count": 51,
   "metadata": {
    "ExecuteTime": {
     "end_time": "2018-05-05T01:08:37.402694Z",
     "start_time": "2018-05-05T01:08:37.134093Z"
    },
    "scrolled": true
   },
   "outputs": [
    {
     "name": "stdout",
     "output_type": "stream",
     "text": [
      "-------------------------------------------------------------------------------\n",
      "dataframe information\n",
      "-------------------------------------------------------------------------------\n",
      "                             dv\n",
      "dates                          \n",
      "2018-10-19 15:59:59   100764.00\n",
      "2018-10-19 16:00:00  1392794.83\n",
      "2018-10-19 16:10:00        0.00\n",
      "2018-10-19 18:30:00        0.00\n",
      "2018-10-19 20:00:00        0.00\n",
      "--------------------------------------------------\n",
      "<class 'pandas.core.frame.DataFrame'>\n",
      "DatetimeIndex: 1430997 entries, 2009-09-28 09:30:00 to 2018-10-19 20:00:00\n",
      "Data columns (total 1 columns):\n",
      "dv    1430997 non-null float64\n",
      "dtypes: float64(1)\n",
      "memory usage: 21.8 MB\n",
      "None\n",
      "-------------------------------------------------------------------------------\n",
      "\n"
     ]
    }
   ],
   "source": [
    "tidx = get_imbalance(df.price.values)*df.dv.iloc[1:]\n",
    "cprint(tidx)"
   ]
  },
  {
   "cell_type": "code",
   "execution_count": 52,
   "metadata": {
    "ExecuteTime": {
     "end_time": "2018-05-05T01:08:41.492275Z",
     "start_time": "2018-05-05T01:08:37.404111Z"
    }
   },
   "outputs": [
    {
     "name": "stdout",
     "output_type": "stream",
     "text": [
      "window size: 1,430.00\n",
      "-------------------------------------------------------------------------------\n",
      "dataframe information\n",
      "-------------------------------------------------------------------------------\n",
      "                             bs        E_T         E_bs        absMul  \\\n",
      "dates                                                                   \n",
      "2018-10-19 15:59:59   100764.00  1429562.0  4828.120156  6.902097e+09   \n",
      "2018-10-19 16:00:00  1392794.83  1429563.0  5798.047975  8.288675e+09   \n",
      "2018-10-19 16:10:00        0.00  1429564.0  5793.996230  8.282888e+09   \n",
      "2018-10-19 18:30:00        0.00  1429565.0  5789.947316  8.277106e+09   \n",
      "2018-10-19 20:00:00        0.00  1429566.0  5785.901231  8.271328e+09   \n",
      "\n",
      "                         absTheta  \n",
      "dates                              \n",
      "2018-10-19 15:59:59  1.254843e+09  \n",
      "2018-10-19 16:00:00  1.253450e+09  \n",
      "2018-10-19 16:10:00  1.253450e+09  \n",
      "2018-10-19 18:30:00  1.253450e+09  \n",
      "2018-10-19 20:00:00  1.253450e+09  \n",
      "--------------------------------------------------\n",
      "<class 'pandas.core.frame.DataFrame'>\n",
      "DatetimeIndex: 1430997 entries, 2009-09-28 09:30:00 to 2018-10-19 20:00:00\n",
      "Data columns (total 5 columns):\n",
      "bs          1430997 non-null float64\n",
      "E_T         1430997 non-null float64\n",
      "E_bs        1430997 non-null float64\n",
      "absMul      1430997 non-null float64\n",
      "absTheta    1430997 non-null float64\n",
      "dtypes: float64(5)\n",
      "memory usage: 105.5 MB\n",
      "None\n",
      "-------------------------------------------------------------------------------\n",
      "\n"
     ]
    }
   ],
   "source": [
    "wndo = tidx.shape[0]//1000\n",
    "print(f'window size: {wndo:,.2f}')\n",
    "\n",
    "## Expected value of bs approximated by ewm\n",
    "E_bs = tidx.ewm(wndo).mean() # expected `bs`\n",
    "\n",
    "## what is E_T??? \n",
    "## in this implementation E_T is ewm of index values\n",
    "E_T = pd.Series(range(tidx.shape[0]), index=tidx.index).ewm(wndo).mean()\n",
    "\n",
    "df0 =(pd.DataFrame().assign(bs=tidx)\n",
    "      .assign(E_T=E_T).assign(E_bs=E_bs)\n",
    "      .assign(absMul=lambda df: df.E_T*np.abs(df.E_bs))\n",
    "      .assign(absTheta=tidx.cumsum().abs()))\n",
    "cprint(df0)"
   ]
  },
  {
   "cell_type": "code",
   "execution_count": 53,
   "metadata": {
    "ExecuteTime": {
     "end_time": "2018-05-05T01:08:44.211934Z",
     "start_time": "2018-05-05T01:08:41.493878Z"
    }
   },
   "outputs": [
    {
     "data": {
      "image/png": "[encoded data removed]",
      "text/plain": [
       "<Figure size 720x432 with 2 Axes>"
      ]
     },
     "metadata": {
      "needs_background": "light"
     },
     "output_type": "display_data"
    }
   ],
   "source": [
    "df0[['E_T','E_bs']].plot(subplots=True, figsize=(10,6));"
   ]
  },
  {
   "cell_type": "code",
   "execution_count": 54,
   "metadata": {
    "ExecuteTime": {
     "end_time": "2018-05-05T01:08:44.710274Z",
     "start_time": "2018-05-05T01:08:44.214754Z"
    }
   },
   "outputs": [
    {
     "data": {
      "text/html": [
       "<div>\n",
       "<style scoped>\n",
       "    .dataframe tbody tr th:only-of-type {\n",
       "        vertical-align: middle;\n",
       "    }\n",
       "\n",
       "    .dataframe tbody tr th {\n",
       "        vertical-align: top;\n",
       "    }\n",
       "\n",
       "    .dataframe thead th {\n",
       "        text-align: right;\n",
       "    }\n",
       "</style>\n",
       "<table border=\"1\" class=\"dataframe\">\n",
       "  <thead>\n",
       "    <tr style=\"text-align: right;\">\n",
       "      <th></th>\n",
       "      <th>bs</th>\n",
       "      <th>E_T</th>\n",
       "      <th>E_bs</th>\n",
       "      <th>absMul</th>\n",
       "      <th>absTheta</th>\n",
       "    </tr>\n",
       "  </thead>\n",
       "  <tbody>\n",
       "    <tr>\n",
       "      <th>count</th>\n",
       "      <td>1430.997000</td>\n",
       "      <td>1430.997000</td>\n",
       "      <td>1430.997000</td>\n",
       "      <td>1.430997e+03</td>\n",
       "      <td>1.430997e+03</td>\n",
       "    </tr>\n",
       "    <tr>\n",
       "      <th>mean</th>\n",
       "      <td>-0.875928</td>\n",
       "      <td>714.070352</td>\n",
       "      <td>-0.878093</td>\n",
       "      <td>5.447968e+06</td>\n",
       "      <td>3.336754e+05</td>\n",
       "    </tr>\n",
       "    <tr>\n",
       "      <th>std</th>\n",
       "      <td>674.942672</td>\n",
       "      <td>413.089337</td>\n",
       "      <td>12.859053</td>\n",
       "      <td>1.404332e+07</td>\n",
       "      <td>3.285227e+05</td>\n",
       "    </tr>\n",
       "    <tr>\n",
       "      <th>min</th>\n",
       "      <td>-244194.944400</td>\n",
       "      <td>0.000000</td>\n",
       "      <td>-224.802879</td>\n",
       "      <td>0.000000e+00</td>\n",
       "      <td>3.537070e-01</td>\n",
       "    </tr>\n",
       "    <tr>\n",
       "      <th>25%</th>\n",
       "      <td>-19.514822</td>\n",
       "      <td>356.319000</td>\n",
       "      <td>-2.801518</td>\n",
       "      <td>4.509744e+05</td>\n",
       "      <td>4.802755e+04</td>\n",
       "    </tr>\n",
       "    <tr>\n",
       "      <th>50%</th>\n",
       "      <td>-4.970000</td>\n",
       "      <td>714.068000</td>\n",
       "      <td>-0.089950</td>\n",
       "      <td>1.651225e+06</td>\n",
       "      <td>1.332114e+05</td>\n",
       "    </tr>\n",
       "    <tr>\n",
       "      <th>75%</th>\n",
       "      <td>19.300000</td>\n",
       "      <td>1071.817000</td>\n",
       "      <td>2.641304</td>\n",
       "      <td>4.886528e+06</td>\n",
       "      <td>5.943405e+05</td>\n",
       "    </tr>\n",
       "    <tr>\n",
       "      <th>max</th>\n",
       "      <td>289491.800000</td>\n",
       "      <td>1429.566000</td>\n",
       "      <td>183.330445</td>\n",
       "      <td>3.096084e+08</td>\n",
       "      <td>1.401899e+06</td>\n",
       "    </tr>\n",
       "  </tbody>\n",
       "</table>\n",
       "</div>"
      ],
      "text/plain": [
       "                  bs          E_T         E_bs        absMul      absTheta\n",
       "count    1430.997000  1430.997000  1430.997000  1.430997e+03  1.430997e+03\n",
       "mean       -0.875928   714.070352    -0.878093  5.447968e+06  3.336754e+05\n",
       "std       674.942672   413.089337    12.859053  1.404332e+07  3.285227e+05\n",
       "min   -244194.944400     0.000000  -224.802879  0.000000e+00  3.537070e-01\n",
       "25%       -19.514822   356.319000    -2.801518  4.509744e+05  4.802755e+04\n",
       "50%        -4.970000   714.068000    -0.089950  1.651225e+06  1.332114e+05\n",
       "75%        19.300000  1071.817000     2.641304  4.886528e+06  5.943405e+05\n",
       "max    289491.800000  1429.566000   183.330445  3.096084e+08  1.401899e+06"
      ]
     },
     "metadata": {},
     "output_type": "display_data"
    }
   ],
   "source": [
    "display(df0.describe()/1000)"
   ]
  },
  {
   "cell_type": "code",
   "execution_count": 55,
   "metadata": {
    "ExecuteTime": {
     "end_time": "2018-05-05T01:28:13.856302Z",
     "start_time": "2018-05-05T01:28:07.710605Z"
    }
   },
   "outputs": [
    {
     "data": {
      "text/plain": [
       "<matplotlib.axes._subplots.AxesSubplot at 0x7fa473b79668>"
      ]
     },
     "execution_count": 55,
     "metadata": {},
     "output_type": "execute_result"
    },
    {
     "data": {
      "image/png": "[encoded data removed]",
      "text/plain": [
       "<Figure size 720x360 with 1 Axes>"
      ]
     },
     "metadata": {
      "needs_background": "light"
     },
     "output_type": "display_data"
    }
   ],
   "source": [
    "(df0.loc['2010-06',['absMul','absTheta']]\n",
    " .reset_index(drop=True)\n",
    " .plot(figsize=(10,5)))"
   ]
  },
  {
   "cell_type": "code",
   "execution_count": 56,
   "metadata": {
    "ExecuteTime": {
     "end_time": "2018-05-05T01:08:51.342504Z",
     "start_time": "2018-05-05T01:08:51.034248Z"
    }
   },
   "outputs": [],
   "source": [
    "def test_t_abs(absTheta,t,E_bs):\n",
    "    \"\"\"\n",
    "    Bool function to test inequality\n",
    "    *row is assumed to come from df.itertuples()\n",
    "    -absTheta: float(), row.absTheta\n",
    "    -t: pd.Timestamp()\n",
    "    -E_bs: float(), row.E_bs\n",
    "    \"\"\"\n",
    "    return (absTheta >= t*E_bs)\n",
    "\n",
    "def agg_imbalance_bars(df):\n",
    "    \"\"\"\n",
    "    Implements the accumulation logic\n",
    "    \"\"\"\n",
    "    start = df.index[0]  \n",
    "    bars = []\n",
    "    for row in tqdm(df.itertuples()):\n",
    "        t_abs = row.absTheta\n",
    "        rowIdx = row.Index\n",
    "        E_bs = row.E_bs\n",
    "        \n",
    "        t = df.loc[start:rowIdx].shape[0]\n",
    "        if t<1: t=1 # if t lt 1 set equal to 1\n",
    "        if test_t_abs(t_abs,t,E_bs):\n",
    "            bars.append((start,rowIdx,t))\n",
    "            start = rowIdx\n",
    "    return bars"
   ]
  },
  {
   "cell_type": "code",
   "execution_count": 60,
   "metadata": {
    "ExecuteTime": {
     "end_time": "2018-05-05T01:11:26.553865Z",
     "start_time": "2018-05-05T01:08:51.343906Z"
    },
    "scrolled": true
   },
   "outputs": [
    {
     "name": "stderr",
     "output_type": "stream",
     "text": [
      "\n",
      "0it [00:00, ?it/s]\u001b[A\n",
      "1it [00:00,  9.02it/s]\u001b[A\n",
      "555it [00:00, 12.88it/s]\u001b[A\n",
      "1121it [00:00, 18.38it/s]\u001b[A\n",
      "1687it [00:00, 26.23it/s]\u001b[A\n",
      "2202it [00:00, 37.39it/s]\u001b[A\n",
      "2781it [00:00, 53.26it/s]\u001b[A\n",
      "3329it [00:00, 75.77it/s]\u001b[A\n",
      "3885it [00:00, 107.61it/s]\u001b[A\n",
      "4439it [00:00, 152.46it/s]\u001b[A\n",
      "5000it [00:01, 215.30it/s]\u001b[A\n",
      "5569it [00:01, 302.66it/s]\u001b[A\n",
      "6114it [00:01, 421.37it/s]\u001b[A\n",
      "6663it [00:01, 582.79it/s]\u001b[A\n",
      "7204it [00:01, 795.79it/s]\u001b[A\n",
      "7788it [00:01, 1074.10it/s]\u001b[A\n",
      "8340it [00:01, 1410.89it/s]\u001b[A\n",
      "8918it [00:01, 1824.65it/s]\u001b[A\n",
      "9472it [00:01, 2279.53it/s]\u001b[A\n",
      "10024it [00:01, 2744.03it/s]\u001b[A\n",
      "10619it [00:02, 3272.55it/s]\u001b[A\n",
      "11241it [00:02, 3814.28it/s]\u001b[A\n",
      "11871it [00:02, 4325.59it/s]\u001b[A\n",
      "12482it [00:02, 4740.26it/s]\u001b[A\n",
      "13090it [00:02, 5075.06it/s]\u001b[A\n",
      "13703it [00:02, 5350.21it/s]\u001b[A\n",
      "14334it [00:02, 5604.70it/s]\u001b[A\n",
      "14947it [00:02, 5737.82it/s]\u001b[A\n",
      "15584it [00:02, 5913.40it/s]\u001b[A\n",
      "16213it [00:02, 6020.67it/s]\u001b[A\n",
      "16835it [00:03, 5998.09it/s]\u001b[A\n",
      "17455it [00:03, 6056.70it/s]\u001b[A\n",
      "18094it [00:03, 6151.08it/s]\u001b[A\n",
      "18731it [00:03, 6213.04it/s]\u001b[A\n",
      "19358it [00:03, 6173.68it/s]\u001b[A\n",
      "19980it [00:03, 6006.56it/s]\u001b[A\n",
      "20585it [00:03, 5880.02it/s]\u001b[A\n",
      "21188it [00:03, 5922.86it/s]\u001b[A\n",
      "21792it [00:03, 5955.77it/s]\u001b[A\n",
      "22390it [00:03, 5871.57it/s]\u001b[A\n",
      "23014it [00:04, 5975.22it/s]\u001b[A\n",
      "23622it [00:04, 6004.26it/s]\u001b[A\n",
      "24224it [00:04, 5842.93it/s]\u001b[A\n",
      "24810it [00:04, 5739.74it/s]\u001b[A\n",
      "25386it [00:04, 5652.44it/s]\u001b[A\n",
      "25953it [00:04, 5614.55it/s]\u001b[A\n",
      "26534it [00:04, 5671.39it/s]\u001b[A\n",
      "27103it [00:04, 5592.56it/s]\u001b[A\n",
      "27664it [00:04, 5517.82it/s]\u001b[A\n",
      "28278it [00:05, 5689.52it/s]\u001b[A\n",
      "28855it [00:05, 5712.61it/s]\u001b[A\n",
      "29457it [00:05, 5799.13it/s]\u001b[A\n",
      "30039it [00:05, 5732.94it/s]\u001b[A\n",
      "30664it [00:05, 5876.56it/s]\u001b[A\n",
      "31258it [00:05, 5893.06it/s]\u001b[A\n",
      "31854it [00:05, 5910.91it/s]\u001b[A\n",
      "32458it [00:05, 5946.66it/s]\u001b[A\n",
      "33090it [00:05, 6053.12it/s]\u001b[A\n",
      "33730it [00:05, 6152.08it/s]\u001b[A\n",
      "34366it [00:06, 6211.11it/s]\u001b[A\n",
      "34988it [00:06, 6172.27it/s]\u001b[A\n",
      "35606it [00:06, 6150.44it/s]\u001b[A\n",
      "36222it [00:06, 6023.63it/s]\u001b[A\n",
      "36826it [00:06, 5933.67it/s]\u001b[A\n",
      "37421it [00:06, 5626.17it/s]\u001b[A\n",
      "37988it [00:06, 5153.62it/s]\u001b[A\n",
      "38514it [00:06, 4931.29it/s]\u001b[A\n",
      "39017it [00:06, 4846.03it/s]\u001b[A\n",
      "39601it [00:06, 5106.33it/s]\u001b[A\n",
      "40172it [00:07, 5273.35it/s]\u001b[A\n",
      "40806it [00:07, 5552.08it/s]\u001b[A\n",
      "41371it [00:07, 5562.40it/s]\u001b[A\n",
      "41962it [00:07, 5658.61it/s]\u001b[A\n",
      "42578it [00:07, 5798.89it/s]\u001b[A\n",
      "43203it [00:07, 5925.62it/s]\u001b[A\n",
      "43817it [00:07, 5985.73it/s]\u001b[A\n",
      "44444it [00:07, 6066.84it/s]\u001b[A\n",
      "45053it [00:07, 6012.92it/s]\u001b[A\n",
      "45682it [00:08, 6091.98it/s]\u001b[A\n",
      "46293it [00:08, 6013.41it/s]\u001b[A\n",
      "46896it [00:08, 5926.51it/s]\u001b[A\n",
      "47490it [00:08, 5804.90it/s]\u001b[A\n",
      "48072it [00:08, 5723.33it/s]\u001b[A\n",
      "48667it [00:08, 5788.22it/s]\u001b[A\n",
      "49292it [00:08, 5918.41it/s]\u001b[A\n",
      "49886it [00:08, 5577.58it/s]\u001b[A\n",
      "50449it [00:08, 4734.76it/s]\u001b[A\n",
      "50948it [00:09, 4572.29it/s]\u001b[A\n",
      "51425it [00:09, 4569.26it/s]\u001b[A\n",
      "51980it [00:09, 4823.52it/s]\u001b[A\n",
      "52476it [00:09, 4670.12it/s]\u001b[A\n",
      "52954it [00:09, 4430.81it/s]\u001b[A\n",
      "53407it [00:09, 4435.40it/s]\u001b[A\n",
      "54001it [00:09, 4798.76it/s]\u001b[A\n",
      "54593it [00:09, 5087.31it/s]\u001b[A\n",
      "55181it [00:09, 5300.71it/s]\u001b[A\n",
      "55802it [00:09, 5543.83it/s]\u001b[A\n",
      "56424it [00:10, 5729.16it/s]\u001b[A\n",
      "57045it [00:10, 5864.15it/s]\u001b[A\n",
      "57666it [00:10, 5961.54it/s]\u001b[A\n",
      "58268it [00:10, 5967.17it/s]\u001b[A\n",
      "58869it [00:10, 5953.00it/s]\u001b[A\n",
      "59468it [00:10, 5890.29it/s]\u001b[A\n",
      "60060it [00:10, 5872.72it/s]\u001b[A\n",
      "60649it [00:10, 5864.67it/s]\u001b[A\n",
      "61237it [00:10, 5827.71it/s]\u001b[A\n",
      "61821it [00:10, 5703.85it/s]\u001b[A\n",
      "62393it [00:11, 5545.06it/s]\u001b[A\n",
      "63003it [00:11, 5699.94it/s]\u001b[A\n",
      "63583it [00:11, 5728.16it/s]\u001b[A\n",
      "64158it [00:11, 5576.66it/s]\u001b[A\n",
      "64735it [00:11, 5632.73it/s]\u001b[A\n",
      "65300it [00:11, 5614.25it/s]\u001b[A\n",
      "65863it [00:11, 5614.93it/s]\u001b[A\n",
      "66465it [00:11, 5728.38it/s]\u001b[A\n",
      "67072it [00:11, 5824.23it/s]\u001b[A\n",
      "67678it [00:12, 5890.18it/s]\u001b[A\n",
      "68318it [00:12, 6034.07it/s]\u001b[A\n",
      "68926it [00:12, 6045.31it/s]\u001b[A\n",
      "69532it [00:12, 5936.98it/s]\u001b[A\n",
      "70127it [00:12, 5809.93it/s]\u001b[A\n",
      "70710it [00:12, 5734.75it/s]\u001b[A\n",
      "71285it [00:12, 5675.25it/s]\u001b[A\n",
      "71854it [00:12, 5569.72it/s]\u001b[A\n",
      "72419it [00:12, 5592.71it/s]\u001b[A\n",
      "72980it [00:12, 5079.23it/s]\u001b[A\n",
      "73498it [00:13, 4899.90it/s]\u001b[A\n",
      "74013it [00:13, 4971.59it/s]\u001b[A\n",
      "74606it [00:13, 5224.31it/s]\u001b[A\n",
      "75226it [00:13, 5483.01it/s]\u001b[A\n",
      "75828it [00:13, 5632.09it/s]\u001b[A\n",
      "76399it [00:13, 5608.49it/s]\u001b[A\n",
      "76975it [00:13, 5650.27it/s]\u001b[A\n",
      "77546it [00:13, 5665.90it/s]\u001b[A\n",
      "78158it [00:13, 5793.15it/s]\u001b[A\n",
      "78740it [00:13, 5710.12it/s]\u001b[A\n",
      "79313it [00:14, 5594.19it/s]\u001b[A\n",
      "79934it [00:14, 5764.56it/s]\u001b[A\n",
      "80514it [00:14, 5639.48it/s]\u001b[A\n",
      "81081it [00:14, 5520.87it/s]\u001b[A\n",
      "81636it [00:14, 5471.91it/s]\u001b[A\n",
      "82196it [00:14, 5509.56it/s]\u001b[A\n",
      "82749it [00:14, 5501.59it/s]\u001b[A\n",
      "83308it [00:14, 5525.41it/s]\u001b[A\n",
      "83885it [00:14, 5596.51it/s]\u001b[A\n",
      "84504it [00:15, 5760.54it/s]\u001b[A\n",
      "85132it [00:15, 5906.83it/s]\u001b[A\n",
      "85750it [00:15, 5984.54it/s]\u001b[A\n",
      "86351it [00:15, 5911.18it/s]\u001b[A\n",
      "86944it [00:15, 5669.60it/s]\u001b[A\n",
      "87515it [00:15, 5463.18it/s]\u001b[A\n",
      "88066it [00:15, 5245.57it/s]\u001b[A\n",
      "88596it [00:15, 5240.94it/s]\u001b[A\n",
      "89140it [00:15, 5299.10it/s]\u001b[A\n",
      "89762it [00:15, 5543.33it/s]\u001b[A\n",
      "90345it [00:16, 5625.66it/s]\u001b[A\n",
      "90972it [00:16, 5803.70it/s]\u001b[A\n",
      "91557it [00:16, 5577.96it/s]\u001b[A\n",
      "92120it [00:16, 5321.72it/s]\u001b[A\n",
      "92658it [00:16, 5109.62it/s]\u001b[A\n",
      "93175it [00:16, 4971.69it/s]\u001b[A\n",
      "93678it [00:16, 4669.22it/s]\u001b[A\n",
      "94153it [00:16, 4688.76it/s]\u001b[A\n",
      "94645it [00:16, 4754.42it/s]\u001b[A\n",
      "95125it [00:17, 4560.09it/s]\u001b[A\n",
      "95592it [00:17, 4587.65it/s]\u001b[A\n",
      "96071it [00:17, 4645.52it/s]\u001b[A\n",
      "96564it [00:17, 4725.96it/s]\u001b[A\n",
      "97039it [00:17, 4732.80it/s]\u001b[A\n",
      "97514it [00:17, 4661.26it/s]\u001b[A\n",
      "98000it [00:17, 4717.11it/s]\u001b[A\n",
      "98504it [00:17, 4807.63it/s]\u001b[A\n",
      "98993it [00:17, 4830.02it/s]\u001b[A\n",
      "99488it [00:17, 4863.56it/s]\u001b[A\n",
      "99997it [00:18, 4928.72it/s]\u001b[A\n",
      "100491it [00:18, 4828.89it/s]\u001b[A\n",
      "101010it [00:18, 4930.37it/s]\u001b[A\n",
      "101505it [00:18, 4934.95it/s]\u001b[A\n",
      "102000it [00:18, 4890.79it/s]\u001b[A\n",
      "102512it [00:18, 4951.83it/s]\u001b[A\n",
      "103048it [00:18, 5066.17it/s]\u001b[A\n",
      "103564it [00:18, 5091.86it/s]\u001b[A\n",
      "104077it [00:18, 5102.62it/s]\u001b[A\n",
      "104606it [00:18, 5155.03it/s]\u001b[A\n",
      "105139it [00:19, 5204.08it/s]\u001b[A\n",
      "105688it [00:19, 5284.75it/s]\u001b[A\n",
      "106223it [00:19, 5303.11it/s]\u001b[A\n",
      "106845it [00:19, 5547.79it/s]\u001b[A\n",
      "107464it [00:19, 5724.41it/s]\u001b[A\n",
      "108099it [00:19, 5898.24it/s]\u001b[A\n",
      "108710it [00:19, 5957.87it/s]\u001b[A\n",
      "109336it [00:19, 6043.98it/s]\u001b[A\n",
      "109943it [00:19, 5975.26it/s]\u001b[A\n",
      "110543it [00:19, 5923.24it/s]\u001b[A\n",
      "111137it [00:20, 5851.30it/s]\u001b[A\n",
      "111724it [00:20, 5749.59it/s]\u001b[A\n",
      "112344it [00:20, 5875.50it/s]\u001b[A\n",
      "112973it [00:20, 5992.22it/s]\u001b[A\n",
      "113574it [00:20, 5991.24it/s]\u001b[A\n",
      "114175it [00:20, 5920.78it/s]\u001b[A\n",
      "114769it [00:20, 5890.03it/s]\u001b[A\n",
      "115359it [00:20, 5735.37it/s]\u001b[A\n",
      "115939it [00:20, 5753.31it/s]\u001b[A\n",
      "116558it [00:21, 5876.07it/s]\u001b[A\n",
      "117181it [00:21, 5977.12it/s]\u001b[A\n",
      "117798it [00:21, 6031.32it/s]\u001b[A\n",
      "118414it [00:21, 6068.46it/s]\u001b[A\n",
      "119036it [00:21, 6112.52it/s]\u001b[A\n",
      "119651it [00:21, 6122.54it/s]\u001b[A\n",
      "120264it [00:21, 6038.31it/s]\u001b[A\n",
      "120869it [00:21, 5978.30it/s]\u001b[A\n",
      "121468it [00:21, 5931.90it/s]\u001b[A\n",
      "122069it [00:21, 5955.06it/s]\u001b[A\n",
      "122665it [00:22, 5570.72it/s]\u001b[A\n",
      "123228it [00:22, 4381.17it/s]\u001b[A\n",
      "123710it [00:22, 3917.34it/s]\u001b[A\n",
      "124243it [00:22, 4254.98it/s]\u001b[A\n",
      "124862it [00:22, 4693.91it/s]\u001b[A\n",
      "125458it [00:22, 5012.17it/s]\u001b[A\n",
      "126053it [00:22, 5259.06it/s]\u001b[A\n",
      "126633it [00:22, 5409.68it/s]\u001b[A\n",
      "127252it [00:23, 5621.35it/s]\u001b[A\n",
      "127846it [00:23, 5711.77it/s]\u001b[A\n",
      "128429it [00:23, 5703.96it/s]\u001b[A\n",
      "129055it [00:23, 5857.73it/s]\u001b[A\n",
      "129655it [00:23, 5898.90it/s]\u001b[A\n",
      "130250it [00:23, 5865.74it/s]\u001b[A\n",
      "130846it [00:23, 5892.32it/s]\u001b[A\n",
      "131455it [00:23, 5949.00it/s]\u001b[A\n",
      "132052it [00:23, 5950.80it/s]\u001b[A\n",
      "132649it [00:23, 5949.03it/s]\u001b[A\n",
      "133257it [00:24, 5986.61it/s]\u001b[A\n",
      "133876it [00:24, 6045.83it/s]\u001b[A\n",
      "134499it [00:24, 6099.13it/s]\u001b[A\n",
      "135110it [00:24, 6094.36it/s]\u001b[A\n",
      "135720it [00:24, 6037.30it/s]\u001b[A\n",
      "136325it [00:24, 5975.06it/s]\u001b[A\n",
      "136923it [00:24, 5946.20it/s]\u001b[A\n",
      "137541it [00:24, 6010.65it/s]\u001b[A\n",
      "138161it [00:24, 6064.27it/s]\u001b[A\n",
      "138768it [00:24, 6030.22it/s]\u001b[A\n",
      "139393it [00:25, 6092.22it/s]\u001b[A\n",
      "140003it [00:25, 5940.05it/s]\u001b[A\n",
      "140599it [00:25, 5881.61it/s]\u001b[A\n",
      "141189it [00:25, 5860.28it/s]\u001b[A\n",
      "141780it [00:25, 5872.53it/s]\u001b[A\n",
      "142368it [00:25, 5838.93it/s]\u001b[A\n",
      "142984it [00:25, 5930.90it/s]\u001b[A\n",
      "143596it [00:25, 5984.02it/s]\u001b[A\n",
      "144208it [00:25, 6022.22it/s]\u001b[A\n",
      "144811it [00:25, 5909.28it/s]\u001b[A\n",
      "145422it [00:26, 5966.21it/s]\u001b[A\n",
      "146020it [00:26, 5767.80it/s]\u001b[A\n",
      "146627it [00:26, 5853.45it/s]\u001b[A\n",
      "147214it [00:26, 5848.06it/s]\u001b[A\n",
      "147800it [00:26, 5837.64it/s]\u001b[A\n",
      "148385it [00:26, 5804.66it/s]\u001b[A\n",
      "149011it [00:26, 5933.51it/s]\u001b[A\n",
      "149635it [00:26, 6021.75it/s]\u001b[A\n",
      "150239it [00:26, 5710.79it/s]\u001b[A\n",
      "150815it [00:27, 5168.02it/s]\u001b[A\n",
      "151345it [00:27, 4994.80it/s]\u001b[A\n",
      "151916it [00:27, 5189.16it/s]\u001b[A\n",
      "152528it [00:27, 5435.42it/s]\u001b[A\n",
      "153106it [00:27, 5534.27it/s]\u001b[A\n",
      "153716it [00:27, 5691.08it/s]\u001b[A\n",
      "154317it [00:27, 5781.33it/s]\u001b[A\n",
      "154941it [00:27, 5910.93it/s]\u001b[A\n",
      "155553it [00:27, 5971.01it/s]\u001b[A\n",
      "156155it [00:27, 5985.04it/s]\u001b[A\n",
      "156756it [00:28, 5966.21it/s]\u001b[A\n",
      "157362it [00:28, 5992.90it/s]\u001b[A\n",
      "157963it [00:28, 5994.70it/s]\u001b[A\n",
      "158578it [00:28, 6039.56it/s]\u001b[A\n",
      "159197it [00:28, 6082.10it/s]\u001b[A\n",
      "159806it [00:28, 6033.01it/s]\u001b[A\n",
      "160410it [00:28, 5893.98it/s]\u001b[A\n",
      "161040it [00:28, 6007.94it/s]\u001b[A\n",
      "161662it [00:28, 6069.50it/s]\u001b[A\n",
      "162274it [00:28, 6082.01it/s]\u001b[A\n",
      "162896it [00:29, 6122.55it/s]\u001b[A\n",
      "163509it [00:29, 6086.44it/s]\u001b[A\n",
      "164126it [00:29, 6109.40it/s]\u001b[A\n",
      "164738it [00:29, 6108.73it/s]\u001b[A\n",
      "165350it [00:29, 6095.98it/s]\u001b[A\n",
      "165960it [00:29, 6066.19it/s]\u001b[A\n",
      "166588it [00:29, 6126.64it/s]\u001b[A\n",
      "167205it [00:29, 6139.28it/s]\u001b[A\n",
      "167820it [00:29, 6122.44it/s]\u001b[A\n",
      "168434it [00:29, 6126.10it/s]\u001b[A\n",
      "169065it [00:30, 6179.47it/s]\u001b[A\n",
      "169694it [00:30, 6212.15it/s]\u001b[A\n",
      "170316it [00:30, 6075.09it/s]\u001b[A\n",
      "170925it [00:30, 6078.77it/s]\u001b[A\n",
      "171551it [00:30, 6131.90it/s]\u001b[A\n",
      "172181it [00:30, 6178.82it/s]\u001b[A\n",
      "172800it [00:30, 6148.89it/s]\u001b[A\n",
      "173423it [00:30, 6171.34it/s]\u001b[A\n",
      "174041it [00:30, 6132.48it/s]\u001b[A\n",
      "174656it [00:30, 6136.82it/s]\u001b[A\n",
      "175270it [00:31, 6113.66it/s]\u001b[A\n",
      "175883it [00:31, 6117.75it/s]\u001b[A\n",
      "176499it [00:31, 6128.07it/s]\u001b[A\n",
      "177112it [00:31, 6065.78it/s]\u001b[A\n",
      "177719it [00:31, 5996.67it/s]\u001b[A\n",
      "178336it [00:31, 6046.73it/s]\u001b[A\n",
      "178966it [00:31, 6119.45it/s]\u001b[A\n",
      "179602it [00:31, 6187.94it/s]\u001b[A\n",
      "180222it [00:31, 6091.19it/s]\u001b[A\n",
      "180863it [00:31, 6181.03it/s]\u001b[A\n",
      "181482it [00:32, 6149.67it/s]\u001b[A\n",
      "182098it [00:32, 6083.94it/s]\u001b[A\n",
      "182725it [00:32, 6137.81it/s]\u001b[A\n",
      "183340it [00:32, 6048.87it/s]\u001b[A\n",
      "183967it [00:32, 6112.73it/s]\u001b[A\n",
      "184579it [00:32, 6090.54it/s]\u001b[A\n",
      "185196it [00:32, 6113.51it/s]\u001b[A\n",
      "185836it [00:32, 6195.83it/s]\u001b[A\n",
      "186470it [00:32, 6238.05it/s]\u001b[A\n",
      "187095it [00:32, 6193.19it/s]\u001b[A\n",
      "187740it [00:33, 6267.40it/s]\u001b[A\n",
      "188381it [00:33, 6307.96it/s]\u001b[A\n",
      "189013it [00:33, 6292.59it/s]\u001b[A\n",
      "189654it [00:33, 6325.33it/s]\u001b[A\n",
      "190287it [00:33, 6251.58it/s]\u001b[A\n",
      "190913it [00:33, 6227.32it/s]\u001b[A\n",
      "191537it [00:33, 6110.44it/s]\u001b[A\n",
      "192167it [00:33, 6163.76it/s]\u001b[A\n",
      "192784it [00:33, 6124.08it/s]\u001b[A\n",
      "193405it [00:34, 6146.17it/s]\u001b[A\n",
      "194041it [00:34, 6206.57it/s]\u001b[A\n",
      "194669it [00:34, 6226.03it/s]\u001b[A\n",
      "195310it [00:34, 6279.93it/s]\u001b[A\n",
      "195939it [00:34, 6205.52it/s]\u001b[A\n",
      "196560it [00:34, 6199.91it/s]\u001b[A\n",
      "197181it [00:34, 6193.88it/s]\u001b[A\n",
      "197820it [00:34, 6251.17it/s]\u001b[A\n",
      "198446it [00:34, 6242.44it/s]\u001b[A\n",
      "199071it [00:34, 6176.88it/s]\u001b[A\n",
      "199689it [00:35, 6128.83it/s]\u001b[A\n",
      "200303it [00:35, 6000.21it/s]\u001b[A\n",
      "200909it [00:35, 6015.89it/s]\u001b[A\n",
      "201521it [00:35, 6045.22it/s]\u001b[A\n",
      "202136it [00:35, 6075.26it/s]\u001b[A\n",
      "202748it [00:35, 6086.43it/s]\u001b[A\n",
      "203364it [00:35, 6106.67it/s]\u001b[A\n",
      "203975it [00:35, 6089.24it/s]\u001b[A\n",
      "204585it [00:35, 6016.88it/s]\u001b[A\n",
      "205196it [00:35, 6042.61it/s]\u001b[A\n",
      "205822it [00:36, 6104.26it/s]\u001b[A\n",
      "206433it [00:36, 6040.23it/s]\u001b[A\n",
      "207061it [00:36, 6108.99it/s]\u001b[A\n",
      "207685it [00:36, 6147.03it/s]\u001b[A\n",
      "208322it [00:36, 6210.31it/s]\u001b[A\n",
      "208944it [00:36, 5780.54it/s]\u001b[A\n",
      "209529it [00:36, 5729.47it/s]\u001b[A\n",
      "210107it [00:36, 4052.62it/s]\u001b[A\n",
      "210584it [00:37, 4237.53it/s]\u001b[A\n",
      "211196it [00:37, 4668.11it/s]\u001b[A\n",
      "211804it [00:37, 5016.33it/s]\u001b[A\n",
      "212411it [00:37, 5291.74it/s]\u001b[A\n",
      "213035it [00:37, 5544.07it/s]\u001b[A\n",
      "213645it [00:37, 5699.06it/s]\u001b[A\n",
      "214264it [00:37, 5835.98it/s]\u001b[A\n",
      "214896it [00:37, 5971.14it/s]\u001b[A\n",
      "215541it [00:37, 6104.97it/s]\u001b[A\n",
      "216171it [00:37, 6161.10it/s]\u001b[A\n",
      "216794it [00:38, 6125.86it/s]\u001b[A\n",
      "217411it [00:38, 6115.39it/s]\u001b[A\n",
      "218026it [00:38, 6043.79it/s]\u001b[A\n",
      "218637it [00:38, 6060.91it/s]\u001b[A\n",
      "219271it [00:38, 6141.02it/s]\u001b[A\n",
      "219890it [00:38, 6155.58it/s]\u001b[A\n",
      "220507it [00:38, 6088.28it/s]\u001b[A\n",
      "221119it [00:38, 6095.18it/s]\u001b[A\n",
      "221757it [00:38, 6177.03it/s]\u001b[A\n",
      "222384it [00:38, 6202.61it/s]\u001b[A\n",
      "223005it [00:39, 5858.93it/s]\u001b[A\n",
      "223596it [00:39, 5509.95it/s]\u001b[A\n",
      "224156it [00:39, 5534.44it/s]\u001b[A\n",
      "224776it [00:39, 5716.76it/s]\u001b[A\n",
      "225386it [00:39, 5824.67it/s]\u001b[A\n",
      "225973it [00:39, 5808.19it/s]\u001b[A\n",
      "226578it [00:39, 5874.98it/s]\u001b[A\n",
      "227215it [00:39, 6013.54it/s]\u001b[A\n",
      "227823it [00:39, 6033.11it/s]\u001b[A\n",
      "228438it [00:39, 6067.55it/s]\u001b[A\n",
      "229050it [00:40, 6082.11it/s]\u001b[A\n",
      "229660it [00:40, 6019.63it/s]\u001b[A\n",
      "230263it [00:40, 2022.00it/s]\u001b[A\n",
      "230846it [00:41, 2514.62it/s]\u001b[A\n",
      "231454it [00:41, 3050.85it/s]\u001b[A\n",
      "231977it [00:41, 3441.98it/s]\u001b[A\n",
      "232587it [00:41, 3959.23it/s]\u001b[A\n",
      "233199it [00:41, 4428.22it/s]\u001b[A\n",
      "233788it [00:41, 4783.81it/s]\u001b[A\n",
      "234394it [00:41, 5104.75it/s]\u001b[A\n",
      "235016it [00:41, 5393.66it/s]\u001b[A\n",
      "235623it [00:41, 5579.98it/s]\u001b[A\n",
      "236257it [00:41, 5788.06it/s]\u001b[A\n",
      "236894it [00:42, 5950.97it/s]\u001b[A\n",
      "237511it [00:42, 5973.88it/s]\u001b[A\n",
      "238124it [00:42, 5973.73it/s]\u001b[A\n",
      "238733it [00:42, 6000.19it/s]\u001b[A\n",
      "239378it [00:42, 6127.01it/s]\u001b[A\n",
      "240001it [00:42, 6081.48it/s]\u001b[A\n",
      "240619it [00:42, 6109.44it/s]\u001b[A\n",
      "241243it [00:42, 6148.03it/s]\u001b[A\n",
      "241860it [00:42, 6082.88it/s]\u001b[A\n",
      "242479it [00:42, 6114.45it/s]\u001b[A\n",
      "243110it [00:43, 6169.42it/s]\u001b[A\n",
      "243751it [00:43, 6238.85it/s]\u001b[A\n",
      "244393it [00:43, 6290.88it/s]\u001b[A\n",
      "245023it [00:43, 6220.72it/s]\u001b[A\n",
      "245648it [00:43, 6228.17it/s]\u001b[A\n",
      "246285it [00:43, 6268.36it/s]\u001b[A\n",
      "246922it [00:43, 6297.43it/s]\u001b[A\n",
      "247553it [00:43, 6243.79it/s]\u001b[A\n",
      "248178it [00:43, 6235.87it/s]\u001b[A\n",
      "248802it [00:43, 6164.05it/s]\u001b[A\n",
      "249432it [00:44, 6201.92it/s]\u001b[A\n",
      "250053it [00:44, 6037.63it/s]\u001b[A\n",
      "250658it [00:44, 5768.82it/s]\u001b[A\n",
      "251239it [00:44, 5238.19it/s]\u001b[A\n",
      "251775it [00:44, 5057.72it/s]\u001b[A\n",
      "252310it [00:44, 5141.57it/s]\u001b[A\n",
      "252945it [00:44, 5451.20it/s]\u001b[A\n",
      "253576it [00:44, 5681.94it/s]\u001b[A\n",
      "254200it [00:44, 5837.70it/s]\u001b[A\n",
      "254809it [00:45, 5911.08it/s]\u001b[A\n",
      "255444it [00:45, 6035.64it/s]\u001b[A\n",
      "256087it [00:45, 6146.90it/s]\u001b[A\n",
      "256706it [00:45, 6111.06it/s]\u001b[A\n",
      "257333it [00:45, 6155.84it/s]\u001b[A\n",
      "257968it [00:45, 6212.10it/s]\u001b[A\n",
      "258591it [00:45, 6215.01it/s]\u001b[A\n",
      "259217it [00:45, 6225.93it/s]\u001b[A\n",
      "259851it [00:45, 6258.82it/s]\u001b[A\n",
      "260478it [00:45, 6159.22it/s]\u001b[A\n",
      "261095it [00:46, 6130.78it/s]\u001b[A\n",
      "261709it [00:46, 6076.01it/s]\u001b[A\n",
      "262337it [00:46, 6135.24it/s]\u001b[A\n",
      "262962it [00:46, 6167.09it/s]\u001b[A\n",
      "263580it [00:46, 6096.08it/s]\u001b[A\n",
      "264200it [00:46, 6126.47it/s]\u001b[A\n",
      "264832it [00:46, 6181.87it/s]\u001b[A\n",
      "265460it [00:46, 6209.06it/s]\u001b[A\n",
      "266094it [00:46, 6246.53it/s]\u001b[A\n",
      "266738it [00:46, 6303.23it/s]\u001b[A\n",
      "267369it [00:47, 6296.90it/s]\u001b[A\n",
      "267999it [00:47, 6157.76it/s]\u001b[A\n",
      "268616it [00:47, 6080.47it/s]\u001b[A\n",
      "269242it [00:47, 6130.79it/s]\u001b[A\n",
      "269874it [00:47, 6184.24it/s]\u001b[A\n",
      "270493it [00:47, 6020.80it/s]\u001b[A\n",
      "271097it [00:47, 5972.76it/s]\u001b[A\n",
      "271717it [00:47, 6037.22it/s]\u001b[A\n",
      "272346it [00:47, 6109.44it/s]\u001b[A\n",
      "272969it [00:47, 6144.17it/s]\u001b[A\n",
      "273585it [00:48, 6131.03it/s]\u001b[A\n",
      "274199it [00:48, 6092.57it/s]\u001b[A\n",
      "274827it [00:48, 6146.82it/s]\u001b[A\n",
      "275455it [00:48, 6183.92it/s]\u001b[A\n",
      "276074it [00:48, 6138.55it/s]\u001b[A\n",
      "276704it [00:48, 6184.89it/s]\u001b[A\n",
      "277323it [00:48, 6147.97it/s]\u001b[A\n",
      "277954it [00:48, 6192.94it/s]\u001b[A\n",
      "278579it [00:48, 6207.52it/s]\u001b[A\n",
      "279200it [00:48, 6204.60it/s]\u001b[A\n",
      "279821it [00:49, 6205.25it/s]\u001b[A\n",
      "280442it [00:49, 6082.28it/s]\u001b[A\n",
      "281055it [00:49, 6095.97it/s]\u001b[A\n",
      "281667it [00:49, 6102.51it/s]\u001b[A\n",
      "282278it [00:49, 6088.66it/s]\u001b[A\n",
      "282914it [00:49, 6164.42it/s]\u001b[A\n",
      "283531it [00:49, 6131.67it/s]\u001b[A\n",
      "284145it [00:49, 6115.53it/s]\u001b[A\n",
      "284757it [00:49, 6074.94it/s]\u001b[A\n",
      "285387it [00:49, 6140.55it/s]\u001b[A\n",
      "286027it [00:50, 6214.49it/s]\u001b[A\n",
      "286649it [00:50, 6137.45it/s]\u001b[A\n",
      "287264it [00:50, 6118.12it/s]\u001b[A\n",
      "287889it [00:50, 6156.82it/s]\u001b[A\n",
      "288517it [00:50, 6191.66it/s]\u001b[A\n",
      "289137it [00:50, 6176.73it/s]\u001b[A\n",
      "289776it [00:50, 6236.85it/s]\u001b[A\n",
      "290400it [00:50, 6081.46it/s]\u001b[A\n",
      "291012it [00:50, 6091.75it/s]\u001b[A\n",
      "291622it [00:51, 5887.71it/s]\u001b[A\n",
      "292213it [00:51, 5096.80it/s]\u001b[A\n",
      "292743it [00:51, 4825.44it/s]\u001b[A\n",
      "293243it [00:51, 4638.01it/s]\u001b[A\n",
      "293721it [00:51, 4604.97it/s]\u001b[A\n",
      "294192it [00:51, 4524.05it/s]\u001b[A\n",
      "294652it [00:51, 4491.86it/s]\u001b[A\n",
      "295107it [00:51, 4265.61it/s]\u001b[A\n",
      "295540it [00:51, 4277.49it/s]\u001b[A\n",
      "295972it [00:52, 4267.02it/s]\u001b[A\n",
      "296402it [00:52, 4242.59it/s]\u001b[A\n",
      "296829it [00:52, 4225.46it/s]\u001b[A\n",
      "297286it [00:52, 4321.36it/s]\u001b[A\n",
      "297764it [00:52, 4447.56it/s]\u001b[A\n",
      "298274it [00:52, 4623.45it/s]\u001b[A\n"
     ]
    },
    {
     "name": "stderr",
     "output_type": "stream",
     "text": [
      "298834it [00:52, 4877.02it/s]\u001b[A\n",
      "299406it [00:52, 5101.78it/s]\u001b[A\n",
      "300001it [00:52, 5276.96it/s]\u001b[A\n",
      "300574it [00:52, 5403.95it/s]\u001b[A\n",
      "301120it [00:53, 5022.82it/s]\u001b[A\n",
      "301632it [00:53, 4911.02it/s]\u001b[A\n",
      "302130it [00:53, 4760.98it/s]\u001b[A\n",
      "302632it [00:53, 4834.40it/s]\u001b[A\n",
      "303142it [00:53, 4911.03it/s]\u001b[A\n",
      "303637it [00:53, 4666.85it/s]\u001b[A\n",
      "304109it [00:53, 4649.44it/s]\u001b[A\n",
      "304578it [00:53, 4591.86it/s]\u001b[A\n",
      "305040it [00:53, 4575.06it/s]\u001b[A\n",
      "305510it [00:54, 4611.22it/s]\u001b[A\n",
      "306026it [00:54, 4762.09it/s]\u001b[A\n",
      "306505it [00:54, 4671.16it/s]\u001b[A\n",
      "306987it [00:54, 4714.06it/s]\u001b[A\n",
      "307464it [00:54, 4729.13it/s]\u001b[A\n",
      "307959it [00:54, 4792.29it/s]\u001b[A\n",
      "308460it [00:54, 4854.76it/s]\u001b[A\n",
      "308947it [00:54, 4835.04it/s]\u001b[A\n",
      "309439it [00:54, 4858.84it/s]\u001b[A\n",
      "309926it [00:54, 4808.35it/s]\u001b[A\n",
      "310408it [00:55, 4618.32it/s]\u001b[A\n",
      "310872it [00:55, 4580.34it/s]\u001b[A\n",
      "311332it [00:55, 4512.77it/s]\u001b[A\n",
      "311785it [00:55, 4468.83it/s]\u001b[A\n",
      "312257it [00:55, 4540.27it/s]\u001b[A\n",
      "312724it [00:55, 4578.36it/s]\u001b[A\n",
      "313183it [00:55, 4570.32it/s]\u001b[A\n",
      "313716it [00:55, 4773.17it/s]\u001b[A\n",
      "314335it [00:55, 5123.76it/s]\u001b[A\n",
      "314960it [00:55, 5416.50it/s]\u001b[A\n",
      "315589it [00:56, 5651.42it/s]\u001b[A\n",
      "316165it [00:56, 5610.09it/s]\u001b[A\n",
      "316734it [00:56, 5467.96it/s]\u001b[A\n",
      "317321it [00:56, 5580.24it/s]\u001b[A\n",
      "317884it [00:56, 5556.15it/s]\u001b[A\n",
      "318443it [00:56, 5546.22it/s]\u001b[A\n",
      "319040it [00:56, 5664.40it/s]\u001b[A\n",
      "319645it [00:56, 5772.78it/s]\u001b[A\n",
      "320225it [00:57, 3587.72it/s]\u001b[A\n",
      "320838it [00:57, 4096.98it/s]\u001b[A\n",
      "321422it [00:57, 4498.81it/s]\u001b[A\n",
      "322023it [00:57, 4864.32it/s]\u001b[A\n",
      "322575it [00:57, 5023.98it/s]\u001b[A\n",
      "323125it [00:57, 4829.45it/s]\u001b[A\n",
      "323643it [00:57, 4729.27it/s]\u001b[A\n",
      "324141it [00:57, 4743.17it/s]\u001b[A\n",
      "324635it [00:57, 4798.02it/s]\u001b[A\n",
      "325142it [00:58, 4874.45it/s]\u001b[A\n",
      "325647it [00:58, 4924.17it/s]\u001b[A\n",
      "326146it [00:58, 4769.46it/s]\u001b[A\n",
      "326640it [00:58, 4818.48it/s]\u001b[A\n",
      "327151it [00:58, 4900.69it/s]\u001b[A\n",
      "327732it [00:58, 5141.63it/s]\u001b[A\n",
      "328310it [00:58, 5314.93it/s]\u001b[A\n",
      "328906it [00:58, 5492.20it/s]\u001b[A\n",
      "329461it [00:58, 5310.72it/s]\u001b[A\n",
      "329997it [00:58, 5117.00it/s]\u001b[A\n",
      "330514it [00:59, 4938.52it/s]\u001b[A\n",
      "331013it [00:59, 4885.89it/s]\u001b[A\n",
      "331506it [00:59, 4697.48it/s]\u001b[A\n",
      "331984it [00:59, 4721.59it/s]\u001b[A\n",
      "332472it [00:59, 4765.95it/s]\u001b[A\n",
      "332951it [00:59, 4631.12it/s]\u001b[A\n",
      "333417it [00:59, 4589.42it/s]\u001b[A\n",
      "333890it [00:59, 4630.24it/s]\u001b[A\n",
      "334362it [00:59, 4656.45it/s]\u001b[A\n",
      "334829it [01:00, 4633.28it/s]\u001b[A\n",
      "335319it [01:00, 4708.45it/s]\u001b[A\n",
      "335791it [01:00, 3713.53it/s]\u001b[A\n",
      "336196it [01:00, 3436.68it/s]\u001b[A\n",
      "336653it [01:00, 3712.73it/s]\u001b[A\n",
      "337246it [01:00, 4181.44it/s]\u001b[A\n",
      "337877it [01:00, 4652.21it/s]\u001b[A\n",
      "338502it [01:00, 5037.21it/s]\u001b[A\n",
      "339121it [01:00, 5333.94it/s]\u001b[A\n",
      "339740it [01:01, 5563.78it/s]\u001b[A\n",
      "340322it [01:01, 5546.89it/s]\u001b[A\n",
      "340895it [01:01, 5575.24it/s]\u001b[A\n",
      "341471it [01:01, 5628.80it/s]\u001b[A\n",
      "342095it [01:01, 5797.16it/s]\u001b[A\n",
      "342683it [01:01, 5815.95it/s]\u001b[A\n",
      "343270it [01:01, 5786.54it/s]\u001b[A\n",
      "343853it [01:01, 5737.61it/s]\u001b[A\n",
      "344430it [01:01, 5020.52it/s]\u001b[A\n",
      "344951it [01:02, 4885.16it/s]\u001b[A\n",
      "345548it [01:02, 5164.98it/s]\u001b[A\n",
      "346085it [01:02, 5223.31it/s]\u001b[A\n",
      "346667it [01:02, 5388.23it/s]\u001b[A\n",
      "347275it [01:02, 5577.45it/s]\u001b[A\n",
      "347882it [01:02, 5714.93it/s]\u001b[A\n",
      "348497it [01:02, 5837.43it/s]\u001b[A\n",
      "349123it [01:02, 5957.80it/s]\u001b[A\n",
      "349737it [01:02, 6009.29it/s]\u001b[A\n",
      "350341it [01:02, 5979.24it/s]\u001b[A\n",
      "350941it [01:03, 5977.48it/s]\u001b[A\n",
      "351541it [01:03, 5917.19it/s]\u001b[A\n",
      "352134it [01:03, 5899.92it/s]\u001b[A\n",
      "352725it [01:03, 5875.09it/s]\u001b[A\n",
      "353334it [01:03, 5935.48it/s]\u001b[A\n",
      "353929it [01:03, 5851.88it/s]\u001b[A\n",
      "354546it [01:03, 5943.66it/s]\u001b[A\n",
      "355142it [01:03, 5906.69it/s]\u001b[A\n",
      "355759it [01:03, 5981.09it/s]\u001b[A\n",
      "356383it [01:03, 6055.19it/s]\u001b[A\n",
      "356990it [01:04, 6005.60it/s]\u001b[A\n",
      "357592it [01:04, 5932.40it/s]\u001b[A\n",
      "358217it [01:04, 6023.86it/s]\u001b[A\n",
      "358836it [01:04, 6070.72it/s]\u001b[A\n",
      "359455it [01:04, 6104.01it/s]\u001b[A\n",
      "360066it [01:04, 6023.91it/s]\u001b[A\n",
      "360669it [01:04, 5985.07it/s]\u001b[A\n",
      "361297it [01:04, 6069.89it/s]\u001b[A\n",
      "361905it [01:04, 6035.84it/s]\u001b[A\n",
      "362532it [01:04, 6103.02it/s]\u001b[A\n",
      "363143it [01:05, 6052.59it/s]\u001b[A\n",
      "363749it [01:05, 5893.42it/s]\u001b[A\n",
      "364340it [01:05, 5892.32it/s]\u001b[A\n",
      "364952it [01:05, 5958.55it/s]\u001b[A\n",
      "365549it [01:05, 5952.00it/s]\u001b[A\n",
      "366167it [01:05, 6018.54it/s]\u001b[A\n",
      "366796it [01:05, 6096.86it/s]\u001b[A\n",
      "367407it [01:05, 6096.16it/s]\u001b[A\n",
      "368018it [01:05, 6065.31it/s]\u001b[A\n",
      "368647it [01:05, 6129.31it/s]\u001b[A\n",
      "369261it [01:06, 6105.23it/s]\u001b[A\n",
      "369885it [01:06, 6143.96it/s]\u001b[A\n",
      "370500it [01:06, 6025.16it/s]\u001b[A\n",
      "371112it [01:06, 6053.23it/s]\u001b[A\n",
      "371731it [01:06, 6092.98it/s]\u001b[A\n",
      "372341it [01:06, 6059.56it/s]\u001b[A\n",
      "372966it [01:06, 6113.91it/s]\u001b[A\n",
      "373587it [01:06, 6141.88it/s]\u001b[A\n",
      "374202it [01:06, 6008.82it/s]\u001b[A\n",
      "374811it [01:07, 6032.64it/s]\u001b[A\n",
      "375415it [01:07, 5980.70it/s]\u001b[A\n",
      "376014it [01:07, 5921.27it/s]\u001b[A\n",
      "376627it [01:07, 5980.02it/s]\u001b[A\n",
      "377226it [01:07, 5971.00it/s]\u001b[A\n",
      "377824it [01:07, 5954.98it/s]\u001b[A\n",
      "378420it [01:07, 5918.95it/s]\u001b[A\n",
      "379020it [01:07, 5942.33it/s]\u001b[A\n",
      "379642it [01:07, 6021.31it/s]\u001b[A\n",
      "380245it [01:07, 5879.58it/s]\u001b[A\n",
      "380834it [01:08, 5822.17it/s]\u001b[A\n",
      "381458it [01:08, 5939.59it/s]\u001b[A\n",
      "382054it [01:08, 5915.18it/s]\u001b[A\n",
      "382668it [01:08, 5980.48it/s]\u001b[A\n",
      "383286it [01:08, 6037.80it/s]\u001b[A\n",
      "383904it [01:08, 6079.49it/s]\u001b[A\n",
      "384523it [01:08, 6110.74it/s]\u001b[A\n",
      "385135it [01:08, 6050.22it/s]\u001b[A\n",
      "385752it [01:08, 6083.30it/s]\u001b[A\n",
      "386380it [01:08, 6141.00it/s]\u001b[A\n",
      "386995it [01:09, 6130.41it/s]\u001b[A\n",
      "387622it [01:09, 6169.06it/s]\u001b[A\n",
      "388248it [01:09, 6195.37it/s]\u001b[A\n",
      "388868it [01:09, 6193.32it/s]\u001b[A\n",
      "389501it [01:09, 6231.20it/s]\u001b[A\n",
      "390125it [01:09, 6073.04it/s]\u001b[A\n",
      "390744it [01:09, 6107.04it/s]\u001b[A\n",
      "391356it [01:09, 6019.58it/s]\u001b[A\n",
      "391959it [01:09, 5963.02it/s]\u001b[A\n",
      "392586it [01:09, 6049.68it/s]\u001b[A\n",
      "393209it [01:10, 6101.27it/s]\u001b[A\n",
      "393820it [01:10, 6032.65it/s]\u001b[A\n",
      "394424it [01:10, 6004.11it/s]\u001b[A\n",
      "395028it [01:10, 6013.87it/s]\u001b[A\n",
      "395630it [01:10, 5986.32it/s]\u001b[A\n",
      "396229it [01:10, 5864.70it/s]\u001b[A\n",
      "396824it [01:10, 5889.41it/s]\u001b[A\n",
      "397443it [01:10, 5976.39it/s]\u001b[A\n",
      "398047it [01:10, 5995.13it/s]\u001b[A\n",
      "398648it [01:10, 5968.37it/s]\u001b[A\n",
      "399259it [01:11, 6007.92it/s]\u001b[A\n",
      "399875it [01:11, 6052.08it/s]\u001b[A\n",
      "400481it [01:11, 5795.70it/s]\u001b[A\n",
      "401070it [01:11, 5822.02it/s]\u001b[A\n",
      "401691it [01:11, 5931.67it/s]\u001b[A\n",
      "402286it [01:11, 5914.62it/s]\u001b[A\n",
      "402902it [01:11, 5983.78it/s]\u001b[A\n",
      "403502it [01:11, 5950.61it/s]\u001b[A\n",
      "404109it [01:11, 5982.21it/s]\u001b[A\n",
      "404708it [01:11, 5966.69it/s]\u001b[A\n",
      "405326it [01:12, 6027.50it/s]\u001b[A\n",
      "405956it [01:12, 6105.90it/s]\u001b[A\n",
      "406568it [01:12, 6078.66it/s]\u001b[A\n",
      "407177it [01:12, 5967.20it/s]\u001b[A\n",
      "407793it [01:12, 6023.21it/s]\u001b[A\n",
      "408415it [01:12, 6079.12it/s]\u001b[A\n",
      "409024it [01:12, 6076.37it/s]\u001b[A\n",
      "409637it [01:12, 6092.18it/s]\u001b[A\n",
      "410247it [01:12, 5890.10it/s]\u001b[A\n",
      "410838it [01:13, 5856.33it/s]\u001b[A\n",
      "411425it [01:13, 5842.93it/s]\u001b[A\n",
      "412011it [01:13, 5514.78it/s]\u001b[A\n",
      "412609it [01:13, 5645.91it/s]\u001b[A\n",
      "413223it [01:13, 5784.69it/s]\u001b[A\n",
      "413806it [01:13, 5795.30it/s]\u001b[A\n",
      "414429it [01:13, 5918.67it/s]\u001b[A\n",
      "415062it [01:13, 6036.25it/s]\u001b[A\n",
      "415680it [01:13, 6078.40it/s]\u001b[A\n",
      "416290it [01:13, 6032.61it/s]\u001b[A\n",
      "416915it [01:14, 6095.11it/s]\u001b[A\n",
      "417526it [01:14, 5987.27it/s]\u001b[A\n",
      "418126it [01:14, 5953.20it/s]\u001b[A\n",
      "418723it [01:14, 5886.13it/s]\u001b[A\n",
      "419336it [01:14, 5955.19it/s]\u001b[A\n",
      "419959it [01:14, 6033.80it/s]\u001b[A\n",
      "420564it [01:14, 5973.81it/s]\u001b[A\n",
      "421189it [01:14, 6052.87it/s]\u001b[A\n",
      "421796it [01:14, 6003.44it/s]\u001b[A\n",
      "422406it [01:14, 6030.14it/s]\u001b[A\n",
      "423030it [01:15, 6089.34it/s]\u001b[A\n",
      "423640it [01:15, 6076.93it/s]\u001b[A\n",
      "424249it [01:15, 5997.78it/s]\u001b[A\n",
      "424850it [01:15, 5987.66it/s]\u001b[A\n",
      "425482it [01:15, 6082.61it/s]\u001b[A\n",
      "426113it [01:15, 6149.04it/s]\u001b[A\n",
      "426744it [01:15, 6196.05it/s]\u001b[A\n",
      "427365it [01:15, 3740.20it/s]\u001b[A\n",
      "427979it [01:16, 4236.14it/s]\u001b[A\n",
      "428571it [01:16, 4630.29it/s]\u001b[A\n",
      "429195it [01:16, 5017.41it/s]\u001b[A\n",
      "429825it [01:16, 5343.32it/s]\u001b[A\n",
      "430420it [01:16, 5510.19it/s]\u001b[A\n",
      "431057it [01:16, 5741.17it/s]\u001b[A\n",
      "431661it [01:16, 5786.95it/s]\u001b[A\n",
      "432279it [01:16, 5896.39it/s]\u001b[A\n",
      "432884it [01:16, 5884.69it/s]\u001b[A\n",
      "433508it [01:16, 5984.62it/s]\u001b[A\n",
      "434143it [01:17, 6088.50it/s]\u001b[A\n",
      "434764it [01:17, 6122.97it/s]\u001b[A\n",
      "435381it [01:17, 6074.42it/s]\u001b[A\n",
      "436008it [01:17, 6131.45it/s]\u001b[A\n",
      "436638it [01:17, 6180.34it/s]\u001b[A\n",
      "437276it [01:17, 6237.67it/s]\u001b[A\n",
      "437916it [01:17, 6284.05it/s]\u001b[A\n",
      "438546it [01:17, 6231.48it/s]\u001b[A\n",
      "439170it [01:17, 6208.65it/s]\u001b[A\n",
      "439792it [01:18, 6163.92it/s]\u001b[A\n",
      "440409it [01:18, 6064.65it/s]\u001b[A\n",
      "441053it [01:18, 6170.62it/s]\u001b[A\n",
      "441671it [01:18, 6134.77it/s]\u001b[A\n",
      "442287it [01:18, 6140.64it/s]\u001b[A\n",
      "442921it [01:18, 6197.93it/s]\u001b[A\n",
      "443542it [01:18, 6139.38it/s]\u001b[A\n",
      "444157it [01:18, 6031.62it/s]\u001b[A\n",
      "444765it [01:18, 6043.73it/s]\u001b[A\n",
      "445383it [01:18, 6082.73it/s]\u001b[A\n",
      "445995it [01:19, 6092.18it/s]\u001b[A\n",
      "446623it [01:19, 6147.00it/s]\u001b[A\n",
      "447239it [01:19, 5755.24it/s]\u001b[A\n",
      "447848it [01:19, 5850.63it/s]\u001b[A\n",
      "448483it [01:19, 5990.86it/s]\u001b[A\n",
      "449105it [01:19, 6057.26it/s]\u001b[A\n",
      "449734it [01:19, 6122.82it/s]\u001b[A\n",
      "450349it [01:19, 4442.24it/s]\u001b[A\n",
      "450861it [01:19, 4371.74it/s]\u001b[A\n",
      "451479it [01:20, 4791.50it/s]\u001b[A\n",
      "452082it [01:20, 5105.95it/s]\u001b[A\n",
      "452658it [01:20, 5281.52it/s]\u001b[A\n",
      "453286it [01:20, 5545.93it/s]\u001b[A\n",
      "453904it [01:20, 5719.88it/s]\u001b[A\n",
      "454541it [01:20, 5897.85it/s]\u001b[A\n",
      "455153it [01:20, 5961.65it/s]\u001b[A\n",
      "455777it [01:20, 6042.23it/s]\u001b[A\n",
      "456406it [01:20, 6113.34it/s]\u001b[A\n",
      "457023it [01:20, 6102.88it/s]\u001b[A\n",
      "457666it [01:21, 6196.59it/s]\u001b[A\n",
      "458289it [01:21, 6188.51it/s]\u001b[A\n",
      "458922it [01:21, 6227.80it/s]\u001b[A\n",
      "459556it [01:21, 6259.06it/s]\u001b[A\n",
      "460183it [01:21, 6163.01it/s]\u001b[A\n",
      "460823it [01:21, 6230.92it/s]\u001b[A\n",
      "461457it [01:21, 6261.03it/s]\u001b[A\n",
      "462099it [01:21, 6305.36it/s]\u001b[A\n",
      "462732it [01:21, 6311.01it/s]\u001b[A\n",
      "463364it [01:22, 6265.04it/s]\u001b[A\n",
      "463991it [01:22, 6208.28it/s]\u001b[A\n",
      "464620it [01:22, 6230.52it/s]\u001b[A\n",
      "465244it [01:22, 6133.99it/s]\u001b[A\n",
      "465862it [01:22, 6146.22it/s]\u001b[A\n",
      "466484it [01:22, 6166.81it/s]\u001b[A\n",
      "467123it [01:22, 6229.51it/s]\u001b[A\n",
      "467761it [01:22, 6272.00it/s]\u001b[A\n",
      "468399it [01:22, 6303.33it/s]\u001b[A\n",
      "469030it [01:22, 6275.48it/s]\u001b[A\n",
      "469658it [01:23, 6255.41it/s]\u001b[A\n",
      "470284it [01:23, 6170.96it/s]\u001b[A\n",
      "470902it [01:23, 6170.49it/s]\u001b[A\n",
      "471520it [01:23, 6019.11it/s]\u001b[A\n",
      "472149it [01:23, 6096.17it/s]\u001b[A\n",
      "472771it [01:23, 6131.04it/s]\u001b[A\n",
      "473385it [01:23, 6124.47it/s]\u001b[A\n",
      "474005it [01:23, 6144.57it/s]\u001b[A\n",
      "474625it [01:23, 6160.80it/s]\u001b[A\n",
      "475262it [01:23, 6221.73it/s]\u001b[A\n",
      "475886it [01:24, 6225.38it/s]\u001b[A\n",
      "476527it [01:24, 6279.29it/s]\u001b[A\n",
      "477156it [01:24, 6280.68it/s]\u001b[A\n",
      "477790it [01:24, 6296.40it/s]\u001b[A\n",
      "478430it [01:24, 6325.15it/s]\u001b[A\n",
      "479063it [01:24, 6262.36it/s]\u001b[A\n",
      "479699it [01:24, 6288.71it/s]\u001b[A\n",
      "480329it [01:24, 6146.77it/s]\u001b[A\n",
      "480966it [01:24, 6210.16it/s]\u001b[A\n",
      "481602it [01:24, 6251.94it/s]\u001b[A\n",
      "482228it [01:25, 6221.76it/s]\u001b[A\n",
      "482867it [01:25, 6269.10it/s]\u001b[A\n",
      "483495it [01:25, 6263.89it/s]\u001b[A\n",
      "484146it [01:25, 6333.72it/s]\u001b[A\n",
      "484780it [01:25, 6320.06it/s]\u001b[A\n",
      "485413it [01:25, 6320.23it/s]\u001b[A\n",
      "486046it [01:25, 6263.56it/s]\u001b[A\n",
      "486677it [01:25, 6276.14it/s]\u001b[A\n",
      "487306it [01:25, 6277.89it/s]\u001b[A\n",
      "487944it [01:25, 6308.05it/s]\u001b[A\n",
      "488575it [01:26, 6301.96it/s]\u001b[A\n",
      "489206it [01:26, 6271.82it/s]\u001b[A\n",
      "489840it [01:26, 6289.96it/s]\u001b[A\n",
      "490470it [01:26, 6031.18it/s]\u001b[A\n",
      "491091it [01:26, 6081.68it/s]\u001b[A\n",
      "491729it [01:26, 6167.74it/s]\u001b[A\n",
      "492369it [01:26, 6235.10it/s]\u001b[A\n",
      "492994it [01:26, 6182.34it/s]\u001b[A\n",
      "493621it [01:26, 6207.60it/s]\u001b[A\n",
      "494244it [01:26, 6214.05it/s]\u001b[A\n",
      "494867it [01:27, 6218.44it/s]\u001b[A\n",
      "495490it [01:27, 6201.33it/s]\u001b[A\n",
      "496120it [01:27, 6229.88it/s]\u001b[A\n",
      "496748it [01:27, 6244.52it/s]\u001b[A\n",
      "497373it [01:27, 6216.87it/s]\u001b[A\n",
      "497995it [01:27, 6160.61it/s]\u001b[A\n",
      "498626it [01:27, 6203.35it/s]\u001b[A\n",
      "499274it [01:27, 6248.03it/s]\u001b[A\n",
      "499900it [01:27, 6125.32it/s]\u001b[A\n",
      "500514it [01:27, 6044.18it/s]\u001b[A\n",
      "501120it [01:28, 6033.57it/s]\u001b[A\n",
      "501733it [01:28, 6060.88it/s]\u001b[A\n",
      "502340it [01:28, 5537.25it/s]\u001b[A\n",
      "502903it [01:28, 5320.04it/s]\u001b[A\n",
      "503488it [01:28, 5467.57it/s]\u001b[A\n",
      "504042it [01:28, 5460.40it/s]\u001b[A\n",
      "504647it [01:28, 5622.40it/s]\u001b[A\n",
      "505237it [01:28, 5701.67it/s]\u001b[A\n",
      "505852it [01:28, 5829.00it/s]\u001b[A\n",
      "506441it [01:29, 5845.74it/s]\u001b[A\n",
      "507047it [01:29, 5907.03it/s]\u001b[A\n",
      "507677it [01:29, 6017.92it/s]\u001b[A\n",
      "508281it [01:29, 5973.11it/s]\u001b[A\n",
      "508929it [01:29, 6116.53it/s]\u001b[A\n",
      "509560it [01:29, 6171.64it/s]\u001b[A\n",
      "510179it [01:29, 6053.69it/s]\u001b[A\n",
      "510786it [01:29, 6032.98it/s]\u001b[A\n",
      "511410it [01:29, 6092.06it/s]\u001b[A\n",
      "512041it [01:29, 6153.99it/s]\u001b[A\n",
      "512674it [01:30, 6205.74it/s]\u001b[A\n",
      "513296it [01:30, 6186.21it/s]\u001b[A\n",
      "513919it [01:30, 6199.21it/s]\u001b[A\n",
      "514559it [01:30, 6257.94it/s]\u001b[A\n",
      "515186it [01:30, 6201.93it/s]\u001b[A\n",
      "515807it [01:30, 6170.46it/s]\u001b[A\n",
      "516434it [01:30, 6198.66it/s]\u001b[A\n",
      "517061it [01:30, 6218.98it/s]\u001b[A\n",
      "517706it [01:30, 6284.05it/s]\u001b[A\n",
      "518347it [01:30, 6318.80it/s]\u001b[A\n",
      "518984it [01:31, 6332.79it/s]\u001b[A\n",
      "519618it [01:31, 6246.24it/s]\u001b[A\n",
      "520244it [01:31, 6094.31it/s]\u001b[A\n",
      "520855it [01:31, 6087.06it/s]\u001b[A\n",
      "521483it [01:31, 6142.93it/s]\u001b[A\n",
      "522098it [01:31, 6118.81it/s]\u001b[A\n",
      "522711it [01:31, 6057.85it/s]\u001b[A\n",
      "523318it [01:31, 6055.16it/s]\u001b[A\n",
      "523961it [01:31, 6162.01it/s]\u001b[A\n",
      "524599it [01:31, 6224.05it/s]\u001b[A\n",
      "525223it [01:32, 6188.78it/s]\u001b[A\n",
      "525843it [01:32, 6140.89it/s]\u001b[A\n",
      "526474it [01:32, 6190.44it/s]\u001b[A\n",
      "527094it [01:32, 6110.41it/s]\u001b[A\n",
      "527710it [01:32, 6123.38it/s]\u001b[A\n",
      "528323it [01:32, 6124.10it/s]\u001b[A\n",
      "528936it [01:32, 6097.16it/s]\u001b[A\n",
      "529556it [01:32, 6126.28it/s]\u001b[A\n",
      "530169it [01:32, 6010.96it/s]\u001b[A\n",
      "530805it [01:32, 6109.70it/s]\u001b[A\n",
      "531417it [01:33, 6110.11it/s]\u001b[A\n",
      "532029it [01:33, 6086.33it/s]\u001b[A\n",
      "532665it [01:33, 6163.57it/s]\u001b[A\n",
      "533291it [01:33, 6190.85it/s]\u001b[A\n",
      "533911it [01:33, 6170.66it/s]\u001b[A\n",
      "534541it [01:33, 6206.17it/s]\u001b[A\n",
      "535162it [01:33, 6193.83it/s]\u001b[A\n",
      "535782it [01:33, 6182.30it/s]\u001b[A\n",
      "536401it [01:33, 6179.48it/s]\u001b[A\n",
      "537020it [01:34, 6160.92it/s]\u001b[A\n",
      "537655it [01:34, 6212.90it/s]\u001b[A\n",
      "538277it [01:34, 6212.13it/s]\u001b[A\n",
      "538918it [01:34, 6269.82it/s]\u001b[A\n",
      "539546it [01:34, 6247.71it/s]\u001b[A\n",
      "540171it [01:34, 6063.95it/s]\u001b[A\n",
      "540805it [01:34, 6142.03it/s]\u001b[A\n",
      "541421it [01:34, 6144.45it/s]\u001b[A\n",
      "542037it [01:34, 6125.45it/s]\u001b[A\n",
      "542672it [01:34, 6188.21it/s]\u001b[A\n",
      "543292it [01:35, 6183.72it/s]\u001b[A\n",
      "543924it [01:35, 6223.96it/s]\u001b[A\n",
      "544547it [01:35, 6185.14it/s]\u001b[A\n",
      "545166it [01:35, 6153.39it/s]\u001b[A\n",
      "545782it [01:35, 6078.85it/s]\u001b[A\n",
      "546405it [01:35, 6122.90it/s]\u001b[A\n",
      "547018it [01:35, 6092.41it/s]\u001b[A\n",
      "547628it [01:35, 6081.95it/s]\u001b[A\n",
      "548258it [01:35, 6143.98it/s]\u001b[A\n",
      "548904it [01:35, 6233.76it/s]\u001b[A\n",
      "549528it [01:36, 6207.67it/s]\u001b[A\n",
      "550150it [01:36, 6113.67it/s]\u001b[A\n",
      "550762it [01:36, 6102.08it/s]\u001b[A\n",
      "551387it [01:36, 6144.69it/s]\u001b[A\n",
      "552002it [01:36, 6109.87it/s]\u001b[A\n",
      "552618it [01:36, 6123.03it/s]\u001b[A\n",
      "553231it [01:36, 6071.14it/s]\u001b[A\n",
      "553839it [01:36, 6039.48it/s]\u001b[A\n",
      "554480it [01:36, 6145.04it/s]\u001b[A\n",
      "555096it [01:36, 6054.36it/s]\u001b[A\n",
      "555703it [01:37, 6049.31it/s]\u001b[A\n",
      "556335it [01:37, 6127.46it/s]\u001b[A\n",
      "556968it [01:37, 6185.64it/s]\u001b[A\n",
      "557588it [01:37, 6141.88it/s]\u001b[A\n",
      "558203it [01:37, 6114.82it/s]\u001b[A\n",
      "558819it [01:37, 6125.61it/s]\u001b[A\n",
      "559451it [01:37, 6182.07it/s]\u001b[A\n",
      "560070it [01:38, 3517.09it/s]\u001b[A\n",
      "560698it [01:38, 4050.89it/s]\u001b[A\n",
      "561333it [01:38, 4544.27it/s]\u001b[A\n",
      "561937it [01:38, 4908.76it/s]\u001b[A\n",
      "562518it [01:38, 5147.17it/s]\u001b[A\n",
      "563149it [01:38, 5447.53it/s]\u001b[A\n",
      "563790it [01:38, 5702.37it/s]\u001b[A\n",
      "564415it [01:38, 5855.80it/s]\u001b[A\n",
      "565045it [01:38, 5981.82it/s]\u001b[A\n",
      "565675it [01:38, 6072.55it/s]\u001b[A\n",
      "566296it [01:39, 6043.44it/s]\u001b[A\n",
      "566940it [01:39, 6155.34it/s]\u001b[A\n",
      "567563it [01:39, 6139.93it/s]\u001b[A\n",
      "568193it [01:39, 6184.24it/s]\u001b[A\n",
      "568816it [01:39, 6172.38it/s]\u001b[A\n",
      "569436it [01:39, 6139.56it/s]\u001b[A\n",
      "570052it [01:39, 6028.35it/s]\u001b[A\n",
      "570674it [01:39, 6084.32it/s]\u001b[A\n",
      "571284it [01:39, 6053.98it/s]\u001b[A\n",
      "571922it [01:39, 6148.11it/s]\u001b[A\n",
      "572538it [01:40, 6110.16it/s]\u001b[A\n",
      "573168it [01:40, 6163.11it/s]\u001b[A\n",
      "573813it [01:40, 6246.25it/s]\u001b[A\n",
      "574445it [01:40, 6267.04it/s]\u001b[A\n",
      "575087it [01:40, 6310.84it/s]\u001b[A\n",
      "575719it [01:40, 6310.35it/s]\u001b[A\n",
      "576359it [01:40, 6336.33it/s]\u001b[A\n",
      "576993it [01:40, 6333.06it/s]\u001b[A\n",
      "577627it [01:40, 6257.60it/s]\u001b[A\n",
      "578254it [01:40, 6232.42it/s]\u001b[A\n",
      "578879it [01:41, 6236.97it/s]\u001b[A\n",
      "579513it [01:41, 6266.96it/s]\u001b[A\n",
      "580140it [01:41, 6080.53it/s]\u001b[A\n",
      "580750it [01:41, 6014.35it/s]\u001b[A\n",
      "581353it [01:41, 5987.02it/s]\u001b[A\n",
      "581977it [01:41, 6059.88it/s]\u001b[A\n",
      "582585it [01:41, 6064.50it/s]\u001b[A\n",
      "583214it [01:41, 6130.41it/s]\u001b[A\n",
      "583828it [01:41, 6052.18it/s]\u001b[A\n",
      "584434it [01:41, 5555.52it/s]\u001b[A\n",
      "584998it [01:42, 5116.49it/s]\u001b[A\n",
      "585523it [01:42, 4868.21it/s]\u001b[A\n",
      "586022it [01:42, 4645.57it/s]\u001b[A\n",
      "586497it [01:42, 4515.28it/s]\u001b[A\n",
      "586969it [01:42, 4573.08it/s]\u001b[A\n",
      "587454it [01:42, 4649.70it/s]\u001b[A\n",
      "587924it [01:42, 4594.14it/s]\u001b[A\n",
      "588387it [01:42, 4410.41it/s]\u001b[A\n",
      "588832it [01:42, 4410.32it/s]\u001b[A\n",
      "589324it [01:43, 4550.41it/s]\u001b[A\n",
      "589815it [01:43, 4651.14it/s]\u001b[A\n",
      "590283it [01:43, 4535.82it/s]\u001b[A\n",
      "590784it [01:43, 4666.75it/s]\u001b[A\n",
      "591294it [01:43, 4787.21it/s]\u001b[A\n",
      "591790it [01:43, 4837.35it/s]\u001b[A\n",
      "592327it [01:43, 4984.89it/s]\u001b[A\n",
      "592829it [01:43, 4972.48it/s]\u001b[A\n",
      "593329it [01:43, 4967.16it/s]\u001b[A\n",
      "593891it [01:43, 5146.33it/s]\u001b[A\n",
      "594435it [01:44, 5229.84it/s]\u001b[A\n",
      "594999it [01:44, 5345.15it/s]\u001b[A\n"
     ]
    },
    {
     "name": "stderr",
     "output_type": "stream",
     "text": [
      "595594it [01:44, 5511.78it/s]\u001b[A\n",
      "596148it [01:44, 5517.86it/s]\u001b[A\n",
      "596734it [01:44, 5615.58it/s]\u001b[A\n",
      "597360it [01:44, 5793.24it/s]\u001b[A\n",
      "597995it [01:44, 5949.67it/s]\u001b[A\n",
      "598596it [01:44, 5965.63it/s]\u001b[A\n",
      "599222it [01:44, 6050.74it/s]\u001b[A\n",
      "599830it [01:44, 6059.19it/s]\u001b[A\n",
      "600438it [01:45, 6045.33it/s]\u001b[A\n",
      "601063it [01:45, 6105.21it/s]\u001b[A\n",
      "601693it [01:45, 6161.48it/s]\u001b[A\n",
      "602310it [01:45, 5993.78it/s]\u001b[A\n",
      "602911it [01:45, 5836.99it/s]\u001b[A\n",
      "603497it [01:45, 5310.84it/s]\u001b[A\n",
      "604039it [01:45, 5155.37it/s]\u001b[A\n",
      "604563it [01:45, 5109.17it/s]\u001b[A\n",
      "605080it [01:45, 4868.06it/s]\u001b[A\n",
      "605581it [01:46, 4908.02it/s]\u001b[A\n",
      "606095it [01:46, 4974.99it/s]\u001b[A\n",
      "606596it [01:46, 4980.20it/s]\u001b[A\n",
      "607097it [01:46, 4822.62it/s]\u001b[A\n",
      "607607it [01:46, 4901.71it/s]\u001b[A\n",
      "608121it [01:46, 4970.32it/s]\u001b[A\n",
      "608718it [01:46, 5232.95it/s]\u001b[A\n",
      "609325it [01:46, 5458.62it/s]\u001b[A\n",
      "609923it [01:46, 5602.95it/s]\u001b[A\n",
      "610489it [01:47, 5605.43it/s]\u001b[A\n",
      "611054it [01:47, 5273.31it/s]\u001b[A\n",
      "611588it [01:47, 5053.02it/s]\u001b[A\n",
      "612100it [01:47, 4946.41it/s]\u001b[A\n",
      "612600it [01:47, 4919.37it/s]\u001b[A\n",
      "613096it [01:47, 4844.31it/s]\u001b[A\n",
      "613584it [01:47, 4797.45it/s]\u001b[A\n",
      "614066it [01:47, 4674.75it/s]\u001b[A\n",
      "614536it [01:47, 4539.82it/s]\u001b[A\n",
      "615038it [01:47, 4673.08it/s]\u001b[A\n",
      "615547it [01:48, 4790.49it/s]\u001b[A\n",
      "616029it [01:48, 4784.19it/s]\u001b[A\n",
      "616522it [01:48, 4825.26it/s]\u001b[A\n",
      "617008it [01:48, 4834.84it/s]\u001b[A\n",
      "617508it [01:48, 4883.00it/s]\u001b[A\n",
      "617998it [01:48, 4882.83it/s]\u001b[A\n",
      "618500it [01:48, 4922.60it/s]\u001b[A\n",
      "618993it [01:48, 4890.97it/s]\u001b[A\n",
      "619483it [01:48, 4843.22it/s]\u001b[A\n",
      "619974it [01:48, 4862.10it/s]\u001b[A\n",
      "620461it [01:49, 4744.50it/s]\u001b[A\n",
      "620985it [01:49, 4881.46it/s]\u001b[A\n",
      "621529it [01:49, 5035.80it/s]\u001b[A\n",
      "622066it [01:49, 5129.84it/s]\u001b[A\n",
      "622584it [01:49, 5142.96it/s]\u001b[A\n",
      "623117it [01:49, 5197.11it/s]\u001b[A\n",
      "623638it [01:49, 5164.30it/s]\u001b[A\n",
      "624164it [01:49, 5192.20it/s]\u001b[A\n",
      "624697it [01:49, 5232.09it/s]\u001b[A\n",
      "625238it [01:49, 5283.38it/s]\u001b[A\n",
      "625767it [01:50, 5245.24it/s]\u001b[A\n",
      "626344it [01:50, 5390.70it/s]\u001b[A\n",
      "626954it [01:50, 5584.70it/s]\u001b[A\n",
      "627516it [01:50, 5576.66it/s]\u001b[A\n",
      "628090it [01:50, 5624.38it/s]\u001b[A\n",
      "628688it [01:50, 5725.70it/s]\u001b[A\n",
      "629263it [01:50, 5726.35it/s]\u001b[A\n",
      "629837it [01:50, 5668.42it/s]\u001b[A\n",
      "630405it [01:50, 5654.46it/s]\u001b[A\n",
      "630990it [01:51, 5709.63it/s]\u001b[A\n",
      "631583it [01:51, 5772.62it/s]\u001b[A\n",
      "632201it [01:51, 5887.99it/s]\u001b[A\n",
      "632823it [01:51, 5983.36it/s]\u001b[A\n",
      "633423it [01:51, 5948.12it/s]\u001b[A\n",
      "634037it [01:51, 6002.48it/s]\u001b[A\n",
      "634655it [01:51, 6054.41it/s]\u001b[A\n",
      "635262it [01:51, 6025.20it/s]\u001b[A\n",
      "635881it [01:51, 6071.77it/s]\u001b[A\n",
      "636489it [01:51, 6017.37it/s]\u001b[A\n",
      "637111it [01:52, 6076.03it/s]\u001b[A\n",
      "637720it [01:52, 5996.12it/s]\u001b[A\n",
      "638321it [01:52, 5958.30it/s]\u001b[A\n",
      "638945it [01:52, 6039.92it/s]\u001b[A\n",
      "639550it [01:52, 5974.48it/s]\u001b[A\n",
      "640149it [01:52, 5830.76it/s]\u001b[A\n",
      "640734it [01:52, 5797.07it/s]\u001b[A\n",
      "641354it [01:52, 5911.81it/s]\u001b[A\n",
      "641947it [01:52, 5879.65it/s]\u001b[A\n",
      "642553it [01:52, 5931.84it/s]\u001b[A\n",
      "643147it [01:53, 5861.93it/s]\u001b[A\n",
      "643734it [01:53, 5822.01it/s]\u001b[A\n",
      "644317it [01:53, 5526.93it/s]\u001b[A\n",
      "644874it [01:53, 3946.17it/s]\u001b[A\n",
      "645335it [01:53, 3948.70it/s]\u001b[A\n",
      "645948it [01:53, 4419.25it/s]\u001b[A\n",
      "646570it [01:53, 4838.16it/s]\u001b[A\n",
      "647175it [01:53, 5146.83it/s]\u001b[A\n",
      "647789it [01:54, 5408.07it/s]\u001b[A\n",
      "648425it [01:54, 5661.31it/s]\u001b[A\n",
      "649047it [01:54, 5817.97it/s]\u001b[A\n",
      "649662it [01:54, 5912.69it/s]\u001b[A\n",
      "650267it [01:54, 5799.01it/s]\u001b[A\n",
      "650857it [01:54, 5789.23it/s]\u001b[A\n",
      "651479it [01:54, 5910.97it/s]\u001b[A\n",
      "652101it [01:54, 5998.80it/s]\u001b[A\n",
      "652728it [01:54, 6076.28it/s]\u001b[A\n",
      "653348it [01:54, 6111.65it/s]\u001b[A\n",
      "653962it [01:55, 6087.52it/s]\u001b[A\n",
      "654597it [01:55, 6161.87it/s]\u001b[A\n",
      "655215it [01:55, 6096.71it/s]\u001b[A\n",
      "655826it [01:55, 6062.36it/s]\u001b[A\n",
      "656434it [01:55, 6044.23it/s]\u001b[A\n",
      "657039it [01:55, 5877.45it/s]\u001b[A\n",
      "657629it [01:55, 5877.71it/s]\u001b[A\n",
      "658218it [01:55, 5874.46it/s]\u001b[A\n",
      "658831it [01:55, 5946.94it/s]\u001b[A\n",
      "659459it [01:55, 6041.32it/s]\u001b[A\n",
      "660064it [01:56, 6013.95it/s]\u001b[A\n",
      "660684it [01:56, 6067.36it/s]\u001b[A\n",
      "661292it [01:56, 6022.19it/s]\u001b[A\n",
      "661895it [01:56, 5911.55it/s]\u001b[A\n",
      "662487it [01:56, 5900.88it/s]\u001b[A\n",
      "663095it [01:56, 5951.90it/s]\u001b[A\n",
      "663721it [01:56, 6039.10it/s]\u001b[A\n",
      "664326it [01:56, 5972.47it/s]\u001b[A\n",
      "664952it [01:56, 6055.49it/s]\u001b[A\n",
      "665570it [01:56, 6091.82it/s]\u001b[A\n",
      "666194it [01:57, 6134.81it/s]\u001b[A\n",
      "666808it [01:57, 6128.72it/s]\u001b[A\n",
      "667430it [01:57, 6154.32it/s]\u001b[A\n",
      "668050it [01:57, 6167.86it/s]\u001b[A\n",
      "668672it [01:57, 6181.53it/s]\u001b[A\n",
      "669291it [01:57, 6075.04it/s]\u001b[A\n",
      "669900it [01:57, 6048.60it/s]\u001b[A\n",
      "670506it [01:57, 5924.09it/s]\u001b[A\n",
      "671124it [01:57, 5996.32it/s]\u001b[A\n",
      "671725it [01:57, 5933.61it/s]\u001b[A\n",
      "672320it [01:58, 5902.65it/s]\u001b[A\n",
      "672911it [01:58, 5870.42it/s]\u001b[A\n",
      "673514it [01:58, 5915.08it/s]\u001b[A\n",
      "674106it [01:58, 5869.12it/s]\u001b[A\n",
      "674696it [01:58, 5875.91it/s]\u001b[A\n",
      "675320it [01:58, 5978.16it/s]\u001b[A\n",
      "675919it [01:58, 5948.36it/s]\u001b[A\n",
      "676530it [01:58, 5995.78it/s]\u001b[A\n",
      "677160it [01:58, 6082.35it/s]\u001b[A\n",
      "677769it [01:58, 6016.98it/s]\u001b[A\n",
      "678398it [01:59, 6095.57it/s]\u001b[A\n",
      "679013it [01:59, 6110.20it/s]\u001b[A\n",
      "679636it [01:59, 6144.36it/s]\u001b[A\n",
      "680251it [01:59, 5867.61it/s]\u001b[A\n",
      "680841it [01:59, 5836.82it/s]\u001b[A\n",
      "681434it [01:59, 5861.92it/s]\u001b[A\n",
      "682069it [01:59, 5998.75it/s]\u001b[A\n",
      "682671it [01:59, 5961.29it/s]\u001b[A\n",
      "683287it [01:59, 6016.67it/s]\u001b[A\n",
      "683890it [02:00, 5908.87it/s]\u001b[A\n",
      "684483it [02:00, 5907.07it/s]\u001b[A\n",
      "685115it [02:00, 6024.80it/s]\u001b[A\n",
      "685719it [02:00, 6002.28it/s]\u001b[A\n",
      "686321it [02:00, 5970.06it/s]\u001b[A\n",
      "686919it [02:00, 5952.95it/s]\u001b[A\n",
      "687542it [02:00, 6031.18it/s]\u001b[A\n",
      "688164it [02:00, 6085.10it/s]\u001b[A\n",
      "688792it [02:00, 6141.33it/s]\u001b[A\n",
      "689407it [02:00, 6123.70it/s]\u001b[A\n",
      "690020it [02:01, 6027.55it/s]\u001b[A\n",
      "690624it [02:01, 5960.50it/s]\u001b[A\n",
      "691221it [02:01, 5921.41it/s]\u001b[A\n",
      "691814it [02:01, 5892.32it/s]\u001b[A\n",
      "692415it [02:01, 5898.36it/s]\u001b[A\n",
      "693006it [02:01, 5514.76it/s]\u001b[A\n",
      "693563it [02:01, 5115.41it/s]\u001b[A\n",
      "694084it [02:01, 5047.77it/s]\u001b[A\n",
      "694688it [02:01, 5308.51it/s]\u001b[A\n",
      "695293it [02:02, 5510.27it/s]\u001b[A\n",
      "695877it [02:02, 5603.05it/s]\u001b[A\n",
      "696484it [02:02, 5733.18it/s]\u001b[A\n",
      "697083it [02:02, 5806.06it/s]\u001b[A\n",
      "697681it [02:02, 5854.92it/s]\u001b[A\n",
      "698270it [02:02, 5825.28it/s]\u001b[A\n",
      "698892it [02:02, 5938.11it/s]\u001b[A\n",
      "699488it [02:02, 5908.52it/s]\u001b[A\n",
      "700081it [02:02, 5894.54it/s]\u001b[A\n",
      "700697it [02:02, 5969.18it/s]\u001b[A\n",
      "701323it [02:03, 6052.92it/s]\u001b[A\n",
      "701938it [02:03, 6081.50it/s]\u001b[A\n",
      "702561it [02:03, 6123.96it/s]\u001b[A\n",
      "703179it [02:03, 6138.61it/s]\u001b[A\n",
      "703794it [02:03, 6138.68it/s]\u001b[A\n",
      "704409it [02:03, 6094.81it/s]\u001b[A\n",
      "705019it [02:03, 5426.80it/s]\u001b[A\n",
      "705576it [02:03, 3944.45it/s]\u001b[A\n",
      "706038it [02:03, 4059.52it/s]\u001b[A\n",
      "706657it [02:04, 4526.41it/s]\u001b[A\n",
      "707249it [02:04, 4869.34it/s]\u001b[A\n",
      "707835it [02:04, 5128.66it/s]\u001b[A\n",
      "708427it [02:04, 5341.43it/s]\u001b[A\n",
      "709001it [02:04, 5454.15it/s]\u001b[A\n",
      "709630it [02:04, 5679.86it/s]\u001b[A\n",
      "710214it [02:04, 5697.21it/s]\u001b[A\n",
      "710813it [02:04, 5780.28it/s]\u001b[A\n",
      "711428it [02:04, 5885.46it/s]\u001b[A\n",
      "712023it [02:04, 5881.00it/s]\u001b[A\n",
      "712616it [02:05, 5879.61it/s]\u001b[A\n",
      "713207it [02:05, 5835.09it/s]\u001b[A\n",
      "713825it [02:05, 5934.33it/s]\u001b[A\n",
      "714448it [02:05, 6017.65it/s]\u001b[A\n",
      "715052it [02:05, 6017.58it/s]\u001b[A\n",
      "715674it [02:05, 6075.60it/s]\u001b[A\n",
      "716283it [02:05, 6062.91it/s]\u001b[A\n",
      "716890it [02:05, 6063.42it/s]\u001b[A\n",
      "717497it [02:05, 6056.42it/s]\u001b[A\n",
      "718103it [02:06, 6043.06it/s]\u001b[A\n",
      "718734it [02:06, 6118.34it/s]\u001b[A\n",
      "719347it [02:06, 6006.87it/s]\u001b[A\n",
      "719964it [02:06, 6052.30it/s]\u001b[A\n",
      "720570it [02:06, 6023.13it/s]\u001b[A\n",
      "721206it [02:06, 6118.78it/s]\u001b[A\n",
      "721819it [02:06, 6104.49it/s]\u001b[A\n",
      "722430it [02:06, 6074.86it/s]\u001b[A\n",
      "723061it [02:06, 6141.30it/s]\u001b[A\n",
      "723676it [02:06, 6055.53it/s]\u001b[A\n",
      "724283it [02:07, 6011.06it/s]\u001b[A\n",
      "724885it [02:07, 5931.78it/s]\u001b[A\n",
      "725484it [02:07, 5946.28it/s]\u001b[A\n",
      "726083it [02:07, 5957.78it/s]\u001b[A\n",
      "726709it [02:07, 6043.25it/s]\u001b[A\n",
      "727314it [02:07, 6044.80it/s]\u001b[A\n",
      "727943it [02:07, 6115.87it/s]\u001b[A\n",
      "728556it [02:07, 6064.01it/s]\u001b[A\n",
      "729177it [02:07, 6106.35it/s]\u001b[A\n",
      "729814it [02:07, 6182.94it/s]\u001b[A\n",
      "730433it [02:08, 3332.38it/s]\u001b[A\n",
      "731004it [02:08, 3807.12it/s]\u001b[A\n",
      "731604it [02:08, 4275.77it/s]\u001b[A\n",
      "732234it [02:08, 4730.90it/s]\u001b[A\n",
      "732839it [02:08, 5061.19it/s]\u001b[A\n",
      "733461it [02:08, 5360.35it/s]\u001b[A\n",
      "734075it [02:08, 5571.88it/s]\u001b[A\n",
      "734705it [02:09, 5771.59it/s]\u001b[A\n",
      "735312it [02:09, 5850.79it/s]\u001b[A\n",
      "735919it [02:09, 5903.99it/s]\u001b[A\n",
      "736525it [02:09, 5483.67it/s]\u001b[A\n",
      "737118it [02:09, 5609.69it/s]\u001b[A\n",
      "737692it [02:09, 5590.67it/s]\u001b[A\n",
      "738273it [02:09, 5652.13it/s]\u001b[A\n",
      "738871it [02:09, 5745.53it/s]\u001b[A\n",
      "739451it [02:09, 5748.14it/s]\u001b[A\n",
      "740036it [02:09, 5776.37it/s]\u001b[A\n",
      "740645it [02:10, 5864.79it/s]\u001b[A\n",
      "741273it [02:10, 5981.56it/s]\u001b[A\n",
      "741874it [02:10, 5983.40it/s]\u001b[A\n",
      "742491it [02:10, 6036.88it/s]\u001b[A\n",
      "743120it [02:10, 6110.23it/s]\u001b[A\n",
      "743732it [02:10, 6079.66it/s]\u001b[A\n",
      "744341it [02:10, 6075.21it/s]\u001b[A\n",
      "744966it [02:10, 6123.52it/s]\u001b[A\n",
      "745598it [02:10, 6180.86it/s]\u001b[A\n",
      "746217it [02:10, 6180.29it/s]\u001b[A\n",
      "746854it [02:11, 6233.64it/s]\u001b[A\n",
      "747478it [02:11, 6121.16it/s]\u001b[A\n",
      "748117it [02:11, 6197.55it/s]\u001b[A\n",
      "748753it [02:11, 6243.47it/s]\u001b[A\n",
      "749378it [02:11, 6173.97it/s]\u001b[A\n",
      "749999it [02:11, 6184.57it/s]\u001b[A\n",
      "750618it [02:11, 6154.84it/s]\u001b[A\n",
      "751257it [02:11, 6221.56it/s]\u001b[A\n",
      "751905it [02:11, 6296.07it/s]\u001b[A\n",
      "752536it [02:11, 6239.87it/s]\u001b[A\n",
      "753197it [02:12, 6346.00it/s]\u001b[A\n",
      "753833it [02:12, 6345.86it/s]\u001b[A\n",
      "754470it [02:12, 6351.20it/s]\u001b[A\n",
      "755106it [02:12, 6285.14it/s]\u001b[A\n",
      "755735it [02:12, 6174.85it/s]\u001b[A\n",
      "756354it [02:12, 6092.11it/s]\u001b[A\n",
      "756974it [02:12, 6123.58it/s]\u001b[A\n",
      "757611it [02:12, 6195.30it/s]\u001b[A\n",
      "758232it [02:12, 6190.37it/s]\u001b[A\n",
      "758852it [02:12, 6034.33it/s]\u001b[A\n",
      "759457it [02:13, 5997.11it/s]\u001b[A\n",
      "760058it [02:13, 5135.47it/s]\u001b[A\n",
      "760594it [02:13, 5086.51it/s]\u001b[A\n",
      "761172it [02:13, 5274.84it/s]\u001b[A\n",
      "761746it [02:13, 5403.82it/s]\u001b[A\n",
      "762297it [02:13, 5376.04it/s]\u001b[A\n",
      "762863it [02:13, 5458.09it/s]\u001b[A\n",
      "763461it [02:13, 5602.81it/s]\u001b[A\n",
      "764065it [02:13, 5725.59it/s]\u001b[A\n",
      "764673it [02:14, 5826.08it/s]\u001b[A\n",
      "765264it [02:14, 5848.98it/s]\u001b[A\n",
      "765867it [02:14, 5897.69it/s]\u001b[A\n",
      "766480it [02:14, 5965.35it/s]\u001b[A\n",
      "767078it [02:14, 5925.10it/s]\u001b[A\n",
      "767704it [02:14, 6020.12it/s]\u001b[A\n",
      "768310it [02:14, 6031.86it/s]\u001b[A\n",
      "768915it [02:14, 6034.89it/s]\u001b[A\n",
      "769553it [02:14, 6132.79it/s]\u001b[A\n",
      "770168it [02:14, 6073.23it/s]\u001b[A\n",
      "770810it [02:15, 6171.08it/s]\u001b[A\n",
      "771444it [02:15, 6218.81it/s]\u001b[A\n",
      "772067it [02:15, 6181.71it/s]\u001b[A\n",
      "772698it [02:15, 6219.26it/s]\u001b[A\n",
      "773321it [02:15, 6206.06it/s]\u001b[A\n",
      "773942it [02:15, 6169.08it/s]\u001b[A\n",
      "774573it [02:15, 6209.64it/s]\u001b[A\n",
      "775195it [02:15, 6191.33it/s]\u001b[A\n",
      "775815it [02:15, 6045.38it/s]\u001b[A\n",
      "776430it [02:15, 6075.00it/s]\u001b[A\n",
      "777066it [02:16, 6156.57it/s]\u001b[A\n",
      "777693it [02:16, 6189.34it/s]\u001b[A\n",
      "778321it [02:16, 6215.25it/s]\u001b[A\n",
      "778943it [02:16, 6183.15it/s]\u001b[A\n",
      "779573it [02:16, 6216.11it/s]\u001b[A\n",
      "780195it [02:16, 6157.85it/s]\u001b[A\n",
      "780827it [02:16, 6204.70it/s]\u001b[A\n",
      "781463it [02:16, 6249.95it/s]\u001b[A\n",
      "782104it [02:16, 6295.40it/s]\u001b[A\n",
      "782738it [02:16, 6307.41it/s]\u001b[A\n",
      "783369it [02:17, 6278.35it/s]\u001b[A\n",
      "783998it [02:17, 6210.31it/s]\u001b[A\n",
      "784620it [02:17, 6194.39it/s]\u001b[A\n",
      "785256it [02:17, 6242.80it/s]\u001b[A\n",
      "785881it [02:17, 6142.86it/s]\u001b[A\n",
      "786496it [02:17, 5900.80it/s]\u001b[A\n",
      "787089it [02:17, 5480.43it/s]\u001b[A\n",
      "787645it [02:17, 5245.82it/s]\u001b[A\n",
      "788178it [02:17, 5102.79it/s]\u001b[A\n",
      "788695it [02:18, 5068.50it/s]\u001b[A\n",
      "789207it [02:18, 5020.99it/s]\u001b[A\n",
      "789713it [02:18, 4863.95it/s]\u001b[A\n",
      "790203it [02:18, 4578.03it/s]\u001b[A\n",
      "790667it [02:18, 4420.53it/s]\u001b[A\n",
      "791115it [02:18, 4384.71it/s]\u001b[A\n",
      "791575it [02:18, 4446.23it/s]\u001b[A\n",
      "792023it [02:18, 4313.36it/s]\u001b[A\n",
      "792527it [02:18, 4507.05it/s]\u001b[A\n",
      "793045it [02:19, 4689.54it/s]\u001b[A\n",
      "793532it [02:19, 4742.16it/s]\u001b[A\n",
      "794018it [02:19, 4776.28it/s]\u001b[A\n",
      "794499it [02:19, 4728.57it/s]\u001b[A\n",
      "795032it [02:19, 4892.51it/s]\u001b[A\n",
      "795567it [02:19, 5021.06it/s]\u001b[A\n",
      "796072it [02:19, 5022.82it/s]\u001b[A\n",
      "796660it [02:19, 5250.98it/s]\u001b[A\n",
      "797199it [02:19, 5290.14it/s]\u001b[A\n",
      "797731it [02:19, 5295.99it/s]\u001b[A\n",
      "798291it [02:20, 5381.74it/s]\u001b[A\n",
      "798831it [02:20, 5020.25it/s]\u001b[A\n",
      "799340it [02:20, 4877.21it/s]\u001b[A\n",
      "799833it [02:20, 4595.74it/s]\u001b[A\n",
      "800300it [02:20, 4482.34it/s]\u001b[A\n",
      "800754it [02:20, 4337.43it/s]\u001b[A\n",
      "801248it [02:20, 4501.02it/s]\u001b[A\n",
      "801723it [02:20, 4571.42it/s]\u001b[A\n",
      "802184it [02:20, 4508.11it/s]\u001b[A\n",
      "802646it [02:21, 4539.20it/s]\u001b[A\n",
      "803102it [02:21, 4466.58it/s]\u001b[A\n",
      "803570it [02:21, 4527.36it/s]\u001b[A\n",
      "804047it [02:21, 4597.29it/s]\u001b[A\n",
      "804508it [02:21, 4564.40it/s]\u001b[A\n",
      "805011it [02:21, 4692.83it/s]\u001b[A\n",
      "805482it [02:21, 4583.64it/s]\u001b[A\n",
      "805969it [02:21, 4665.26it/s]\u001b[A\n",
      "806438it [02:21, 4539.46it/s]\u001b[A\n",
      "806926it [02:21, 4635.27it/s]\u001b[A\n",
      "807392it [02:22, 4413.30it/s]\u001b[A\n",
      "807837it [02:22, 4265.85it/s]\u001b[A\n",
      "808305it [02:22, 4381.71it/s]\u001b[A\n",
      "808747it [02:22, 4356.67it/s]\u001b[A\n",
      "809185it [02:22, 4351.05it/s]\u001b[A\n",
      "809622it [02:22, 4338.21it/s]\u001b[A\n",
      "810057it [02:22, 4283.18it/s]\u001b[A\n",
      "810558it [02:22, 4474.81it/s]\u001b[A\n",
      "811009it [02:22, 4271.24it/s]\u001b[A\n",
      "811441it [02:23, 3759.51it/s]\u001b[A\n",
      "811852it [02:23, 3857.04it/s]\u001b[A\n",
      "812249it [02:23, 3385.27it/s]\u001b[A\n",
      "812616it [02:23, 3464.71it/s]\u001b[A\n",
      "812983it [02:23, 3522.97it/s]\u001b[A\n",
      "813402it [02:23, 3699.10it/s]\u001b[A\n",
      "813787it [02:23, 3741.98it/s]\u001b[A\n",
      "814168it [02:23, 3735.88it/s]\u001b[A\n",
      "814546it [02:23, 3660.97it/s]\u001b[A\n",
      "814916it [02:24, 3665.84it/s]\u001b[A\n",
      "815285it [02:24, 3480.40it/s]\u001b[A\n",
      "815680it [02:24, 3607.74it/s]\u001b[A\n",
      "816052it [02:24, 3640.59it/s]\u001b[A\n",
      "816419it [02:24, 3470.03it/s]\u001b[A\n",
      "816824it [02:24, 3624.97it/s]\u001b[A\n",
      "817292it [02:24, 3886.81it/s]\u001b[A\n",
      "817861it [02:24, 4294.19it/s]\u001b[A\n",
      "818417it [02:24, 4607.84it/s]\u001b[A\n",
      "818898it [02:24, 4403.49it/s]\u001b[A\n",
      "819355it [02:25, 4197.86it/s]\u001b[A\n",
      "819871it [02:25, 4445.53it/s]\u001b[A\n",
      "820403it [02:25, 4674.78it/s]\u001b[A\n",
      "820992it [02:25, 4982.55it/s]\u001b[A\n",
      "821599it [02:25, 5263.90it/s]\u001b[A\n",
      "822164it [02:25, 5373.52it/s]\u001b[A\n",
      "822732it [02:25, 5460.56it/s]\u001b[A\n",
      "823342it [02:25, 5636.32it/s]\u001b[A\n",
      "823956it [02:25, 5776.71it/s]\u001b[A\n",
      "824540it [02:26, 5739.29it/s]\u001b[A\n",
      "825118it [02:26, 5710.94it/s]\u001b[A\n",
      "825692it [02:26, 5710.91it/s]\u001b[A\n",
      "826297it [02:26, 5806.27it/s]\u001b[A\n",
      "826880it [02:26, 5485.57it/s]\u001b[A\n",
      "827434it [02:26, 5385.46it/s]\u001b[A\n",
      "828018it [02:26, 5513.33it/s]\u001b[A\n",
      "828573it [02:26, 5430.66it/s]\u001b[A\n",
      "829179it [02:26, 5603.61it/s]\u001b[A\n",
      "829786it [02:26, 5735.75it/s]\u001b[A\n",
      "830363it [02:27, 5660.05it/s]\u001b[A\n",
      "830939it [02:27, 5689.26it/s]\u001b[A\n",
      "831553it [02:27, 5815.38it/s]\u001b[A\n",
      "832157it [02:27, 5878.86it/s]\u001b[A\n",
      "832759it [02:27, 5920.27it/s]\u001b[A\n",
      "833353it [02:27, 5776.74it/s]\u001b[A\n",
      "833953it [02:27, 5840.51it/s]\u001b[A\n",
      "834539it [02:27, 5531.32it/s]\u001b[A\n",
      "835097it [02:27, 5309.99it/s]\u001b[A\n",
      "835664it [02:27, 5412.57it/s]\u001b[A\n",
      "836210it [02:28, 5373.06it/s]\u001b[A\n",
      "836774it [02:28, 5449.87it/s]\u001b[A\n",
      "837335it [02:28, 5495.17it/s]\u001b[A\n",
      "837887it [02:28, 5446.60it/s]\u001b[A\n",
      "838501it [02:28, 5635.48it/s]\u001b[A\n",
      "839069it [02:28, 5646.78it/s]\u001b[A\n",
      "839637it [02:28, 5656.09it/s]\u001b[A\n",
      "840204it [02:28, 5647.44it/s]\u001b[A\n",
      "840789it [02:28, 5705.38it/s]\u001b[A\n",
      "841361it [02:28, 5688.20it/s]\u001b[A\n",
      "841961it [02:29, 5776.46it/s]\u001b[A\n",
      "842548it [02:29, 5802.73it/s]\u001b[A\n",
      "843150it [02:29, 5865.34it/s]\u001b[A\n",
      "843764it [02:29, 5943.95it/s]\u001b[A\n",
      "844360it [02:29, 5891.78it/s]\u001b[A\n",
      "844950it [02:29, 5775.05it/s]\u001b[A\n",
      "845544it [02:29, 5822.07it/s]\u001b[A\n",
      "846127it [02:29, 5820.14it/s]\u001b[A\n",
      "846710it [02:29, 5766.74it/s]\u001b[A\n",
      "847288it [02:30, 5613.23it/s]\u001b[A\n",
      "847894it [02:30, 5738.01it/s]\u001b[A\n",
      "848493it [02:30, 5810.09it/s]\u001b[A\n",
      "849076it [02:30, 5743.14it/s]\u001b[A\n",
      "849654it [02:30, 5753.66it/s]\u001b[A\n",
      "850231it [02:30, 5624.39it/s]\u001b[A\n",
      "850821it [02:30, 5702.60it/s]\u001b[A\n",
      "851420it [02:30, 5783.84it/s]\u001b[A\n",
      "852005it [02:30, 5799.32it/s]\u001b[A\n",
      "852602it [02:30, 5849.21it/s]\u001b[A\n",
      "853188it [02:31, 5797.62it/s]\u001b[A\n",
      "853769it [02:31, 5769.30it/s]\u001b[A\n",
      "854372it [02:31, 5844.26it/s]\u001b[A\n",
      "854999it [02:31, 5963.63it/s]\u001b[A\n",
      "855603it [02:31, 5985.29it/s]\u001b[A\n",
      "856208it [02:31, 6003.10it/s]\u001b[A\n",
      "856809it [02:31, 5775.51it/s]\u001b[A\n",
      "857390it [02:31, 5784.16it/s]\u001b[A\n",
      "857970it [02:31, 5775.60it/s]\u001b[A\n",
      "858549it [02:31, 5778.81it/s]\u001b[A\n",
      "859128it [02:32, 5776.16it/s]\u001b[A\n",
      "859754it [02:32, 5912.72it/s]\u001b[A\n",
      "860347it [02:32, 5790.23it/s]\u001b[A\n",
      "860928it [02:32, 5772.69it/s]\u001b[A\n",
      "861554it [02:32, 5908.59it/s]\u001b[A\n",
      "862147it [02:32, 5831.77it/s]\u001b[A\n",
      "862740it [02:32, 5858.71it/s]\u001b[A\n",
      "863327it [02:32, 5851.37it/s]\u001b[A\n",
      "863923it [02:32, 5882.99it/s]\u001b[A\n",
      "864551it [02:32, 5996.49it/s]\u001b[A\n",
      "865152it [02:33, 5952.36it/s]\u001b[A\n",
      "865748it [02:33, 5928.59it/s]\u001b[A\n",
      "866366it [02:33, 5998.57it/s]\u001b[A\n",
      "866967it [02:33, 5967.92it/s]\u001b[A\n",
      "867569it [02:33, 5981.59it/s]\u001b[A\n",
      "868168it [02:33, 5959.37it/s]\u001b[A\n",
      "868785it [02:33, 6020.13it/s]\u001b[A\n",
      "869390it [02:33, 6026.85it/s]\u001b[A\n",
      "869993it [02:33, 5998.95it/s]\u001b[A\n",
      "870594it [02:33, 5850.49it/s]\u001b[A\n",
      "871203it [02:34, 5919.19it/s]\u001b[A\n",
      "871825it [02:34, 6004.96it/s]\u001b[A\n",
      "872427it [02:34, 5938.83it/s]\u001b[A\n",
      "873032it [02:34, 5969.27it/s]\u001b[A\n",
      "873630it [02:34, 5913.84it/s]\u001b[A\n",
      "874222it [02:34, 5822.28it/s]\u001b[A\n",
      "874842it [02:34, 5930.56it/s]\u001b[A\n",
      "875463it [02:34, 6010.90it/s]\u001b[A\n",
      "876066it [02:34, 6010.23it/s]\u001b[A\n",
      "876688it [02:35, 6069.14it/s]\u001b[A\n",
      "877296it [02:35, 6006.17it/s]\u001b[A\n",
      "877898it [02:35, 5951.68it/s]\u001b[A\n",
      "878494it [02:35, 5875.67it/s]\u001b[A\n",
      "879114it [02:35, 5968.99it/s]\u001b[A\n",
      "879712it [02:35, 5845.01it/s]\u001b[A\n",
      "880304it [02:35, 5865.39it/s]\u001b[A\n",
      "880940it [02:35, 6004.99it/s]\u001b[A\n",
      "881561it [02:35, 6062.82it/s]\u001b[A\n"
     ]
    },
    {
     "name": "stderr",
     "output_type": "stream",
     "text": [
      "882176it [02:35, 6087.37it/s]\u001b[A\n",
      "882786it [02:36, 6009.72it/s]\u001b[A\n",
      "883394it [02:36, 6030.52it/s]\u001b[A\n",
      "884030it [02:36, 6125.28it/s]\u001b[A\n",
      "884654it [02:36, 6157.93it/s]\u001b[A\n",
      "885271it [02:36, 6137.96it/s]\u001b[A\n",
      "885886it [02:36, 6101.21it/s]\u001b[A\n",
      "886497it [02:36, 6011.89it/s]\u001b[A\n",
      "887099it [02:36, 6008.09it/s]\u001b[A\n",
      "887703it [02:36, 6015.27it/s]\u001b[A\n",
      "888332it [02:36, 6095.05it/s]\u001b[A\n",
      "888960it [02:37, 6148.69it/s]\u001b[A\n",
      "889598it [02:37, 6215.11it/s]\u001b[A\n",
      "890220it [02:37, 6103.46it/s]\u001b[A\n",
      "890856it [02:37, 6175.74it/s]\u001b[A\n",
      "891509it [02:37, 6276.80it/s]\u001b[A\n",
      "892138it [02:37, 6239.58it/s]\u001b[A\n",
      "892771it [02:37, 6265.86it/s]\u001b[A\n",
      "893407it [02:37, 6291.44it/s]\u001b[A\n",
      "894039it [02:37, 6298.85it/s]\u001b[A\n",
      "894670it [02:37, 6256.44it/s]\u001b[A\n",
      "895296it [02:38, 6162.59it/s]\u001b[A\n",
      "895932it [02:38, 6219.85it/s]\u001b[A\n",
      "896555it [02:38, 6207.92it/s]\u001b[A\n",
      "897177it [02:38, 6193.19it/s]\u001b[A\n",
      "897797it [02:38, 6185.28it/s]\u001b[A\n",
      "898416it [02:38, 6117.88it/s]\u001b[A\n",
      "899029it [02:38, 6112.38it/s]\u001b[A\n",
      "899641it [02:38, 6100.91it/s]\u001b[A\n",
      "900252it [02:38, 5985.52it/s]\u001b[A\n",
      "900852it [02:38, 5908.99it/s]\u001b[A\n",
      "901444it [02:39, 5767.25it/s]\u001b[A\n",
      "902022it [02:39, 5439.24it/s]\u001b[A\n",
      "902574it [02:39, 5462.30it/s]\u001b[A\n",
      "903124it [02:39, 5379.13it/s]\u001b[A\n",
      "903740it [02:39, 5589.90it/s]\u001b[A\n",
      "904340it [02:39, 5706.04it/s]\u001b[A\n",
      "904974it [02:39, 5880.73it/s]\u001b[A\n",
      "905566it [02:39, 5797.35it/s]\u001b[A\n",
      "906161it [02:39, 5840.15it/s]\u001b[A\n",
      "906756it [02:40, 5872.46it/s]\u001b[A\n",
      "907347it [02:40, 5883.64it/s]\u001b[A\n",
      "907953it [02:40, 5933.81it/s]\u001b[A\n",
      "908548it [02:40, 5915.89it/s]\u001b[A\n",
      "909154it [02:40, 5956.51it/s]\u001b[A\n",
      "909751it [02:40, 5954.18it/s]\u001b[A\n",
      "910347it [02:40, 5929.62it/s]\u001b[A\n",
      "910949it [02:40, 5953.58it/s]\u001b[A\n",
      "911559it [02:40, 5994.84it/s]\u001b[A\n",
      "912185it [02:40, 6070.29it/s]\u001b[A\n",
      "912793it [02:41, 6062.17it/s]\u001b[A\n",
      "913400it [02:41, 6057.92it/s]\u001b[A\n",
      "914006it [02:41, 5784.79it/s]\u001b[A\n",
      "914593it [02:41, 5808.03it/s]\u001b[A\n",
      "915199it [02:41, 5880.57it/s]\u001b[A\n",
      "915803it [02:41, 5925.38it/s]\u001b[A\n",
      "916400it [02:41, 5938.10it/s]\u001b[A\n",
      "917014it [02:41, 5994.92it/s]\u001b[A\n",
      "917625it [02:41, 6027.39it/s]\u001b[A\n",
      "918239it [02:41, 6058.21it/s]\u001b[A\n",
      "918867it [02:42, 6121.12it/s]\u001b[A\n",
      "919480it [02:42, 6104.44it/s]\u001b[A\n",
      "920091it [02:42, 5912.74it/s]\u001b[A\n",
      "920688it [02:42, 5928.99it/s]\u001b[A\n",
      "921314it [02:42, 6022.55it/s]\u001b[A\n",
      "921918it [02:42, 6009.75it/s]\u001b[A\n",
      "922520it [02:42, 5992.95it/s]\u001b[A\n",
      "923120it [02:42, 5934.22it/s]\u001b[A\n",
      "923723it [02:42, 5960.87it/s]\u001b[A\n",
      "924323it [02:42, 5970.17it/s]\u001b[A\n",
      "924949it [02:43, 6053.55it/s]\u001b[A\n",
      "925555it [02:43, 6052.44it/s]\u001b[A\n",
      "926194it [02:43, 6147.27it/s]\u001b[A\n",
      "926821it [02:43, 6182.95it/s]\u001b[A\n",
      "927440it [02:43, 6056.61it/s]\u001b[A\n",
      "928047it [02:43, 6019.07it/s]\u001b[A\n",
      "928650it [02:43, 5962.08it/s]\u001b[A\n",
      "929247it [02:43, 5721.03it/s]\u001b[A\n",
      "929822it [02:43, 5710.69it/s]\u001b[A\n",
      "930395it [02:43, 5705.73it/s]\u001b[A\n",
      "931031it [02:44, 5887.35it/s]\u001b[A\n",
      "931623it [02:44, 5869.48it/s]\u001b[A\n",
      "932252it [02:44, 5988.62it/s]\u001b[A\n",
      "932853it [02:44, 5939.37it/s]\u001b[A\n",
      "933474it [02:44, 6017.34it/s]\u001b[A\n",
      "934077it [02:44, 5894.58it/s]\u001b[A\n",
      "934683it [02:44, 5941.41it/s]\u001b[A\n",
      "935302it [02:44, 6013.80it/s]\u001b[A\n",
      "935923it [02:44, 6069.88it/s]\u001b[A\n",
      "936536it [02:44, 6085.61it/s]\u001b[A\n",
      "937146it [02:45, 5975.02it/s]\u001b[A\n",
      "937745it [02:45, 5839.25it/s]\u001b[A\n",
      "938331it [02:45, 5716.48it/s]\u001b[A\n",
      "938951it [02:45, 5852.24it/s]\u001b[A\n",
      "939539it [02:45, 5806.19it/s]\u001b[A\n",
      "940121it [02:45, 5778.76it/s]\u001b[A\n",
      "940700it [02:45, 5781.47it/s]\u001b[A\n",
      "941322it [02:45, 5904.64it/s]\u001b[A\n",
      "941922it [02:45, 5930.75it/s]\u001b[A\n",
      "942516it [02:46, 3026.61it/s]\u001b[A\n",
      "943111it [02:46, 3549.61it/s]\u001b[A\n",
      "943712it [02:46, 4045.74it/s]\u001b[A\n",
      "944310it [02:46, 4479.87it/s]\u001b[A\n",
      "944886it [02:46, 4799.26it/s]\u001b[A\n",
      "945514it [02:46, 5163.16it/s]\u001b[A\n",
      "946121it [02:46, 5403.46it/s]\u001b[A\n",
      "946746it [02:47, 5631.55it/s]\u001b[A\n",
      "947363it [02:47, 5782.81it/s]\u001b[A\n",
      "947972it [02:47, 5871.35it/s]\u001b[A\n",
      "948578it [02:47, 5922.79it/s]\u001b[A\n",
      "949184it [02:47, 5948.16it/s]\u001b[A\n",
      "949794it [02:47, 5988.82it/s]\u001b[A\n",
      "950400it [02:47, 5810.51it/s]\u001b[A\n",
      "950987it [02:47, 5805.05it/s]\u001b[A\n",
      "951605it [02:47, 5911.01it/s]\u001b[A\n",
      "952200it [02:47, 5756.45it/s]\u001b[A\n",
      "952779it [02:48, 5625.81it/s]\u001b[A\n",
      "953393it [02:48, 5770.67it/s]\u001b[A\n",
      "954009it [02:48, 5880.93it/s]\u001b[A\n",
      "954602it [02:48, 5894.03it/s]\u001b[A\n",
      "955198it [02:48, 5912.42it/s]\u001b[A\n",
      "955821it [02:48, 6004.11it/s]\u001b[A\n",
      "956423it [02:48, 6000.67it/s]\u001b[A\n",
      "957024it [02:48, 5919.35it/s]\u001b[A\n",
      "957658it [02:48, 6037.95it/s]\u001b[A\n",
      "958274it [02:48, 6072.76it/s]\u001b[A\n",
      "958910it [02:49, 6155.20it/s]\u001b[A\n",
      "959546it [02:49, 6213.16it/s]\u001b[A\n",
      "960169it [02:49, 6071.42it/s]\u001b[A\n",
      "960778it [02:49, 6070.83it/s]\u001b[A\n",
      "961389it [02:49, 6081.15it/s]\u001b[A\n",
      "961998it [02:49, 6038.50it/s]\u001b[A\n",
      "962615it [02:49, 6074.98it/s]\u001b[A\n",
      "963223it [02:49, 6006.10it/s]\u001b[A\n",
      "963856it [02:49, 6099.32it/s]\u001b[A\n",
      "964469it [02:49, 6107.11it/s]\u001b[A\n",
      "965104it [02:50, 6176.56it/s]\u001b[A\n",
      "965723it [02:50, 6129.36it/s]\u001b[A\n",
      "966350it [02:50, 6170.06it/s]\u001b[A\n",
      "966995it [02:50, 6250.88it/s]\u001b[A\n",
      "967633it [02:50, 6288.25it/s]\u001b[A\n",
      "968263it [02:50, 6199.99it/s]\u001b[A\n",
      "968885it [02:50, 6204.16it/s]\u001b[A\n",
      "969506it [02:50, 6190.13it/s]\u001b[A\n",
      "970126it [02:50, 6011.92it/s]\u001b[A\n",
      "970747it [02:51, 6067.88it/s]\u001b[A\n",
      "971355it [02:51, 6065.45it/s]\u001b[A\n",
      "971989it [02:51, 6144.51it/s]\u001b[A\n",
      "972611it [02:51, 6166.58it/s]\u001b[A\n",
      "973236it [02:51, 6190.12it/s]\u001b[A\n",
      "973867it [02:51, 6225.05it/s]\u001b[A\n",
      "974490it [02:51, 6131.94it/s]\u001b[A\n",
      "975104it [02:51, 6105.57it/s]\u001b[A\n",
      "975728it [02:51, 6143.98it/s]\u001b[A\n",
      "976354it [02:51, 6177.75it/s]\u001b[A\n",
      "976973it [02:52, 6068.44it/s]\u001b[A\n",
      "977581it [02:52, 6064.21it/s]\u001b[A\n",
      "978188it [02:52, 6058.31it/s]\u001b[A\n",
      "978800it [02:52, 6076.18it/s]\u001b[A\n",
      "979426it [02:52, 6129.16it/s]\u001b[A\n",
      "980040it [02:52, 6033.11it/s]\u001b[A\n",
      "980658it [02:52, 6075.18it/s]\u001b[A\n",
      "981286it [02:52, 6133.78it/s]\u001b[A\n",
      "981900it [02:52, 6134.81it/s]\u001b[A\n",
      "982516it [02:52, 6140.34it/s]\u001b[A\n",
      "983131it [02:53, 6121.72it/s]\u001b[A\n",
      "983744it [02:53, 6091.05it/s]\u001b[A\n",
      "984354it [02:53, 6071.85it/s]\u001b[A\n",
      "984984it [02:53, 6136.05it/s]\u001b[A\n",
      "985598it [02:53, 6128.44it/s]\u001b[A\n",
      "986212it [02:53, 6087.42it/s]\u001b[A\n",
      "986821it [02:53, 6055.69it/s]\u001b[A\n",
      "987459it [02:53, 6146.91it/s]\u001b[A\n",
      "988075it [02:53, 6143.81it/s]\u001b[A\n",
      "988712it [02:53, 6209.46it/s]\u001b[A\n",
      "989334it [02:54, 6087.58it/s]\u001b[A\n",
      "989969it [02:54, 6162.25it/s]\u001b[A\n",
      "990587it [02:54, 6033.65it/s]\u001b[A\n",
      "991220it [02:54, 6118.05it/s]\u001b[A\n",
      "991848it [02:54, 6163.44it/s]\u001b[A\n",
      "992466it [02:54, 6131.94it/s]\u001b[A\n",
      "993097it [02:54, 6182.18it/s]\u001b[A\n",
      "993716it [02:54, 6142.16it/s]\u001b[A\n",
      "994341it [02:54, 6172.90it/s]\u001b[A\n",
      "994971it [02:54, 6208.25it/s]\u001b[A\n",
      "995593it [02:55, 6146.02it/s]\u001b[A\n",
      "996220it [02:55, 6180.65it/s]\u001b[A\n",
      "996839it [02:55, 6151.84it/s]\u001b[A\n",
      "997459it [02:55, 6165.95it/s]\u001b[A\n",
      "998076it [02:55, 6097.08it/s]\u001b[A\n",
      "998687it [02:55, 5976.19it/s]\u001b[A\n",
      "999325it [02:55, 6091.80it/s]\u001b[A\n",
      "999936it [02:55, 6081.01it/s]\u001b[A\n",
      "1000545it [02:55, 5949.64it/s]\u001b[A\n",
      "1001142it [02:55, 5924.14it/s]\u001b[A\n",
      "1001766it [02:56, 6013.16it/s]\u001b[A\n",
      "1002388it [02:56, 6072.24it/s]\u001b[A\n",
      "1003012it [02:56, 6120.65it/s]\u001b[A\n",
      "1003634it [02:56, 6148.28it/s]\u001b[A\n",
      "1004250it [02:56, 6145.68it/s]\u001b[A\n",
      "1004865it [02:56, 5709.36it/s]\u001b[A\n",
      "1005443it [02:56, 4741.38it/s]\u001b[A\n",
      "1005950it [02:56, 4078.58it/s]\u001b[A\n",
      "1006444it [02:57, 4302.62it/s]\u001b[A\n",
      "1007063it [02:57, 4735.37it/s]\u001b[A\n",
      "1007689it [02:57, 5106.98it/s]\u001b[A\n",
      "1008312it [02:57, 5397.72it/s]\u001b[A\n",
      "1008950it [02:57, 5658.79it/s]\u001b[A\n",
      "1009558it [02:57, 5778.63it/s]\u001b[A\n",
      "1010153it [02:57, 5733.81it/s]\u001b[A\n",
      "1010747it [02:57, 5792.75it/s]\u001b[A\n",
      "1011335it [02:57, 5812.50it/s]\u001b[A\n",
      "1011922it [02:57, 5819.95it/s]\u001b[A\n",
      "1012557it [02:58, 5968.65it/s]\u001b[A\n",
      "1013158it [02:58, 5876.59it/s]\u001b[A\n",
      "1013761it [02:58, 5919.47it/s]\u001b[A\n",
      "1014395it [02:58, 6037.46it/s]\u001b[A\n",
      "1015001it [02:58, 6023.47it/s]\u001b[A\n",
      "1015628it [02:58, 6095.03it/s]\u001b[A\n",
      "1016253it [02:58, 6139.61it/s]\u001b[A\n",
      "1016868it [02:58, 6105.52it/s]\u001b[A\n",
      "1017480it [02:58, 6095.19it/s]\u001b[A\n",
      "1018114it [02:58, 6164.26it/s]\u001b[A\n",
      "1018731it [02:59, 6147.02it/s]\u001b[A\n",
      "1019354it [02:59, 6168.06it/s]\u001b[A\n",
      "1019972it [02:59, 6120.96it/s]\u001b[A\n",
      "1020585it [02:59, 5262.27it/s]\u001b[A\n",
      "1021133it [02:59, 5032.99it/s]\u001b[A\n",
      "1021654it [02:59, 5081.29it/s]\u001b[A\n",
      "1022295it [02:59, 5416.99it/s]\u001b[A\n",
      "1022931it [02:59, 5668.46it/s]\u001b[A\n",
      "1023540it [02:59, 5787.83it/s]\u001b[A\n",
      "1024129it [03:00, 5795.13it/s]\u001b[A\n",
      "1024742it [03:00, 5890.84it/s]\u001b[A\n",
      "1025382it [03:00, 6032.52it/s]\u001b[A\n",
      "1026018it [03:00, 6126.23it/s]\u001b[A\n",
      "1026642it [03:00, 6157.45it/s]\u001b[A\n",
      "1027261it [03:00, 6098.66it/s]\u001b[A\n",
      "1027873it [03:00, 6054.48it/s]\u001b[A\n",
      "1028480it [03:00, 6008.95it/s]\u001b[A\n",
      "1029112it [03:00, 6097.46it/s]\u001b[A\n",
      "1029744it [03:00, 6162.24it/s]\u001b[A\n",
      "1030362it [03:01, 6118.17it/s]\u001b[A\n",
      "1030989it [03:01, 6161.96it/s]\u001b[A\n",
      "1031606it [03:01, 6100.07it/s]\u001b[A\n",
      "1032217it [03:01, 6021.85it/s]\u001b[A\n",
      "1032847it [03:01, 6100.13it/s]\u001b[A\n",
      "1033458it [03:01, 6071.23it/s]\u001b[A\n",
      "1034087it [03:01, 6134.50it/s]\u001b[A\n",
      "1034721it [03:01, 6193.50it/s]\u001b[A\n",
      "1035341it [03:01, 6142.05it/s]\u001b[A\n",
      "1035956it [03:01, 6137.33it/s]\u001b[A\n",
      "1036588it [03:02, 6190.89it/s]\u001b[A\n",
      "1037224it [03:02, 6238.47it/s]\u001b[A\n",
      "1037849it [03:02, 6197.35it/s]\u001b[A\n",
      "1038470it [03:02, 6172.41it/s]\u001b[A\n",
      "1039095it [03:02, 6194.52it/s]\u001b[A\n",
      "1039715it [03:02, 6152.51it/s]\u001b[A\n",
      "1040331it [03:02, 6047.34it/s]\u001b[A\n",
      "1040955it [03:02, 6101.84it/s]\u001b[A\n",
      "1041583it [03:02, 6153.74it/s]\u001b[A\n",
      "1042215it [03:02, 6200.82it/s]\u001b[A\n",
      "1042851it [03:03, 6246.05it/s]\u001b[A\n",
      "1043476it [03:03, 6223.29it/s]\u001b[A\n",
      "1044110it [03:03, 6256.02it/s]\u001b[A\n",
      "1044736it [03:03, 6184.72it/s]\u001b[A\n",
      "1045355it [03:03, 6138.90it/s]\u001b[A\n",
      "1045979it [03:03, 6167.76it/s]\u001b[A\n",
      "1046624it [03:03, 6248.21it/s]\u001b[A\n",
      "1047250it [03:03, 6189.71it/s]\u001b[A\n",
      "1047870it [03:03, 6148.65it/s]\u001b[A\n",
      "1048486it [03:03, 6140.94it/s]\u001b[A\n",
      "1049120it [03:04, 6196.38it/s]\u001b[A\n",
      "1049758it [03:04, 6249.32it/s]\u001b[A\n",
      "1050384it [03:04, 6157.71it/s]\u001b[A\n",
      "1051003it [03:04, 6165.72it/s]\u001b[A\n",
      "1051620it [03:04, 6111.04it/s]\u001b[A\n",
      "1052247it [03:04, 6156.87it/s]\u001b[A\n",
      "1052876it [03:04, 6195.24it/s]\u001b[A\n",
      "1053500it [03:04, 6206.72it/s]\u001b[A\n",
      "1054121it [03:04, 6034.12it/s]\u001b[A\n",
      "1054726it [03:05, 5927.44it/s]\u001b[A\n",
      "1055321it [03:05, 5849.59it/s]\u001b[A\n",
      "1055908it [03:05, 5683.62it/s]\u001b[A\n",
      "1056528it [03:05, 5827.27it/s]\u001b[A\n",
      "1057158it [03:05, 5959.42it/s]\u001b[A\n",
      "1057757it [03:05, 5814.79it/s]\u001b[A\n",
      "1058376it [03:05, 5920.96it/s]\u001b[A\n",
      "1059005it [03:05, 6026.32it/s]\u001b[A\n",
      "1059610it [03:05, 5856.62it/s]\u001b[A\n",
      "1060199it [03:05, 5674.34it/s]\u001b[A\n",
      "1060770it [03:06, 5604.94it/s]\u001b[A\n",
      "1061333it [03:06, 5567.85it/s]\u001b[A\n",
      "1061942it [03:06, 5711.64it/s]\u001b[A\n",
      "1062529it [03:06, 5758.11it/s]\u001b[A\n",
      "1063107it [03:06, 5701.97it/s]\u001b[A\n",
      "1063679it [03:06, 5659.31it/s]\u001b[A\n",
      "1064253it [03:06, 5680.82it/s]\u001b[A\n",
      "1064822it [03:06, 5632.13it/s]\u001b[A\n",
      "1065414it [03:06, 5714.13it/s]\u001b[A\n",
      "1066015it [03:06, 5799.16it/s]\u001b[A\n",
      "1066596it [03:07, 5774.19it/s]\u001b[A\n",
      "1067174it [03:07, 4975.17it/s]\u001b[A\n",
      "1067692it [03:07, 4876.01it/s]\u001b[A\n",
      "1068194it [03:07, 4860.15it/s]\u001b[A\n",
      "1068765it [03:07, 5087.05it/s]\u001b[A\n",
      "1069335it [03:07, 5255.81it/s]\u001b[A\n",
      "1069916it [03:07, 5409.75it/s]\u001b[A\n",
      "1070464it [03:07, 5422.98it/s]\u001b[A\n",
      "1071052it [03:07, 5551.45it/s]\u001b[A\n",
      "1071679it [03:08, 5747.55it/s]\u001b[A\n",
      "1072268it [03:08, 5787.98it/s]\u001b[A\n",
      "1072888it [03:08, 5903.35it/s]\u001b[A\n",
      "1073482it [03:08, 5903.35it/s]\u001b[A\n",
      "1074085it [03:08, 5940.40it/s]\u001b[A\n",
      "1074681it [03:08, 5934.08it/s]\u001b[A\n",
      "1075276it [03:08, 5866.42it/s]\u001b[A\n",
      "1075871it [03:08, 5890.13it/s]\u001b[A\n",
      "1076491it [03:08, 5978.53it/s]\u001b[A\n",
      "1077090it [03:08, 5979.98it/s]\u001b[A\n",
      "1077717it [03:09, 6062.75it/s]\u001b[A\n",
      "1078324it [03:09, 6017.28it/s]\u001b[A\n",
      "1078943it [03:09, 6066.39it/s]\u001b[A\n",
      "1079555it [03:09, 6080.40it/s]\u001b[A\n",
      "1080164it [03:09, 6011.87it/s]\u001b[A\n",
      "1080766it [03:09, 5913.00it/s]\u001b[A\n",
      "1081392it [03:09, 6011.20it/s]\u001b[A\n",
      "1082010it [03:09, 6060.04it/s]\u001b[A\n",
      "1082617it [03:09, 6028.52it/s]\u001b[A\n",
      "1083221it [03:09, 5781.35it/s]\u001b[A\n",
      "1083802it [03:10, 5687.41it/s]\u001b[A\n",
      "1084373it [03:10, 5627.85it/s]\u001b[A\n",
      "1084938it [03:10, 5629.47it/s]\u001b[A\n",
      "1085532it [03:10, 5718.86it/s]\u001b[A\n",
      "1086106it [03:10, 5537.87it/s]\u001b[A\n",
      "1086679it [03:10, 5593.52it/s]\u001b[A\n",
      "1087240it [03:10, 5115.49it/s]\u001b[A\n",
      "1087761it [03:10, 3791.33it/s]\u001b[A\n",
      "1088197it [03:11, 3864.09it/s]\u001b[A\n",
      "1088821it [03:11, 4362.22it/s]\u001b[A\n",
      "1089402it [03:11, 4714.02it/s]\u001b[A\n",
      "1089979it [03:11, 4985.82it/s]\u001b[A\n",
      "1090569it [03:11, 5228.84it/s]\u001b[A\n",
      "1091182it [03:11, 5470.01it/s]\u001b[A\n",
      "1091751it [03:11, 5481.77it/s]\u001b[A\n",
      "1092353it [03:11, 5630.98it/s]\u001b[A\n",
      "1092964it [03:11, 5765.74it/s]\u001b[A\n",
      "1093551it [03:11, 5796.29it/s]\u001b[A\n",
      "1094161it [03:12, 5883.49it/s]\u001b[A\n",
      "1094784it [03:12, 5981.84it/s]\u001b[A\n",
      "1095403it [03:12, 6042.67it/s]\u001b[A\n",
      "1096011it [03:12, 5962.86it/s]\u001b[A\n",
      "1096634it [03:12, 6039.31it/s]\u001b[A\n",
      "1097240it [03:12, 6022.12it/s]\u001b[A\n",
      "1097844it [03:12, 5904.79it/s]\u001b[A\n",
      "1098436it [03:12, 5819.84it/s]\u001b[A\n",
      "1099020it [03:12, 5751.95it/s]\u001b[A\n",
      "1099597it [03:13, 5682.71it/s]\u001b[A\n",
      "1100167it [03:13, 5579.46it/s]\u001b[A\n",
      "1100727it [03:13, 5541.36it/s]\u001b[A\n",
      "1101295it [03:13, 5581.40it/s]\u001b[A\n",
      "1101901it [03:13, 5715.26it/s]\u001b[A\n",
      "1102481it [03:13, 5739.42it/s]\u001b[A\n",
      "1103081it [03:13, 5813.41it/s]\u001b[A\n",
      "1103692it [03:13, 5896.93it/s]\u001b[A\n",
      "1104283it [03:13, 5826.82it/s]\u001b[A\n",
      "1104867it [03:13, 5787.34it/s]\u001b[A\n",
      "1105475it [03:14, 5871.98it/s]\u001b[A\n",
      "1106063it [03:14, 5805.33it/s]\u001b[A\n",
      "1106645it [03:14, 5809.10it/s]\u001b[A\n",
      "1107253it [03:14, 5885.62it/s]\u001b[A\n",
      "1107865it [03:14, 5953.55it/s]\u001b[A\n",
      "1108461it [03:14, 5897.88it/s]\u001b[A\n",
      "1109052it [03:14, 5832.83it/s]\u001b[A\n",
      "1109636it [03:14, 5759.86it/s]\u001b[A\n",
      "1110213it [03:14, 5625.27it/s]\u001b[A\n",
      "1110796it [03:14, 5684.37it/s]\u001b[A\n",
      "1111381it [03:15, 5732.98it/s]\u001b[A\n",
      "1111996it [03:15, 5851.77it/s]\u001b[A\n",
      "1112608it [03:15, 5927.62it/s]\u001b[A\n",
      "1113202it [03:15, 5905.31it/s]\u001b[A\n",
      "1113794it [03:15, 5904.88it/s]\u001b[A\n",
      "1114402it [03:15, 5953.71it/s]\u001b[A\n",
      "1115010it [03:15, 5989.21it/s]\u001b[A\n",
      "1115610it [03:15, 5935.63it/s]\u001b[A\n",
      "1116204it [03:15, 5905.19it/s]\u001b[A\n",
      "1116795it [03:15, 5851.99it/s]\u001b[A\n",
      "1117381it [03:16, 5836.98it/s]\u001b[A\n",
      "1118002it [03:16, 5941.42it/s]\u001b[A\n",
      "1118597it [03:16, 5854.93it/s]\u001b[A\n",
      "1119188it [03:16, 5869.72it/s]\u001b[A\n",
      "1119776it [03:16, 5847.41it/s]\u001b[A\n",
      "1120362it [03:16, 5708.29it/s]\u001b[A\n",
      "1120954it [03:16, 5768.51it/s]\u001b[A\n",
      "1121532it [03:16, 5771.06it/s]\u001b[A\n",
      "1122110it [03:16, 5730.67it/s]\u001b[A\n",
      "1122684it [03:16, 5693.26it/s]\u001b[A\n",
      "1123257it [03:17, 5703.22it/s]\u001b[A\n",
      "1123833it [03:17, 5718.74it/s]\u001b[A\n",
      "1124437it [03:17, 5809.63it/s]\u001b[A\n",
      "1125047it [03:17, 5892.02it/s]\u001b[A\n",
      "1125660it [03:17, 5959.66it/s]\u001b[A\n",
      "1126257it [03:17, 5947.59it/s]\u001b[A\n",
      "1126853it [03:17, 5778.65it/s]\u001b[A\n",
      "1127467it [03:17, 5880.56it/s]\u001b[A\n",
      "1128057it [03:17, 5771.60it/s]\u001b[A\n",
      "1128661it [03:17, 5847.13it/s]\u001b[A\n",
      "1129277it [03:18, 5935.70it/s]\u001b[A\n",
      "1129872it [03:18, 5930.93it/s]\u001b[A\n",
      "1130466it [03:18, 5770.71it/s]\u001b[A\n",
      "1131068it [03:18, 5843.16it/s]\u001b[A\n",
      "1131679it [03:18, 5919.59it/s]\u001b[A\n",
      "1132273it [03:18, 5896.55it/s]\u001b[A\n",
      "1132876it [03:18, 5934.24it/s]\u001b[A\n",
      "1133471it [03:18, 5883.26it/s]\u001b[A\n",
      "1134089it [03:18, 5967.82it/s]\u001b[A\n",
      "1134719it [03:19, 6061.89it/s]\u001b[A\n",
      "1135335it [03:19, 6088.47it/s]\u001b[A\n",
      "1135951it [03:19, 6109.46it/s]\u001b[A\n",
      "1136563it [03:19, 6112.08it/s]\u001b[A\n",
      "1137175it [03:19, 5946.29it/s]\u001b[A\n",
      "1137771it [03:19, 5754.52it/s]\u001b[A\n",
      "1138369it [03:19, 5820.30it/s]\u001b[A\n",
      "1138953it [03:19, 5818.60it/s]\u001b[A\n",
      "1139542it [03:19, 5838.96it/s]\u001b[A\n",
      "1140127it [03:19, 5567.64it/s]\u001b[A\n",
      "1140688it [03:20, 4824.17it/s]\u001b[A\n",
      "1141191it [03:20, 4729.95it/s]\u001b[A\n",
      "1141800it [03:20, 5069.28it/s]\u001b[A\n",
      "1142421it [03:20, 5363.02it/s]\u001b[A\n",
      "1142996it [03:20, 5472.96it/s]\u001b[A\n",
      "1143608it [03:20, 5650.06it/s]\u001b[A\n",
      "1144183it [03:20, 5661.35it/s]\u001b[A\n",
      "1144765it [03:20, 5705.74it/s]\u001b[A\n",
      "1145350it [03:20, 5748.24it/s]\u001b[A\n",
      "1145959it [03:21, 5845.37it/s]\u001b[A\n",
      "1146583it [03:21, 5956.84it/s]\u001b[A\n",
      "1147182it [03:21, 5962.08it/s]\u001b[A\n",
      "1147804it [03:21, 6035.29it/s]\u001b[A\n",
      "1148422it [03:21, 6077.00it/s]\u001b[A\n",
      "1149035it [03:21, 6091.28it/s]\u001b[A\n",
      "1149649it [03:21, 6103.38it/s]\u001b[A\n",
      "1150260it [03:21, 5926.93it/s]\u001b[A\n",
      "1150855it [03:21, 5899.95it/s]\u001b[A\n",
      "1151473it [03:21, 5980.10it/s]\u001b[A\n",
      "1152099it [03:22, 6059.16it/s]\u001b[A\n",
      "1152721it [03:22, 6106.31it/s]\u001b[A\n",
      "1153340it [03:22, 6130.61it/s]\u001b[A\n",
      "1153954it [03:22, 6038.96it/s]\u001b[A\n",
      "1154559it [03:22, 5987.78it/s]\u001b[A\n",
      "1155172it [03:22, 6027.64it/s]\u001b[A\n",
      "1155776it [03:22, 6015.46it/s]\u001b[A\n",
      "1156383it [03:22, 6030.17it/s]\u001b[A\n",
      "1156987it [03:22, 5851.15it/s]\u001b[A\n",
      "1157574it [03:22, 5832.07it/s]\u001b[A\n",
      "1158167it [03:23, 5858.21it/s]\u001b[A\n",
      "1158795it [03:23, 5976.97it/s]\u001b[A\n",
      "1159394it [03:23, 5952.76it/s]\u001b[A\n",
      "1160001it [03:23, 5956.25it/s]\u001b[A\n",
      "1160598it [03:23, 5958.91it/s]\u001b[A\n",
      "1161209it [03:23, 6003.37it/s]\u001b[A\n",
      "1161810it [03:23, 5908.98it/s]\u001b[A\n",
      "1162415it [03:23, 5949.13it/s]\u001b[A\n",
      "1163054it [03:23, 6073.27it/s]\u001b[A\n",
      "1163663it [03:23, 6040.92it/s]\u001b[A\n",
      "1164268it [03:24, 5992.02it/s]\u001b[A\n",
      "1164868it [03:24, 5967.40it/s]\u001b[A\n",
      "1165496it [03:24, 6057.62it/s]\u001b[A\n",
      "1166115it [03:24, 6094.41it/s]\u001b[A\n",
      "1166733it [03:24, 6117.76it/s]\u001b[A\n",
      "1167346it [03:24, 6116.57it/s]\u001b[A\n",
      "1167958it [03:24, 6046.24it/s]\u001b[A\n",
      "1168563it [03:24, 5999.33it/s]\u001b[A\n",
      "1169164it [03:24, 5977.06it/s]\u001b[A\n",
      "1169795it [03:24, 6071.21it/s]\u001b[A\n",
      "1170403it [03:25, 6031.23it/s]\u001b[A\n",
      "1171007it [03:25, 6004.72it/s]\u001b[A\n",
      "1171608it [03:25, 5980.22it/s]\u001b[A\n",
      "1172225it [03:25, 6035.58it/s]\u001b[A\n",
      "1172848it [03:25, 6091.85it/s]\u001b[A\n",
      "1173458it [03:25, 6033.43it/s]\u001b[A\n",
      "1174062it [03:25, 6033.74it/s]\u001b[A\n",
      "1174692it [03:25, 6110.22it/s]\u001b[A\n",
      "1175304it [03:25, 6110.50it/s]\u001b[A\n",
      "1175933it [03:25, 6163.22it/s]\u001b[A\n",
      "1176550it [03:26, 6102.89it/s]\u001b[A\n"
     ]
    },
    {
     "name": "stderr",
     "output_type": "stream",
     "text": [
      "1177161it [03:26, 6088.79it/s]\u001b[A\n",
      "1177771it [03:26, 5924.62it/s]\u001b[A\n",
      "1178387it [03:26, 5992.40it/s]\u001b[A\n",
      "1179016it [03:26, 6076.34it/s]\u001b[A\n",
      "1179647it [03:26, 6142.17it/s]\u001b[A\n",
      "1180263it [03:26, 5913.69it/s]\u001b[A\n",
      "1180895it [03:26, 6027.52it/s]\u001b[A\n",
      "1181526it [03:26, 6108.17it/s]\u001b[A\n",
      "1182163it [03:27, 6183.94it/s]\u001b[A\n",
      "1182788it [03:27, 6202.17it/s]\u001b[A\n",
      "1183423it [03:27, 6244.41it/s]\u001b[A\n",
      "1184049it [03:27, 6225.11it/s]\u001b[A\n",
      "1184675it [03:27, 6233.24it/s]\u001b[A\n",
      "1185308it [03:27, 6260.33it/s]\u001b[A\n",
      "1185940it [03:27, 6276.36it/s]\u001b[A\n",
      "1186584it [03:27, 6323.50it/s]\u001b[A\n",
      "1187217it [03:27, 6280.65it/s]\u001b[A\n",
      "1187846it [03:27, 6265.70it/s]\u001b[A\n",
      "1188478it [03:28, 6281.41it/s]\u001b[A\n",
      "1189107it [03:28, 6249.37it/s]\u001b[A\n",
      "1189741it [03:28, 6274.92it/s]\u001b[A\n",
      "1190369it [03:28, 6118.30it/s]\u001b[A\n",
      "1191003it [03:28, 6181.14it/s]\u001b[A\n",
      "1191622it [03:28, 6163.83it/s]\u001b[A\n",
      "1192239it [03:28, 6138.44it/s]\u001b[A\n",
      "1192854it [03:28, 6042.38it/s]\u001b[A\n",
      "1193474it [03:28, 6086.72it/s]\u001b[A\n",
      "1194084it [03:28, 6060.53it/s]\u001b[A\n",
      "1194691it [03:29, 6048.95it/s]\u001b[A\n",
      "1195331it [03:29, 6148.23it/s]\u001b[A\n",
      "1195963it [03:29, 6196.74it/s]\u001b[A\n",
      "1196584it [03:29, 6097.60it/s]\u001b[A\n",
      "1197195it [03:29, 6086.93it/s]\u001b[A\n",
      "1197811it [03:29, 6108.18it/s]\u001b[A\n",
      "1198423it [03:29, 6108.20it/s]\u001b[A\n",
      "1199035it [03:29, 6072.09it/s]\u001b[A\n",
      "1199657it [03:29, 6113.69it/s]\u001b[A\n",
      "1200269it [03:29, 6011.27it/s]\u001b[A\n",
      "1200904it [03:30, 6107.12it/s]\u001b[A\n",
      "1201523it [03:30, 6130.02it/s]\u001b[A\n",
      "1202170it [03:30, 6226.00it/s]\u001b[A\n",
      "1202794it [03:30, 6227.53it/s]\u001b[A\n",
      "1203418it [03:30, 6199.97it/s]\u001b[A\n",
      "1204039it [03:30, 6170.20it/s]\u001b[A\n",
      "1204657it [03:31, 2926.07it/s]\u001b[A\n",
      "1205260it [03:31, 3459.82it/s]\u001b[A\n",
      "1205906it [03:31, 4019.48it/s]\u001b[A\n",
      "1206543it [03:31, 4519.14it/s]\u001b[A\n",
      "1207168it [03:31, 4927.12it/s]\u001b[A\n",
      "1207796it [03:31, 5266.88it/s]\u001b[A\n",
      "1208429it [03:31, 5544.89it/s]\u001b[A\n",
      "1209045it [03:31, 5715.68it/s]\u001b[A\n",
      "1209666it [03:31, 5855.08it/s]\u001b[A\n",
      "1210282it [03:31, 5853.00it/s]\u001b[A\n",
      "1210911it [03:32, 5976.43it/s]\u001b[A\n",
      "1211547it [03:32, 6086.55it/s]\u001b[A\n",
      "1212186it [03:32, 6173.91it/s]\u001b[A\n",
      "1212822it [03:32, 6226.37it/s]\u001b[A\n",
      "1213453it [03:32, 6251.06it/s]\u001b[A\n",
      "1214083it [03:32, 6170.76it/s]\u001b[A\n",
      "1214704it [03:32, 6155.70it/s]\u001b[A\n",
      "1215322it [03:32, 5970.28it/s]\u001b[A\n",
      "1215922it [03:32, 5758.46it/s]\u001b[A\n",
      "1216503it [03:32, 5773.13it/s]\u001b[A\n",
      "1217124it [03:33, 5897.11it/s]\u001b[A\n",
      "1217744it [03:33, 5983.68it/s]\u001b[A\n",
      "1218360it [03:33, 6033.35it/s]\u001b[A\n",
      "1218992it [03:33, 6114.31it/s]\u001b[A\n",
      "1219605it [03:33, 6102.58it/s]\u001b[A\n",
      "1220217it [03:33, 5978.28it/s]\u001b[A\n",
      "1220852it [03:33, 6084.35it/s]\u001b[A\n",
      "1221466it [03:33, 6100.46it/s]\u001b[A\n",
      "1222084it [03:33, 6122.56it/s]\u001b[A\n",
      "1222717it [03:33, 6182.77it/s]\u001b[A\n",
      "1223336it [03:34, 6179.09it/s]\u001b[A\n",
      "1223962it [03:34, 6202.81it/s]\u001b[A\n",
      "1224583it [03:34, 6202.71it/s]\u001b[A\n",
      "1225214it [03:34, 6233.29it/s]\u001b[A\n",
      "1225852it [03:34, 6274.87it/s]\u001b[A\n",
      "1226483it [03:34, 6285.21it/s]\u001b[A\n",
      "1227112it [03:34, 6260.36it/s]\u001b[A\n",
      "1227739it [03:34, 6169.94it/s]\u001b[A\n",
      "1228379it [03:34, 6237.16it/s]\u001b[A\n",
      "1229004it [03:34, 6201.49it/s]\u001b[A\n",
      "1229631it [03:35, 6219.94it/s]\u001b[A\n",
      "1230254it [03:35, 6104.48it/s]\u001b[A\n",
      "1230866it [03:35, 6070.95it/s]\u001b[A\n",
      "1231474it [03:35, 6052.61it/s]\u001b[A\n",
      "1232080it [03:35, 6046.41it/s]\u001b[A\n",
      "1232685it [03:35, 6043.67it/s]\u001b[A\n",
      "1233296it [03:35, 6061.20it/s]\u001b[A\n",
      "1233903it [03:35, 5994.56it/s]\u001b[A\n",
      "1234516it [03:35, 6033.31it/s]\u001b[A\n",
      "1235135it [03:35, 6077.73it/s]\u001b[A\n",
      "1235754it [03:36, 6109.03it/s]\u001b[A\n",
      "1236379it [03:36, 6149.55it/s]\u001b[A\n",
      "1236995it [03:36, 6132.60it/s]\u001b[A\n",
      "1237609it [03:36, 6082.08it/s]\u001b[A\n",
      "1238249it [03:36, 6172.57it/s]\u001b[A\n",
      "1238890it [03:36, 6239.58it/s]\u001b[A\n",
      "1239515it [03:36, 6207.92it/s]\u001b[A\n",
      "1240137it [03:36, 6108.24it/s]\u001b[A\n",
      "1240749it [03:36, 6080.75it/s]\u001b[A\n",
      "1241358it [03:37, 6069.55it/s]\u001b[A\n",
      "1241969it [03:37, 6079.28it/s]\u001b[A\n",
      "1242595it [03:37, 6129.86it/s]\u001b[A\n",
      "1243209it [03:37, 6112.00it/s]\u001b[A\n",
      "1243821it [03:37, 6071.79it/s]\u001b[A\n",
      "1244453it [03:37, 6141.69it/s]\u001b[A\n",
      "1245068it [03:37, 6098.49it/s]\u001b[A\n",
      "1245679it [03:37, 6081.91it/s]\u001b[A\n",
      "1246324it [03:37, 6184.33it/s]\u001b[A\n",
      "1246944it [03:37, 6113.63it/s]\u001b[A\n",
      "1247556it [03:38, 6083.30it/s]\u001b[A\n",
      "1248189it [03:38, 6153.50it/s]\u001b[A\n",
      "1248805it [03:38, 6131.18it/s]\u001b[A\n",
      "1249419it [03:38, 6093.78it/s]\u001b[A\n",
      "1250029it [03:38, 6023.11it/s]\u001b[A\n",
      "1250635it [03:38, 6032.13it/s]\u001b[A\n",
      "1251273it [03:38, 6132.39it/s]\u001b[A\n",
      "1251887it [03:38, 6006.19it/s]\u001b[A\n",
      "1252509it [03:38, 6068.11it/s]\u001b[A\n",
      "1253147it [03:38, 6156.54it/s]\u001b[A\n",
      "1253772it [03:39, 6182.17it/s]\u001b[A\n",
      "1254396it [03:39, 6197.13it/s]\u001b[A\n",
      "1255017it [03:39, 6184.15it/s]\u001b[A\n",
      "1255636it [03:39, 6160.93it/s]\u001b[A\n",
      "1256253it [03:39, 6122.01it/s]\u001b[A\n",
      "1256866it [03:39, 5961.32it/s]\u001b[A\n",
      "1257467it [03:39, 5974.63it/s]\u001b[A\n",
      "1258087it [03:39, 6038.81it/s]\u001b[A\n",
      "1258692it [03:39, 5999.44it/s]\u001b[A\n",
      "1259311it [03:39, 6054.88it/s]\u001b[A\n",
      "1259917it [03:40, 5803.54it/s]\u001b[A\n",
      "1260500it [03:40, 5764.54it/s]\u001b[A\n",
      "1261101it [03:40, 5835.24it/s]\u001b[A\n",
      "1261713it [03:40, 5915.81it/s]\u001b[A\n",
      "1262306it [03:40, 5891.46it/s]\u001b[A\n",
      "1262897it [03:40, 5895.94it/s]\u001b[A\n",
      "1263495it [03:40, 5918.57it/s]\u001b[A\n",
      "1264088it [03:40, 5906.91it/s]\u001b[A\n",
      "1264686it [03:40, 5928.33it/s]\u001b[A\n",
      "1265287it [03:40, 5950.64it/s]\u001b[A\n",
      "1265901it [03:41, 6004.19it/s]\u001b[A\n",
      "1266502it [03:41, 5995.21it/s]\u001b[A\n",
      "1267131it [03:41, 6080.62it/s]\u001b[A\n",
      "1267771it [03:41, 6172.64it/s]\u001b[A\n",
      "1268407it [03:41, 6227.65it/s]\u001b[A\n",
      "1269031it [03:41, 6063.81it/s]\u001b[A\n",
      "1269639it [03:41, 5986.43it/s]\u001b[A\n",
      "1270239it [03:41, 5817.17it/s]\u001b[A\n",
      "1270868it [03:41, 5951.09it/s]\u001b[A\n",
      "1271512it [03:41, 6088.35it/s]\u001b[A\n",
      "1272157it [03:42, 6190.61it/s]\u001b[A\n",
      "1272779it [03:42, 6169.17it/s]\u001b[A\n",
      "1273398it [03:42, 6158.26it/s]\u001b[A\n",
      "1274027it [03:42, 6195.77it/s]\u001b[A\n",
      "1274648it [03:42, 6177.03it/s]\u001b[A\n",
      "1275267it [03:42, 6161.85it/s]\u001b[A\n",
      "1275906it [03:42, 6226.55it/s]\u001b[A\n",
      "1276539it [03:42, 6255.25it/s]\u001b[A\n",
      "1277165it [03:42, 6207.99it/s]\u001b[A\n",
      "1277807it [03:43, 6268.14it/s]\u001b[A\n",
      "1278435it [03:43, 6252.27it/s]\u001b[A\n",
      "1279063it [03:43, 6257.45it/s]\u001b[A\n",
      "1279689it [03:43, 6101.71it/s]\u001b[A\n",
      "1280301it [03:43, 5948.41it/s]\u001b[A\n",
      "1280898it [03:43, 5947.80it/s]\u001b[A\n",
      "1281512it [03:43, 6002.11it/s]\u001b[A\n",
      "1282117it [03:43, 6015.32it/s]\u001b[A\n",
      "1282753it [03:43, 6113.09it/s]\u001b[A\n",
      "1283389it [03:43, 6183.39it/s]\u001b[A\n",
      "1284017it [03:44, 6210.01it/s]\u001b[A\n",
      "1284643it [03:44, 6223.25it/s]\u001b[A\n",
      "1285266it [03:44, 6198.12it/s]\u001b[A\n",
      "1285891it [03:44, 6211.92it/s]\u001b[A\n",
      "1286524it [03:44, 6246.62it/s]\u001b[A\n",
      "1287149it [03:44, 6160.60it/s]\u001b[A\n",
      "1287781it [03:44, 6206.25it/s]\u001b[A\n",
      "1288402it [03:44, 6196.78it/s]\u001b[A\n",
      "1289022it [03:44, 6098.06it/s]\u001b[A\n",
      "1289633it [03:44, 6046.35it/s]\u001b[A\n",
      "1290239it [03:45, 5961.67it/s]\u001b[A\n",
      "1290849it [03:45, 6001.39it/s]\u001b[A\n",
      "1291485it [03:45, 6103.10it/s]\u001b[A\n",
      "1292119it [03:45, 6170.75it/s]\u001b[A\n",
      "1292750it [03:45, 6209.32it/s]\u001b[A\n",
      "1293372it [03:45, 6140.57it/s]\u001b[A\n",
      "1294003it [03:45, 6190.03it/s]\u001b[A\n",
      "1294634it [03:45, 6224.47it/s]\u001b[A\n",
      "1295265it [03:45, 6247.62it/s]\u001b[A\n",
      "1295891it [03:45, 6231.65it/s]\u001b[A\n",
      "1296521it [03:46, 6249.69it/s]\u001b[A\n",
      "1297158it [03:46, 6284.21it/s]\u001b[A\n",
      "1297793it [03:46, 6303.47it/s]\u001b[A\n",
      "1298424it [03:46, 6245.74it/s]\u001b[A\n",
      "1299049it [03:46, 6206.63it/s]\u001b[A\n",
      "1299670it [03:46, 6166.87it/s]\u001b[A\n",
      "1300287it [03:46, 6083.06it/s]\u001b[A\n",
      "1300929it [03:46, 6179.48it/s]\u001b[A\n",
      "1301568it [03:46, 6240.81it/s]\u001b[A\n",
      "1302193it [03:46, 6125.31it/s]\u001b[A\n",
      "1302807it [03:47, 6076.09it/s]\u001b[A\n",
      "1303416it [03:47, 6007.77it/s]\u001b[A\n",
      "1304038it [03:47, 6068.17it/s]\u001b[A\n",
      "1304666it [03:47, 6129.85it/s]\u001b[A\n",
      "1305301it [03:47, 6192.46it/s]\u001b[A\n",
      "1305924it [03:47, 6202.82it/s]\u001b[A\n",
      "1306561it [03:47, 6251.00it/s]\u001b[A\n",
      "1307187it [03:47, 6032.82it/s]\u001b[A\n",
      "1307799it [03:47, 6058.50it/s]\u001b[A\n",
      "1308407it [03:47, 6033.64it/s]\u001b[A\n",
      "1309033it [03:48, 6098.12it/s]\u001b[A\n",
      "1309644it [03:48, 6092.89it/s]\u001b[A\n",
      "1310254it [03:48, 5963.91it/s]\u001b[A\n",
      "1310876it [03:48, 6036.50it/s]\u001b[A\n",
      "1311508it [03:48, 6117.97it/s]\u001b[A\n",
      "1312140it [03:48, 6177.09it/s]\u001b[A\n",
      "1312783it [03:48, 6249.58it/s]\u001b[A\n",
      "1313409it [03:48, 6200.52it/s]\u001b[A\n",
      "1314030it [03:48, 6045.77it/s]\u001b[A\n",
      "1314636it [03:49, 5996.37it/s]\u001b[A\n",
      "1315252it [03:49, 6043.09it/s]\u001b[A\n",
      "1315877it [03:49, 6103.34it/s]\u001b[A\n",
      "1316489it [03:49, 6073.41it/s]\u001b[A\n",
      "1317115it [03:49, 6127.16it/s]\u001b[A\n",
      "1317737it [03:49, 6154.29it/s]\u001b[A\n",
      "1318353it [03:49, 6119.84it/s]\u001b[A\n",
      "1318997it [03:49, 6211.05it/s]\u001b[A\n",
      "1319630it [03:49, 6244.69it/s]\u001b[A\n",
      "1320255it [03:49, 6158.96it/s]\u001b[A\n",
      "1320872it [03:50, 6049.77it/s]\u001b[A\n",
      "1321478it [03:50, 6035.82it/s]\u001b[A\n",
      "1322083it [03:50, 6035.96it/s]\u001b[A\n",
      "1322688it [03:50, 6011.90it/s]\u001b[A\n",
      "1323321it [03:50, 6101.57it/s]\u001b[A\n",
      "1323948it [03:50, 6150.15it/s]\u001b[A\n",
      "1324564it [03:50, 6136.91it/s]\u001b[A\n",
      "1325179it [03:50, 6100.08it/s]\u001b[A\n",
      "1325790it [03:50, 6051.26it/s]\u001b[A\n",
      "1326407it [03:50, 6085.79it/s]\u001b[A\n",
      "1327016it [03:51, 6071.13it/s]\u001b[A\n",
      "1327644it [03:51, 6131.60it/s]\u001b[A\n",
      "1328287it [03:51, 6216.81it/s]\u001b[A\n",
      "1328910it [03:51, 6215.44it/s]\u001b[A\n",
      "1329532it [03:51, 6189.85it/s]\u001b[A\n",
      "1330152it [03:51, 6150.77it/s]\u001b[A\n",
      "1330789it [03:51, 6212.01it/s]\u001b[A\n",
      "1331411it [03:51, 6201.74it/s]\u001b[A\n",
      "1332034it [03:51, 6209.75it/s]\u001b[A\n",
      "1332656it [03:51, 6199.70it/s]\u001b[A\n",
      "1333277it [03:52, 6170.57it/s]\u001b[A\n",
      "1333895it [03:52, 5813.15it/s]\u001b[A\n",
      "1334481it [03:52, 4132.47it/s]\u001b[A\n",
      "1334965it [03:52, 4224.41it/s]\u001b[A\n",
      "1335595it [03:52, 4686.61it/s]\u001b[A\n",
      "1336211it [03:52, 5048.01it/s]\u001b[A\n",
      "1336820it [03:52, 5320.90it/s]\u001b[A\n",
      "1337452it [03:52, 5584.13it/s]\u001b[A\n",
      "1338071it [03:53, 5752.55it/s]\u001b[A\n",
      "1338687it [03:53, 5866.94it/s]\u001b[A\n",
      "1339322it [03:53, 6003.77it/s]\u001b[A\n",
      "1339960it [03:53, 6111.02it/s]\u001b[A\n",
      "1340580it [03:53, 6026.24it/s]\u001b[A\n",
      "1341194it [03:53, 6059.86it/s]\u001b[A\n",
      "1341808it [03:53, 6081.88it/s]\u001b[A\n",
      "1342437it [03:53, 6142.09it/s]\u001b[A\n",
      "1343054it [03:53, 6055.02it/s]\u001b[A\n",
      "1343668it [03:53, 6077.80it/s]\u001b[A\n",
      "1344298it [03:54, 6141.69it/s]\u001b[A\n",
      "1344940it [03:54, 6221.91it/s]\u001b[A\n",
      "1345586it [03:54, 6290.54it/s]\u001b[A\n",
      "1346228it [03:54, 6326.44it/s]\u001b[A\n",
      "1346862it [03:54, 6275.23it/s]\u001b[A\n",
      "1347491it [03:54, 6191.92it/s]\u001b[A\n",
      "1348126it [03:54, 6236.40it/s]\u001b[A\n",
      "1348752it [03:54, 6241.03it/s]\u001b[A\n",
      "1349389it [03:54, 6278.54it/s]\u001b[A\n",
      "1350018it [03:54, 6207.78it/s]\u001b[A\n",
      "1350654it [03:55, 6250.39it/s]\u001b[A\n",
      "1351280it [03:55, 6200.07it/s]\u001b[A\n",
      "1351913it [03:55, 6236.47it/s]\u001b[A\n",
      "1352537it [03:55, 6160.64it/s]\u001b[A\n",
      "1353154it [03:55, 5304.49it/s]\u001b[A\n",
      "1353706it [03:55, 5145.33it/s]\u001b[A\n",
      "1354328it [03:55, 5425.49it/s]\u001b[A\n",
      "1354938it [03:55, 5610.18it/s]\u001b[A\n",
      "1355569it [03:55, 5803.11it/s]\u001b[A\n",
      "1356202it [03:56, 5951.02it/s]\u001b[A\n",
      "1356806it [03:56, 5961.78it/s]\u001b[A\n",
      "1357408it [03:56, 5954.57it/s]\u001b[A\n",
      "1358023it [03:56, 6010.76it/s]\u001b[A\n",
      "1358659it [03:56, 6110.24it/s]\u001b[A\n",
      "1359273it [03:56, 6059.47it/s]\u001b[A\n",
      "1359885it [03:56, 6075.62it/s]\u001b[A\n",
      "1360494it [03:56, 5838.05it/s]\u001b[A\n",
      "1361081it [03:56, 5744.56it/s]\u001b[A\n",
      "1361676it [03:56, 5802.42it/s]\u001b[A\n",
      "1362259it [03:57, 5783.21it/s]\u001b[A\n",
      "1362841it [03:57, 5792.26it/s]\u001b[A\n",
      "1363469it [03:57, 5929.24it/s]\u001b[A\n",
      "1364064it [03:57, 5862.10it/s]\u001b[A\n",
      "1364652it [03:57, 5809.66it/s]\u001b[A\n",
      "1365234it [03:57, 5749.55it/s]\u001b[A\n",
      "1365820it [03:57, 5780.26it/s]\u001b[A\n",
      "1366406it [03:57, 5803.66it/s]\u001b[A\n",
      "1367024it [03:57, 5909.79it/s]\u001b[A\n",
      "1367616it [03:57, 5839.74it/s]\u001b[A\n",
      "1368201it [03:58, 5766.78it/s]\u001b[A\n",
      "1368798it [03:58, 5826.00it/s]\u001b[A\n",
      "1369382it [03:58, 5791.18it/s]\u001b[A\n",
      "1369962it [03:58, 5722.12it/s]\u001b[A\n",
      "1370535it [03:58, 5471.91it/s]\u001b[A\n",
      "1371138it [03:58, 5627.17it/s]\u001b[A\n",
      "1371731it [03:58, 5710.49it/s]\u001b[A\n",
      "1372342it [03:58, 5824.56it/s]\u001b[A\n",
      "1372927it [03:58, 5830.44it/s]\u001b[A\n",
      "1373512it [03:58, 5785.36it/s]\u001b[A\n",
      "1374092it [03:59, 5694.02it/s]\u001b[A\n",
      "1374663it [03:59, 5647.35it/s]\u001b[A\n",
      "1375229it [03:59, 5581.35it/s]\u001b[A\n",
      "1375838it [03:59, 5723.21it/s]\u001b[A\n",
      "1376433it [03:59, 5789.09it/s]\u001b[A\n",
      "1377014it [03:59, 5785.98it/s]\u001b[A\n",
      "1377596it [03:59, 5793.56it/s]\u001b[A\n",
      "1378176it [03:59, 5320.94it/s]\u001b[A\n",
      "1378717it [03:59, 5196.34it/s]\u001b[A\n",
      "1379266it [04:00, 5278.79it/s]\u001b[A\n",
      "1379818it [04:00, 5346.71it/s]\u001b[A\n",
      "1380357it [04:00, 5296.90it/s]\u001b[A\n",
      "1380934it [04:00, 5429.42it/s]\u001b[A\n",
      "1381504it [04:00, 5506.35it/s]\u001b[A\n",
      "1382076it [04:00, 5567.99it/s]\u001b[A\n",
      "1382689it [04:00, 5724.54it/s]\u001b[A\n",
      "1383266it [04:00, 5735.80it/s]\u001b[A\n",
      "1383842it [04:00, 5698.78it/s]\u001b[A\n",
      "1384450it [04:00, 5807.87it/s]\u001b[A\n",
      "1385034it [04:01, 5816.39it/s]\u001b[A\n",
      "1385623it [04:01, 5837.97it/s]\u001b[A\n",
      "1386243it [04:01, 5941.06it/s]\u001b[A\n",
      "1386839it [04:01, 5934.82it/s]\u001b[A\n",
      "1387434it [04:01, 5784.59it/s]\u001b[A\n",
      "1388014it [04:01, 5640.00it/s]\u001b[A\n",
      "1388580it [04:01, 5044.49it/s]\u001b[A\n",
      "1389098it [04:01, 4677.18it/s]\u001b[A\n",
      "1389581it [04:01, 4546.31it/s]\u001b[A\n",
      "1390053it [04:02, 4595.51it/s]\u001b[A\n",
      "1390609it [04:02, 4847.17it/s]\u001b[A\n",
      "1391142it [04:02, 4982.43it/s]\u001b[A\n",
      "1391719it [04:02, 5195.04it/s]\u001b[A\n",
      "1392318it [04:02, 5409.15it/s]\u001b[A\n",
      "1392870it [04:02, 5440.16it/s]\u001b[A\n",
      "1393439it [04:02, 5511.43it/s]\u001b[A\n",
      "1393995it [04:02, 5506.37it/s]\u001b[A\n",
      "1394549it [04:02, 5363.11it/s]\u001b[A\n",
      "1395089it [04:02, 5169.27it/s]\u001b[A\n",
      "1395610it [04:03, 5151.40it/s]\u001b[A\n",
      "1396173it [04:03, 5284.08it/s]\u001b[A\n",
      "1396704it [04:03, 5278.85it/s]\u001b[A\n",
      "1397234it [04:03, 5185.64it/s]\u001b[A\n",
      "1397755it [04:03, 5141.38it/s]\u001b[A\n",
      "1398271it [04:03, 5040.55it/s]\u001b[A\n",
      "1398777it [04:03, 4935.33it/s]\u001b[A\n",
      "1399272it [04:03, 4934.49it/s]\u001b[A\n",
      "1399774it [04:03, 4958.05it/s]\u001b[A\n",
      "1400271it [04:04, 4892.87it/s]\u001b[A\n",
      "1400782it [04:04, 4955.75it/s]\u001b[A\n",
      "1401288it [04:04, 4986.03it/s]\u001b[A\n",
      "1401797it [04:04, 5014.70it/s]\u001b[A\n",
      "1402299it [04:04, 4752.02it/s]\u001b[A\n",
      "1402820it [04:04, 4880.67it/s]\u001b[A\n",
      "1403425it [04:04, 5180.59it/s]\u001b[A\n",
      "1403969it [04:04, 5253.90it/s]\u001b[A\n",
      "1404500it [04:04, 5244.93it/s]\u001b[A\n",
      "1405112it [04:04, 5479.79it/s]\u001b[A\n",
      "1405666it [04:05, 5399.40it/s]\u001b[A\n",
      "1406260it [04:05, 5548.71it/s]\u001b[A\n",
      "1406869it [04:05, 5698.69it/s]\u001b[A\n",
      "1407443it [04:05, 5709.48it/s]\u001b[A\n",
      "1408017it [04:05, 5715.24it/s]\u001b[A\n",
      "1408599it [04:05, 5744.27it/s]\u001b[A\n",
      "1409197it [04:05, 5811.28it/s]\u001b[A\n",
      "1409781it [04:05, 5817.58it/s]\u001b[A\n",
      "1410364it [04:05, 5594.95it/s]\u001b[A\n",
      "1410932it [04:05, 5619.30it/s]\u001b[A\n",
      "1411505it [04:06, 5649.86it/s]\u001b[A\n",
      "1412109it [04:06, 5761.28it/s]\u001b[A\n",
      "1412687it [04:06, 5754.33it/s]\u001b[A\n",
      "1413310it [04:06, 5888.65it/s]\u001b[A\n",
      "1413932it [04:06, 5982.32it/s]\u001b[A\n",
      "1414544it [04:06, 6021.95it/s]\u001b[A\n",
      "1415148it [04:06, 5955.63it/s]\u001b[A\n",
      "1415750it [04:06, 5973.15it/s]\u001b[A\n",
      "1416348it [04:06, 5675.16it/s]\u001b[A\n",
      "1416920it [04:06, 5687.58it/s]\u001b[A\n",
      "1417492it [04:07, 5553.94it/s]\u001b[A\n",
      "1418103it [04:07, 5709.14it/s]\u001b[A\n",
      "1418677it [04:07, 5701.72it/s]\u001b[A\n",
      "1419289it [04:07, 5818.21it/s]\u001b[A\n",
      "1419915it [04:07, 5941.80it/s]\u001b[A\n",
      "1420512it [04:07, 5867.27it/s]\u001b[A\n",
      "1421101it [04:07, 5832.40it/s]\u001b[A\n",
      "1421710it [04:07, 5904.45it/s]\u001b[A\n",
      "1422302it [04:07, 5742.76it/s]\u001b[A\n",
      "1422920it [04:07, 5866.05it/s]\u001b[A\n",
      "1423509it [04:08, 5851.09it/s]\u001b[A\n",
      "1424096it [04:08, 5730.65it/s]\u001b[A\n",
      "1424671it [04:08, 5561.52it/s]\u001b[A\n",
      "1425279it [04:08, 5705.33it/s]\u001b[A\n",
      "1425895it [04:08, 5833.64it/s]\u001b[A\n",
      "1426499it [04:08, 5893.53it/s]\u001b[A\n",
      "1427091it [04:08, 5752.07it/s]\u001b[A\n",
      "1427669it [04:08, 5481.49it/s]\u001b[A\n",
      "1428284it [04:08, 5665.27it/s]\u001b[A\n",
      "1428888it [04:09, 5771.81it/s]\u001b[A\n",
      "1429479it [04:09, 5811.04it/s]\u001b[A\n",
      "1430073it [04:09, 5847.70it/s]\u001b[A\n",
      "1430660it [04:09, 5719.26it/s]\u001b[A\n",
      "1430997it [04:09, 5737.23it/s]\u001b[A"
     ]
    },
    {
     "name": "stdout",
     "output_type": "stream",
     "text": [
      "-------------------------------------------------------------------------------\n",
      "dataframe information\n",
      "-------------------------------------------------------------------------------\n",
      "                      start                stop  Ts\n",
      "1430964 2018-10-19 15:59:59 2018-10-19 15:59:59   4\n",
      "1430967 2018-10-19 15:59:59 2018-10-19 16:00:00   5\n",
      "1430968 2018-10-19 16:00:00 2018-10-19 16:10:00   2\n",
      "1430969 2018-10-19 16:10:00 2018-10-19 18:30:00   2\n",
      "1430970 2018-10-19 18:30:00 2018-10-19 20:00:00   2\n",
      "--------------------------------------------------\n",
      "<class 'pandas.core.frame.DataFrame'>\n",
      "Int64Index: 1220591 entries, 0 to 1430970\n",
      "Data columns (total 3 columns):\n",
      "start    1220591 non-null datetime64[ns]\n",
      "stop     1220591 non-null datetime64[ns]\n",
      "Ts       1220591 non-null int64\n",
      "dtypes: datetime64[ns](2), int64(1)\n",
      "memory usage: 37.2 MB\n",
      "None\n",
      "-------------------------------------------------------------------------------\n",
      "\n"
     ]
    }
   ],
   "source": [
    "bars = agg_imbalance_bars(df0)\n",
    "test_imb_bars = (pd.DataFrame(bars,columns=['start','stop','Ts'])\n",
    "                 .drop_duplicates())\n",
    "cprint(test_imb_bars)"
   ]
  },
  {
   "cell_type": "code",
   "execution_count": 61,
   "metadata": {
    "ExecuteTime": {
     "end_time": "2018-05-05T01:11:26.900421Z",
     "start_time": "2018-05-05T01:11:26.555120Z"
    }
   },
   "outputs": [
    {
     "data": {
      "text/plain": [
       "count    1220591.0\n",
       "mean           3.0\n",
       "std            2.0\n",
       "min            1.0\n",
       "25%            2.0\n",
       "50%            2.0\n",
       "75%            3.0\n",
       "max          139.0\n",
       "Name: Ts, dtype: float64"
      ]
     },
     "execution_count": 61,
     "metadata": {},
     "output_type": "execute_result"
    }
   ],
   "source": [
    "test_imb_bars.Ts.describe().round()"
   ]
  },
  {
   "cell_type": "code",
   "execution_count": 63,
   "metadata": {
    "ExecuteTime": {
     "end_time": "2018-05-05T01:11:28.038734Z",
     "start_time": "2018-05-05T01:11:26.901749Z"
    }
   },
   "outputs": [
    {
     "data": {
      "text/plain": [
       "<matplotlib.axes._subplots.AxesSubplot at 0x7fa4780aa9b0>"
      ]
     },
     "execution_count": 63,
     "metadata": {},
     "output_type": "execute_result"
    },
    {
     "data": {
      "image/png": "[encoded data removed]",
      "text/plain": [
       "<Figure size 432x288 with 1 Axes>"
      ]
     },
     "metadata": {
      "needs_background": "light"
     },
     "output_type": "display_data"
    }
   ],
   "source": [
    "test_imb_bars.set_index('stop')['Ts'].plot()"
   ]
  },
  {
   "cell_type": "code",
   "execution_count": 76,
   "metadata": {
    "ExecuteTime": {
     "end_time": "2018-05-05T01:11:37.101336Z",
     "start_time": "2018-05-05T01:11:28.040300Z"
    },
    "scrolled": true
   },
   "outputs": [
    {
     "name": "stdout",
     "output_type": "stream",
     "text": [
      "-------------------------------------------------------------------------------\n",
      "dataframe information\n",
      "-------------------------------------------------------------------------------\n",
      "                      price     bid     ask   size      v          dv\n",
      "dates                                                                \n",
      "2018-10-19 15:59:59  111.96  111.95  111.96    900    900   100764.00\n",
      "2018-10-19 16:00:00  111.97  111.95  111.96  12439  12439  1392794.83\n",
      "2018-10-19 16:10:00  111.97  111.31  112.10      0      0        0.00\n",
      "2018-10-19 18:30:00  111.97  110.70  112.40      0      0        0.00\n",
      "2018-10-19 20:00:00  111.97  110.81  112.40      0      0        0.00\n",
      "--------------------------------------------------\n",
      "<class 'pandas.core.frame.DataFrame'>\n",
      "DatetimeIndex: 1430992 entries, 2009-09-28 09:30:00 to 2018-10-19 20:00:00\n",
      "Data columns (total 6 columns):\n",
      "price    1430992 non-null float64\n",
      "bid      1430992 non-null float64\n",
      "ask      1430992 non-null float64\n",
      "size     1430992 non-null int64\n",
      "v        1430992 non-null int64\n",
      "dv       1430992 non-null float64\n",
      "dtypes: float64(4), int64(2)\n",
      "memory usage: 76.4 MB\n",
      "None\n",
      "-------------------------------------------------------------------------------\n",
      "\n"
     ]
    }
   ],
   "source": [
    "dvImbBars = df.loc[test_imb_bars.stop].drop_duplicates()\n",
    "cprint(dvImbBars)"
   ]
  },
  {
   "cell_type": "code",
   "execution_count": 77,
   "metadata": {},
   "outputs": [],
   "source": [
    "outfp = PurePath(data_dir/'processed'/'dv_imbalanced_bars.parq')\n",
    "dvImbBars.to_parquet(outfp)"
   ]
  },
  {
   "cell_type": "code",
   "execution_count": 79,
   "metadata": {
    "ExecuteTime": {
     "end_time": "2018-05-05T01:11:37.391117Z",
     "start_time": "2018-05-05T01:11:37.103211Z"
    },
    "scrolled": false
   },
   "outputs": [
    {
     "name": "stdout",
     "output_type": "stream",
     "text": [
      "-------------------------------------------------------------------------------\n",
      "dataframe information\n",
      "-------------------------------------------------------------------------------\n",
      "                      price\n",
      "dates                      \n",
      "2018-10-19 15:57:50  112.09\n",
      "2018-10-19 15:59:07  112.01\n",
      "2018-10-19 15:59:37  111.96\n",
      "2018-10-19 15:59:58  111.97\n",
      "2018-10-19 16:00:00  111.97\n",
      "--------------------------------------------------\n",
      "<class 'pandas.core.frame.DataFrame'>\n",
      "DatetimeIndex: 51439 entries, 2009-09-28 09:46:35 to 2018-10-19 16:00:00\n",
      "Data columns (total 1 columns):\n",
      "price    51439 non-null float64\n",
      "dtypes: float64(1)\n",
      "memory usage: 3.3 MB\n",
      "None\n",
      "-------------------------------------------------------------------------------\n",
      "\n"
     ]
    }
   ],
   "source": [
    "dvBar = dv_bar_df.price\n",
    "cprint(dvBar)"
   ]
  },
  {
   "cell_type": "code",
   "execution_count": 80,
   "metadata": {
    "ExecuteTime": {
     "end_time": "2018-05-05T01:11:37.706922Z",
     "start_time": "2018-05-05T01:11:37.392565Z"
    }
   },
   "outputs": [
    {
     "ename": "ValueError",
     "evalue": "Length of passed values is 1430992, index implies 1430991",
     "output_type": "error",
     "traceback": [
      "\u001b[0;31m---------------------------------------------------------------------------\u001b[0m",
      "\u001b[0;31mValueError\u001b[0m                                Traceback (most recent call last)",
      "\u001b[0;32m<ipython-input-80-d6697d7291c3>\u001b[0m in \u001b[0;36m<module>\u001b[0;34m\u001b[0m\n\u001b[1;32m      1\u001b[0m \u001b[0mdr\u001b[0m \u001b[0;34m=\u001b[0m \u001b[0mreturns\u001b[0m\u001b[0;34m(\u001b[0m\u001b[0mdv_bar_df\u001b[0m\u001b[0;34m.\u001b[0m\u001b[0mprice\u001b[0m\u001b[0;34m)\u001b[0m\u001b[0;34m\u001b[0m\u001b[0m\n\u001b[0;32m----> 2\u001b[0;31m \u001b[0mdrImb\u001b[0m \u001b[0;34m=\u001b[0m \u001b[0mreturns\u001b[0m\u001b[0;34m(\u001b[0m\u001b[0mdvImbBars\u001b[0m\u001b[0;34m)\u001b[0m\u001b[0;34m\u001b[0m\u001b[0m\n\u001b[0m",
      "\u001b[0;32m<ipython-input-38-7b87ea8511f3>\u001b[0m in \u001b[0;36mreturns\u001b[0;34m(s)\u001b[0m\n\u001b[1;32m      1\u001b[0m \u001b[0;32mdef\u001b[0m \u001b[0mreturns\u001b[0m\u001b[0;34m(\u001b[0m\u001b[0ms\u001b[0m\u001b[0;34m)\u001b[0m\u001b[0;34m:\u001b[0m\u001b[0;34m\u001b[0m\u001b[0m\n\u001b[1;32m      2\u001b[0m     \u001b[0marr\u001b[0m \u001b[0;34m=\u001b[0m \u001b[0mnp\u001b[0m\u001b[0;34m.\u001b[0m\u001b[0mdiff\u001b[0m\u001b[0;34m(\u001b[0m\u001b[0mnp\u001b[0m\u001b[0;34m.\u001b[0m\u001b[0mlog\u001b[0m\u001b[0;34m(\u001b[0m\u001b[0ms\u001b[0m\u001b[0;34m)\u001b[0m\u001b[0;34m)\u001b[0m\u001b[0;34m\u001b[0m\u001b[0m\n\u001b[0;32m----> 3\u001b[0;31m     \u001b[0;32mreturn\u001b[0m \u001b[0;34m(\u001b[0m\u001b[0mpd\u001b[0m\u001b[0;34m.\u001b[0m\u001b[0mSeries\u001b[0m\u001b[0;34m(\u001b[0m\u001b[0marr\u001b[0m\u001b[0;34m,\u001b[0m \u001b[0mindex\u001b[0m\u001b[0;34m=\u001b[0m\u001b[0ms\u001b[0m\u001b[0;34m.\u001b[0m\u001b[0mindex\u001b[0m\u001b[0;34m[\u001b[0m\u001b[0;36m1\u001b[0m\u001b[0;34m:\u001b[0m\u001b[0;34m]\u001b[0m\u001b[0;34m)\u001b[0m\u001b[0;34m)\u001b[0m\u001b[0;34m\u001b[0m\u001b[0m\n\u001b[0m",
      "\u001b[0;32m~/.local/lib/python3.6/site-packages/pandas/core/series.py\u001b[0m in \u001b[0;36m__init__\u001b[0;34m(self, data, index, dtype, name, copy, fastpath)\u001b[0m\n\u001b[1;32m    260\u001b[0m                             \u001b[0;34m'Length of passed values is {val}, '\u001b[0m\u001b[0;34m\u001b[0m\u001b[0m\n\u001b[1;32m    261\u001b[0m                             \u001b[0;34m'index implies {ind}'\u001b[0m\u001b[0;34m\u001b[0m\u001b[0m\n\u001b[0;32m--> 262\u001b[0;31m                             .format(val=len(data), ind=len(index)))\n\u001b[0m\u001b[1;32m    263\u001b[0m                 \u001b[0;32mexcept\u001b[0m \u001b[0mTypeError\u001b[0m\u001b[0;34m:\u001b[0m\u001b[0;34m\u001b[0m\u001b[0m\n\u001b[1;32m    264\u001b[0m                     \u001b[0;32mpass\u001b[0m\u001b[0;34m\u001b[0m\u001b[0m\n",
      "\u001b[0;31mValueError\u001b[0m: Length of passed values is 1430992, index implies 1430991"
     ]
    }
   ],
   "source": [
    "dr = returns(dv_bar_df.price)\n",
    "drImb = returns(dvImbBars)"
   ]
  },
  {
   "cell_type": "code",
   "execution_count": 81,
   "metadata": {
    "ExecuteTime": {
     "end_time": "2018-05-05T01:11:38.000919Z",
     "start_time": "2018-05-05T01:11:37.708594Z"
    }
   },
   "outputs": [
    {
     "data": {
      "text/html": [
       "<div>\n",
       "<style scoped>\n",
       "    .dataframe tbody tr th:only-of-type {\n",
       "        vertical-align: middle;\n",
       "    }\n",
       "\n",
       "    .dataframe tbody tr th {\n",
       "        vertical-align: top;\n",
       "    }\n",
       "\n",
       "    .dataframe thead th {\n",
       "        text-align: right;\n",
       "    }\n",
       "</style>\n",
       "<table border=\"1\" class=\"dataframe\">\n",
       "  <thead>\n",
       "    <tr style=\"text-align: right;\">\n",
       "      <th></th>\n",
       "      <th>sample_size</th>\n",
       "      <th>autocorr_stat</th>\n",
       "    </tr>\n",
       "  </thead>\n",
       "  <tbody>\n",
       "    <tr>\n",
       "      <th>dvBar</th>\n",
       "      <td>51438.0</td>\n",
       "      <td>-0.122732</td>\n",
       "    </tr>\n",
       "    <tr>\n",
       "      <th>dvImb</th>\n",
       "      <td>265963.0</td>\n",
       "      <td>-0.075294</td>\n",
       "    </tr>\n",
       "  </tbody>\n",
       "</table>\n",
       "</div>"
      ],
      "text/plain": [
       "       sample_size  autocorr_stat\n",
       "dvBar      51438.0      -0.122732\n",
       "dvImb     265963.0      -0.075294"
      ]
     },
     "execution_count": 81,
     "metadata": {},
     "output_type": "execute_result"
    }
   ],
   "source": [
    "bar_types = ['dvBar','dvImb']\n",
    "bar_rets = [dr, drImb]\n",
    "\n",
    "get_test_stats(bar_types,bar_rets,pd.Series.autocorr)"
   ]
  },
  {
   "cell_type": "code",
   "execution_count": 82,
   "metadata": {
    "ExecuteTime": {
     "end_time": "2018-05-05T01:11:38.602438Z",
     "start_time": "2018-05-05T01:11:38.002187Z"
    }
   },
   "outputs": [
    {
     "data": {
      "image/png": "[encoded data removed]",
      "text/plain": [
       "<Figure size 720x504 with 2 Axes>"
      ]
     },
     "metadata": {
      "needs_background": "light"
     },
     "output_type": "display_data"
    }
   ],
   "source": [
    "plot_autocorr(bar_types,bar_returns)"
   ]
  },
  {
   "cell_type": "code",
   "execution_count": 83,
   "metadata": {
    "ExecuteTime": {
     "end_time": "2018-05-05T01:11:39.787193Z",
     "start_time": "2018-05-05T01:11:38.606456Z"
    }
   },
   "outputs": [
    {
     "data": {
      "image/png": "[encoded data removed]",
      "text/plain": [
       "<Figure size 720x432 with 2 Axes>"
      ]
     },
     "metadata": {
      "needs_background": "light"
     },
     "output_type": "display_data"
    }
   ],
   "source": [
    "plot_hist(bar_types,bar_returns)"
   ]
  },
  {
   "cell_type": "code",
   "execution_count": 84,
   "metadata": {
    "ExecuteTime": {
     "end_time": "2018-05-05T01:11:40.146218Z",
     "start_time": "2018-05-05T01:11:39.789951Z"
    }
   },
   "outputs": [
    {
     "data": {
      "text/html": [
       "<div>\n",
       "<style scoped>\n",
       "    .dataframe tbody tr th:only-of-type {\n",
       "        vertical-align: middle;\n",
       "    }\n",
       "\n",
       "    .dataframe tbody tr th {\n",
       "        vertical-align: top;\n",
       "    }\n",
       "\n",
       "    .dataframe thead th {\n",
       "        text-align: right;\n",
       "    }\n",
       "</style>\n",
       "<table border=\"1\" class=\"dataframe\">\n",
       "  <thead>\n",
       "    <tr style=\"text-align: right;\">\n",
       "      <th></th>\n",
       "      <th>sample_size</th>\n",
       "      <th>jb_stat</th>\n",
       "    </tr>\n",
       "  </thead>\n",
       "  <tbody>\n",
       "    <tr>\n",
       "      <th>dvBar</th>\n",
       "      <td>7153.0</td>\n",
       "      <td>1.127301e+08</td>\n",
       "    </tr>\n",
       "    <tr>\n",
       "      <th>dvImb</th>\n",
       "      <td>60864.0</td>\n",
       "      <td>3.349965e+11</td>\n",
       "    </tr>\n",
       "  </tbody>\n",
       "</table>\n",
       "</div>"
      ],
      "text/plain": [
       "       sample_size       jb_stat\n",
       "dvBar       7153.0  1.127301e+08\n",
       "dvImb      60864.0  3.349965e+11"
      ]
     },
     "metadata": {},
     "output_type": "display_data"
    },
    {
     "data": {
      "text/html": [
       "<div>\n",
       "<style scoped>\n",
       "    .dataframe tbody tr th:only-of-type {\n",
       "        vertical-align: middle;\n",
       "    }\n",
       "\n",
       "    .dataframe tbody tr th {\n",
       "        vertical-align: top;\n",
       "    }\n",
       "\n",
       "    .dataframe thead th {\n",
       "        text-align: right;\n",
       "    }\n",
       "</style>\n",
       "<table border=\"1\" class=\"dataframe\">\n",
       "  <thead>\n",
       "    <tr style=\"text-align: right;\">\n",
       "      <th></th>\n",
       "      <th>sample_size</th>\n",
       "      <th>shapiro_stat</th>\n",
       "    </tr>\n",
       "  </thead>\n",
       "  <tbody>\n",
       "    <tr>\n",
       "      <th>dvBar</th>\n",
       "      <td>7153.0</td>\n",
       "      <td>0.592870</td>\n",
       "    </tr>\n",
       "    <tr>\n",
       "      <th>dvImb</th>\n",
       "      <td>60864.0</td>\n",
       "      <td>0.284183</td>\n",
       "    </tr>\n",
       "  </tbody>\n",
       "</table>\n",
       "</div>"
      ],
      "text/plain": [
       "       sample_size  shapiro_stat\n",
       "dvBar       7153.0      0.592870\n",
       "dvImb      60864.0      0.284183"
      ]
     },
     "metadata": {},
     "output_type": "display_data"
    }
   ],
   "source": [
    "jbs = get_test_stats(bar_types,bar_returns,jb).sort_values('jb_stat')\n",
    "shaps = (get_test_stats(bar_types,bar_returns,shapiro)\n",
    "         .sort_values('shapiro_stat')[::-1])\n",
    "\n",
    "display(jbs,shaps)"
   ]
  },
  {
   "cell_type": "code",
   "execution_count": 85,
   "metadata": {},
   "outputs": [
    {
     "data": {
      "text/plain": [
       "<matplotlib.legend.Legend at 0x7fa40a2c1668>"
      ]
     },
     "execution_count": 85,
     "metadata": {},
     "output_type": "execute_result"
    },
    {
     "data": {
      "image/png": "[encoded data removed]",
      "text/plain": [
       "<Figure size 432x288 with 1 Axes>"
      ]
     },
     "metadata": {
      "needs_background": "light"
     },
     "output_type": "display_data"
    }
   ],
   "source": [
    "f, ax = plt.subplots()\n",
    "ax.set(yscale='log')\n",
    "sns.distplot(drImb[np.isfinite(drImb)].dropna(),\n",
    "             ax=ax, kde=False, label='DV Imbalance')\n",
    "ax.legend()"
   ]
  },
  {
   "cell_type": "code",
   "execution_count": null,
   "metadata": {},
   "outputs": [],
   "source": []
  },
  {
   "cell_type": "code",
   "execution_count": null,
   "metadata": {},
   "outputs": [],
   "source": []
  }
 ],
 "metadata": {
  "kernelspec": {
   "display_name": "Python 3",
   "language": "python",
   "name": "python3"
  },
  "language_info": {
   "codemirror_mode": {
    "name": "ipython",
    "version": 3
   },
   "file_extension": ".py",
   "mimetype": "text/x-python",
   "name": "python",
   "nbconvert_exporter": "python",
   "pygments_lexer": "ipython3",
   "version": "3.6.6"
  },
  "toc": {
   "nav_menu": {},
   "number_sections": true,
   "sideBar": true,
   "skip_h1_title": false,
   "title_cell": "Table of Contents",
   "title_sidebar": "Contents",
   "toc_cell": true,
   "toc_position": {
    "height": "calc(100% - 180px)",
    "left": "10px",
    "top": "150px",
    "width": "257px"
   },
   "toc_section_display": true,
   "toc_window_display": true
  },
  "varInspector": {
   "cols": {
    "lenName": 16,
    "lenType": 16,
    "lenVar": 40
   },
   "kernels_config": {
    "python": {
     "delete_cmd_postfix": "",
     "delete_cmd_prefix": "del ",
     "library": "var_list.py",
     "varRefreshCmd": "print(var_dic_list())"
    },
    "r": {
     "delete_cmd_postfix": ") ",
     "delete_cmd_prefix": "rm(",
     "library": "var_list.r",
     "varRefreshCmd": "cat(var_dic_list()) "
    }
   },
   "types_to_exclude": [
    "module",
    "function",
    "builtin_function_or_method",
    "instance",
    "_Feature"
   ],
   "window_display": false
  }
 },
 "nbformat": 4,
 "nbformat_minor": 2
}
